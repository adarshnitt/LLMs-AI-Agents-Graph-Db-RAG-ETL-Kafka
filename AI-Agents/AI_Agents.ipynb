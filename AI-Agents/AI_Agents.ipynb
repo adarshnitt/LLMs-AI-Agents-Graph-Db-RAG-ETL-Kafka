{
  "nbformat": 4,
  "nbformat_minor": 0,
  "metadata": {
    "colab": {
      "provenance": [],
      "collapsed_sections": [
        "MunAhLr9YSR3",
        "syD6TBvhdCk0",
        "bSCpkcgtvsko",
        "iXpMd5UDYLba"
      ],
      "include_colab_link": true
    },
    "kernelspec": {
      "name": "python3",
      "display_name": "Python 3"
    },
    "language_info": {
      "name": "python"
    }
  },
  "cells": [
    {
      "cell_type": "markdown",
      "metadata": {
        "id": "view-in-github",
        "colab_type": "text"
      },
      "source": [
        "<a href=\"https://colab.research.google.com/github/adarshnitt/LLMs-AI-Agents-Graph-Db-RAG-ETL-Kafka/blob/main/AI-Agents/AI_Agents.ipynb\" target=\"_parent\"><img src=\"https://colab.research.google.com/assets/colab-badge.svg\" alt=\"Open In Colab\"/></a>"
      ]
    },
    {
      "cell_type": "markdown",
      "source": [
        "# PIP\n"
      ],
      "metadata": {
        "id": "MunAhLr9YSR3"
      }
    },
    {
      "cell_type": "code",
      "source": [
        "!pip install -U langchain-google-genai langgraph;\n",
        "!pip install langchain_community langgraph;\n",
        "!pip install -q -U google-genai;\n",
        "! pip install pygraphviz;\n",
        "! pip install langchain_openai\n",
        "# ! pip install langchain\n",
        "!pip install faiss-cpu"
      ],
      "metadata": {
        "colab": {
          "base_uri": "https://localhost:8080/"
        },
        "collapsed": true,
        "id": "GIp9IYOuAnwb",
        "outputId": "4da927a4-e9bf-4890-eb4a-2f48300e1beb"
      },
      "execution_count": 1,
      "outputs": [
        {
          "output_type": "stream",
          "name": "stdout",
          "text": [
            "Requirement already satisfied: langchain-google-genai in /usr/local/lib/python3.12/dist-packages (3.0.0)\n",
            "Requirement already satisfied: langgraph in /usr/local/lib/python3.12/dist-packages (1.0.1)\n",
            "Requirement already satisfied: langchain-core<2.0.0,>=1.0.0 in /usr/local/lib/python3.12/dist-packages (from langchain-google-genai) (1.0.0)\n",
            "Requirement already satisfied: google-ai-generativelanguage<1.0.0,>=0.7.0 in /usr/local/lib/python3.12/dist-packages (from langchain-google-genai) (0.9.0)\n",
            "Requirement already satisfied: pydantic<3.0.0,>=2.0.0 in /usr/local/lib/python3.12/dist-packages (from langchain-google-genai) (2.11.10)\n",
            "Requirement already satisfied: filetype<2.0.0,>=1.2.0 in /usr/local/lib/python3.12/dist-packages (from langchain-google-genai) (1.2.0)\n",
            "Requirement already satisfied: langgraph-checkpoint<4.0.0,>=2.1.0 in /usr/local/lib/python3.12/dist-packages (from langgraph) (3.0.0)\n",
            "Requirement already satisfied: langgraph-prebuilt<1.1.0,>=1.0.0 in /usr/local/lib/python3.12/dist-packages (from langgraph) (1.0.1)\n",
            "Requirement already satisfied: langgraph-sdk<0.3.0,>=0.2.2 in /usr/local/lib/python3.12/dist-packages (from langgraph) (0.2.9)\n",
            "Requirement already satisfied: xxhash>=3.5.0 in /usr/local/lib/python3.12/dist-packages (from langgraph) (3.6.0)\n",
            "Requirement already satisfied: google-api-core!=2.0.*,!=2.1.*,!=2.10.*,!=2.2.*,!=2.3.*,!=2.4.*,!=2.5.*,!=2.6.*,!=2.7.*,!=2.8.*,!=2.9.*,<3.0.0,>=1.34.1 in /usr/local/lib/python3.12/dist-packages (from google-api-core[grpc]!=2.0.*,!=2.1.*,!=2.10.*,!=2.2.*,!=2.3.*,!=2.4.*,!=2.5.*,!=2.6.*,!=2.7.*,!=2.8.*,!=2.9.*,<3.0.0,>=1.34.1->google-ai-generativelanguage<1.0.0,>=0.7.0->langchain-google-genai) (2.26.0)\n",
            "Requirement already satisfied: google-auth!=2.24.0,!=2.25.0,<3.0.0,>=2.14.1 in /usr/local/lib/python3.12/dist-packages (from google-ai-generativelanguage<1.0.0,>=0.7.0->langchain-google-genai) (2.38.0)\n",
            "Requirement already satisfied: grpcio<2.0.0,>=1.33.2 in /usr/local/lib/python3.12/dist-packages (from google-ai-generativelanguage<1.0.0,>=0.7.0->langchain-google-genai) (1.75.1)\n",
            "Requirement already satisfied: proto-plus<2.0.0,>=1.22.3 in /usr/local/lib/python3.12/dist-packages (from google-ai-generativelanguage<1.0.0,>=0.7.0->langchain-google-genai) (1.26.1)\n",
            "Requirement already satisfied: protobuf!=4.21.0,!=4.21.1,!=4.21.2,!=4.21.3,!=4.21.4,!=4.21.5,<7.0.0,>=3.20.2 in /usr/local/lib/python3.12/dist-packages (from google-ai-generativelanguage<1.0.0,>=0.7.0->langchain-google-genai) (5.29.5)\n",
            "Requirement already satisfied: jsonpatch<2.0.0,>=1.33.0 in /usr/local/lib/python3.12/dist-packages (from langchain-core<2.0.0,>=1.0.0->langchain-google-genai) (1.33)\n",
            "Requirement already satisfied: langsmith<1.0.0,>=0.3.45 in /usr/local/lib/python3.12/dist-packages (from langchain-core<2.0.0,>=1.0.0->langchain-google-genai) (0.4.37)\n",
            "Requirement already satisfied: packaging<26.0.0,>=23.2.0 in /usr/local/lib/python3.12/dist-packages (from langchain-core<2.0.0,>=1.0.0->langchain-google-genai) (25.0)\n",
            "Requirement already satisfied: pyyaml<7.0.0,>=5.3.0 in /usr/local/lib/python3.12/dist-packages (from langchain-core<2.0.0,>=1.0.0->langchain-google-genai) (6.0.3)\n",
            "Requirement already satisfied: tenacity!=8.4.0,<10.0.0,>=8.1.0 in /usr/local/lib/python3.12/dist-packages (from langchain-core<2.0.0,>=1.0.0->langchain-google-genai) (8.5.0)\n",
            "Requirement already satisfied: typing-extensions<5.0.0,>=4.7.0 in /usr/local/lib/python3.12/dist-packages (from langchain-core<2.0.0,>=1.0.0->langchain-google-genai) (4.15.0)\n",
            "Requirement already satisfied: ormsgpack>=1.10.0 in /usr/local/lib/python3.12/dist-packages (from langgraph-checkpoint<4.0.0,>=2.1.0->langgraph) (1.11.0)\n",
            "Requirement already satisfied: httpx>=0.25.2 in /usr/local/lib/python3.12/dist-packages (from langgraph-sdk<0.3.0,>=0.2.2->langgraph) (0.28.1)\n",
            "Requirement already satisfied: orjson>=3.10.1 in /usr/local/lib/python3.12/dist-packages (from langgraph-sdk<0.3.0,>=0.2.2->langgraph) (3.11.3)\n",
            "Requirement already satisfied: annotated-types>=0.6.0 in /usr/local/lib/python3.12/dist-packages (from pydantic<3.0.0,>=2.0.0->langchain-google-genai) (0.7.0)\n",
            "Requirement already satisfied: pydantic-core==2.33.2 in /usr/local/lib/python3.12/dist-packages (from pydantic<3.0.0,>=2.0.0->langchain-google-genai) (2.33.2)\n",
            "Requirement already satisfied: typing-inspection>=0.4.0 in /usr/local/lib/python3.12/dist-packages (from pydantic<3.0.0,>=2.0.0->langchain-google-genai) (0.4.2)\n",
            "Requirement already satisfied: googleapis-common-protos<2.0.0,>=1.56.2 in /usr/local/lib/python3.12/dist-packages (from google-api-core!=2.0.*,!=2.1.*,!=2.10.*,!=2.2.*,!=2.3.*,!=2.4.*,!=2.5.*,!=2.6.*,!=2.7.*,!=2.8.*,!=2.9.*,<3.0.0,>=1.34.1->google-api-core[grpc]!=2.0.*,!=2.1.*,!=2.10.*,!=2.2.*,!=2.3.*,!=2.4.*,!=2.5.*,!=2.6.*,!=2.7.*,!=2.8.*,!=2.9.*,<3.0.0,>=1.34.1->google-ai-generativelanguage<1.0.0,>=0.7.0->langchain-google-genai) (1.70.0)\n",
            "Requirement already satisfied: requests<3.0.0,>=2.18.0 in /usr/local/lib/python3.12/dist-packages (from google-api-core!=2.0.*,!=2.1.*,!=2.10.*,!=2.2.*,!=2.3.*,!=2.4.*,!=2.5.*,!=2.6.*,!=2.7.*,!=2.8.*,!=2.9.*,<3.0.0,>=1.34.1->google-api-core[grpc]!=2.0.*,!=2.1.*,!=2.10.*,!=2.2.*,!=2.3.*,!=2.4.*,!=2.5.*,!=2.6.*,!=2.7.*,!=2.8.*,!=2.9.*,<3.0.0,>=1.34.1->google-ai-generativelanguage<1.0.0,>=0.7.0->langchain-google-genai) (2.32.5)\n",
            "Requirement already satisfied: grpcio-status<2.0.0,>=1.33.2 in /usr/local/lib/python3.12/dist-packages (from google-api-core[grpc]!=2.0.*,!=2.1.*,!=2.10.*,!=2.2.*,!=2.3.*,!=2.4.*,!=2.5.*,!=2.6.*,!=2.7.*,!=2.8.*,!=2.9.*,<3.0.0,>=1.34.1->google-ai-generativelanguage<1.0.0,>=0.7.0->langchain-google-genai) (1.71.2)\n",
            "Requirement already satisfied: cachetools<6.0,>=2.0.0 in /usr/local/lib/python3.12/dist-packages (from google-auth!=2.24.0,!=2.25.0,<3.0.0,>=2.14.1->google-ai-generativelanguage<1.0.0,>=0.7.0->langchain-google-genai) (5.5.2)\n",
            "Requirement already satisfied: pyasn1-modules>=0.2.1 in /usr/local/lib/python3.12/dist-packages (from google-auth!=2.24.0,!=2.25.0,<3.0.0,>=2.14.1->google-ai-generativelanguage<1.0.0,>=0.7.0->langchain-google-genai) (0.4.2)\n",
            "Requirement already satisfied: rsa<5,>=3.1.4 in /usr/local/lib/python3.12/dist-packages (from google-auth!=2.24.0,!=2.25.0,<3.0.0,>=2.14.1->google-ai-generativelanguage<1.0.0,>=0.7.0->langchain-google-genai) (4.9.1)\n",
            "Requirement already satisfied: anyio in /usr/local/lib/python3.12/dist-packages (from httpx>=0.25.2->langgraph-sdk<0.3.0,>=0.2.2->langgraph) (4.11.0)\n",
            "Requirement already satisfied: certifi in /usr/local/lib/python3.12/dist-packages (from httpx>=0.25.2->langgraph-sdk<0.3.0,>=0.2.2->langgraph) (2025.10.5)\n",
            "Requirement already satisfied: httpcore==1.* in /usr/local/lib/python3.12/dist-packages (from httpx>=0.25.2->langgraph-sdk<0.3.0,>=0.2.2->langgraph) (1.0.9)\n",
            "Requirement already satisfied: idna in /usr/local/lib/python3.12/dist-packages (from httpx>=0.25.2->langgraph-sdk<0.3.0,>=0.2.2->langgraph) (3.11)\n",
            "Requirement already satisfied: h11>=0.16 in /usr/local/lib/python3.12/dist-packages (from httpcore==1.*->httpx>=0.25.2->langgraph-sdk<0.3.0,>=0.2.2->langgraph) (0.16.0)\n",
            "Requirement already satisfied: jsonpointer>=1.9 in /usr/local/lib/python3.12/dist-packages (from jsonpatch<2.0.0,>=1.33.0->langchain-core<2.0.0,>=1.0.0->langchain-google-genai) (3.0.0)\n",
            "Requirement already satisfied: requests-toolbelt>=1.0.0 in /usr/local/lib/python3.12/dist-packages (from langsmith<1.0.0,>=0.3.45->langchain-core<2.0.0,>=1.0.0->langchain-google-genai) (1.0.0)\n",
            "Requirement already satisfied: zstandard>=0.23.0 in /usr/local/lib/python3.12/dist-packages (from langsmith<1.0.0,>=0.3.45->langchain-core<2.0.0,>=1.0.0->langchain-google-genai) (0.25.0)\n",
            "Requirement already satisfied: pyasn1<0.7.0,>=0.6.1 in /usr/local/lib/python3.12/dist-packages (from pyasn1-modules>=0.2.1->google-auth!=2.24.0,!=2.25.0,<3.0.0,>=2.14.1->google-ai-generativelanguage<1.0.0,>=0.7.0->langchain-google-genai) (0.6.1)\n",
            "Requirement already satisfied: charset_normalizer<4,>=2 in /usr/local/lib/python3.12/dist-packages (from requests<3.0.0,>=2.18.0->google-api-core!=2.0.*,!=2.1.*,!=2.10.*,!=2.2.*,!=2.3.*,!=2.4.*,!=2.5.*,!=2.6.*,!=2.7.*,!=2.8.*,!=2.9.*,<3.0.0,>=1.34.1->google-api-core[grpc]!=2.0.*,!=2.1.*,!=2.10.*,!=2.2.*,!=2.3.*,!=2.4.*,!=2.5.*,!=2.6.*,!=2.7.*,!=2.8.*,!=2.9.*,<3.0.0,>=1.34.1->google-ai-generativelanguage<1.0.0,>=0.7.0->langchain-google-genai) (3.4.4)\n",
            "Requirement already satisfied: urllib3<3,>=1.21.1 in /usr/local/lib/python3.12/dist-packages (from requests<3.0.0,>=2.18.0->google-api-core!=2.0.*,!=2.1.*,!=2.10.*,!=2.2.*,!=2.3.*,!=2.4.*,!=2.5.*,!=2.6.*,!=2.7.*,!=2.8.*,!=2.9.*,<3.0.0,>=1.34.1->google-api-core[grpc]!=2.0.*,!=2.1.*,!=2.10.*,!=2.2.*,!=2.3.*,!=2.4.*,!=2.5.*,!=2.6.*,!=2.7.*,!=2.8.*,!=2.9.*,<3.0.0,>=1.34.1->google-ai-generativelanguage<1.0.0,>=0.7.0->langchain-google-genai) (2.3.0)\n",
            "Requirement already satisfied: sniffio>=1.1 in /usr/local/lib/python3.12/dist-packages (from anyio->httpx>=0.25.2->langgraph-sdk<0.3.0,>=0.2.2->langgraph) (1.3.1)\n",
            "Requirement already satisfied: langchain_community in /usr/local/lib/python3.12/dist-packages (0.4)\n",
            "Requirement already satisfied: langgraph in /usr/local/lib/python3.12/dist-packages (1.0.1)\n",
            "Requirement already satisfied: langchain-core<2.0.0,>=1.0.0 in /usr/local/lib/python3.12/dist-packages (from langchain_community) (1.0.0)\n",
            "Requirement already satisfied: langchain-classic<2.0.0,>=1.0.0 in /usr/local/lib/python3.12/dist-packages (from langchain_community) (1.0.0)\n",
            "Requirement already satisfied: SQLAlchemy<3.0.0,>=1.4.0 in /usr/local/lib/python3.12/dist-packages (from langchain_community) (2.0.44)\n",
            "Requirement already satisfied: requests<3.0.0,>=2.32.5 in /usr/local/lib/python3.12/dist-packages (from langchain_community) (2.32.5)\n",
            "Requirement already satisfied: PyYAML<7.0.0,>=5.3.0 in /usr/local/lib/python3.12/dist-packages (from langchain_community) (6.0.3)\n",
            "Requirement already satisfied: aiohttp<4.0.0,>=3.8.3 in /usr/local/lib/python3.12/dist-packages (from langchain_community) (3.13.0)\n",
            "Requirement already satisfied: tenacity!=8.4.0,<10.0.0,>=8.1.0 in /usr/local/lib/python3.12/dist-packages (from langchain_community) (8.5.0)\n",
            "Requirement already satisfied: dataclasses-json<0.7.0,>=0.6.7 in /usr/local/lib/python3.12/dist-packages (from langchain_community) (0.6.7)\n",
            "Requirement already satisfied: pydantic-settings<3.0.0,>=2.10.1 in /usr/local/lib/python3.12/dist-packages (from langchain_community) (2.11.0)\n",
            "Requirement already satisfied: langsmith<1.0.0,>=0.1.125 in /usr/local/lib/python3.12/dist-packages (from langchain_community) (0.4.37)\n",
            "Requirement already satisfied: httpx-sse<1.0.0,>=0.4.0 in /usr/local/lib/python3.12/dist-packages (from langchain_community) (0.4.3)\n",
            "Requirement already satisfied: numpy>=1.26.2 in /usr/local/lib/python3.12/dist-packages (from langchain_community) (2.0.2)\n",
            "Requirement already satisfied: langgraph-checkpoint<4.0.0,>=2.1.0 in /usr/local/lib/python3.12/dist-packages (from langgraph) (3.0.0)\n",
            "Requirement already satisfied: langgraph-prebuilt<1.1.0,>=1.0.0 in /usr/local/lib/python3.12/dist-packages (from langgraph) (1.0.1)\n",
            "Requirement already satisfied: langgraph-sdk<0.3.0,>=0.2.2 in /usr/local/lib/python3.12/dist-packages (from langgraph) (0.2.9)\n",
            "Requirement already satisfied: pydantic>=2.7.4 in /usr/local/lib/python3.12/dist-packages (from langgraph) (2.11.10)\n",
            "Requirement already satisfied: xxhash>=3.5.0 in /usr/local/lib/python3.12/dist-packages (from langgraph) (3.6.0)\n",
            "Requirement already satisfied: aiohappyeyeballs>=2.5.0 in /usr/local/lib/python3.12/dist-packages (from aiohttp<4.0.0,>=3.8.3->langchain_community) (2.6.1)\n",
            "Requirement already satisfied: aiosignal>=1.4.0 in /usr/local/lib/python3.12/dist-packages (from aiohttp<4.0.0,>=3.8.3->langchain_community) (1.4.0)\n",
            "Requirement already satisfied: attrs>=17.3.0 in /usr/local/lib/python3.12/dist-packages (from aiohttp<4.0.0,>=3.8.3->langchain_community) (25.4.0)\n",
            "Requirement already satisfied: frozenlist>=1.1.1 in /usr/local/lib/python3.12/dist-packages (from aiohttp<4.0.0,>=3.8.3->langchain_community) (1.8.0)\n",
            "Requirement already satisfied: multidict<7.0,>=4.5 in /usr/local/lib/python3.12/dist-packages (from aiohttp<4.0.0,>=3.8.3->langchain_community) (6.7.0)\n",
            "Requirement already satisfied: propcache>=0.2.0 in /usr/local/lib/python3.12/dist-packages (from aiohttp<4.0.0,>=3.8.3->langchain_community) (0.4.1)\n",
            "Requirement already satisfied: yarl<2.0,>=1.17.0 in /usr/local/lib/python3.12/dist-packages (from aiohttp<4.0.0,>=3.8.3->langchain_community) (1.22.0)\n",
            "Requirement already satisfied: marshmallow<4.0.0,>=3.18.0 in /usr/local/lib/python3.12/dist-packages (from dataclasses-json<0.7.0,>=0.6.7->langchain_community) (3.26.1)\n",
            "Requirement already satisfied: typing-inspect<1,>=0.4.0 in /usr/local/lib/python3.12/dist-packages (from dataclasses-json<0.7.0,>=0.6.7->langchain_community) (0.9.0)\n",
            "Requirement already satisfied: langchain-text-splitters<2.0.0,>=1.0.0 in /usr/local/lib/python3.12/dist-packages (from langchain-classic<2.0.0,>=1.0.0->langchain_community) (1.0.0)\n",
            "Requirement already satisfied: jsonpatch<2.0.0,>=1.33.0 in /usr/local/lib/python3.12/dist-packages (from langchain-core<2.0.0,>=1.0.0->langchain_community) (1.33)\n",
            "Requirement already satisfied: packaging<26.0.0,>=23.2.0 in /usr/local/lib/python3.12/dist-packages (from langchain-core<2.0.0,>=1.0.0->langchain_community) (25.0)\n",
            "Requirement already satisfied: typing-extensions<5.0.0,>=4.7.0 in /usr/local/lib/python3.12/dist-packages (from langchain-core<2.0.0,>=1.0.0->langchain_community) (4.15.0)\n",
            "Requirement already satisfied: ormsgpack>=1.10.0 in /usr/local/lib/python3.12/dist-packages (from langgraph-checkpoint<4.0.0,>=2.1.0->langgraph) (1.11.0)\n",
            "Requirement already satisfied: httpx>=0.25.2 in /usr/local/lib/python3.12/dist-packages (from langgraph-sdk<0.3.0,>=0.2.2->langgraph) (0.28.1)\n",
            "Requirement already satisfied: orjson>=3.10.1 in /usr/local/lib/python3.12/dist-packages (from langgraph-sdk<0.3.0,>=0.2.2->langgraph) (3.11.3)\n",
            "Requirement already satisfied: requests-toolbelt>=1.0.0 in /usr/local/lib/python3.12/dist-packages (from langsmith<1.0.0,>=0.1.125->langchain_community) (1.0.0)\n",
            "Requirement already satisfied: zstandard>=0.23.0 in /usr/local/lib/python3.12/dist-packages (from langsmith<1.0.0,>=0.1.125->langchain_community) (0.25.0)\n",
            "Requirement already satisfied: annotated-types>=0.6.0 in /usr/local/lib/python3.12/dist-packages (from pydantic>=2.7.4->langgraph) (0.7.0)\n",
            "Requirement already satisfied: pydantic-core==2.33.2 in /usr/local/lib/python3.12/dist-packages (from pydantic>=2.7.4->langgraph) (2.33.2)\n",
            "Requirement already satisfied: typing-inspection>=0.4.0 in /usr/local/lib/python3.12/dist-packages (from pydantic>=2.7.4->langgraph) (0.4.2)\n",
            "Requirement already satisfied: python-dotenv>=0.21.0 in /usr/local/lib/python3.12/dist-packages (from pydantic-settings<3.0.0,>=2.10.1->langchain_community) (1.1.1)\n",
            "Requirement already satisfied: charset_normalizer<4,>=2 in /usr/local/lib/python3.12/dist-packages (from requests<3.0.0,>=2.32.5->langchain_community) (3.4.4)\n",
            "Requirement already satisfied: idna<4,>=2.5 in /usr/local/lib/python3.12/dist-packages (from requests<3.0.0,>=2.32.5->langchain_community) (3.11)\n",
            "Requirement already satisfied: urllib3<3,>=1.21.1 in /usr/local/lib/python3.12/dist-packages (from requests<3.0.0,>=2.32.5->langchain_community) (2.3.0)\n",
            "Requirement already satisfied: certifi>=2017.4.17 in /usr/local/lib/python3.12/dist-packages (from requests<3.0.0,>=2.32.5->langchain_community) (2025.10.5)\n",
            "Requirement already satisfied: greenlet>=1 in /usr/local/lib/python3.12/dist-packages (from SQLAlchemy<3.0.0,>=1.4.0->langchain_community) (3.2.4)\n",
            "Requirement already satisfied: anyio in /usr/local/lib/python3.12/dist-packages (from httpx>=0.25.2->langgraph-sdk<0.3.0,>=0.2.2->langgraph) (4.11.0)\n",
            "Requirement already satisfied: httpcore==1.* in /usr/local/lib/python3.12/dist-packages (from httpx>=0.25.2->langgraph-sdk<0.3.0,>=0.2.2->langgraph) (1.0.9)\n",
            "Requirement already satisfied: h11>=0.16 in /usr/local/lib/python3.12/dist-packages (from httpcore==1.*->httpx>=0.25.2->langgraph-sdk<0.3.0,>=0.2.2->langgraph) (0.16.0)\n",
            "Requirement already satisfied: jsonpointer>=1.9 in /usr/local/lib/python3.12/dist-packages (from jsonpatch<2.0.0,>=1.33.0->langchain-core<2.0.0,>=1.0.0->langchain_community) (3.0.0)\n",
            "Requirement already satisfied: mypy-extensions>=0.3.0 in /usr/local/lib/python3.12/dist-packages (from typing-inspect<1,>=0.4.0->dataclasses-json<0.7.0,>=0.6.7->langchain_community) (1.1.0)\n",
            "Requirement already satisfied: sniffio>=1.1 in /usr/local/lib/python3.12/dist-packages (from anyio->httpx>=0.25.2->langgraph-sdk<0.3.0,>=0.2.2->langgraph) (1.3.1)\n",
            "Collecting pygraphviz\n",
            "  Using cached pygraphviz-1.14.tar.gz (106 kB)\n",
            "  Installing build dependencies ... \u001b[?25l\u001b[?25hdone\n",
            "  Getting requirements to build wheel ... \u001b[?25l\u001b[?25hdone\n",
            "  Preparing metadata (pyproject.toml) ... \u001b[?25l\u001b[?25hdone\n",
            "Building wheels for collected packages: pygraphviz\n",
            "  \u001b[1;31merror\u001b[0m: \u001b[1msubprocess-exited-with-error\u001b[0m\n",
            "  \n",
            "  \u001b[31m×\u001b[0m \u001b[32mBuilding wheel for pygraphviz \u001b[0m\u001b[1;32m(\u001b[0m\u001b[32mpyproject.toml\u001b[0m\u001b[1;32m)\u001b[0m did not run successfully.\n",
            "  \u001b[31m│\u001b[0m exit code: \u001b[1;36m1\u001b[0m\n",
            "  \u001b[31m╰─>\u001b[0m See above for output.\n",
            "  \n",
            "  \u001b[1;35mnote\u001b[0m: This error originates from a subprocess, and is likely not a problem with pip.\n",
            "  Building wheel for pygraphviz (pyproject.toml) ... \u001b[?25l\u001b[?25herror\n",
            "\u001b[31m  ERROR: Failed building wheel for pygraphviz\u001b[0m\u001b[31m\n",
            "\u001b[0mFailed to build pygraphviz\n",
            "\u001b[31mERROR: ERROR: Failed to build installable wheels for some pyproject.toml based projects (pygraphviz)\u001b[0m\u001b[31m\n",
            "\u001b[0mRequirement already satisfied: langchain_openai in /usr/local/lib/python3.12/dist-packages (1.0.1)\n",
            "Requirement already satisfied: langchain-core<2.0.0,>=1.0.0 in /usr/local/lib/python3.12/dist-packages (from langchain_openai) (1.0.0)\n",
            "Requirement already satisfied: openai<3.0.0,>=1.109.1 in /usr/local/lib/python3.12/dist-packages (from langchain_openai) (1.109.1)\n",
            "Requirement already satisfied: tiktoken<1.0.0,>=0.7.0 in /usr/local/lib/python3.12/dist-packages (from langchain_openai) (0.12.0)\n",
            "Requirement already satisfied: jsonpatch<2.0.0,>=1.33.0 in /usr/local/lib/python3.12/dist-packages (from langchain-core<2.0.0,>=1.0.0->langchain_openai) (1.33)\n",
            "Requirement already satisfied: langsmith<1.0.0,>=0.3.45 in /usr/local/lib/python3.12/dist-packages (from langchain-core<2.0.0,>=1.0.0->langchain_openai) (0.4.37)\n",
            "Requirement already satisfied: packaging<26.0.0,>=23.2.0 in /usr/local/lib/python3.12/dist-packages (from langchain-core<2.0.0,>=1.0.0->langchain_openai) (25.0)\n",
            "Requirement already satisfied: pydantic<3.0.0,>=2.7.4 in /usr/local/lib/python3.12/dist-packages (from langchain-core<2.0.0,>=1.0.0->langchain_openai) (2.11.10)\n",
            "Requirement already satisfied: pyyaml<7.0.0,>=5.3.0 in /usr/local/lib/python3.12/dist-packages (from langchain-core<2.0.0,>=1.0.0->langchain_openai) (6.0.3)\n",
            "Requirement already satisfied: tenacity!=8.4.0,<10.0.0,>=8.1.0 in /usr/local/lib/python3.12/dist-packages (from langchain-core<2.0.0,>=1.0.0->langchain_openai) (8.5.0)\n",
            "Requirement already satisfied: typing-extensions<5.0.0,>=4.7.0 in /usr/local/lib/python3.12/dist-packages (from langchain-core<2.0.0,>=1.0.0->langchain_openai) (4.15.0)\n",
            "Requirement already satisfied: anyio<5,>=3.5.0 in /usr/local/lib/python3.12/dist-packages (from openai<3.0.0,>=1.109.1->langchain_openai) (4.11.0)\n",
            "Requirement already satisfied: distro<2,>=1.7.0 in /usr/local/lib/python3.12/dist-packages (from openai<3.0.0,>=1.109.1->langchain_openai) (1.9.0)\n",
            "Requirement already satisfied: httpx<1,>=0.23.0 in /usr/local/lib/python3.12/dist-packages (from openai<3.0.0,>=1.109.1->langchain_openai) (0.28.1)\n",
            "Requirement already satisfied: jiter<1,>=0.4.0 in /usr/local/lib/python3.12/dist-packages (from openai<3.0.0,>=1.109.1->langchain_openai) (0.10.0)\n",
            "Requirement already satisfied: sniffio in /usr/local/lib/python3.12/dist-packages (from openai<3.0.0,>=1.109.1->langchain_openai) (1.3.1)\n",
            "Requirement already satisfied: tqdm>4 in /usr/local/lib/python3.12/dist-packages (from openai<3.0.0,>=1.109.1->langchain_openai) (4.67.1)\n",
            "Requirement already satisfied: regex>=2022.1.18 in /usr/local/lib/python3.12/dist-packages (from tiktoken<1.0.0,>=0.7.0->langchain_openai) (2024.11.6)\n",
            "Requirement already satisfied: requests>=2.26.0 in /usr/local/lib/python3.12/dist-packages (from tiktoken<1.0.0,>=0.7.0->langchain_openai) (2.32.5)\n",
            "Requirement already satisfied: idna>=2.8 in /usr/local/lib/python3.12/dist-packages (from anyio<5,>=3.5.0->openai<3.0.0,>=1.109.1->langchain_openai) (3.11)\n",
            "Requirement already satisfied: certifi in /usr/local/lib/python3.12/dist-packages (from httpx<1,>=0.23.0->openai<3.0.0,>=1.109.1->langchain_openai) (2025.10.5)\n",
            "Requirement already satisfied: httpcore==1.* in /usr/local/lib/python3.12/dist-packages (from httpx<1,>=0.23.0->openai<3.0.0,>=1.109.1->langchain_openai) (1.0.9)\n",
            "Requirement already satisfied: h11>=0.16 in /usr/local/lib/python3.12/dist-packages (from httpcore==1.*->httpx<1,>=0.23.0->openai<3.0.0,>=1.109.1->langchain_openai) (0.16.0)\n",
            "Requirement already satisfied: jsonpointer>=1.9 in /usr/local/lib/python3.12/dist-packages (from jsonpatch<2.0.0,>=1.33.0->langchain-core<2.0.0,>=1.0.0->langchain_openai) (3.0.0)\n",
            "Requirement already satisfied: orjson>=3.9.14 in /usr/local/lib/python3.12/dist-packages (from langsmith<1.0.0,>=0.3.45->langchain-core<2.0.0,>=1.0.0->langchain_openai) (3.11.3)\n",
            "Requirement already satisfied: requests-toolbelt>=1.0.0 in /usr/local/lib/python3.12/dist-packages (from langsmith<1.0.0,>=0.3.45->langchain-core<2.0.0,>=1.0.0->langchain_openai) (1.0.0)\n",
            "Requirement already satisfied: zstandard>=0.23.0 in /usr/local/lib/python3.12/dist-packages (from langsmith<1.0.0,>=0.3.45->langchain-core<2.0.0,>=1.0.0->langchain_openai) (0.25.0)\n",
            "Requirement already satisfied: annotated-types>=0.6.0 in /usr/local/lib/python3.12/dist-packages (from pydantic<3.0.0,>=2.7.4->langchain-core<2.0.0,>=1.0.0->langchain_openai) (0.7.0)\n",
            "Requirement already satisfied: pydantic-core==2.33.2 in /usr/local/lib/python3.12/dist-packages (from pydantic<3.0.0,>=2.7.4->langchain-core<2.0.0,>=1.0.0->langchain_openai) (2.33.2)\n",
            "Requirement already satisfied: typing-inspection>=0.4.0 in /usr/local/lib/python3.12/dist-packages (from pydantic<3.0.0,>=2.7.4->langchain-core<2.0.0,>=1.0.0->langchain_openai) (0.4.2)\n",
            "Requirement already satisfied: charset_normalizer<4,>=2 in /usr/local/lib/python3.12/dist-packages (from requests>=2.26.0->tiktoken<1.0.0,>=0.7.0->langchain_openai) (3.4.4)\n",
            "Requirement already satisfied: urllib3<3,>=1.21.1 in /usr/local/lib/python3.12/dist-packages (from requests>=2.26.0->tiktoken<1.0.0,>=0.7.0->langchain_openai) (2.3.0)\n",
            "Requirement already satisfied: faiss-cpu in /usr/local/lib/python3.12/dist-packages (1.12.0)\n",
            "Requirement already satisfied: numpy<3.0,>=1.25.0 in /usr/local/lib/python3.12/dist-packages (from faiss-cpu) (2.0.2)\n",
            "Requirement already satisfied: packaging in /usr/local/lib/python3.12/dist-packages (from faiss-cpu) (25.0)\n"
          ]
        }
      ]
    },
    {
      "cell_type": "code",
      "source": [
        "from langchain_core.tools import tool\n",
        "from google import genai\n",
        "from google.colab import userdata\n",
        "import os\n",
        "from langchain_google_genai import ChatGoogleGenerativeAI\n",
        "from langchain_core.messages import HumanMessage\n",
        "from langgraph.prebuilt import ToolNode\n",
        "from langgraph.prebuilt import tools_condition\n",
        "from langgraph.graph import StateGraph, START, END\n",
        "import pandas as pd\n",
        "import numpy as np\n",
        "from PIL import  Image\n",
        "\n",
        "# gemini_api=userdata.get('GOOGLE_API_KEY')\n",
        "gemini_api=userdata.get('iitm_gemni_key')"
      ],
      "metadata": {
        "id": "fUPpqYXp8kn2"
      },
      "execution_count": 2,
      "outputs": []
    },
    {
      "cell_type": "code",
      "source": [
        "client = genai.Client(api_key=gemini_api)\n",
        "\n",
        "\n",
        "# https://ai.google.dev/gemini-api/docs/rate-limits: 200 request per day, and 10 request per min: google flash2.5 model\n",
        "response = client.models.generate_content(\n",
        "    model=\"gemini-2.5-flash\", contents=\"Explain how AI works in a few words\"\n",
        ")\n",
        "print(response.text)"
      ],
      "metadata": {
        "colab": {
          "base_uri": "https://localhost:8080/"
        },
        "id": "aZ-qHV7Z97NZ",
        "outputId": "bacf194a-8df8-4605-a2fc-17dfa7290c42"
      },
      "execution_count": 3,
      "outputs": [
        {
          "output_type": "stream",
          "name": "stdout",
          "text": [
            "AI learns patterns from data to make predictions or decisions.\n"
          ]
        }
      ]
    },
    {
      "cell_type": "code",
      "source": [
        "gemini_api=userdata.get('iitm_gemni_key')\n",
        "os.environ[\"GOOGLE_API_KEY\"]=gemini_api\n",
        "llm = ChatGoogleGenerativeAI(model=\"gemini-2.5-flash\")\n",
        "response = llm.invoke([HumanMessage(content=\"who is sai pallavi\")])\n",
        "print(response.content)\n"
      ],
      "metadata": {
        "colab": {
          "base_uri": "https://localhost:8080/"
        },
        "id": "AFxr7hZmBtQD",
        "outputId": "c1d6a31e-157a-4df9-9619-b68e37ee154a"
      },
      "execution_count": 4,
      "outputs": [
        {
          "output_type": "stream",
          "name": "stdout",
          "text": [
            "**Sai Pallavi** is a highly acclaimed Indian actress who primarily works in Telugu, Tamil, and Malayalam cinema. She is widely regarded as one of the most talented, authentic, and respected contemporary actresses in South India.\n",
            "\n",
            "Here's a breakdown of what makes her unique and well-known:\n",
            "\n",
            "1.  **Breakthrough Debut:** She gained widespread fame and critical acclaim for her role as **Malar** in the 2015 Malayalam film **Premam**. This role catapulted her to stardom and made her a household name across South India.\n",
            "\n",
            "2.  **Natural Beauty & Authenticity:** Sai Pallavi is celebrated for her natural look. She often appears on screen without heavy makeup, embracing her skin imperfections (like acne), which has been incredibly refreshing and inspiring for many in an industry often obsessed with conventional beauty standards.\n",
            "\n",
            "3.  **Exceptional Dancer:** She is a phenomenal dancer, particularly known for her expressive and energetic movements, especially in folk and traditional styles. Her dance performances, like in the song \"Rowdy Baby\" from *Maari 2*, have gone viral and showcased her incredible talent.\n",
            "\n",
            "4.  **Powerful Performer:** Renowned for her intense and nuanced performances, she often portrays strong, independent, and relatable female characters. Her expressive eyes are often highlighted as one of her most potent tools, conveying a wide range of emotions without needing dialogue.\n",
            "\n",
            "5.  **Doctor by Profession:** Interestingly, Sai Pallavi holds a medical degree (MBBS) from the Tbilisi State Medical University, Georgia. She completed her studies even after achieving stardom, showcasing her dedication and grounded nature.\n",
            "\n",
            "6.  **Selective Choices:** She is known for being very selective about her projects, choosing roles that offer substance and challenge her as an artist, rather than just chasing commercial success. This has earned her immense respect from both critics and audiences.\n",
            "\n",
            "**Some of her other notable films include:**\n",
            "\n",
            "*   **Fidaa** (Telugu) - Her Telugu debut, a massive hit where her performance was highly praised.\n",
            "*   **Maari 2** (Tamil) - Known for the viral song \"Rowdy Baby.\"\n",
            "*   **Love Story** (Telugu)\n",
            "*   **Gargi** (Tamil/Telugu) - A critically acclaimed legal drama where she delivered a powerful performance.\n",
            "*   **Virata Parvam** (Telugu)\n",
            "*   **Padi Padi Leche Manasu** (Telugu)\n",
            "\n",
            "In essence, Sai Pallavi is more than just an actress; she's a role model who has redefined conventional beauty standards and proven that authenticity, talent, and strong values can lead to immense success and respect in the film industry.\n"
          ]
        }
      ]
    },
    {
      "cell_type": "markdown",
      "source": [
        "## Toold testing\n"
      ],
      "metadata": {
        "id": "iEEfwrf77HUz"
      }
    },
    {
      "cell_type": "code",
      "execution_count": 5,
      "metadata": {
        "colab": {
          "base_uri": "https://localhost:8080/"
        },
        "id": "kSgztsXV7Bm6",
        "outputId": "62e786fa-cc26-4a6f-b9f3-2e95f8a0bbae"
      },
      "outputs": [
        {
          "output_type": "execute_result",
          "data": {
            "text/plain": [
              "RunnableBinding(bound=ChatGoogleGenerativeAI(model='models/gemini-2.5-flash', google_api_key=SecretStr('**********'), client=<google.ai.generativelanguage_v1beta.services.generative_service.client.GenerativeServiceClient object at 0x7f9930c2abd0>, default_metadata=(), model_kwargs={}), kwargs={'tools': [{'type': 'function', 'function': {'name': 'SIP_status', 'description': 'This tool is for the SIP status .', 'parameters': {'properties': {'arg1': {}}, 'required': ['arg1'], 'type': 'object'}}}, {'type': 'function', 'function': {'name': 'UAT_status', 'description': 'This tool checks the UAT status.', 'parameters': {'properties': {'arg1': {}}, 'required': ['arg1'], 'type': 'object'}}}, {'type': 'function', 'function': {'name': 'RPA_status', 'description': 'This tool checks the RPA status.', 'parameters': {'properties': {'arg1': {}}, 'required': ['arg1'], 'type': 'object'}}}, {'type': 'function', 'function': {'name': 'DEV_status', 'description': 'This tool checks  and gives the DEV status.', 'parameters': {'properties': {'arg1': {}}, 'required': ['arg1'], 'type': 'object'}}}, {'type': 'function', 'function': {'name': 'Business_status', 'description': 'This tool is for business operations ans status.', 'parameters': {'properties': {'arg1': {}}, 'required': ['arg1'], 'type': 'object'}}}, {'type': 'function', 'function': {'name': 'out_of_Scope', 'description': 'This tool is for out_of_Scope, where we dont have any answer. It will call when any random question is there', 'parameters': {'properties': {'arg1': {}}, 'required': ['arg1'], 'type': 'object'}}}]}, config={}, config_factories=[])"
            ]
          },
          "metadata": {},
          "execution_count": 5
        }
      ],
      "source": [
        "from langchain_core.tools import tool\n",
        "\n",
        "@tool\n",
        "def SIP_status(arg1):\n",
        "  \"\"\"This tool is for the SIP status .\"\"\"\n",
        "  print(\"Agents is in SIP_status mode\")\n",
        "  return \"SIP_status tool\"\n",
        "\n",
        "@tool\n",
        "def UAT_status(arg1):\n",
        "  \"\"\"This tool checks the UAT status.\"\"\"\n",
        "  print(\"Agents is in UAT_status mode\")\n",
        "  return \"when question related to uat status , response is UAT status completed\"\n",
        "\n",
        "\n",
        "@tool\n",
        "def RPA_status(arg1):\n",
        "  \"\"\"This tool checks the RPA status.\"\"\"\n",
        "  print(\"Agents is in RPA_status mode\")\n",
        "  return \"RPA_status tool\"\n",
        "\n",
        "@tool\n",
        "def DEV_status(arg1):\n",
        "  \"\"\"This tool checks  and gives the DEV status.\"\"\"\n",
        "  print(\"Agents is in DEV_status mode\")\n",
        "  return \"when question related to dev status , response is dev status completed\"\n",
        "\n",
        "@tool\n",
        "def Business_status(arg1):\n",
        "  \"\"\"This tool is for business operations ans status.\"\"\"\n",
        "  print(\"Agents is in Business mode\")\n",
        "  return \"Business status tool\"\n",
        "\n",
        "@tool\n",
        "def out_of_Scope(arg1):\n",
        "  \"\"\"This tool is for out_of_Scope, where we dont have any answer. It will call when any random question is there\"\"\"\n",
        "  print(\"Agents is in out_of_Scope\")\n",
        "  return \"out_of_Scope tool\"\n",
        "\n",
        "agents_tools=[SIP_status,UAT_status,RPA_status,DEV_status ,Business_status,out_of_Scope]\n",
        "gemni_with_tools=llm.bind_tools(agents_tools)\n",
        "gemni_with_tools"
      ]
    },
    {
      "cell_type": "code",
      "source": [
        "# result=gemni_with_tools.invoke(\"SIP status for project qr\")\n",
        "# result=gemni_with_tools.invoke(\"whats does business gave information for project ai agents in india\")\n",
        "# result=gemni_with_tools.invoke(\" do we have ay deadline for uat testing in upcoming months\")\n",
        "result=gemni_with_tools.invoke(\"could you tell me final status from dev team side after getting requiremnt from business\")\n",
        "result"
      ],
      "metadata": {
        "colab": {
          "base_uri": "https://localhost:8080/"
        },
        "id": "UXOhqOnQ7Gdw",
        "outputId": "2250213f-b0d9-4d43-d311-a53fbb9486bc"
      },
      "execution_count": 6,
      "outputs": [
        {
          "output_type": "execute_result",
          "data": {
            "text/plain": [
              "AIMessage(content='', additional_kwargs={'function_call': {'name': 'DEV_status', 'arguments': '{\"arg1\": \"final status from dev team side after getting requiremnt from business\"}'}}, response_metadata={'prompt_feedback': {'block_reason': 0, 'safety_ratings': []}, 'finish_reason': 'STOP', 'model_name': 'gemini-2.5-flash', 'safety_ratings': [], 'grounding_metadata': {}, 'model_provider': 'google_genai'}, id='lc_run--3c8b1459-c3b3-4fa8-b352-a0e5af8d023c-0', tool_calls=[{'name': 'DEV_status', 'args': {'arg1': 'final status from dev team side after getting requiremnt from business'}, 'id': '5a3b02d2-81cb-4153-9737-e2f8b4a8e4f6', 'type': 'tool_call'}], usage_metadata={'input_tokens': 286, 'output_tokens': 145, 'total_tokens': 431, 'input_token_details': {'cache_read': 0}, 'output_token_details': {'reasoning': 118}})"
            ]
          },
          "metadata": {},
          "execution_count": 6
        }
      ]
    },
    {
      "cell_type": "code",
      "source": [
        "p1=\"could you tell me final status from dev team side after getting requiremnt from business\"\n",
        "p2=\" could you let me know the updated status from both rpa side and uat team side. \"\n",
        "p3=\"updates status from uat team side is that its completed.\"\n",
        "result=gemni_with_tools.invoke(\"You are smart agent. identify which task is yet to answer and suggest most suitable tool to answer that task. \"+p2+\" \"+p3)\n",
        "result"
      ],
      "metadata": {
        "colab": {
          "base_uri": "https://localhost:8080/"
        },
        "id": "vo9r_Ka-7Ggp",
        "outputId": "9a8a2b7c-8952-4230-d54c-50f5eb4ce0ea"
      },
      "execution_count": 7,
      "outputs": [
        {
          "output_type": "execute_result",
          "data": {
            "text/plain": [
              "AIMessage(content='', additional_kwargs={'function_call': {'name': 'RPA_status', 'arguments': '{\"arg1\": \"updated status\"}'}}, response_metadata={'prompt_feedback': {'block_reason': 0, 'safety_ratings': []}, 'finish_reason': 'STOP', 'model_name': 'gemini-2.5-flash', 'safety_ratings': [], 'grounding_metadata': {}, 'model_provider': 'google_genai'}, id='lc_run--810e8a51-1e81-4b2f-abdd-4c9d7552b6f7-0', tool_calls=[{'name': 'RPA_status', 'args': {'arg1': 'updated status'}, 'id': 'cddaca92-bbf8-43cb-927c-c756469514fe', 'type': 'tool_call'}], usage_metadata={'input_tokens': 325, 'output_tokens': 156, 'total_tokens': 481, 'input_token_details': {'cache_read': 0}, 'output_token_details': {'reasoning': 138}})"
            ]
          },
          "metadata": {},
          "execution_count": 7
        }
      ]
    },
    {
      "cell_type": "code",
      "source": [
        "p1=\"could you tell me final status from dev team side after getting requiremnt from business\"\n",
        "p2=\" could you let me know the updated status from both rpa side and uat team side. \"\n",
        "p3=\"updates status from uat team side is that its completed.\"\n",
        "p4=\"update from rpa team side is that it is about to complete\"\n",
        "result=gemni_with_tools.invoke(\"You are smart agent. identify which task is yet to answer and suggest most suitable tool to answer that task. \"+p2+\" \"+p3+\" \"+p4)\n",
        "result"
      ],
      "metadata": {
        "colab": {
          "base_uri": "https://localhost:8080/"
        },
        "id": "Vnwvi0o27Gil",
        "outputId": "7bd48482-ac73-4a42-eb50-e87c29cd620d"
      },
      "execution_count": 8,
      "outputs": [
        {
          "output_type": "execute_result",
          "data": {
            "text/plain": [
              "AIMessage(content=[{'type': 'text', 'text': 'The task yet to be answered is to provide the updated status from both the RPA side and the UAT team side.\\n\\nYou have already provided the following updates:\\n*   **UAT team side:** completed\\n*   **RPA team side:** about to complete\\n\\nIf I needed to retrieve this information, the most suitable tools would be:\\n*   For the RPA status: `RPA_status`\\n*   For the UAT status: `UAT_status`', 'extras': {'signature': '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'}}], additional_kwargs={}, response_metadata={'prompt_feedback': {'block_reason': 0, 'safety_ratings': []}, 'finish_reason': 'STOP', 'model_name': 'gemini-2.5-flash', 'safety_ratings': [], 'grounding_metadata': {}, 'model_provider': 'google_genai'}, id='lc_run--5831ce84-b178-473b-930d-a87ed395134d-0', usage_metadata={'input_tokens': 338, 'output_tokens': 4116, 'total_tokens': 4454, 'input_token_details': {'cache_read': 0}, 'output_token_details': {'reasoning': 4016}})"
            ]
          },
          "metadata": {},
          "execution_count": 8
        }
      ]
    },
    {
      "cell_type": "markdown",
      "source": [
        "# Agent"
      ],
      "metadata": {
        "id": "syD6TBvhdCk0"
      }
    },
    {
      "cell_type": "code",
      "source": [
        "import operator\n",
        "import getpass\n",
        "from langgraph.prebuilt import ToolNode\n",
        "from langgraph.prebuilt import tools_condition\n",
        "from typing import TypedDict, Annotated, List\n",
        "from langchain_core.messages import BaseMessage, HumanMessage, ToolMessage\n",
        "from langchain_core.tools import tool\n",
        "from langchain_google_genai import ChatGoogleGenerativeAI\n",
        "from langgraph.graph import StateGraph, START, END\n",
        "from langchain_core.prompts import ChatPromptTemplate\n",
        "from langchain_core.messages import SystemMessage, HumanMessage, AIMessage"
      ],
      "metadata": {
        "id": "pu807A1qdLcG"
      },
      "execution_count": null,
      "outputs": []
    },
    {
      "cell_type": "code",
      "source": [
        "class AgentState(TypedDict):\n",
        "    # A list of messages, annotated with operator.add to append new messages\n",
        "    messages: Annotated[List[BaseMessage], operator.add]\n",
        "    # This key tracks the name of the next node to run\n",
        "    next: str"
      ],
      "metadata": {
        "id": "oNlUxMS4dDsb"
      },
      "execution_count": null,
      "outputs": []
    },
    {
      "cell_type": "code",
      "source": [
        "agent=StateGraph(AgentState)\n",
        "\"\"\"\n",
        "# it is depicting that shema using for this agent is having folling propeties, list of all mesgages, when node will response something then it is list of mesgages,ai, human and other. when one\n",
        "node will return somehting then it will apeend in it. node should return some messahes whaich can be addable over this list.\n",
        "\"\"\"\n",
        "agent.state_schema"
      ],
      "metadata": {
        "colab": {
          "base_uri": "https://localhost:8080/"
        },
        "id": "BWnRiH8cdDv1",
        "outputId": "613598a6-080a-47f7-a8e8-61bde1a17356"
      },
      "execution_count": null,
      "outputs": [
        {
          "output_type": "execute_result",
          "data": {
            "text/plain": [
              "__main__.AgentState"
            ]
          },
          "metadata": {},
          "execution_count": 11
        }
      ]
    },
    {
      "cell_type": "code",
      "source": [
        "from IPython.display import Image, display # Import Image and display from IPython.display\n",
        "\n",
        "def state_check_function(state:AgentState):\n",
        "\n",
        "  print(\"node is going to update  state msg with msg: adarsh state msg\")\n",
        "  # You need to return a dictionary that updates the state, below msg will update over stare msg, it will append over list\n",
        "  return {\"messages\": [HumanMessage(content=\"adarsh state msg\")]}\n",
        "\n",
        "agent=StateGraph(AgentState)\n",
        "agent.add_node(\"agent1\", state_check_function)\n",
        "agent.add_edge(START, \"agent1\")\n",
        "agent.add_edge(\"agent1\",END) # Added an edge to END\n",
        "\n",
        "app = agent.compile()\n",
        "display(Image(app.get_graph().draw_mermaid_png())) # Use display from IPython.display"
      ],
      "metadata": {
        "colab": {
          "base_uri": "https://localhost:8080/",
          "height": 251
        },
        "id": "lINzb8ph7GmN",
        "outputId": "f940390c-6b51-4a1d-b19e-bd19bb32cb37"
      },
      "execution_count": null,
      "outputs": [
        {
          "output_type": "display_data",
          "data": {
            "image/png": "[encoded data removed]",
            "text/plain": [
              "<IPython.core.display.Image object>"
            ]
          },
          "metadata": {}
        }
      ]
    },
    {
      "cell_type": "code",
      "source": [
        "initial_state = {\"messages\": [HumanMessage(content=\"Starting Hello\")]}\n",
        "config = {\"configurable\": {\"thread_id\": \"test1\"}} # Add a configuration dictionary\n",
        "for step in app.stream(initial_state, config=config,stream_mode=\"values\"): # Pass the config to stream\n",
        "    print(step)"
      ],
      "metadata": {
        "colab": {
          "base_uri": "https://localhost:8080/"
        },
        "id": "7pDBFliBl99q",
        "outputId": "4070c52c-5e52-4a40-a771-c1746ce15df9"
      },
      "execution_count": null,
      "outputs": [
        {
          "output_type": "stream",
          "name": "stdout",
          "text": [
            "{'messages': [HumanMessage(content='Starting Hello', additional_kwargs={}, response_metadata={})]}\n",
            "node is going to update  state msg with msg: adarsh state msg\n",
            "{'messages': [HumanMessage(content='Starting Hello', additional_kwargs={}, response_metadata={}), HumanMessage(content='adarsh state msg', additional_kwargs={}, response_metadata={})]}\n"
          ]
        }
      ]
    },
    {
      "cell_type": "markdown",
      "source": [
        "# Accenture _smart document ananlsyis agent"
      ],
      "metadata": {
        "id": "bSCpkcgtvsko"
      }
    },
    {
      "cell_type": "code",
      "source": [
        "# testing our llm fucntionalitu\n",
        "def gemini_intelligence(state:AgentState):\n",
        "  print(\" Using  gemni intelligence, lets help user to get answer. current state is :\", state)\n",
        "  User_query=state[\"user_query\"]\n",
        "  prompt=\"\"\" You are smart agent. USer will give therir query, you have to go through all input text and find out which immediate action need to perform.  If user query has been responsed already then return 'Continue' \"\"\"\n",
        "  final_query=prompt+\"Acual User query: \"+User_query +\"histroy: \"+str(state[\"messages\"])\n",
        "\n",
        "  llm = ChatGoogleGenerativeAI(model=\"gemini-2.5-flash\")\n",
        "  agents_tools=[SIP_status,UAT_status,RPA_status,DEV_status ,Business_status]\n",
        "  gemni_with_tools=llm.bind_tools(agents_tools)\n",
        "  result=gemni_with_tools.invoke(final_query)\n",
        "\n",
        "  print(\"gemini response: \",result )\n",
        "  # we have to retun output as list\n",
        "  return {\"messages\": [result.additional_kwargs]}\n",
        "\n",
        "p1=\" what is status of uat and dev tetsing. \"\n",
        "p2=\" what is status of uat team and and dev testing team. Solution for question- dev team status: Dev team has completed their work. Solution: uat team also completed their work\"\n",
        "gemini_intelligence({\"messages\":[\"HI\"],\"user_query\":p2})"
      ],
      "metadata": {
        "colab": {
          "base_uri": "https://localhost:8080/"
        },
        "id": "fkgIKSqUvyAt",
        "outputId": "a44be508-da92-4c16-d697-e05bd6d8ed14"
      },
      "execution_count": null,
      "outputs": [
        {
          "output_type": "stream",
          "name": "stdout",
          "text": [
            " Using  gemni intelligence, lets help user to get answer. current state is : {'messages': ['HI'], 'user_query': ' what is status of uat team and and dev testing team. Solution for question- dev team status: Dev team has completed their work. Solution: uat team also completed their work'}\n",
            "gemini response:  content='Continue' additional_kwargs={} response_metadata={'prompt_feedback': {'block_reason': 0, 'safety_ratings': []}, 'finish_reason': 'STOP', 'model_name': 'gemini-2.5-flash', 'safety_ratings': []} id='run--c9410d14-993b-439d-83a8-615b84a4c74b-0' usage_metadata={'input_tokens': 303, 'output_tokens': 111, 'total_tokens': 414, 'input_token_details': {'cache_read': 0}, 'output_token_details': {'reasoning': 110}}\n"
          ]
        },
        {
          "output_type": "execute_result",
          "data": {
            "text/plain": [
              "{'messages': [{}]}"
            ]
          },
          "metadata": {},
          "execution_count": 14
        }
      ]
    },
    {
      "cell_type": "code",
      "source": [
        "\n",
        "\n",
        "p={\"cc\":\"Hi\"}\n",
        "system_prompt=\"You are a helpful assiditant, kindly go thourgh user input query and respond it back.\"\n",
        "c=ChatPromptTemplate.from_messages([SystemMessage(content=system_prompt), HumanMessage(content=\"User query is:{cc}\".format(cc=p[\"cc\"]))])\n",
        "out=c.invoke({})\n",
        "out.to_messages()"
      ],
      "metadata": {
        "colab": {
          "base_uri": "https://localhost:8080/"
        },
        "id": "4gpeU07WVNO2",
        "outputId": "45814f43-6b86-4fe7-f3c5-862150ed3811"
      },
      "execution_count": null,
      "outputs": [
        {
          "output_type": "execute_result",
          "data": {
            "text/plain": [
              "[SystemMessage(content='You are a helpful assiditant, kindly go thourgh user input query and respond it back.', additional_kwargs={}, response_metadata={}),\n",
              " HumanMessage(content='User query is:Hi', additional_kwargs={}, response_metadata={})]"
            ]
          },
          "metadata": {},
          "execution_count": 15
        }
      ]
    },
    {
      "cell_type": "code",
      "source": [
        "main_prompt=\"\"\" Agent Persona and Instructions\n",
        "First understand the quesion semntically, what actuaaly user want to get.\n",
        "You are a smart, efficient, and precise AI agent. Your primary function is to analyze user queries and determine the immediate action required based on a predefined set of tools. You must prioritize clarity and accuracy in your responses.\n",
        "\n",
        "Operating Principles\n",
        "Analyze the full context: Carefully review the entire conversation history and the most recent user query.\n",
        "\n",
        "Identify an immediate action: Your goal is to find the single, most relevant action to take.\n",
        "\n",
        "Use available tools: Only perform actions if a specific tool has been defined for that purpose.\n",
        "\n",
        "Avoid redundancy: If a user's request has already been fully answered in a previous turn, do not re-run any tools.\n",
        "Responses will be present will tools_response if already replied by llm.\n",
        "\n",
        "Be explicit about missing tools: If a user asks for a task that does not have a corresponding defined tool, you must state that no action can be taken.\n",
        "\n",
        "Decision Flow\n",
        "Check for previous answers: Scan the conversation history. If the user's current query has been fully and satisfactorily addressed in a previous response, provide a summary of that final answer.\n",
        "\n",
        "Identify a new query: If the query is new, or if a previous response was incomplete, analyze the text to see if it requires a tool.\n",
        "\n",
        "Execute a tool: If a defined tool exists for the query, return the tool name and its output.\n",
        "\n",
        "Handle unknown questions: If a new query is received and no corresponding tool is defined to address it, respond with the exact phrase: unknown question.\n",
        "\n",
        "Handle missing tools: If a user's query asks for an action that has a tool name but the tool itself is not defined, reply with the exact phrase: no action required as tool absent.\n",
        "\n",
        "No action needed: If no new query is present and the last response was a final answer, return an empty string.\n",
        "\n",
        "If question is already responsed semantically, consider it as final response!\n",
        "If answer is present for semanticaaly for a un answered question then also no need to perform any action.\n",
        "\n",
        "\n",
        "-------------------------------------------------------------------------------------------------\n",
        "\"\"\""
      ],
      "metadata": {
        "id": "r-qBeynC-f2h"
      },
      "execution_count": null,
      "outputs": []
    },
    {
      "cell_type": "code",
      "source": [
        "class AgentState(TypedDict):\n",
        "    # A list of messages, annotated with operator.add to append new messages\n",
        "    messages: Annotated[List[BaseMessage], operator.add]\n",
        "    # This key tracks the name of the next node to run\n",
        "    user_query: str\n",
        "    llm_data:str\n",
        "\n",
        "def greet_function(state:AgentState):\n",
        "  print(\"agent flow starting with state\", state)\n",
        "  return {\"messages\": [HumanMessage(content=\"Hi , I am first node\")]}\n",
        "\n",
        "def postprocessing(state):\n",
        "  print(\"before postprocessing state[messages]:\",state[\"messages\"])\n",
        "  llm = ChatGoogleGenerativeAI(model=\"gemini-2.5-flash\")\n",
        "\n",
        "  system_prompt=\"Just sumarize it:\"\n",
        "  chatTemp=ChatPromptTemplate.from_messages([SystemMessage(content=system_prompt), HumanMessage(content=\"User query and responses is:{cc}\".format(cc=state[\"messages\"]))])\n",
        "  chat=chatTemp.invoke({})\n",
        "  result=llm.invoke(chat)\n",
        "  print(\"after postprocessing response: \",result )\n",
        "  # we have to retun output as list\n",
        "  print(\"final output:\",result.content)\n",
        "  return {\"messages\": [result]}\n",
        "\n",
        "\n",
        "def state_prepocess(data):\n",
        "  for i in data:\n",
        "    print(\"----\",i)\n",
        "  return ''\n",
        "\n",
        "def gemini_intelligence(state:AgentState):\n",
        "\n",
        "\n",
        "  llm_data=state[\"llm_data\"]\n",
        "\n",
        "\n",
        "\n",
        "  if len(state[\"messages\"])>10:\n",
        "    print(\"-------------------------------------------------------------------\")\n",
        "    return {\"message\":\"no tool found\"}\n",
        "  User_query=state[\"user_query\"]\n",
        "  prompt=main_prompt\n",
        "  result=state[\"messages\"][-1]\n",
        "  if isinstance(result,AIMessage):\n",
        "    llm_data=llm_data+\" .consider this histry to choose next action History:content: \"+str(result.content)+\" additional_kwargs: \"+str(result.additional_kwargs)+\" .tools called was:\"+str(result.tool_calls)\n",
        "  elif isinstance(result,ToolMessage):\n",
        "    llm_data=llm_data+\" .Consider this histry to choose next action History:tool output was: \"+str(result.content)\n",
        "\n",
        "\n",
        "\n",
        "  final_query=\"Acual User query: \"+User_query +\"  \"+str(llm_data)\n",
        "\n",
        "  system_prompt=\"You are a helpful assiditant, kindly go thourgh user input query and respond it back. so u have to select actions based on user query. If there is no action required then you could reploy jai shree ram!\"\n",
        "  chatTemp=ChatPromptTemplate.from_messages([SystemMessage(content=prompt), HumanMessage(content=\"User query is:{cc} \".format(cc=final_query))])\n",
        "  chat=chatTemp.invoke({})\n",
        "  print(\"Gemni got  llm data :\", state[\"llm_data\"])\n",
        "  print(\"Gemni got  state values :\", state[\"messages\"])\n",
        "  print(\"Gemni chat template response is: \",chat)\n",
        "  llm = ChatGoogleGenerativeAI(model=\"gemini-2.5-flash\")\n",
        "  agents_tools=[SIP_status,UAT_status,RPA_status,DEV_status ,Business_status,out_of_Scope]\n",
        "  gemni_with_tools=llm.bind_tools(agents_tools)\n",
        "  result=gemni_with_tools.invoke(chat)\n",
        "\n",
        "  print(\"gemini llm response: \",result)\n",
        "  return {\"messages\": [result], \"llm_data\":llm_data}\n",
        "\n",
        "def router(state):\n",
        "  last_msg=state[\"messages\"][-1]\n",
        "  print(\"router last msg\",last_msg)\n",
        "  try:\n",
        "    if  'function_call' in last_msg.additional_kwargs.keys():\n",
        "      print(\"router llm  call bcz function_call in state\")\n",
        "      state[\"messages\"].append(\"ramu\")\n",
        "      return \"tools\"\n",
        "    else:\n",
        "      return \"postprocessing\"\n",
        "  except Exception as e:\n",
        "    print(\"error in router\",e)\n",
        "    return END\n",
        "\n",
        "\n",
        "\n",
        "agent=StateGraph(AgentState)\n",
        "agent.add_node(\"greet\", greet_function)\n",
        "agent.add_node(\"LLM\", gemini_intelligence)\n",
        "agent.add_node(\"tools\", ToolNode([SIP_status,UAT_status,RPA_status,DEV_status ,Business_status,out_of_Scope]))\n",
        "agent.add_node(\"postprocessing\", postprocessing)\n",
        "\n",
        "agent.add_edge(START, \"greet\")\n",
        "agent.add_edge(\"greet\", \"LLM\")\n",
        "agent.add_conditional_edges(\"LLM\",router,[END,'postprocessing','tools'])\n",
        "\n",
        "\n",
        "agent.add_edge(\"tools\",\"LLM\")\n",
        "agent.add_edge(\"postprocessing\", END)\n",
        "\n",
        "app = agent.compile()\n",
        "display(Image(app.get_graph().draw_mermaid_png())) # Use display from IPython.display\n",
        "\n",
        "\n",
        "initial_user_query_fuzzy = \"What is the status of SIP for today? also tell me status for dev also! and also RPQA status\"\n",
        "initial_user_query = \"what is  uat status\"\n",
        "\n",
        "# Step 1: Prepare the initial state dictionary\n",
        "initial_state = {\n",
        "    \"user_query\": initial_user_query,\n",
        "    \"messages\": [HumanMessage(content=initial_user_query)],\n",
        "    \"llm_data\":initial_user_query\n",
        "}\n",
        "\n",
        "# Step 2: Invoke the compiled graph\n",
        "final_state = app.invoke(initial_state)"
      ],
      "metadata": {
        "colab": {
          "base_uri": "https://localhost:8080/",
          "height": 813
        },
        "id": "p4Lg8-p9vyD_",
        "outputId": "87445710-cc2f-46cd-84ec-06e0c9471a8b"
      },
      "execution_count": null,
      "outputs": [
        {
          "output_type": "display_data",
          "data": {
            "image/png": "[encoded data removed]",
            "text/plain": [
              "<IPython.core.display.Image object>"
            ]
          },
          "metadata": {}
        },
        {
          "output_type": "stream",
          "name": "stdout",
          "text": [
            "agent flow starting with state {'messages': [HumanMessage(content='what is  uat status', additional_kwargs={}, response_metadata={})], 'user_query': 'what is  uat status', 'llm_data': 'what is  uat status'}\n",
            "Gemni got  llm data : what is  uat status\n",
            "Gemni got  state values : [HumanMessage(content='what is  uat status', additional_kwargs={}, response_metadata={}), HumanMessage(content='Hi , I am first node', additional_kwargs={}, response_metadata={})]\n",
            "Gemni chat template response is:  messages=[SystemMessage(content=\" Agent Persona and Instructions\\nFirst understand the quesion semntically, what actuaaly user want to get.\\nYou are a smart, efficient, and precise AI agent. Your primary function is to analyze user queries and determine the immediate action required based on a predefined set of tools. You must prioritize clarity and accuracy in your responses.\\n\\nOperating Principles\\nAnalyze the full context: Carefully review the entire conversation history and the most recent user query.\\n\\nIdentify an immediate action: Your goal is to find the single, most relevant action to take.\\n\\nUse available tools: Only perform actions if a specific tool has been defined for that purpose.\\n\\nAvoid redundancy: If a user's request has already been fully answered in a previous turn, do not re-run any tools.\\nResponses will be present will tools_response if already replied by llm.\\n\\nBe explicit about missing tools: If a user asks for a task that does not have a corresponding defined tool, you must state that no action can be taken.\\n\\nDecision Flow\\nCheck for previous answers: Scan the conversation history. If the user's current query has been fully and satisfactorily addressed in a previous response, provide a summary of that final answer.\\n\\nIdentify a new query: If the query is new, or if a previous response was incomplete, analyze the text to see if it requires a tool.\\n\\nExecute a tool: If a defined tool exists for the query, return the tool name and its output.\\n\\nHandle unknown questions: If a new query is received and no corresponding tool is defined to address it, respond with the exact phrase: unknown question.\\n\\nHandle missing tools: If a user's query asks for an action that has a tool name but the tool itself is not defined, reply with the exact phrase: no action required as tool absent.\\n\\nNo action needed: If no new query is present and the last response was a final answer, return an empty string.  \\n\\nIf question is already responsed semantically, consider it as final response! \\nIf answer is present for semanticaaly for a un answered question then also no need to perform any action.\\n\\n\\n-------------------------------------------------------------------------------------------------\\n\", additional_kwargs={}, response_metadata={}), HumanMessage(content='User query is:Acual User query: what is  uat status  what is  uat status ', additional_kwargs={}, response_metadata={})]\n",
            "gemini llm response:  content='' additional_kwargs={'function_call': {'name': 'UAT_status', 'arguments': '{\"arg1\": \"status\"}'}} response_metadata={'prompt_feedback': {'block_reason': 0, 'safety_ratings': []}, 'finish_reason': 'STOP', 'model_name': 'gemini-2.5-flash', 'safety_ratings': []} id='run--4a14222d-3a92-48fe-9bd8-1927b51b66c5-0' tool_calls=[{'name': 'UAT_status', 'args': {'arg1': 'status'}, 'id': '92d57d8e-469d-40dd-b8df-1350fb1a7054', 'type': 'tool_call'}] usage_metadata={'input_tokens': 736, 'output_tokens': 150, 'total_tokens': 886, 'input_token_details': {'cache_read': 0}, 'output_token_details': {'reasoning': 133}}\n",
            "router last msg content='' additional_kwargs={'function_call': {'name': 'UAT_status', 'arguments': '{\"arg1\": \"status\"}'}} response_metadata={'prompt_feedback': {'block_reason': 0, 'safety_ratings': []}, 'finish_reason': 'STOP', 'model_name': 'gemini-2.5-flash', 'safety_ratings': []} id='run--4a14222d-3a92-48fe-9bd8-1927b51b66c5-0' tool_calls=[{'name': 'UAT_status', 'args': {'arg1': 'status'}, 'id': '92d57d8e-469d-40dd-b8df-1350fb1a7054', 'type': 'tool_call'}] usage_metadata={'input_tokens': 736, 'output_tokens': 150, 'total_tokens': 886, 'input_token_details': {'cache_read': 0}, 'output_token_details': {'reasoning': 133}}\n",
            "router llm  call bcz function_call in state\n",
            "Agents is in UAT_status mode\n",
            "Gemni got  llm data : what is  uat status\n",
            "Gemni got  state values : [HumanMessage(content='what is  uat status', additional_kwargs={}, response_metadata={}), HumanMessage(content='Hi , I am first node', additional_kwargs={}, response_metadata={}), AIMessage(content='', additional_kwargs={'function_call': {'name': 'UAT_status', 'arguments': '{\"arg1\": \"status\"}'}}, response_metadata={'prompt_feedback': {'block_reason': 0, 'safety_ratings': []}, 'finish_reason': 'STOP', 'model_name': 'gemini-2.5-flash', 'safety_ratings': []}, id='run--4a14222d-3a92-48fe-9bd8-1927b51b66c5-0', tool_calls=[{'name': 'UAT_status', 'args': {'arg1': 'status'}, 'id': '92d57d8e-469d-40dd-b8df-1350fb1a7054', 'type': 'tool_call'}], usage_metadata={'input_tokens': 736, 'output_tokens': 150, 'total_tokens': 886, 'input_token_details': {'cache_read': 0}, 'output_token_details': {'reasoning': 133}}), ToolMessage(content='when question related to uat status , response is UAT status completed', name='UAT_status', tool_call_id='92d57d8e-469d-40dd-b8df-1350fb1a7054')]\n",
            "Gemni chat template response is:  messages=[SystemMessage(content=\" Agent Persona and Instructions\\nFirst understand the quesion semntically, what actuaaly user want to get.\\nYou are a smart, efficient, and precise AI agent. Your primary function is to analyze user queries and determine the immediate action required based on a predefined set of tools. You must prioritize clarity and accuracy in your responses.\\n\\nOperating Principles\\nAnalyze the full context: Carefully review the entire conversation history and the most recent user query.\\n\\nIdentify an immediate action: Your goal is to find the single, most relevant action to take.\\n\\nUse available tools: Only perform actions if a specific tool has been defined for that purpose.\\n\\nAvoid redundancy: If a user's request has already been fully answered in a previous turn, do not re-run any tools.\\nResponses will be present will tools_response if already replied by llm.\\n\\nBe explicit about missing tools: If a user asks for a task that does not have a corresponding defined tool, you must state that no action can be taken.\\n\\nDecision Flow\\nCheck for previous answers: Scan the conversation history. If the user's current query has been fully and satisfactorily addressed in a previous response, provide a summary of that final answer.\\n\\nIdentify a new query: If the query is new, or if a previous response was incomplete, analyze the text to see if it requires a tool.\\n\\nExecute a tool: If a defined tool exists for the query, return the tool name and its output.\\n\\nHandle unknown questions: If a new query is received and no corresponding tool is defined to address it, respond with the exact phrase: unknown question.\\n\\nHandle missing tools: If a user's query asks for an action that has a tool name but the tool itself is not defined, reply with the exact phrase: no action required as tool absent.\\n\\nNo action needed: If no new query is present and the last response was a final answer, return an empty string.  \\n\\nIf question is already responsed semantically, consider it as final response! \\nIf answer is present for semanticaaly for a un answered question then also no need to perform any action.\\n\\n\\n-------------------------------------------------------------------------------------------------\\n\", additional_kwargs={}, response_metadata={}), HumanMessage(content='User query is:Acual User query: what is  uat status  what is  uat status .Consider this histry to choose next action History:tool output was: when question related to uat status , response is UAT status completed ', additional_kwargs={}, response_metadata={})]\n",
            "gemini llm response:  content='UAT status completed' additional_kwargs={} response_metadata={'prompt_feedback': {'block_reason': 0, 'safety_ratings': []}, 'finish_reason': 'STOP', 'model_name': 'gemini-2.5-flash', 'safety_ratings': []} id='run--9ad30e3f-6cd0-4969-a19c-e14cc4f166f5-0' usage_metadata={'input_tokens': 765, 'output_tokens': 127, 'total_tokens': 892, 'input_token_details': {'cache_read': 0}, 'output_token_details': {'reasoning': 123}}\n",
            "router last msg content='UAT status completed' additional_kwargs={} response_metadata={'prompt_feedback': {'block_reason': 0, 'safety_ratings': []}, 'finish_reason': 'STOP', 'model_name': 'gemini-2.5-flash', 'safety_ratings': []} id='run--9ad30e3f-6cd0-4969-a19c-e14cc4f166f5-0' usage_metadata={'input_tokens': 765, 'output_tokens': 127, 'total_tokens': 892, 'input_token_details': {'cache_read': 0}, 'output_token_details': {'reasoning': 123}}\n",
            "before postprocessing state[messages]: [HumanMessage(content='what is  uat status', additional_kwargs={}, response_metadata={}), HumanMessage(content='Hi , I am first node', additional_kwargs={}, response_metadata={}), AIMessage(content='', additional_kwargs={'function_call': {'name': 'UAT_status', 'arguments': '{\"arg1\": \"status\"}'}}, response_metadata={'prompt_feedback': {'block_reason': 0, 'safety_ratings': []}, 'finish_reason': 'STOP', 'model_name': 'gemini-2.5-flash', 'safety_ratings': []}, id='run--4a14222d-3a92-48fe-9bd8-1927b51b66c5-0', tool_calls=[{'name': 'UAT_status', 'args': {'arg1': 'status'}, 'id': '92d57d8e-469d-40dd-b8df-1350fb1a7054', 'type': 'tool_call'}], usage_metadata={'input_tokens': 736, 'output_tokens': 150, 'total_tokens': 886, 'input_token_details': {'cache_read': 0}, 'output_token_details': {'reasoning': 133}}), ToolMessage(content='when question related to uat status , response is UAT status completed', name='UAT_status', tool_call_id='92d57d8e-469d-40dd-b8df-1350fb1a7054'), AIMessage(content='UAT status completed', additional_kwargs={}, response_metadata={'prompt_feedback': {'block_reason': 0, 'safety_ratings': []}, 'finish_reason': 'STOP', 'model_name': 'gemini-2.5-flash', 'safety_ratings': []}, id='run--9ad30e3f-6cd0-4969-a19c-e14cc4f166f5-0', usage_metadata={'input_tokens': 765, 'output_tokens': 127, 'total_tokens': 892, 'input_token_details': {'cache_read': 0}, 'output_token_details': {'reasoning': 123}})]\n",
            "after postprocessing response:  content='The user asked \"what is uat status\".\\nThe system called a tool `UAT_status` with the argument `{\"arg1\": \"status\"}`.\\nThe tool responded \"when question related to uat status , response is UAT status completed\".\\nThe final answer provided to the user was \"UAT status completed\".' additional_kwargs={} response_metadata={'prompt_feedback': {'block_reason': 0, 'safety_ratings': []}, 'finish_reason': 'STOP', 'model_name': 'gemini-2.5-flash', 'safety_ratings': []} id='run--b8881a94-286c-40a9-b75a-879daad96672-0' usage_metadata={'input_tokens': 556, 'output_tokens': 111, 'total_tokens': 667, 'input_token_details': {'cache_read': 0}, 'output_token_details': {'reasoning': 41}}\n",
            "final output: The user asked \"what is uat status\".\n",
            "The system called a tool `UAT_status` with the argument `{\"arg1\": \"status\"}`.\n",
            "The tool responded \"when question related to uat status , response is UAT status completed\".\n",
            "The final answer provided to the user was \"UAT status completed\".\n"
          ]
        }
      ]
    },
    {
      "cell_type": "code",
      "source": [
        "class AgentState(TypedDict):\n",
        "    # A list of messages, annotated with operator.add to append new messages\n",
        "    messages: Annotated[List[BaseMessage], operator.add]\n",
        "    # This key tracks the name of the next node to run\n",
        "    user_query: str\n",
        "    llm_data:str\n",
        "\n",
        "def greet_function(state:AgentState):\n",
        "  print(\"agent flow starting with state\", state)\n",
        "  return {\"messages\": [HumanMessage(content=\"Hi , I am first node\")]}\n",
        "\n",
        "def postprocessing(state):\n",
        "  print(\"before postprocessing state[messages]:\",state[\"messages\"])\n",
        "  llm = ChatGoogleGenerativeAI(model=\"gemini-2.5-flash\")\n",
        "\n",
        "  system_prompt=\"Just sumarize it:\"\n",
        "  chatTemp=ChatPromptTemplate.from_messages([SystemMessage(content=system_prompt), HumanMessage(content=\"User query and responses is:{cc}\".format(cc=state[\"messages\"]))])\n",
        "  chat=chatTemp.invoke({})\n",
        "  result=llm.invoke(chat)\n",
        "  print(\"after postprocessing response: \",result )\n",
        "  # we have to retun output as list\n",
        "  print(\"final output:\",result.content)\n",
        "  return {\"messages\": [result]}\n",
        "\n",
        "\n",
        "def state_prepocess(data):\n",
        "  for i in data:\n",
        "    print(\"----\",i)\n",
        "  return ''\n",
        "\n",
        "def gemini_intelligence(state:AgentState):\n",
        "\n",
        "\n",
        "  llm_data=state[\"llm_data\"]\n",
        "\n",
        "\n",
        "\n",
        "  if len(state[\"messages\"])>10:\n",
        "    print(\"-------------------------------------------------------------------\")\n",
        "    return {\"message\":\"no tool found\"}\n",
        "  User_query=state[\"user_query\"]\n",
        "  prompt=main_prompt\n",
        "  result=state[\"messages\"][-1]\n",
        "  if isinstance(result,AIMessage):\n",
        "    llm_data=llm_data+\" .consider this histry to choose next action History:content: \"+str(result.content)+\" additional_kwargs: \"+str(result.additional_kwargs)+\" .tools called was:\"+str(result.tool_calls)\n",
        "  elif isinstance(result,ToolMessage):\n",
        "    llm_data=llm_data+\" .Consider this histry to choose next action History:tool output was: \"+str(result.content)\n",
        "\n",
        "\n",
        "\n",
        "  final_query=\"Acual User query: \"+User_query +\"  \"+str(llm_data)\n",
        "\n",
        "  system_prompt=\"You are a helpful assiditant, kindly go thourgh user input query and respond it back. so u have to select actions based on user query. If there is no action required then you could reploy jai shree ram!\"\n",
        "  chatTemp=ChatPromptTemplate.from_messages([SystemMessage(content=prompt), HumanMessage(content=\"User query is:{cc} \".format(cc=final_query))])\n",
        "  chat=chatTemp.invoke({})\n",
        "  print(\"Gemni got  llm data :\", state[\"llm_data\"])\n",
        "  print(\"Gemni got  state values :\", state[\"messages\"])\n",
        "  print(\"Gemni chat template response is: \",chat)\n",
        "  llm = ChatGoogleGenerativeAI(model=\"gemini-2.5-flash\")\n",
        "  agents_tools=[SIP_status,UAT_status,RPA_status,DEV_status ,Business_status,out_of_Scope]\n",
        "  gemni_with_tools=llm.bind_tools(agents_tools)\n",
        "  result=gemni_with_tools.invoke(chat)\n",
        "\n",
        "  print(\"gemini llm response: \",result)\n",
        "  return {\"messages\": [result], \"llm_data\":llm_data}\n",
        "\n",
        "def router(state):\n",
        "  last_msg=state[\"messages\"][-1]\n",
        "  print(\"router last msg\",last_msg)\n",
        "  try:\n",
        "    if  'function_call' in last_msg.additional_kwargs.keys():\n",
        "      print(\"router llm  call bcz function_call in state\")\n",
        "      state[\"messages\"].append(\"ramu\")\n",
        "      return \"tools\"\n",
        "    else:\n",
        "      return \"postprocessing\"\n",
        "  except Exception as e:\n",
        "    print(\"error in router\",e)\n",
        "    return END\n",
        "\n",
        "\n",
        "\n",
        "agent=StateGraph(AgentState)\n",
        "agent.add_node(\"greet\", greet_function)\n",
        "agent.add_node(\"LLM\", gemini_intelligence)\n",
        "agent.add_node(\"tools\", ToolNode([SIP_status,UAT_status,RPA_status,DEV_status ,Business_status,out_of_Scope]))\n",
        "agent.add_node(\"postprocessing\", postprocessing)\n",
        "\n",
        "agent.add_edge(START, \"greet\")\n",
        "agent.add_edge(\"greet\", \"LLM\")\n",
        "agent.add_conditional_edges(\"LLM\",router,[END,'postprocessing','tools'])\n",
        "\n",
        "\n",
        "agent.add_edge(\"tools\",\"LLM\")\n",
        "agent.add_edge(\"postprocessing\", END)\n",
        "\n",
        "app = agent.compile()\n",
        "display(Image(app.get_graph().draw_mermaid_png())) # Use display from IPython.display\n",
        "\n",
        "\n",
        "initial_user_query_fuzzy = \"What is the status of SIP for today? also tell me status for dev also! and also RPQA status\"\n",
        "initial_user_query = \"NARE\"\n",
        "\n",
        "# Step 1: Prepare the initial state dictionary\n",
        "initial_state = {\n",
        "    \"user_query\": initial_user_query,\n",
        "    \"messages\": [HumanMessage(content=initial_user_query)],\n",
        "    \"llm_data\":initial_user_query\n",
        "}\n",
        "\n",
        "# Step 2: Invoke the compiled graph\n",
        "final_state = app.invoke(initial_state)"
      ],
      "metadata": {
        "colab": {
          "base_uri": "https://localhost:8080/",
          "height": 759
        },
        "id": "0asnyqhw3bIf",
        "outputId": "03fd3257-ae6b-4c9f-bce0-f225fd46c814"
      },
      "execution_count": null,
      "outputs": [
        {
          "output_type": "display_data",
          "data": {
            "image/png": "[encoded data removed]",
            "text/plain": [
              "<IPython.core.display.Image object>"
            ]
          },
          "metadata": {}
        },
        {
          "output_type": "stream",
          "name": "stdout",
          "text": [
            "agent flow starting with state {'messages': [HumanMessage(content='', additional_kwargs={}, response_metadata={})], 'user_query': '', 'llm_data': ''}\n",
            "Gemni got  llm data : \n",
            "Gemni got  state values : [HumanMessage(content='', additional_kwargs={}, response_metadata={}), HumanMessage(content='Hi , I am first node', additional_kwargs={}, response_metadata={})]\n",
            "Gemni chat template response is:  messages=[SystemMessage(content=\" Agent Persona and Instructions\\nFirst understand the quesion semntically, what actuaaly user want to get.\\nYou are a smart, efficient, and precise AI agent. Your primary function is to analyze user queries and determine the immediate action required based on a predefined set of tools. You must prioritize clarity and accuracy in your responses.\\n\\nOperating Principles\\nAnalyze the full context: Carefully review the entire conversation history and the most recent user query.\\n\\nIdentify an immediate action: Your goal is to find the single, most relevant action to take.\\n\\nUse available tools: Only perform actions if a specific tool has been defined for that purpose.\\n\\nAvoid redundancy: If a user's request has already been fully answered in a previous turn, do not re-run any tools.\\nResponses will be present will tools_response if already replied by llm.\\n\\nBe explicit about missing tools: If a user asks for a task that does not have a corresponding defined tool, you must state that no action can be taken.\\n\\nDecision Flow\\nCheck for previous answers: Scan the conversation history. If the user's current query has been fully and satisfactorily addressed in a previous response, provide a summary of that final answer.\\n\\nIdentify a new query: If the query is new, or if a previous response was incomplete, analyze the text to see if it requires a tool.\\n\\nExecute a tool: If a defined tool exists for the query, return the tool name and its output.\\n\\nHandle unknown questions: If a new query is received and no corresponding tool is defined to address it, respond with the exact phrase: unknown question.\\n\\nHandle missing tools: If a user's query asks for an action that has a tool name but the tool itself is not defined, reply with the exact phrase: no action required as tool absent.\\n\\nNo action needed: If no new query is present and the last response was a final answer, return an empty string.  \\n\\nIf question is already responsed semantically, consider it as final response! \\nIf answer is present for semanticaaly for a un answered question then also no need to perform any action.\\n\\n\\n-------------------------------------------------------------------------------------------------\\n\", additional_kwargs={}, response_metadata={}), HumanMessage(content='User query is:Acual User query:    ', additional_kwargs={}, response_metadata={})]\n",
            "gemini llm response:  content='unknown question' additional_kwargs={} response_metadata={'prompt_feedback': {'block_reason': 0, 'safety_ratings': []}, 'finish_reason': 'STOP', 'model_name': 'gemini-2.5-flash', 'safety_ratings': []} id='run--94357826-1b75-4f74-8e5f-a1e89e59d735-0' usage_metadata={'input_tokens': 725, 'output_tokens': 111, 'total_tokens': 836, 'input_token_details': {'cache_read': 0}, 'output_token_details': {'reasoning': 109}}\n",
            "router last msg content='unknown question' additional_kwargs={} response_metadata={'prompt_feedback': {'block_reason': 0, 'safety_ratings': []}, 'finish_reason': 'STOP', 'model_name': 'gemini-2.5-flash', 'safety_ratings': []} id='run--94357826-1b75-4f74-8e5f-a1e89e59d735-0' usage_metadata={'input_tokens': 725, 'output_tokens': 111, 'total_tokens': 836, 'input_token_details': {'cache_read': 0}, 'output_token_details': {'reasoning': 109}}\n",
            "before postprocessing state[messages]: [HumanMessage(content='', additional_kwargs={}, response_metadata={}), HumanMessage(content='Hi , I am first node', additional_kwargs={}, response_metadata={}), AIMessage(content='unknown question', additional_kwargs={}, response_metadata={'prompt_feedback': {'block_reason': 0, 'safety_ratings': []}, 'finish_reason': 'STOP', 'model_name': 'gemini-2.5-flash', 'safety_ratings': []}, id='run--94357826-1b75-4f74-8e5f-a1e89e59d735-0', usage_metadata={'input_tokens': 725, 'output_tokens': 111, 'total_tokens': 836, 'input_token_details': {'cache_read': 0}, 'output_token_details': {'reasoning': 109}})]\n",
            "after postprocessing response:  content='This is a log of a conversation with an AI, showing two user inputs and one AI response:\\n\\n*   **User Input 1:** Empty message.\\n*   **User Input 2:** \"Hi , I am first node\"\\n*   **AI Response:** \"unknown question\"\\n    *   **Model:** gemini-2.5-flash\\n    *   **Finish Reason:** STOP\\n    *   **Tokens Used:** 725 input, 111 output (total 836)' additional_kwargs={} response_metadata={'prompt_feedback': {'block_reason': 0, 'safety_ratings': []}, 'finish_reason': 'STOP', 'model_name': 'gemini-2.5-flash', 'safety_ratings': []} id='run--ca3228a2-6be3-4668-afb2-123c71ac617e-0' usage_metadata={'input_tokens': 220, 'output_tokens': 233, 'total_tokens': 453, 'input_token_details': {'cache_read': 0}, 'output_token_details': {'reasoning': 123}}\n",
            "final output: This is a log of a conversation with an AI, showing two user inputs and one AI response:\n",
            "\n",
            "*   **User Input 1:** Empty message.\n",
            "*   **User Input 2:** \"Hi , I am first node\"\n",
            "*   **AI Response:** \"unknown question\"\n",
            "    *   **Model:** gemini-2.5-flash\n",
            "    *   **Finish Reason:** STOP\n",
            "    *   **Tokens Used:** 725 input, 111 output (total 836)\n"
          ]
        }
      ]
    },
    {
      "cell_type": "markdown",
      "source": [
        "#  Agent -SQL_NLP\n"
      ],
      "metadata": {
        "id": "iXpMd5UDYLba"
      }
    },
    {
      "cell_type": "code",
      "source": [
        "# run db over online\n",
        "# https://extendsclass.com/sqlite-browser.html#"
      ],
      "metadata": {
        "id": "RLQLTkNQQwZZ"
      },
      "execution_count": null,
      "outputs": []
    },
    {
      "cell_type": "code",
      "source": [
        "# load sqlite online editor: https://extendsclass.com/sqlite-browser.html#\n",
        "\n",
        "from langchain_community.utilities import SQLDatabase\n",
        "from langchain_community.agent_toolkits import SQLDatabaseToolkit\n",
        "\n",
        "from langchain_core.messages import HumanMessage, SystemMessage\n",
        "from langchain_core.tools import tool\n",
        "from langchain_core.prompts import ChatPromptTemplate\n",
        "from langchain_core.messages import ToolMessage, AIMessage\n",
        "from langchain_core.runnables import RunnableLambda, RunnableWithFallbacks\n",
        "from langgraph.prebuilt import ToolNode\n",
        "from langgraph.graph import StateGraph, START, END\n",
        "from langgraph.graph.message import AnyMessage, add_messages\n",
        "from pydantic import BaseModel, Field\n",
        "from typing import Annotated, Literal, TypedDict, Any\n",
        "\n",
        "from IPython.display import Image, display\n",
        "from langchain_core.runnables.graph import MermaidDrawMethod\n",
        "import ast"
      ],
      "metadata": {
        "id": "UAvWva4mYKjb"
      },
      "execution_count": null,
      "outputs": []
    },
    {
      "cell_type": "code",
      "source": [
        "from google.colab import drive\n",
        "drive.mount('/content/drive')\n",
        "\n",
        "from google.colab import auth\n",
        "from google.cloud import storage\n",
        "\n",
        "# Authenticate with Google Cloud\n",
        "auth.authenticate_user()"
      ],
      "metadata": {
        "colab": {
          "base_uri": "https://localhost:8080/"
        },
        "id": "OLvkgeTCie9T",
        "outputId": "514a34a4-031c-4d4d-e92e-d5ecf7d528b8"
      },
      "execution_count": null,
      "outputs": [
        {
          "output_type": "stream",
          "name": "stdout",
          "text": [
            "Drive already mounted at /content/drive; to attempt to forcibly remount, call drive.mount(\"/content/drive\", force_remount=True).\n"
          ]
        }
      ]
    },
    {
      "cell_type": "code",
      "source": [
        "db = SQLDatabase.from_uri(\"sqlite:////content/drive/MyDrive/Colab Notebooks/Chinook.db\")\n",
        "print(f\"Database Type: {db.dialect}\")\n",
        "print(f\"Tables: {db.get_usable_table_names()}\")\n",
        "print(f\"Artist: {db.run('SELECT * FROM Artist LIMIT 5;')}\")"
      ],
      "metadata": {
        "colab": {
          "base_uri": "https://localhost:8080/"
        },
        "id": "AfrT6iSeYKpS",
        "outputId": "a8ae793d-9375-462a-a793-803fa8e4cbc6"
      },
      "execution_count": null,
      "outputs": [
        {
          "output_type": "stream",
          "name": "stdout",
          "text": [
            "Database Type: sqlite\n",
            "Tables: ['Album', 'Artist', 'Customer', 'Employee', 'Genre', 'Invoice', 'InvoiceLine', 'MediaType', 'Playlist', 'PlaylistTrack', 'Track']\n",
            "Artist: [(1, 'AC/DC'), (2, 'Accept'), (3, 'Aerosmith'), (4, 'Alanis Morissette'), (5, 'Alice In Chains')]\n"
          ]
        }
      ]
    },
    {
      "cell_type": "code",
      "source": [
        "llm = ChatGoogleGenerativeAI(model=\"gemini-2.5-flash\")\n",
        "# Define tools for the agent\n",
        "toolkit = SQLDatabaseToolkit(db=db,llm=llm )\n",
        "tools = toolkit.get_tools()\n",
        "tools"
      ],
      "metadata": {
        "colab": {
          "base_uri": "https://localhost:8080/"
        },
        "id": "BEyk9jGUYKs6",
        "outputId": "b058790e-229c-4499-8c62-a6afd4157182"
      },
      "execution_count": null,
      "outputs": [
        {
          "output_type": "execute_result",
          "data": {
            "text/plain": [
              "[QuerySQLDatabaseTool(description=\"Input to this tool is a detailed and correct SQL query, output is a result from the database. If the query is not correct, an error message will be returned. If an error is returned, rewrite the query, check the query, and try again. If you encounter an issue with Unknown column 'xxxx' in 'field list', use sql_db_schema to query the correct table fields.\", db=<langchain_community.utilities.sql_database.SQLDatabase object at 0x7b408825a1e0>),\n",
              " InfoSQLDatabaseTool(description='Input to this tool is a comma-separated list of tables, output is the schema and sample rows for those tables. Be sure that the tables actually exist by calling sql_db_list_tables first! Example Input: table1, table2, table3', db=<langchain_community.utilities.sql_database.SQLDatabase object at 0x7b408825a1e0>),\n",
              " ListSQLDatabaseTool(db=<langchain_community.utilities.sql_database.SQLDatabase object at 0x7b408825a1e0>),\n",
              " QuerySQLCheckerTool(description='Use this tool to double check if your query is correct before executing it. Always use this tool before executing a query with sql_db_query!', db=<langchain_community.utilities.sql_database.SQLDatabase object at 0x7b408825a1e0>, llm=ChatGoogleGenerativeAI(model='models/gemini-2.5-flash', google_api_key=SecretStr('**********'), client=<google.ai.generativelanguage_v1beta.services.generative_service.client.GenerativeServiceClient object at 0x7b40882470b0>, default_metadata=(), model_kwargs={}), llm_chain=LLMChain(verbose=False, prompt=PromptTemplate(input_variables=['dialect', 'query'], input_types={}, partial_variables={}, template='\\n{query}\\nDouble check the {dialect} query above for common mistakes, including:\\n- Using NOT IN with NULL values\\n- Using UNION when UNION ALL should have been used\\n- Using BETWEEN for exclusive ranges\\n- Data type mismatch in predicates\\n- Properly quoting identifiers\\n- Using the correct number of arguments for functions\\n- Casting to the correct data type\\n- Using the proper columns for joins\\n\\nIf there are any of the above mistakes, rewrite the query. If there are no mistakes, just reproduce the original query.\\n\\nOutput the final SQL query only.\\n\\nSQL Query: '), llm=ChatGoogleGenerativeAI(model='models/gemini-2.5-flash', google_api_key=SecretStr('**********'), client=<google.ai.generativelanguage_v1beta.services.generative_service.client.GenerativeServiceClient object at 0x7b40882470b0>, default_metadata=(), model_kwargs={}), output_parser=StrOutputParser(), llm_kwargs={}))]"
            ]
          },
          "metadata": {},
          "execution_count": 14
        }
      ]
    },
    {
      "cell_type": "code",
      "source": [
        "for i in tools:\n",
        "  print( i.name)"
      ],
      "metadata": {
        "colab": {
          "base_uri": "https://localhost:8080/"
        },
        "id": "0geTIFXz6y26",
        "outputId": "2c50b269-3dc0-41cf-cadd-06392b7c8295"
      },
      "execution_count": null,
      "outputs": [
        {
          "output_type": "stream",
          "name": "stdout",
          "text": [
            "sql_db_query\n",
            "sql_db_schema\n",
            "sql_db_list_tables\n",
            "sql_db_query_checker\n"
          ]
        }
      ]
    },
    {
      "cell_type": "code",
      "source": [
        "db_query_tool = next(tool for tool in tools if tool.name == \"sql_db_query\")\n",
        "db_schema_tool = next(tool for tool in tools if tool.name == \"sql_db_schema\")\n",
        "db_list_tables_tool = next(tool for tool in tools if tool.name == \"sql_db_list_tables\")\n",
        "db_query_checker_tool = next(tool for tool in tools if tool.name == \"sql_db_query_checker\")\n"
      ],
      "metadata": {
        "id": "lO7cZtHL6yza"
      },
      "execution_count": null,
      "outputs": []
    },
    {
      "cell_type": "code",
      "source": [
        "db_query_tool.run(\"\"\"\n",
        "SELECT\n",
        "  C.Country,\n",
        "  SUM(I.Total) AS TotalSales\n",
        "FROM Customer AS C\n",
        "JOIN Invoice AS I\n",
        "  ON C.CustomerId = I.CustomerId\n",
        "GROUP BY\n",
        "  C.Country\n",
        "ORDER BY\n",
        "  TotalSales DESC;\n",
        "\"\"\")"
      ],
      "metadata": {
        "colab": {
          "base_uri": "https://localhost:8080/",
          "height": 108
        },
        "id": "yD73nDLYemck",
        "outputId": "f933ce1f-9570-4b21-99e2-0ae3967d64b1"
      },
      "execution_count": null,
      "outputs": [
        {
          "output_type": "execute_result",
          "data": {
            "text/plain": [
              "\"[('USA', 523.0600000000003), ('Canada', 303.9599999999999), ('France', 195.09999999999994), ('Brazil', 190.09999999999997), ('Germany', 156.48), ('United Kingdom', 112.85999999999999), ('Czech Republic', 90.24000000000001), ('Portugal', 77.23999999999998), ('India', 75.25999999999999), ('Chile', 46.62), ('Ireland', 45.62), ('Hungary', 45.62), ('Austria', 42.62), ('Finland', 41.620000000000005), ('Netherlands', 40.62), ('Norway', 39.62), ('Sweden', 38.620000000000005), ('Poland', 37.620000000000005), ('Italy', 37.620000000000005), ('Denmark', 37.620000000000005), ('Australia', 37.620000000000005), ('Argentina', 37.620000000000005), ('Spain', 37.62), ('Belgium', 37.62)]\""
            ],
            "application/vnd.google.colaboratory.intrinsic+json": {
              "type": "string"
            }
          },
          "metadata": {},
          "execution_count": 25
        }
      ]
    },
    {
      "cell_type": "code",
      "source": [
        "db_list_tables_tool.run({})"
      ],
      "metadata": {
        "colab": {
          "base_uri": "https://localhost:8080/",
          "height": 36
        },
        "id": "qpmF-SVgfdkr",
        "outputId": "0bf37ff2-94a2-4cb6-d9a9-65a4c795d331"
      },
      "execution_count": null,
      "outputs": [
        {
          "output_type": "execute_result",
          "data": {
            "text/plain": [
              "'Album, Artist, Customer, Employee, Genre, Invoice, InvoiceLine, MediaType, Playlist, PlaylistTrack, Track'"
            ],
            "application/vnd.google.colaboratory.intrinsic+json": {
              "type": "string"
            }
          },
          "metadata": {},
          "execution_count": 27
        }
      ]
    },
    {
      "cell_type": "code",
      "source": [
        "db_schema_tool"
      ],
      "metadata": {
        "colab": {
          "base_uri": "https://localhost:8080/"
        },
        "id": "2Z82eOLaAafJ",
        "outputId": "e8ecc1bf-5159-4472-ccd2-39e836ae337e"
      },
      "execution_count": null,
      "outputs": [
        {
          "output_type": "execute_result",
          "data": {
            "text/plain": [
              "InfoSQLDatabaseTool(description='Input to this tool is a comma-separated list of tables, output is the schema and sample rows for those tables. Be sure that the tables actually exist by calling sql_db_list_tables first! Example Input: table1, table2, table3', db=<langchain_community.utilities.sql_database.SQLDatabase object at 0x7b408825a1e0>)"
            ]
          },
          "metadata": {},
          "execution_count": 28
        }
      ]
    },
    {
      "cell_type": "code",
      "source": [
        "db_schema_tool.invoke(\"Album, Artist, Customer, Employee, Genre, Invoice, InvoiceLine, MediaType, Playlist, PlaylistTrack, Track\")\n",
        "db_schema_tool.invoke(\"Album\")"
      ],
      "metadata": {
        "colab": {
          "base_uri": "https://localhost:8080/",
          "height": 72
        },
        "id": "DQV0QnQ0kU3s",
        "outputId": "7878e862-6cf0-4a02-b216-be15cd4dfbdc"
      },
      "execution_count": null,
      "outputs": [
        {
          "output_type": "execute_result",
          "data": {
            "text/plain": [
              "'\\nCREATE TABLE \"Album\" (\\n\\t\"AlbumId\" INTEGER NOT NULL, \\n\\t\"Title\" NVARCHAR(160) NOT NULL, \\n\\t\"ArtistId\" INTEGER NOT NULL, \\n\\tPRIMARY KEY (\"AlbumId\"), \\n\\tFOREIGN KEY(\"ArtistId\") REFERENCES \"Artist\" (\"ArtistId\")\\n)\\n\\n/*\\n3 rows from Album table:\\nAlbumId\\tTitle\\tArtistId\\n1\\tFor Those About To Rock We Salute You\\t1\\n2\\tBalls to the Wall\\t2\\n3\\tRestless and Wild\\t2\\n*/'"
            ],
            "application/vnd.google.colaboratory.intrinsic+json": {
              "type": "string"
            }
          },
          "metadata": {},
          "execution_count": 29
        }
      ]
    },
    {
      "cell_type": "code",
      "source": [
        "db_schema_model = llm.bind_tools([db_schema_tool])\n",
        "db_schema_model.invoke('Album, Artist, Customer, Employee, Genre, Invoice, InvoiceLine, MediaType, Playlist, PlaylistTrack, Track')\n"
      ],
      "metadata": {
        "colab": {
          "base_uri": "https://localhost:8080/"
        },
        "id": "0ewhX0K1cHHB",
        "outputId": "09200a64-7f88-4d2f-b4e9-c27100b80593"
      },
      "execution_count": null,
      "outputs": [
        {
          "output_type": "execute_result",
          "data": {
            "text/plain": [
              "AIMessage(content='', additional_kwargs={'function_call': {'name': 'sql_db_schema', 'arguments': '{\"table_names\": \"Album, Artist, Customer, Employee, Genre, Invoice, InvoiceLine, MediaType, Playlist, PlaylistTrack, Track\"}'}}, response_metadata={'prompt_feedback': {'block_reason': 0, 'safety_ratings': []}, 'finish_reason': 'STOP', 'model_name': 'gemini-2.5-flash', 'safety_ratings': []}, id='run--297717ad-c787-4664-9950-92f6cb36e955-0', tool_calls=[{'name': 'sql_db_schema', 'args': {'table_names': 'Album, Artist, Customer, Employee, Genre, Invoice, InvoiceLine, MediaType, Playlist, PlaylistTrack, Track'}, 'id': '7ea7d4ae-43c2-494e-a083-4229496ff085', 'type': 'tool_call'}], usage_metadata={'input_tokens': 143, 'output_tokens': 173, 'total_tokens': 316, 'input_token_details': {'cache_read': 0}, 'output_token_details': {'reasoning': 132}})"
            ]
          },
          "metadata": {},
          "execution_count": 30
        }
      ]
    },
    {
      "cell_type": "markdown",
      "source": [
        "## agent creation"
      ],
      "metadata": {
        "id": "BNYBdUVS4Gsx"
      }
    },
    {
      "cell_type": "code",
      "source": [
        "sql_generation_prompt=\"\"\"You are a SQL expert with a strong attention to detail.\n",
        "\n",
        "Given an input question, output a syntactically correct SQLite query to run, then look at the results of the query and return the answer.\n",
        "\n",
        "When generating the query:\n",
        "\n",
        "Output the SQL query that answers the input question without a tool call.\n",
        "\n",
        "Unless the user specifies a specific number of examples they wish to obtain, always limit your query to at most 5 results.\n",
        "You can order the results by a relevant column to return the most interesting examples in the database.\n",
        "Never query for all the columns from a specific table, only ask for the relevant columns given the question.\n",
        "\n",
        "If you get an error while executing a query, rewrite the query and try again.\n",
        "\n",
        "If you get an empty result set, you should try to rewrite the query to get a non-empty result set.\n",
        "NEVER make stuff up if you don't have enough information to answer the query... just say you don't have enough information.\n",
        "\n",
        "If you have enough information to answer the input question, simply invoke the appropriate tool to submit the final answer to the user.\n",
        "\n",
        "DO NOT make any DML statements (INSERT, UPDATE, DELETE, DROP etc.) to the database.\n",
        "\n",
        "\n",
        "Note: If user query is already present for given input question then return with message 'Correct Query' strictly  \"\"\"\n",
        "\n",
        "\n",
        "query_correction_prmpt=\"\"\"You are a SQL expert with a strong attention to detail.\n",
        "Double check the SQLite query for common mistakes, including:\n",
        "- Using NOT IN with NULL values\n",
        "- Using UNION when UNION ALL should have been used\n",
        "- Using BETWEEN for exclusive ranges\n",
        "- Data type mismatch in predicates\n",
        "- Properly quoting identifiers\n",
        "- Using the correct number of arguments for functions\n",
        "- Casting to the correct data type\n",
        "- Using the proper columns for joins\n",
        "\n",
        "If there are any of the above mistakes, rewrite the query. If there are no mistakes, just reproduce the original query.\n",
        "\n",
        "If there is any delete , drop , insert or update command is there then return with message \"Query is dangerous\"\n",
        "\n",
        "You will call the appropriate tool to execute the query after running this check.\"\"\""
      ],
      "metadata": {
        "id": "7A5EymyRS4fC"
      },
      "execution_count": null,
      "outputs": []
    },
    {
      "cell_type": "code",
      "source": [
        "class State(TypedDict):\n",
        "    messages: Annotated[list[AnyMessage], add_messages]\n",
        "    id:str\n",
        "\n",
        "def init_node(State):\n",
        "  #  this node will trigger to choose tools available for db querying\n",
        "  print(\"\\n\\n\\n\\n----init_node----\\n\", \"state:\", State)\n",
        "  id=State[\"messages\"][-1].id\n",
        "  msg=State[\"messages\"][-1].content\n",
        "  print(\"start id:\", id)\n",
        "  agent_id=\"NLP_auto_db_query\"\n",
        "  msg=AIMessage(content=msg,id =id,tools_calls=[{\"name\":\"db_list_tables_tool\",\"args\":{},\"id\":id}])\n",
        "  return {\"messages\":[msg],\"id\":id}\n",
        "\n",
        "def list_tables_node(State) -> dict[str, list[AIMessage]]:\n",
        "    \"\"\"\n",
        "    dict[str, list[AIMessage]]: keys are str and values are list of AIMessage.\n",
        "    Lists all tables in the database and returns the result as a ToolMessage.\n",
        "    \"\"\"\n",
        "    print(\"\\n\\n\\n\\n--- List Tables Node ---\")\n",
        "    tool_call_id = State[\"id\"]\n",
        "    result = State[\"messages\"][-1].tools_calls[0][\"name\"]\n",
        "    if result==\"db_list_tables_tool\":\n",
        "      result=db_list_tables_tool.invoke({})\n",
        "    # print(\"Tables in the database:\", result)\n",
        "    try:\n",
        "      return {\"messages\": [ToolMessage(content=result, tool_call_id=tool_call_id)]}\n",
        "    except Exception as e:\n",
        "      print(  \"error:\",e)\n",
        "      pass\n",
        "def tables_schema(State):\n",
        "  print(\"\\n\\n\\n\\n--- Tables Schema Node ---\")\n",
        "  tool_call_id = State[\"id\"]\n",
        "  result = State[\"messages\"][-1].content\n",
        "  result=db_schema_tool.invoke(result)\n",
        "  # print(\"table schema result:\", result)\n",
        "  try:\n",
        "    return {\"messages\": [ToolMessage(content=result, tool_call_id=tool_call_id)]}\n",
        "  except Exception as e:\n",
        "    print(  \" tables_schema error:\",e)\n",
        "    pass\n",
        "\n",
        "def sql_generation(State):\n",
        "  print(\"\\n\\n\\n\\n--- sql_generation ---\\n\")\n",
        "  input=[SystemMessage(sql_generation_prompt),HumanMessage(content=str(State).replace(State[\"id\"],\"\"))]\n",
        "  print(\"----------input---------\",input)\n",
        "  try:\n",
        "    # adarsh\n",
        "    response=llm(input).content\n",
        "    print(\"\\n\\n\\n\\n--- sql_generation llm output---\\n\",response)\n",
        "    return {\"messages\":[response]}\n",
        "  except:\n",
        "    return {\"messages\":[\"Error came while calling llm\"]}\n",
        "\n",
        "\n",
        "def query_correction(State):\n",
        "  print(\"\\n\\n\\n\\n--- query_correction ---\\n\")\n",
        "  input=[SystemMessage(query_correction_prmpt),HumanMessage(content=str(State[\"messages\"][-1]).replace(State[\"id\"],\"\"))]\n",
        "\n",
        "  response=llm(input).content\n",
        "  print(\"query_correction llm response\",response)\n",
        "  return {\"messages\":[response]}\n",
        "\n",
        "def conditional(State):\n",
        "  last_state=State[\"messages\"][-1].content.lower()\n",
        "  print(\"\\n\\n\\n\\n----conditional----------\",last_state)\n",
        "  if \"error\" in last_state:\n",
        "    print(\"**************** conditional end \")\n",
        "    return END\n",
        "  elif \"correct\" in last_state:\n",
        "    print(\"****************  sqlite_call \")\n",
        "    return \"sqlite_call\"\n",
        "  elif \"sqlite\" not in last_state:\n",
        "    return \"sql_generation\"\n",
        "  else:\n",
        "    return \"query_correction\"\n",
        "def sqlite_call(State):\n",
        "  print(\"\\n\\n\\n\\n--- sqlite_call ---\\n\")\n",
        "  tool_call_id = State[\"id\"]\n",
        "  result = State[\"messages\"][-3].content.replace(\"sqlite\",\"\").replace(\"`\",\" \")\n",
        "  print(\"sqlite_call result:\", result,\"--- done\")\n",
        "  result=db_query_tool.run(result)\n",
        "  return {\"messages\":[result]}\n",
        "\n",
        "def post_process(State):\n",
        "  print(\"\\n\\n\\n\\n--- post_process ---\\n\")\n",
        "  out=State[\"messages\"][-1].content\n",
        "  # print(out)\n",
        "  out1=pd.DataFrame(ast.literal_eval(out))\n",
        "  print( out1)\n",
        "  return out1\n",
        "\n",
        "agent=StateGraph(State)\n",
        "\n",
        "agent.add_node('init', init_node)\n",
        "agent.add_node('list_tables', list_tables_node)\n",
        "agent.add_node('tables_schema', tables_schema)\n",
        "agent.add_node('sql_generation', sql_generation)\n",
        "agent.add_node('query_correction', query_correction)\n",
        "agent.add_node('sqlite_call', sqlite_call)\n",
        "agent.add_node('post_process', post_process)\n",
        "\n",
        "agent.add_edge(START, 'init')\n",
        "agent.add_edge('init', 'list_tables')\n",
        "agent.add_edge('list_tables', 'tables_schema')\n",
        "agent.add_edge('tables_schema', 'sql_generation')\n",
        "agent.add_conditional_edges('sql_generation',conditional,[END,'sql_generation','query_correction','sqlite_call'])\n",
        "agent.add_edge('query_correction',\"sql_generation\")\n",
        "agent.add_edge(\"sql_generation\",END)\n",
        "agent.add_edge('sqlite_call',\"post_process\")\n",
        "agent.add_edge(\"post_process\",END)\n",
        "app = agent.compile()\n",
        "\n",
        "graph = app.get_graph()\n",
        "\n",
        "\n",
        "\n",
        "app.invoke({\"messages\":[(HumanMessage(content=\"What is the total sales amount per country?\"))],\"id\":\"\"});\n"
      ],
      "metadata": {
        "colab": {
          "base_uri": "https://localhost:8080/"
        },
        "id": "arULKGKE4ItR",
        "outputId": "b3a41b14-01c6-4954-f514-d25a43a3f1f1"
      },
      "execution_count": null,
      "outputs": [
        {
          "output_type": "stream",
          "name": "stdout",
          "text": [
            "\n",
            "\n",
            "\n",
            "\n",
            "----init_node----\n",
            " state: {'messages': [HumanMessage(content='What is the total sales amount per country?', additional_kwargs={}, response_metadata={}, id='e9f163d1-650c-49ba-9055-4d823a11f9dd')], 'id': ''}\n",
            "start id: e9f163d1-650c-49ba-9055-4d823a11f9dd\n",
            "\n",
            "\n",
            "\n",
            "\n",
            "--- List Tables Node ---\n",
            "\n",
            "\n",
            "\n",
            "\n",
            "--- Tables Schema Node ---\n",
            "\n",
            "\n",
            "\n",
            "\n",
            "--- sql_generation ---\n",
            "\n",
            "----------input--------- [SystemMessage(content=\"You are a SQL expert with a strong attention to detail.\\n\\nGiven an input question, output a syntactically correct SQLite query to run, then look at the results of the query and return the answer.\\n\\nWhen generating the query:\\n\\nOutput the SQL query that answers the input question without a tool call.\\n\\nUnless the user specifies a specific number of examples they wish to obtain, always limit your query to at most 5 results.\\nYou can order the results by a relevant column to return the most interesting examples in the database.\\nNever query for all the columns from a specific table, only ask for the relevant columns given the question.\\n\\nIf you get an error while executing a query, rewrite the query and try again.\\n\\nIf you get an empty result set, you should try to rewrite the query to get a non-empty result set.\\nNEVER make stuff up if you don't have enough information to answer the query... just say you don't have enough information.\\n\\nIf you have enough information to answer the input question, simply invoke the appropriate tool to submit the final answer to the user.\\n\\nDO NOT make any DML statements (INSERT, UPDATE, DELETE, DROP etc.) to the database.\\n\\n\\nNote: If user query is already present for given input question then return with message 'Correct Query' strictly  \", additional_kwargs={}, response_metadata={}), HumanMessage(content='{\\'messages\\': [AIMessage(content=\\'What is the total sales amount per country?\\', additional_kwargs={}, response_metadata={}, id=\\'\\', tools_calls=[{\\'name\\': \\'db_list_tables_tool\\', \\'args\\': {}, \\'id\\': \\'\\'}]), ToolMessage(content=\\'Album, Artist, Customer, Employee, Genre, Invoice, InvoiceLine, MediaType, Playlist, PlaylistTrack, Track\\', id=\\'9c0787fb-60cb-4fe1-bfe1-4cd01283ff6f\\', tool_call_id=\\'\\'), ToolMessage(content=\\'\\\\nCREATE TABLE \"Album\" (\\\\n\\\\t\"AlbumId\" INTEGER NOT NULL, \\\\n\\\\t\"Title\" NVARCHAR(160) NOT NULL, \\\\n\\\\t\"ArtistId\" INTEGER NOT NULL, \\\\n\\\\tPRIMARY KEY (\"AlbumId\"), \\\\n\\\\tFOREIGN KEY(\"ArtistId\") REFERENCES \"Artist\" (\"ArtistId\")\\\\n)\\\\n\\\\n/*\\\\n3 rows from Album table:\\\\nAlbumId\\\\tTitle\\\\tArtistId\\\\n1\\\\tFor Those About To Rock We Salute You\\\\t1\\\\n2\\\\tBalls to the Wall\\\\t2\\\\n3\\\\tRestless and Wild\\\\t2\\\\n*/\\\\n\\\\n\\\\nCREATE TABLE \"Artist\" (\\\\n\\\\t\"ArtistId\" INTEGER NOT NULL, \\\\n\\\\t\"Name\" NVARCHAR(120), \\\\n\\\\tPRIMARY KEY (\"ArtistId\")\\\\n)\\\\n\\\\n/*\\\\n3 rows from Artist table:\\\\nArtistId\\\\tName\\\\n1\\\\tAC/DC\\\\n2\\\\tAccept\\\\n3\\\\tAerosmith\\\\n*/\\\\n\\\\n\\\\nCREATE TABLE \"Customer\" (\\\\n\\\\t\"CustomerId\" INTEGER NOT NULL, \\\\n\\\\t\"FirstName\" NVARCHAR(40) NOT NULL, \\\\n\\\\t\"LastName\" NVARCHAR(20) NOT NULL, \\\\n\\\\t\"Company\" NVARCHAR(80), \\\\n\\\\t\"Address\" NVARCHAR(70), \\\\n\\\\t\"City\" NVARCHAR(40), \\\\n\\\\t\"State\" NVARCHAR(40), \\\\n\\\\t\"Country\" NVARCHAR(40), \\\\n\\\\t\"PostalCode\" NVARCHAR(10), \\\\n\\\\t\"Phone\" NVARCHAR(24), \\\\n\\\\t\"Fax\" NVARCHAR(24), \\\\n\\\\t\"Email\" NVARCHAR(60) NOT NULL, \\\\n\\\\t\"SupportRepId\" INTEGER, \\\\n\\\\tPRIMARY KEY (\"CustomerId\"), \\\\n\\\\tFOREIGN KEY(\"SupportRepId\") REFERENCES \"Employee\" (\"EmployeeId\")\\\\n)\\\\n\\\\n/*\\\\n3 rows from Customer table:\\\\nCustomerId\\\\tFirstName\\\\tLastName\\\\tCompany\\\\tAddress\\\\tCity\\\\tState\\\\tCountry\\\\tPostalCode\\\\tPhone\\\\tFax\\\\tEmail\\\\tSupportRepId\\\\n1\\\\tLuís\\\\tGonçalves\\\\tEmbraer - Empresa Brasileira de Aeronáutica S.A.\\\\tAv. Brigadeiro Faria Lima, 2170\\\\tSão José dos Campos\\\\tSP\\\\tBrazil\\\\t12227-000\\\\t+55 (12) 3923-5555\\\\t+55 (12) 3923-5566\\\\tluisg@embraer.com.br\\\\t3\\\\n2\\\\tLeonie\\\\tKöhler\\\\tNone\\\\tTheodor-Heuss-Straße 34\\\\tStuttgart\\\\tNone\\\\tGermany\\\\t70174\\\\t+49 0711 2842222\\\\tNone\\\\tleonekohler@surfeu.de\\\\t5\\\\n3\\\\tFrançois\\\\tTremblay\\\\tNone\\\\t1498 rue Bélanger\\\\tMontréal\\\\tQC\\\\tCanada\\\\tH2G 1A7\\\\t+1 (514) 721-4711\\\\tNone\\\\tftremblay@gmail.com\\\\t3\\\\n*/\\\\n\\\\n\\\\nCREATE TABLE \"Employee\" (\\\\n\\\\t\"EmployeeId\" INTEGER NOT NULL, \\\\n\\\\t\"LastName\" NVARCHAR(20) NOT NULL, \\\\n\\\\t\"FirstName\" NVARCHAR(20) NOT NULL, \\\\n\\\\t\"Title\" NVARCHAR(30), \\\\n\\\\t\"ReportsTo\" INTEGER, \\\\n\\\\t\"BirthDate\" DATETIME, \\\\n\\\\t\"HireDate\" DATETIME, \\\\n\\\\t\"Address\" NVARCHAR(70), \\\\n\\\\t\"City\" NVARCHAR(40), \\\\n\\\\t\"State\" NVARCHAR(40), \\\\n\\\\t\"Country\" NVARCHAR(40), \\\\n\\\\t\"PostalCode\" NVARCHAR(10), \\\\n\\\\t\"Phone\" NVARCHAR(24), \\\\n\\\\t\"Fax\" NVARCHAR(24), \\\\n\\\\t\"Email\" NVARCHAR(60), \\\\n\\\\tPRIMARY KEY (\"EmployeeId\"), \\\\n\\\\tFOREIGN KEY(\"ReportsTo\") REFERENCES \"Employee\" (\"EmployeeId\")\\\\n)\\\\n\\\\n/*\\\\n3 rows from Employee table:\\\\nEmployeeId\\\\tLastName\\\\tFirstName\\\\tTitle\\\\tReportsTo\\\\tBirthDate\\\\tHireDate\\\\tAddress\\\\tCity\\\\tState\\\\tCountry\\\\tPostalCode\\\\tPhone\\\\tFax\\\\tEmail\\\\n1\\\\tAdams\\\\tAndrew\\\\tGeneral Manager\\\\tNone\\\\t1962-02-18 00:00:00\\\\t2002-08-14 00:00:00\\\\t11120 Jasper Ave NW\\\\tEdmonton\\\\tAB\\\\tCanada\\\\tT5K 2N1\\\\t+1 (780) 428-9482\\\\t+1 (780) 428-3457\\\\tandrew@chinookcorp.com\\\\n2\\\\tEdwards\\\\tNancy\\\\tSales Manager\\\\t1\\\\t1958-12-08 00:00:00\\\\t2002-05-01 00:00:00\\\\t825 8 Ave SW\\\\tCalgary\\\\tAB\\\\tCanada\\\\tT2P 2T3\\\\t+1 (403) 262-3443\\\\t+1 (403) 262-3322\\\\tnancy@chinookcorp.com\\\\n3\\\\tPeacock\\\\tJane\\\\tSales Support Agent\\\\t2\\\\t1973-08-29 00:00:00\\\\t2002-04-01 00:00:00\\\\t1111 6 Ave SW\\\\tCalgary\\\\tAB\\\\tCanada\\\\tT2P 5M5\\\\t+1 (403) 262-3443\\\\t+1 (403) 262-6712\\\\tjane@chinookcorp.com\\\\n*/\\\\n\\\\n\\\\nCREATE TABLE \"Genre\" (\\\\n\\\\t\"GenreId\" INTEGER NOT NULL, \\\\n\\\\t\"Name\" NVARCHAR(120), \\\\n\\\\tPRIMARY KEY (\"GenreId\")\\\\n)\\\\n\\\\n/*\\\\n3 rows from Genre table:\\\\nGenreId\\\\tName\\\\n1\\\\tRock\\\\n2\\\\tJazz\\\\n3\\\\tMetal\\\\n*/\\\\n\\\\n\\\\nCREATE TABLE \"Invoice\" (\\\\n\\\\t\"InvoiceId\" INTEGER NOT NULL, \\\\n\\\\t\"CustomerId\" INTEGER NOT NULL, \\\\n\\\\t\"InvoiceDate\" DATETIME NOT NULL, \\\\n\\\\t\"BillingAddress\" NVARCHAR(70), \\\\n\\\\t\"BillingCity\" NVARCHAR(40), \\\\n\\\\t\"BillingState\" NVARCHAR(40), \\\\n\\\\t\"BillingCountry\" NVARCHAR(40), \\\\n\\\\t\"BillingPostalCode\" NVARCHAR(10), \\\\n\\\\t\"Total\" NUMERIC(10, 2) NOT NULL, \\\\n\\\\tPRIMARY KEY (\"InvoiceId\"), \\\\n\\\\tFOREIGN KEY(\"CustomerId\") REFERENCES \"Customer\" (\"CustomerId\")\\\\n)\\\\n\\\\n/*\\\\n3 rows from Invoice table:\\\\nInvoiceId\\\\tCustomerId\\\\tInvoiceDate\\\\tBillingAddress\\\\tBillingCity\\\\tBillingState\\\\tBillingCountry\\\\tBillingPostalCode\\\\tTotal\\\\n1\\\\t2\\\\t2009-01-01 00:00:00\\\\tTheodor-Heuss-Straße 34\\\\tStuttgart\\\\tNone\\\\tGermany\\\\t70174\\\\t1.98\\\\n2\\\\t4\\\\t2009-01-02 00:00:00\\\\tUllevålsveien 14\\\\tOslo\\\\tNone\\\\tNorway\\\\t0171\\\\t3.96\\\\n3\\\\t8\\\\t2009-01-03 00:00:00\\\\tGrétrystraat 63\\\\tBrussels\\\\tNone\\\\tBelgium\\\\t1000\\\\t5.94\\\\n*/\\\\n\\\\n\\\\nCREATE TABLE \"InvoiceLine\" (\\\\n\\\\t\"InvoiceLineId\" INTEGER NOT NULL, \\\\n\\\\t\"InvoiceId\" INTEGER NOT NULL, \\\\n\\\\t\"TrackId\" INTEGER NOT NULL, \\\\n\\\\t\"UnitPrice\" NUMERIC(10, 2) NOT NULL, \\\\n\\\\t\"Quantity\" INTEGER NOT NULL, \\\\n\\\\tPRIMARY KEY (\"InvoiceLineId\"), \\\\n\\\\tFOREIGN KEY(\"TrackId\") REFERENCES \"Track\" (\"TrackId\"), \\\\n\\\\tFOREIGN KEY(\"InvoiceId\") REFERENCES \"Invoice\" (\"InvoiceId\")\\\\n)\\\\n\\\\n/*\\\\n3 rows from InvoiceLine table:\\\\nInvoiceLineId\\\\tInvoiceId\\\\tTrackId\\\\tUnitPrice\\\\tQuantity\\\\n1\\\\t1\\\\t2\\\\t0.99\\\\t1\\\\n2\\\\t1\\\\t4\\\\t0.99\\\\t1\\\\n3\\\\t2\\\\t6\\\\t0.99\\\\t1\\\\n*/\\\\n\\\\n\\\\nCREATE TABLE \"MediaType\" (\\\\n\\\\t\"MediaTypeId\" INTEGER NOT NULL, \\\\n\\\\t\"Name\" NVARCHAR(120), \\\\n\\\\tPRIMARY KEY (\"MediaTypeId\")\\\\n)\\\\n\\\\n/*\\\\n3 rows from MediaType table:\\\\nMediaTypeId\\\\tName\\\\n1\\\\tMPEG audio file\\\\n2\\\\tProtected AAC audio file\\\\n3\\\\tProtected MPEG-4 video file\\\\n*/\\\\n\\\\n\\\\nCREATE TABLE \"Playlist\" (\\\\n\\\\t\"PlaylistId\" INTEGER NOT NULL, \\\\n\\\\t\"Name\" NVARCHAR(120), \\\\n\\\\tPRIMARY KEY (\"PlaylistId\")\\\\n)\\\\n\\\\n/*\\\\n3 rows from Playlist table:\\\\nPlaylistId\\\\tName\\\\n1\\\\tMusic\\\\n2\\\\tMovies\\\\n3\\\\tTV Shows\\\\n*/\\\\n\\\\n\\\\nCREATE TABLE \"PlaylistTrack\" (\\\\n\\\\t\"PlaylistId\" INTEGER NOT NULL, \\\\n\\\\t\"TrackId\" INTEGER NOT NULL, \\\\n\\\\tPRIMARY KEY (\"PlaylistId\", \"TrackId\"), \\\\n\\\\tFOREIGN KEY(\"TrackId\") REFERENCES \"Track\" (\"TrackId\"), \\\\n\\\\tFOREIGN KEY(\"PlaylistId\") REFERENCES \"Playlist\" (\"PlaylistId\")\\\\n)\\\\n\\\\n/*\\\\n3 rows from PlaylistTrack table:\\\\nPlaylistId\\\\tTrackId\\\\n1\\\\t3402\\\\n1\\\\t3389\\\\n1\\\\t3390\\\\n*/\\\\n\\\\n\\\\nCREATE TABLE \"Track\" (\\\\n\\\\t\"TrackId\" INTEGER NOT NULL, \\\\n\\\\t\"Name\" NVARCHAR(200) NOT NULL, \\\\n\\\\t\"AlbumId\" INTEGER, \\\\n\\\\t\"MediaTypeId\" INTEGER NOT NULL, \\\\n\\\\t\"GenreId\" INTEGER, \\\\n\\\\t\"Composer\" NVARCHAR(220), \\\\n\\\\t\"Milliseconds\" INTEGER NOT NULL, \\\\n\\\\t\"Bytes\" INTEGER, \\\\n\\\\t\"UnitPrice\" NUMERIC(10, 2) NOT NULL, \\\\n\\\\tPRIMARY KEY (\"TrackId\"), \\\\n\\\\tFOREIGN KEY(\"MediaTypeId\") REFERENCES \"MediaType\" (\"MediaTypeId\"), \\\\n\\\\tFOREIGN KEY(\"GenreId\") REFERENCES \"Genre\" (\"GenreId\"), \\\\n\\\\tFOREIGN KEY(\"AlbumId\") REFERENCES \"Album\" (\"AlbumId\")\\\\n)\\\\n\\\\n/*\\\\n3 rows from Track table:\\\\nTrackId\\\\tName\\\\tAlbumId\\\\tMediaTypeId\\\\tGenreId\\\\tComposer\\\\tMilliseconds\\\\tBytes\\\\tUnitPrice\\\\n1\\\\tFor Those About To Rock (We Salute You)\\\\t1\\\\t1\\\\t1\\\\tAngus Young, Malcolm Young, Brian Johnson\\\\t343719\\\\t11170334\\\\t0.99\\\\n2\\\\tBalls to the Wall\\\\t2\\\\t2\\\\t1\\\\tNone\\\\t342562\\\\t5510424\\\\t0.99\\\\n3\\\\tFast As a Shark\\\\t3\\\\t2\\\\t1\\\\tF. Baltes, S. Kaufman, U. Dirkscneider & W. Hoffman\\\\t230619\\\\t3990994\\\\t0.99\\\\n*/\\', id=\\'87a3d51d-2a15-4bdf-8f49-55afb50740af\\', tool_call_id=\\'\\')], \\'id\\': \\'\\'}', additional_kwargs={}, response_metadata={})]\n",
            "\n",
            "\n",
            "\n",
            "\n",
            "--- sql_generation llm output---\n",
            " ```sqlite\n",
            "SELECT\n",
            "  BillingCountry,\n",
            "  SUM(Total) AS TotalSales\n",
            "FROM Invoice\n",
            "GROUP BY\n",
            "  BillingCountry\n",
            "ORDER BY\n",
            "  TotalSales DESC;\n",
            "```\n",
            "\n",
            "\n",
            "\n",
            "\n",
            "----conditional---------- ```sqlite\n",
            "select\n",
            "  billingcountry,\n",
            "  sum(total) as totalsales\n",
            "from invoice\n",
            "group by\n",
            "  billingcountry\n",
            "order by\n",
            "  totalsales desc;\n",
            "```\n",
            "\n",
            "\n",
            "\n",
            "\n",
            "--- query_correction ---\n",
            "\n",
            "query_correction llm response \n",
            "\n",
            "\n",
            "\n",
            "\n",
            "--- sql_generation ---\n",
            "\n",
            "----------input--------- [SystemMessage(content=\"You are a SQL expert with a strong attention to detail.\\n\\nGiven an input question, output a syntactically correct SQLite query to run, then look at the results of the query and return the answer.\\n\\nWhen generating the query:\\n\\nOutput the SQL query that answers the input question without a tool call.\\n\\nUnless the user specifies a specific number of examples they wish to obtain, always limit your query to at most 5 results.\\nYou can order the results by a relevant column to return the most interesting examples in the database.\\nNever query for all the columns from a specific table, only ask for the relevant columns given the question.\\n\\nIf you get an error while executing a query, rewrite the query and try again.\\n\\nIf you get an empty result set, you should try to rewrite the query to get a non-empty result set.\\nNEVER make stuff up if you don't have enough information to answer the query... just say you don't have enough information.\\n\\nIf you have enough information to answer the input question, simply invoke the appropriate tool to submit the final answer to the user.\\n\\nDO NOT make any DML statements (INSERT, UPDATE, DELETE, DROP etc.) to the database.\\n\\n\\nNote: If user query is already present for given input question then return with message 'Correct Query' strictly  \", additional_kwargs={}, response_metadata={}), HumanMessage(content='{\\'messages\\': [AIMessage(content=\\'What is the total sales amount per country?\\', additional_kwargs={}, response_metadata={}, id=\\'\\', tools_calls=[{\\'name\\': \\'db_list_tables_tool\\', \\'args\\': {}, \\'id\\': \\'\\'}]), ToolMessage(content=\\'Album, Artist, Customer, Employee, Genre, Invoice, InvoiceLine, MediaType, Playlist, PlaylistTrack, Track\\', id=\\'9c0787fb-60cb-4fe1-bfe1-4cd01283ff6f\\', tool_call_id=\\'\\'), ToolMessage(content=\\'\\\\nCREATE TABLE \"Album\" (\\\\n\\\\t\"AlbumId\" INTEGER NOT NULL, \\\\n\\\\t\"Title\" NVARCHAR(160) NOT NULL, \\\\n\\\\t\"ArtistId\" INTEGER NOT NULL, \\\\n\\\\tPRIMARY KEY (\"AlbumId\"), \\\\n\\\\tFOREIGN KEY(\"ArtistId\") REFERENCES \"Artist\" (\"ArtistId\")\\\\n)\\\\n\\\\n/*\\\\n3 rows from Album table:\\\\nAlbumId\\\\tTitle\\\\tArtistId\\\\n1\\\\tFor Those About To Rock We Salute You\\\\t1\\\\n2\\\\tBalls to the Wall\\\\t2\\\\n3\\\\tRestless and Wild\\\\t2\\\\n*/\\\\n\\\\n\\\\nCREATE TABLE \"Artist\" (\\\\n\\\\t\"ArtistId\" INTEGER NOT NULL, \\\\n\\\\t\"Name\" NVARCHAR(120), \\\\n\\\\tPRIMARY KEY (\"ArtistId\")\\\\n)\\\\n\\\\n/*\\\\n3 rows from Artist table:\\\\nArtistId\\\\tName\\\\n1\\\\tAC/DC\\\\n2\\\\tAccept\\\\n3\\\\tAerosmith\\\\n*/\\\\n\\\\n\\\\nCREATE TABLE \"Customer\" (\\\\n\\\\t\"CustomerId\" INTEGER NOT NULL, \\\\n\\\\t\"FirstName\" NVARCHAR(40) NOT NULL, \\\\n\\\\t\"LastName\" NVARCHAR(20) NOT NULL, \\\\n\\\\t\"Company\" NVARCHAR(80), \\\\n\\\\t\"Address\" NVARCHAR(70), \\\\n\\\\t\"City\" NVARCHAR(40), \\\\n\\\\t\"State\" NVARCHAR(40), \\\\n\\\\t\"Country\" NVARCHAR(40), \\\\n\\\\t\"PostalCode\" NVARCHAR(10), \\\\n\\\\t\"Phone\" NVARCHAR(24), \\\\n\\\\t\"Fax\" NVARCHAR(24), \\\\n\\\\t\"Email\" NVARCHAR(60) NOT NULL, \\\\n\\\\t\"SupportRepId\" INTEGER, \\\\n\\\\tPRIMARY KEY (\"CustomerId\"), \\\\n\\\\tFOREIGN KEY(\"SupportRepId\") REFERENCES \"Employee\" (\"EmployeeId\")\\\\n)\\\\n\\\\n/*\\\\n3 rows from Customer table:\\\\nCustomerId\\\\tFirstName\\\\tLastName\\\\tCompany\\\\tAddress\\\\tCity\\\\tState\\\\tCountry\\\\tPostalCode\\\\tPhone\\\\tFax\\\\tEmail\\\\tSupportRepId\\\\n1\\\\tLuís\\\\tGonçalves\\\\tEmbraer - Empresa Brasileira de Aeronáutica S.A.\\\\tAv. Brigadeiro Faria Lima, 2170\\\\tSão José dos Campos\\\\tSP\\\\tBrazil\\\\t12227-000\\\\t+55 (12) 3923-5555\\\\t+55 (12) 3923-5566\\\\tluisg@embraer.com.br\\\\t3\\\\n2\\\\tLeonie\\\\tKöhler\\\\tNone\\\\tTheodor-Heuss-Straße 34\\\\tStuttgart\\\\tNone\\\\tGermany\\\\t70174\\\\t+49 0711 2842222\\\\tNone\\\\tleonekohler@surfeu.de\\\\t5\\\\n3\\\\tFrançois\\\\tTremblay\\\\tNone\\\\t1498 rue Bélanger\\\\tMontréal\\\\tQC\\\\tCanada\\\\tH2G 1A7\\\\t+1 (514) 721-4711\\\\tNone\\\\tftremblay@gmail.com\\\\t3\\\\n*/\\\\n\\\\n\\\\nCREATE TABLE \"Employee\" (\\\\n\\\\t\"EmployeeId\" INTEGER NOT NULL, \\\\n\\\\t\"LastName\" NVARCHAR(20) NOT NULL, \\\\n\\\\t\"FirstName\" NVARCHAR(20) NOT NULL, \\\\n\\\\t\"Title\" NVARCHAR(30), \\\\n\\\\t\"ReportsTo\" INTEGER, \\\\n\\\\t\"BirthDate\" DATETIME, \\\\n\\\\t\"HireDate\" DATETIME, \\\\n\\\\t\"Address\" NVARCHAR(70), \\\\n\\\\t\"City\" NVARCHAR(40), \\\\n\\\\t\"State\" NVARCHAR(40), \\\\n\\\\t\"Country\" NVARCHAR(40), \\\\n\\\\t\"PostalCode\" NVARCHAR(10), \\\\n\\\\t\"Phone\" NVARCHAR(24), \\\\n\\\\t\"Fax\" NVARCHAR(24), \\\\n\\\\t\"Email\" NVARCHAR(60), \\\\n\\\\tPRIMARY KEY (\"EmployeeId\"), \\\\n\\\\tFOREIGN KEY(\"ReportsTo\") REFERENCES \"Employee\" (\"EmployeeId\")\\\\n)\\\\n\\\\n/*\\\\n3 rows from Employee table:\\\\nEmployeeId\\\\tLastName\\\\tFirstName\\\\tTitle\\\\tReportsTo\\\\tBirthDate\\\\tHireDate\\\\tAddress\\\\tCity\\\\tState\\\\tCountry\\\\tPostalCode\\\\tPhone\\\\tFax\\\\tEmail\\\\n1\\\\tAdams\\\\tAndrew\\\\tGeneral Manager\\\\tNone\\\\t1962-02-18 00:00:00\\\\t2002-08-14 00:00:00\\\\t11120 Jasper Ave NW\\\\tEdmonton\\\\tAB\\\\tCanada\\\\tT5K 2N1\\\\t+1 (780) 428-9482\\\\t+1 (780) 428-3457\\\\tandrew@chinookcorp.com\\\\n2\\\\tEdwards\\\\tNancy\\\\tSales Manager\\\\t1\\\\t1958-12-08 00:00:00\\\\t2002-05-01 00:00:00\\\\t825 8 Ave SW\\\\tCalgary\\\\tAB\\\\tCanada\\\\tT2P 2T3\\\\t+1 (403) 262-3443\\\\t+1 (403) 262-3322\\\\tnancy@chinookcorp.com\\\\n3\\\\tPeacock\\\\tJane\\\\tSales Support Agent\\\\t2\\\\t1973-08-29 00:00:00\\\\t2002-04-01 00:00:00\\\\t1111 6 Ave SW\\\\tCalgary\\\\tAB\\\\tCanada\\\\tT2P 5M5\\\\t+1 (403) 262-3443\\\\t+1 (403) 262-6712\\\\tjane@chinookcorp.com\\\\n*/\\\\n\\\\n\\\\nCREATE TABLE \"Genre\" (\\\\n\\\\t\"GenreId\" INTEGER NOT NULL, \\\\n\\\\t\"Name\" NVARCHAR(120), \\\\n\\\\tPRIMARY KEY (\"GenreId\")\\\\n)\\\\n\\\\n/*\\\\n3 rows from Genre table:\\\\nGenreId\\\\tName\\\\n1\\\\tRock\\\\n2\\\\tJazz\\\\n3\\\\tMetal\\\\n*/\\\\n\\\\n\\\\nCREATE TABLE \"Invoice\" (\\\\n\\\\t\"InvoiceId\" INTEGER NOT NULL, \\\\n\\\\t\"CustomerId\" INTEGER NOT NULL, \\\\n\\\\t\"InvoiceDate\" DATETIME NOT NULL, \\\\n\\\\t\"BillingAddress\" NVARCHAR(70), \\\\n\\\\t\"BillingCity\" NVARCHAR(40), \\\\n\\\\t\"BillingState\" NVARCHAR(40), \\\\n\\\\t\"BillingCountry\" NVARCHAR(40), \\\\n\\\\t\"BillingPostalCode\" NVARCHAR(10), \\\\n\\\\t\"Total\" NUMERIC(10, 2) NOT NULL, \\\\n\\\\tPRIMARY KEY (\"InvoiceId\"), \\\\n\\\\tFOREIGN KEY(\"CustomerId\") REFERENCES \"Customer\" (\"CustomerId\")\\\\n)\\\\n\\\\n/*\\\\n3 rows from Invoice table:\\\\nInvoiceId\\\\tCustomerId\\\\tInvoiceDate\\\\tBillingAddress\\\\tBillingCity\\\\tBillingState\\\\tBillingCountry\\\\tBillingPostalCode\\\\tTotal\\\\n1\\\\t2\\\\t2009-01-01 00:00:00\\\\tTheodor-Heuss-Straße 34\\\\tStuttgart\\\\tNone\\\\tGermany\\\\t70174\\\\t1.98\\\\n2\\\\t4\\\\t2009-01-02 00:00:00\\\\tUllevålsveien 14\\\\tOslo\\\\tNone\\\\tNorway\\\\t0171\\\\t3.96\\\\n3\\\\t8\\\\t2009-01-03 00:00:00\\\\tGrétrystraat 63\\\\tBrussels\\\\tNone\\\\tBelgium\\\\t1000\\\\t5.94\\\\n*/\\\\n\\\\n\\\\nCREATE TABLE \"InvoiceLine\" (\\\\n\\\\t\"InvoiceLineId\" INTEGER NOT NULL, \\\\n\\\\t\"InvoiceId\" INTEGER NOT NULL, \\\\n\\\\t\"TrackId\" INTEGER NOT NULL, \\\\n\\\\t\"UnitPrice\" NUMERIC(10, 2) NOT NULL, \\\\n\\\\t\"Quantity\" INTEGER NOT NULL, \\\\n\\\\tPRIMARY KEY (\"InvoiceLineId\"), \\\\n\\\\tFOREIGN KEY(\"TrackId\") REFERENCES \"Track\" (\"TrackId\"), \\\\n\\\\tFOREIGN KEY(\"InvoiceId\") REFERENCES \"Invoice\" (\"InvoiceId\")\\\\n)\\\\n\\\\n/*\\\\n3 rows from InvoiceLine table:\\\\nInvoiceLineId\\\\tInvoiceId\\\\tTrackId\\\\tUnitPrice\\\\tQuantity\\\\n1\\\\t1\\\\t2\\\\t0.99\\\\t1\\\\n2\\\\t1\\\\t4\\\\t0.99\\\\t1\\\\n3\\\\t2\\\\t6\\\\t0.99\\\\t1\\\\n*/\\\\n\\\\n\\\\nCREATE TABLE \"MediaType\" (\\\\n\\\\t\"MediaTypeId\" INTEGER NOT NULL, \\\\n\\\\t\"Name\" NVARCHAR(120), \\\\n\\\\tPRIMARY KEY (\"MediaTypeId\")\\\\n)\\\\n\\\\n/*\\\\n3 rows from MediaType table:\\\\nMediaTypeId\\\\tName\\\\n1\\\\tMPEG audio file\\\\n2\\\\tProtected AAC audio file\\\\n3\\\\tProtected MPEG-4 video file\\\\n*/\\\\n\\\\n\\\\nCREATE TABLE \"Playlist\" (\\\\n\\\\t\"PlaylistId\" INTEGER NOT NULL, \\\\n\\\\t\"Name\" NVARCHAR(120), \\\\n\\\\tPRIMARY KEY (\"PlaylistId\")\\\\n)\\\\n\\\\n/*\\\\n3 rows from Playlist table:\\\\nPlaylistId\\\\tName\\\\n1\\\\tMusic\\\\n2\\\\tMovies\\\\n3\\\\tTV Shows\\\\n*/\\\\n\\\\n\\\\nCREATE TABLE \"PlaylistTrack\" (\\\\n\\\\t\"PlaylistId\" INTEGER NOT NULL, \\\\n\\\\t\"TrackId\" INTEGER NOT NULL, \\\\n\\\\tPRIMARY KEY (\"PlaylistId\", \"TrackId\"), \\\\n\\\\tFOREIGN KEY(\"TrackId\") REFERENCES \"Track\" (\"TrackId\"), \\\\n\\\\tFOREIGN KEY(\"PlaylistId\") REFERENCES \"Playlist\" (\"PlaylistId\")\\\\n)\\\\n\\\\n/*\\\\n3 rows from PlaylistTrack table:\\\\nPlaylistId\\\\tTrackId\\\\n1\\\\t3402\\\\n1\\\\t3389\\\\n1\\\\t3390\\\\n*/\\\\n\\\\n\\\\nCREATE TABLE \"Track\" (\\\\n\\\\t\"TrackId\" INTEGER NOT NULL, \\\\n\\\\t\"Name\" NVARCHAR(200) NOT NULL, \\\\n\\\\t\"AlbumId\" INTEGER, \\\\n\\\\t\"MediaTypeId\" INTEGER NOT NULL, \\\\n\\\\t\"GenreId\" INTEGER, \\\\n\\\\t\"Composer\" NVARCHAR(220), \\\\n\\\\t\"Milliseconds\" INTEGER NOT NULL, \\\\n\\\\t\"Bytes\" INTEGER, \\\\n\\\\t\"UnitPrice\" NUMERIC(10, 2) NOT NULL, \\\\n\\\\tPRIMARY KEY (\"TrackId\"), \\\\n\\\\tFOREIGN KEY(\"MediaTypeId\") REFERENCES \"MediaType\" (\"MediaTypeId\"), \\\\n\\\\tFOREIGN KEY(\"GenreId\") REFERENCES \"Genre\" (\"GenreId\"), \\\\n\\\\tFOREIGN KEY(\"AlbumId\") REFERENCES \"Album\" (\"AlbumId\")\\\\n)\\\\n\\\\n/*\\\\n3 rows from Track table:\\\\nTrackId\\\\tName\\\\tAlbumId\\\\tMediaTypeId\\\\tGenreId\\\\tComposer\\\\tMilliseconds\\\\tBytes\\\\tUnitPrice\\\\n1\\\\tFor Those About To Rock (We Salute You)\\\\t1\\\\t1\\\\t1\\\\tAngus Young, Malcolm Young, Brian Johnson\\\\t343719\\\\t11170334\\\\t0.99\\\\n2\\\\tBalls to the Wall\\\\t2\\\\t2\\\\t1\\\\tNone\\\\t342562\\\\t5510424\\\\t0.99\\\\n3\\\\tFast As a Shark\\\\t3\\\\t2\\\\t1\\\\tF. Baltes, S. Kaufman, U. Dirkscneider & W. Hoffman\\\\t230619\\\\t3990994\\\\t0.99\\\\n*/\\', id=\\'87a3d51d-2a15-4bdf-8f49-55afb50740af\\', tool_call_id=\\'\\'), HumanMessage(content=\\'```sqlite\\\\nSELECT\\\\n  BillingCountry,\\\\n  SUM(Total) AS TotalSales\\\\nFROM Invoice\\\\nGROUP BY\\\\n  BillingCountry\\\\nORDER BY\\\\n  TotalSales DESC;\\\\n```\\', additional_kwargs={}, response_metadata={}, id=\\'b211d354-08e4-43f1-9446-f4e654054496\\'), HumanMessage(content=\\'\\', additional_kwargs={}, response_metadata={}, id=\\'c7de327c-31a0-4d6e-b9ac-34e7e3ca8f82\\')], \\'id\\': \\'\\'}', additional_kwargs={}, response_metadata={})]\n",
            "\n",
            "\n",
            "\n",
            "\n",
            "--- sql_generation llm output---\n",
            " Correct Query\n",
            "\n",
            "\n",
            "\n",
            "\n",
            "----conditional---------- correct query\n",
            "****************  sqlite_call \n",
            "\n",
            "\n",
            "\n",
            "\n",
            "--- sqlite_call ---\n",
            "\n",
            "sqlite_call result:    \n",
            "SELECT\n",
            "  BillingCountry,\n",
            "  SUM(Total) AS TotalSales\n",
            "FROM Invoice\n",
            "GROUP BY\n",
            "  BillingCountry\n",
            "ORDER BY\n",
            "  TotalSales DESC;\n",
            "    --- done\n",
            "\n",
            "\n",
            "\n",
            "\n",
            "--- post_process ---\n",
            "\n",
            "                 0       1\n",
            "0              USA  523.06\n",
            "1           Canada  303.96\n",
            "2           France  195.10\n",
            "3           Brazil  190.10\n",
            "4          Germany  156.48\n",
            "5   United Kingdom  112.86\n",
            "6   Czech Republic   90.24\n",
            "7         Portugal   77.24\n",
            "8            India   75.26\n",
            "9            Chile   46.62\n",
            "10         Ireland   45.62\n",
            "11         Hungary   45.62\n",
            "12         Austria   42.62\n",
            "13         Finland   41.62\n",
            "14     Netherlands   40.62\n",
            "15          Norway   39.62\n",
            "16          Sweden   38.62\n",
            "17          Poland   37.62\n",
            "18           Italy   37.62\n",
            "19         Denmark   37.62\n",
            "20       Australia   37.62\n",
            "21       Argentina   37.62\n",
            "22           Spain   37.62\n",
            "23         Belgium   37.62\n"
          ]
        }
      ]
    },
    {
      "cell_type": "code",
      "source": [
        "from IPython.display import Image, display\n",
        "png_data = graph.draw_mermaid_png()\n",
        "\n",
        "display(Image(data=png_data))\n"
      ],
      "metadata": {
        "id": "sUSAjJUBqIEO",
        "colab": {
          "base_uri": "https://localhost:8080/",
          "height": 746
        },
        "outputId": "c427b3b0-f045-4787-b8e1-db41d746eaee"
      },
      "execution_count": null,
      "outputs": [
        {
          "output_type": "display_data",
          "data": {
            "image/png": "[encoded data removed]",
            "text/plain": [
              "<IPython.core.display.Image object>"
            ]
          },
          "metadata": {}
        }
      ]
    },
    {
      "cell_type": "markdown",
      "source": [
        "# Agentic Rag"
      ],
      "metadata": {
        "id": "25ZU0Sxgbew6"
      }
    },
    {
      "cell_type": "code",
      "source": [
        "# run pip sectio whcih is in top section of this notebook\n",
        "\n",
        "# lamgchain is high level dir while langchain_core is low level dir\n",
        "import os\n",
        "from datetime import datetime\n",
        "from typing import TypedDict, List\n",
        "from langgraph.graph import StateGraph, END\n",
        "from langchain_google_genai import GoogleGenerativeAIEmbeddings\n",
        "\n",
        "from langchain_community.vectorstores import FAISS\n",
        "from langchain.text_splitter import RecursiveCharacterTextSplitter\n",
        "from langchain_core.documents import Document"
      ],
      "metadata": {
        "id": "09_0hfmJbqo7"
      },
      "execution_count": null,
      "outputs": []
    },
    {
      "cell_type": "code",
      "source": [
        "os.environ[\"GOOGLE_API_KEY\"]=gemini_api\n",
        "llm = ChatGoogleGenerativeAI(model=\"gemini-2.5-flash\")\n",
        "response = llm.invoke([HumanMessage(content=\"who is sai pallavi\")])\n",
        "print(response.content)\n"
      ],
      "metadata": {
        "colab": {
          "base_uri": "https://localhost:8080/"
        },
        "id": "OvHufju2bqsW",
        "outputId": "65837679-05b0-493d-b7dc-dbdc4e77eacd"
      },
      "execution_count": null,
      "outputs": [
        {
          "output_type": "stream",
          "name": "stdout",
          "text": [
            "**Sai Pallavi** is a highly acclaimed Indian actress who primarily works in **Malayalam, Telugu, and Tamil cinema**. She is widely regarded for her naturalistic acting style, expressive performances, and exceptional dancing skills.\n",
            "\n",
            "Here are some key facts about her:\n",
            "\n",
            "1.  **Breakthrough Role:** She rose to prominence with her role as **Malar** in the 2015 Malayalam film **\"Premam,\"** which was a massive commercial and critical success. Her performance in the film garnered widespread praise and instantly made her a household name.\n",
            "2.  **Acting Style & Appeal:** Sai Pallavi is celebrated for her raw, authentic, and expressive acting. She often portrays strong, relatable, and independent characters. A significant part of her appeal comes from her decision to not wear heavy makeup, embracing her natural skin and appearance, which has made her a role model for many.\n",
            "3.  **Educational Background:** Before entering films, Sai Pallavi pursued a career in medicine. She holds an **MBBS (Bachelor of Medicine, Bachelor of Surgery) degree** from the Tbilisi State Medical University in Georgia.\n",
            "4.  **Major Works:**\n",
            "    *   **Malayalam:** \"Premam,\" \"Kali\"\n",
            "    *   **Telugu:** \"Fidaa\" (her Telugu debut, which was a huge hit), \"MCA (Middle Class Abbayi),\" \"Love Story,\" \"Virata Parvam,\" \"Gargi\"\n",
            "    *   **Tamil:** \"Maari 2\" (where her dance in the song \"Rowdy Baby\" became a global sensation), \"Padi Padi Leche Manasu\"\n",
            "5.  **Dancing Prowess:** Besides her acting, she is an incredibly talented dancer. Her dance sequences, especially in songs like \"Rowdy Baby\" and \"Vachinde,\" have gone viral and showcased her dynamic energy.\n",
            "6.  **Awards:** She has won multiple Filmfare Awards and SIIMA Awards for her performances across different languages.\n",
            "\n",
            "Sai Pallavi is admired for her talent, her dedication to her craft, and her refreshing approach to stardom, making her one of the most respected and loved actresses in South Indian cinema today.\n"
          ]
        }
      ]
    },
    {
      "cell_type": "markdown",
      "source": [
        "## Rag configuration"
      ],
      "metadata": {
        "id": "qD405c3lo8Sv"
      }
    },
    {
      "cell_type": "code",
      "source": [
        "# callig google  gemini embedding model: # 1. Initialize the embedding model\n",
        "\n",
        "# \"models/gemini-embedding-001\": 3072 dim, also it support Matryoshka Representation Learning (MRL): 256 dim\n",
        "embeddings = GoogleGenerativeAIEmbeddings(model=\"models/gemini-embedding-001\")\n",
        "text=\"I am adarsh kumar Gupta\"\n",
        "len(embeddings.embed_query(text))"
      ],
      "metadata": {
        "colab": {
          "base_uri": "https://localhost:8080/"
        },
        "id": "Iqpki5w5gmNs",
        "outputId": "199d5bb0-3db1-4dfa-b129-010d238f3490"
      },
      "execution_count": null,
      "outputs": [
        {
          "output_type": "execute_result",
          "data": {
            "text/plain": [
              "3072"
            ]
          },
          "metadata": {},
          "execution_count": 12
        }
      ]
    },
    {
      "cell_type": "code",
      "source": [
        "data=[\"Adarsh :hi i am adarsh and i lives  in india. \",\n",
        "\"Friend and I used to live in banglore \",\n",
        "\"Work for a company with my seniors .\",\n",
        "\"Team is team is like nikil is my yeam lead, anita is reporting to nikhil and  nikhil reports to gautam\",\n",
        "\"Colligues : i have more firends like arun , aman , atul and jayesh i my team. \",\n",
        "\"LeanDigital : from other team i have friednds like akash abhi anvith. anvith is very jolly person supporting abhi too.\",\n",
        "\"Akash like doing body building\",\n",
        "\"Mantor : one of my frind more mentor is prithvi bhaiya, he always supports me and guide me on mistakes. \",\n",
        "\"Dileswar and other team leads also help me to learn a lot.\",\n",
        "\"Chandrika was good friend and a nice person.\"\n",
        "\"UAT : from testing team i have friends lime chandraika , vana and saisudha. sai sudha is also very jolly girl, \",\n",
        "\"SudhJi : she alsways smile even in pressure\",\n",
        "\"People call my team as ai-ml team. i am very happy to join this team under leadership of my team lead cum main boss mr.nikhil.\",\n",
        "\"Thank you saisudha for all the memorable moments \"]\n",
        "\n",
        "documents=[Document(page_content=data[text_id], metadata={\"base_text\":data[text_id],\"source\":data[text_id].split(\" \")[0], \"page_no\":text_id,\"last modifies data\":datetime.now()}) for text_id in range(len(data))]\n",
        "\n",
        "documents"
      ],
      "metadata": {
        "colab": {
          "base_uri": "https://localhost:8080/"
        },
        "id": "D5E19e2qkDh4",
        "outputId": "0f82dbc7-fab1-42c7-d6a6-1d0033329edb"
      },
      "execution_count": null,
      "outputs": [
        {
          "output_type": "execute_result",
          "data": {
            "text/plain": [
              "[Document(metadata={'base_text': 'Adarsh :hi i am adarsh and i lives  in india. ', 'source': 'Adarsh', 'page_no': 0, 'last modifies data': datetime.datetime(2025, 10, 21, 17, 19, 0, 279788)}, page_content='Adarsh :hi i am adarsh and i lives  in india. '),\n",
              " Document(metadata={'base_text': 'Friend and I used to live in banglore ', 'source': 'Friend', 'page_no': 1, 'last modifies data': datetime.datetime(2025, 10, 21, 17, 19, 0, 279832)}, page_content='Friend and I used to live in banglore '),\n",
              " Document(metadata={'base_text': 'Work for a company with my seniors .', 'source': 'Work', 'page_no': 2, 'last modifies data': datetime.datetime(2025, 10, 21, 17, 19, 0, 279841)}, page_content='Work for a company with my seniors .'),\n",
              " Document(metadata={'base_text': 'Team is team is like nikil is my yeam lead, anita is reporting to nikhil and  nikhil reports to gautam', 'source': 'Team', 'page_no': 3, 'last modifies data': datetime.datetime(2025, 10, 21, 17, 19, 0, 279847)}, page_content='Team is team is like nikil is my yeam lead, anita is reporting to nikhil and  nikhil reports to gautam'),\n",
              " Document(metadata={'base_text': 'Colligues : i have more firends like arun , aman , atul and jayesh i my team. ', 'source': 'Colligues', 'page_no': 4, 'last modifies data': datetime.datetime(2025, 10, 21, 17, 19, 0, 279852)}, page_content='Colligues : i have more firends like arun , aman , atul and jayesh i my team. '),\n",
              " Document(metadata={'base_text': 'LeanDigital : from other team i have friednds like akash abhi anvith. anvith is very jolly person supporting abhi too.', 'source': 'LeanDigital', 'page_no': 5, 'last modifies data': datetime.datetime(2025, 10, 21, 17, 19, 0, 279858)}, page_content='LeanDigital : from other team i have friednds like akash abhi anvith. anvith is very jolly person supporting abhi too.'),\n",
              " Document(metadata={'base_text': 'Akash like doing body building', 'source': 'Akash', 'page_no': 6, 'last modifies data': datetime.datetime(2025, 10, 21, 17, 19, 0, 279862)}, page_content='Akash like doing body building'),\n",
              " Document(metadata={'base_text': 'Mantor : one of my frind more mentor is prithvi bhaiya, he always supports me and guide me on mistakes. ', 'source': 'Mantor', 'page_no': 7, 'last modifies data': datetime.datetime(2025, 10, 21, 17, 19, 0, 279873)}, page_content='Mantor : one of my frind more mentor is prithvi bhaiya, he always supports me and guide me on mistakes. '),\n",
              " Document(metadata={'base_text': 'Dileswar and other team leads also help me to learn a lot.', 'source': 'Dileswar', 'page_no': 8, 'last modifies data': datetime.datetime(2025, 10, 21, 17, 19, 0, 279878)}, page_content='Dileswar and other team leads also help me to learn a lot.'),\n",
              " Document(metadata={'base_text': 'Chandrika was good friend and a nice person.UAT : from testing team i have friends lime chandraika , vana and saisudha. sai sudha is also very jolly girl, ', 'source': 'Chandrika', 'page_no': 9, 'last modifies data': datetime.datetime(2025, 10, 21, 17, 19, 0, 279884)}, page_content='Chandrika was good friend and a nice person.UAT : from testing team i have friends lime chandraika , vana and saisudha. sai sudha is also very jolly girl, '),\n",
              " Document(metadata={'base_text': 'SudhJi : she alsways smile even in pressure', 'source': 'SudhJi', 'page_no': 10, 'last modifies data': datetime.datetime(2025, 10, 21, 17, 19, 0, 279889)}, page_content='SudhJi : she alsways smile even in pressure'),\n",
              " Document(metadata={'base_text': 'People call my team as ai-ml team. i am very happy to join this team under leadership of my team lead cum main boss mr.nikhil.', 'source': 'People', 'page_no': 11, 'last modifies data': datetime.datetime(2025, 10, 21, 17, 19, 0, 279894)}, page_content='People call my team as ai-ml team. i am very happy to join this team under leadership of my team lead cum main boss mr.nikhil.'),\n",
              " Document(metadata={'base_text': 'Thank you saisudha for all the memorable moments ', 'source': 'Thank', 'page_no': 12, 'last modifies data': datetime.datetime(2025, 10, 21, 17, 19, 0, 279899)}, page_content='Thank you saisudha for all the memorable moments ')]"
            ]
          },
          "metadata": {},
          "execution_count": 13
        }
      ]
    },
    {
      "cell_type": "code",
      "source": [
        "##create vector store\n",
        "# faiss will be use for store vectors and retirval also using ANN: aprroximate nearest neighbour\n",
        "vectorstore = FAISS.from_documents(documents, embeddings)\n",
        "retriever = vectorstore.as_retriever(k=3)"
      ],
      "metadata": {
        "id": "8N7lt5sWcTBn"
      },
      "execution_count": null,
      "outputs": []
    },
    {
      "cell_type": "code",
      "source": [
        "# dense vector search\n",
        "retriever.invoke(\"does nikhil reports to gautam\")"
      ],
      "metadata": {
        "colab": {
          "base_uri": "https://localhost:8080/"
        },
        "id": "MXz6PhuCcTGv",
        "outputId": "097b07a1-20d7-4799-a3a9-34fa125473dd"
      },
      "execution_count": null,
      "outputs": [
        {
          "output_type": "execute_result",
          "data": {
            "text/plain": [
              "[Document(id='f6f2aa15-4db9-4c08-8ebd-6dceb7590c0c', metadata={'base_text': 'Team is team is like nikil is my yeam lead, anita is reporting to nikhil and  nikhil reports to gautam', 'source': 'Team', 'page_no': 3, 'last modifies data': datetime.datetime(2025, 10, 21, 17, 19, 0, 279847)}, page_content='Team is team is like nikil is my yeam lead, anita is reporting to nikhil and  nikhil reports to gautam'),\n",
              " Document(id='9fbb08d3-56a3-418e-b56c-de5abca2f3d7', metadata={'base_text': 'People call my team as ai-ml team. i am very happy to join this team under leadership of my team lead cum main boss mr.nikhil.', 'source': 'People', 'page_no': 11, 'last modifies data': datetime.datetime(2025, 10, 21, 17, 19, 0, 279894)}, page_content='People call my team as ai-ml team. i am very happy to join this team under leadership of my team lead cum main boss mr.nikhil.'),\n",
              " Document(id='42357abc-540d-4ef9-b3f1-19df1e762ead', metadata={'base_text': 'Colligues : i have more firends like arun , aman , atul and jayesh i my team. ', 'source': 'Colligues', 'page_no': 4, 'last modifies data': datetime.datetime(2025, 10, 21, 17, 19, 0, 279852)}, page_content='Colligues : i have more firends like arun , aman , atul and jayesh i my team. '),\n",
              " Document(id='1327316a-2a1c-448a-b52d-34de8845d026', metadata={'base_text': 'Work for a company with my seniors .', 'source': 'Work', 'page_no': 2, 'last modifies data': datetime.datetime(2025, 10, 21, 17, 19, 0, 279841)}, page_content='Work for a company with my seniors .')]"
            ]
          },
          "metadata": {},
          "execution_count": 15
        }
      ]
    },
    {
      "cell_type": "code",
      "source": [
        "# metadat based search\n",
        "retriever_metadata = vectorstore.as_retriever(\n",
        "    search_kwargs={\n",
        "        \"filter\": {\n",
        "            \"source\": \"Team\"\n",
        "\n",
        "        }\n",
        "    }\n",
        ") # for fuzzy use elastic-search with exact match and fuzzy match\n",
        "\n",
        "query = \"does nikhil reports to gautam\"\n",
        "results = retriever_metadata.invoke(query)\n",
        "results"
      ],
      "metadata": {
        "colab": {
          "base_uri": "https://localhost:8080/"
        },
        "id": "oMjXvd1EkDna",
        "outputId": "39a91e8d-7dca-492a-b55c-d7c3a0e1c367"
      },
      "execution_count": null,
      "outputs": [
        {
          "output_type": "execute_result",
          "data": {
            "text/plain": [
              "[Document(id='f6f2aa15-4db9-4c08-8ebd-6dceb7590c0c', metadata={'base_text': 'Team is team is like nikil is my yeam lead, anita is reporting to nikhil and  nikhil reports to gautam', 'source': 'Team', 'page_no': 3, 'last modifies data': datetime.datetime(2025, 10, 21, 17, 19, 0, 279847)}, page_content='Team is team is like nikil is my yeam lead, anita is reporting to nikhil and  nikhil reports to gautam')]"
            ]
          },
          "metadata": {},
          "execution_count": 16
        }
      ]
    },
    {
      "cell_type": "code",
      "source": [
        "# keyword based search: tfid or bm25: sparse vector\n",
        "\n",
        "# retriever_metadata = vectorstore.as_retriever(\n",
        "#     search_kwargs={\n",
        "#         \"filter\": {\n",
        "#             \"base_text\": \"Team\"\n",
        "\n",
        "#         }\n",
        "#     }\n",
        "# ) # for fuzzy use elastic\n",
        "\n",
        "# query = \"does nikhil reports to gautam\"\n",
        "# results = retriever_metadata.invoke(query)\n",
        "# results"
      ],
      "metadata": {
        "id": "GaXrKHjAkDlF"
      },
      "execution_count": null,
      "outputs": []
    },
    {
      "cell_type": "markdown",
      "source": [
        "## agetic rag build\n",
        "We practiced Agentic RAG- Dense Search over FAISS+ Keyword Search on metadata over FAISS\n",
        "In next project we will practice hybrid search over pincone using TF-ID/BM25 score"
      ],
      "metadata": {
        "id": "_Ab-YmbYwUM-"
      }
    },
    {
      "cell_type": "code",
      "source": [
        "class AgentState(TypedDict):\n",
        "    question: str\n",
        "    documents: List[Document]\n",
        "    answer: str\n",
        "    needs_retrieval: bool"
      ],
      "metadata": {
        "id": "IO46FrETcS_V"
      },
      "execution_count": null,
      "outputs": []
    },
    {
      "cell_type": "code",
      "source": [
        "def decide_retrieval(state: AgentState) -> AgentState:\n",
        "    \"\"\"\n",
        "    Decide if we need to retrieve documents based on the question\n",
        "    \"\"\"\n",
        "    question = state[\"question\"]\n",
        "\n",
        "    # Simple heuristic: if question contains certain keywords, retrieve\n",
        "    retrieval_keywords = [\"what\", \"how\", \"explain\", \"describe\", \"tell me\",\"does\"]\n",
        "    needs_retrieval = any(keyword in question.lower() for keyword in retrieval_keywords)\n",
        "\n",
        "    return {**state, \"needs_retrieval\": needs_retrieval}"
      ],
      "metadata": {
        "id": "Zi1HaVTBoXs7"
      },
      "execution_count": null,
      "outputs": []
    },
    {
      "cell_type": "code",
      "source": [
        "def retrieve_documents(state: AgentState) -> AgentState:\n",
        "    \"\"\"\n",
        "    Retrieve relevant documents based on the question\n",
        "    \"\"\"\n",
        "    question = state[\"question\"]\n",
        "    documents = retriever.invoke(question)\n",
        "\n",
        "    return {**state, \"documents\": documents}"
      ],
      "metadata": {
        "id": "GYwMp-X8kDqE"
      },
      "execution_count": null,
      "outputs": []
    },
    {
      "cell_type": "code",
      "source": [
        "def generate_answer(state: AgentState) -> AgentState:\n",
        "    \"\"\"\n",
        "    Generate an answer using the retrieved documents or direct response\n",
        "    \"\"\"\n",
        "    question = state[\"question\"]\n",
        "    documents = state.get(\"documents\", [])\n",
        "\n",
        "    if documents:\n",
        "        # RAG approach: use documents as context\n",
        "        context = \"\\n\\n\".join([doc.page_content for doc in documents])\n",
        "        prompt = f\"\"\"Based on the following context, answer the question:\n",
        "                Context:\n",
        "                {context}\n",
        "\n",
        "                Question: {question}\n",
        "\n",
        "                Answer:\"\"\"\n",
        "    else:\n",
        "        # Direct response without retrieval\n",
        "        prompt = f\"Answer the following question: {question}\"\n",
        "\n",
        "    response = llm.invoke(prompt)\n",
        "    answer = response.content\n",
        "\n",
        "    return {**state, \"answer\": answer}"
      ],
      "metadata": {
        "id": "oAP1GjBEkDsf"
      },
      "execution_count": null,
      "outputs": []
    },
    {
      "cell_type": "code",
      "source": [
        "def should_retrieve(state: AgentState) -> str:\n",
        "    \"\"\"\n",
        "    Determine the next step based on retrieval decision\n",
        "    \"\"\"\n",
        "    if state[\"needs_retrieval\"]:\n",
        "        return \"retrieve\"\n",
        "    else:\n",
        "        return \"generate\""
      ],
      "metadata": {
        "id": "roOYM0YckDv6"
      },
      "execution_count": null,
      "outputs": []
    },
    {
      "cell_type": "code",
      "source": [
        "# Create the state graph\n",
        "workflow = StateGraph(AgentState)\n",
        "\n",
        "# Add nodes\n",
        "workflow.add_node(\"decide\", decide_retrieval)\n",
        "workflow.add_node(\"retrieve\", retrieve_documents)\n",
        "workflow.add_node(\"generate\", generate_answer)\n",
        "\n",
        "# Set entry point\n",
        "workflow.set_entry_point(\"decide\")\n",
        "\n",
        "# Add conditional edges\n",
        "workflow.add_conditional_edges(\n",
        "    \"decide\",\n",
        "    should_retrieve,\n",
        "    {\n",
        "        \"retrieve\": \"retrieve\",\n",
        "        \"generate\": \"generate\"\n",
        "    }\n",
        ")\n",
        "\n",
        "# Add edges\n",
        "workflow.add_edge(\"retrieve\", \"generate\")\n",
        "workflow.add_edge(\"generate\", END)\n",
        "\n",
        "# Compile the graph\n",
        "app = workflow.compile()\n",
        "app"
      ],
      "metadata": {
        "colab": {
          "base_uri": "https://localhost:8080/",
          "height": 449
        },
        "id": "5v_cQJYIwt1K",
        "outputId": "f0787da8-a590-4f57-e1b7-7398b6211a7c"
      },
      "execution_count": null,
      "outputs": [
        {
          "output_type": "execute_result",
          "data": {
            "text/plain": [
              "<langgraph.graph.state.CompiledStateGraph object at 0x7e6cb4dbdbe0>"
            ],
            "image/png": "[encoded data removed]"
          },
          "metadata": {},
          "execution_count": 23
        }
      ]
    },
    {
      "cell_type": "code",
      "source": [
        "def ask_question(question: str):\n",
        "    \"\"\"\n",
        "    Helper function to ask a question and get an answer\n",
        "    \"\"\"\n",
        "    initial_state = {\n",
        "        \"question\": question,\n",
        "        \"documents\": [],\n",
        "        \"answer\": \"\",\n",
        "        \"needs_retrieval\": False\n",
        "    }\n",
        "\n",
        "    result = app.invoke(initial_state)\n",
        "    return result"
      ],
      "metadata": {
        "id": "2rdRmU5Mwt3x"
      },
      "execution_count": null,
      "outputs": []
    },
    {
      "cell_type": "code",
      "source": [
        "# Test with a question that should trigger retrieval\n",
        "question1 = \"does nikhil reports to gautam\"\n",
        "result1 = ask_question(question1)\n",
        "result1"
      ],
      "metadata": {
        "colab": {
          "base_uri": "https://localhost:8080/"
        },
        "id": "dITyssW-wt5o",
        "outputId": "25d2d134-3066-4be4-dc26-126df4617742"
      },
      "execution_count": null,
      "outputs": [
        {
          "output_type": "execute_result",
          "data": {
            "text/plain": [
              "{'question': 'does nikhil reports to gautam',\n",
              " 'documents': [Document(id='f6f2aa15-4db9-4c08-8ebd-6dceb7590c0c', metadata={'base_text': 'Team is team is like nikil is my yeam lead, anita is reporting to nikhil and  nikhil reports to gautam', 'source': 'Team', 'page_no': 3, 'last modifies data': datetime.datetime(2025, 10, 21, 17, 19, 0, 279847)}, page_content='Team is team is like nikil is my yeam lead, anita is reporting to nikhil and  nikhil reports to gautam'),\n",
              "  Document(id='9fbb08d3-56a3-418e-b56c-de5abca2f3d7', metadata={'base_text': 'People call my team as ai-ml team. i am very happy to join this team under leadership of my team lead cum main boss mr.nikhil.', 'source': 'People', 'page_no': 11, 'last modifies data': datetime.datetime(2025, 10, 21, 17, 19, 0, 279894)}, page_content='People call my team as ai-ml team. i am very happy to join this team under leadership of my team lead cum main boss mr.nikhil.'),\n",
              "  Document(id='42357abc-540d-4ef9-b3f1-19df1e762ead', metadata={'base_text': 'Colligues : i have more firends like arun , aman , atul and jayesh i my team. ', 'source': 'Colligues', 'page_no': 4, 'last modifies data': datetime.datetime(2025, 10, 21, 17, 19, 0, 279852)}, page_content='Colligues : i have more firends like arun , aman , atul and jayesh i my team. '),\n",
              "  Document(id='1327316a-2a1c-448a-b52d-34de8845d026', metadata={'base_text': 'Work for a company with my seniors .', 'source': 'Work', 'page_no': 2, 'last modifies data': datetime.datetime(2025, 10, 21, 17, 19, 0, 279841)}, page_content='Work for a company with my seniors .')],\n",
              " 'answer': 'Yes',\n",
              " 'needs_retrieval': True}"
            ]
          },
          "metadata": {},
          "execution_count": 25
        }
      ]
    },
    {
      "cell_type": "code",
      "source": [
        "# enhamcement suggestion:\n",
        "# 1- use hubrid search over pine cone"
      ],
      "metadata": {
        "id": "jnDy5w0Zwt82"
      },
      "execution_count": null,
      "outputs": []
    },
    {
      "cell_type": "markdown",
      "source": [
        "## hybrid search"
      ],
      "metadata": {
        "id": "VHkirFyX0_hb"
      }
    },
    {
      "cell_type": "code",
      "source": [
        "!  pip install rank_bm25\n",
        "from langchain.retrievers.ensemble import EnsembleRetriever\n",
        "from langchain_community.retrievers import BM25Retriever"
      ],
      "metadata": {
        "colab": {
          "base_uri": "https://localhost:8080/"
        },
        "id": "6UiVf4Dx1OFp",
        "outputId": "4077ded8-9453-47bf-90dc-e5ffbbfce0bb"
      },
      "execution_count": null,
      "outputs": [
        {
          "output_type": "stream",
          "name": "stdout",
          "text": [
            "Collecting rank_bm25\n",
            "  Downloading rank_bm25-0.2.2-py3-none-any.whl.metadata (3.2 kB)\n",
            "Requirement already satisfied: numpy in /usr/local/lib/python3.12/dist-packages (from rank_bm25) (2.0.2)\n",
            "Downloading rank_bm25-0.2.2-py3-none-any.whl (8.6 kB)\n",
            "Installing collected packages: rank_bm25\n",
            "Successfully installed rank_bm25-0.2.2\n"
          ]
        }
      ]
    },
    {
      "cell_type": "code",
      "source": [
        "# dense search\n",
        "##create vector store\n",
        "# faiss will be use for store vectors and retirval also using ANN: aprroximate nearest neighbour\n",
        "vectorstore = FAISS.from_documents(documents, embeddings)\n",
        "FaissRetriever = vectorstore.as_retriever(k=3)"
      ],
      "metadata": {
        "id": "LznoKESdwuAM"
      },
      "execution_count": null,
      "outputs": []
    },
    {
      "cell_type": "code",
      "source": [
        "# kwuword based serch\n",
        "bm25_retriever = BM25Retriever.from_documents(documents)\n",
        "bm25_retriever.k = 5 # Set number of results\n",
        "\n",
        "bm25_retriever.invoke(\"does nikhil reports to gautam\")"
      ],
      "metadata": {
        "colab": {
          "base_uri": "https://localhost:8080/"
        },
        "id": "tAFDjU8k2MLE",
        "outputId": "47b0b69e-56cc-4b66-c94b-023e1d8ba90a"
      },
      "execution_count": null,
      "outputs": [
        {
          "output_type": "execute_result",
          "data": {
            "text/plain": [
              "[Document(metadata={'base_text': 'Team is team is like nikil is my yeam lead, anita is reporting to nikhil and  nikhil reports to gautam', 'source': 'Team', 'page_no': 3, 'last modifies data': datetime.datetime(2025, 10, 21, 17, 19, 0, 279847)}, page_content='Team is team is like nikil is my yeam lead, anita is reporting to nikhil and  nikhil reports to gautam'),\n",
              " Document(metadata={'base_text': 'Friend and I used to live in banglore ', 'source': 'Friend', 'page_no': 1, 'last modifies data': datetime.datetime(2025, 10, 21, 17, 19, 0, 279832)}, page_content='Friend and I used to live in banglore '),\n",
              " Document(metadata={'base_text': 'Dileswar and other team leads also help me to learn a lot.', 'source': 'Dileswar', 'page_no': 8, 'last modifies data': datetime.datetime(2025, 10, 21, 17, 19, 0, 279878)}, page_content='Dileswar and other team leads also help me to learn a lot.'),\n",
              " Document(metadata={'base_text': 'People call my team as ai-ml team. i am very happy to join this team under leadership of my team lead cum main boss mr.nikhil.', 'source': 'People', 'page_no': 11, 'last modifies data': datetime.datetime(2025, 10, 21, 17, 19, 0, 279894)}, page_content='People call my team as ai-ml team. i am very happy to join this team under leadership of my team lead cum main boss mr.nikhil.'),\n",
              " Document(metadata={'base_text': 'Thank you saisudha for all the memorable moments ', 'source': 'Thank', 'page_no': 12, 'last modifies data': datetime.datetime(2025, 10, 21, 17, 19, 0, 279899)}, page_content='Thank you saisudha for all the memorable moments ')]"
            ]
          },
          "metadata": {},
          "execution_count": 36
        }
      ]
    },
    {
      "cell_type": "code",
      "source": [
        "hybrid_retriever = EnsembleRetriever(\n",
        "    retrievers=[bm25_retriever, FaissRetriever],\n",
        "    weights=[0.5, 0.5] # 50% BM25, 50% Dense contribution\n",
        ")\n",
        "\n",
        "query=\"does nikhil reports to gautam\"\n",
        "context = hybrid_retriever.invoke(query)\n",
        "context"
      ],
      "metadata": {
        "colab": {
          "base_uri": "https://localhost:8080/"
        },
        "id": "InLA6x6QwuCw",
        "outputId": "aed6bf70-410c-4655-abd0-11acae2bf789"
      },
      "execution_count": null,
      "outputs": [
        {
          "output_type": "execute_result",
          "data": {
            "text/plain": [
              "[Document(metadata={'base_text': 'Team is team is like nikil is my yeam lead, anita is reporting to nikhil and  nikhil reports to gautam', 'source': 'Team', 'page_no': 3, 'last modifies data': datetime.datetime(2025, 10, 21, 17, 19, 0, 279847)}, page_content='Team is team is like nikil is my yeam lead, anita is reporting to nikhil and  nikhil reports to gautam'),\n",
              " Document(metadata={'base_text': 'People call my team as ai-ml team. i am very happy to join this team under leadership of my team lead cum main boss mr.nikhil.', 'source': 'People', 'page_no': 11, 'last modifies data': datetime.datetime(2025, 10, 21, 17, 19, 0, 279894)}, page_content='People call my team as ai-ml team. i am very happy to join this team under leadership of my team lead cum main boss mr.nikhil.'),\n",
              " Document(metadata={'base_text': 'Friend and I used to live in banglore ', 'source': 'Friend', 'page_no': 1, 'last modifies data': datetime.datetime(2025, 10, 21, 17, 19, 0, 279832)}, page_content='Friend and I used to live in banglore '),\n",
              " Document(metadata={'base_text': 'Dileswar and other team leads also help me to learn a lot.', 'source': 'Dileswar', 'page_no': 8, 'last modifies data': datetime.datetime(2025, 10, 21, 17, 19, 0, 279878)}, page_content='Dileswar and other team leads also help me to learn a lot.'),\n",
              " Document(id='1cea5ad4-d863-4143-aaf7-5372276d4bb5', metadata={'base_text': 'Colligues : i have more firends like arun , aman , atul and jayesh i my team. ', 'source': 'Colligues', 'page_no': 4, 'last modifies data': datetime.datetime(2025, 10, 21, 17, 19, 0, 279852)}, page_content='Colligues : i have more firends like arun , aman , atul and jayesh i my team. '),\n",
              " Document(id='098b54d6-477e-4d61-b97a-6c5cd7ef6ccc', metadata={'base_text': 'Work for a company with my seniors .', 'source': 'Work', 'page_no': 2, 'last modifies data': datetime.datetime(2025, 10, 21, 17, 19, 0, 279841)}, page_content='Work for a company with my seniors .'),\n",
              " Document(metadata={'base_text': 'Thank you saisudha for all the memorable moments ', 'source': 'Thank', 'page_no': 12, 'last modifies data': datetime.datetime(2025, 10, 21, 17, 19, 0, 279899)}, page_content='Thank you saisudha for all the memorable moments ')]"
            ]
          },
          "metadata": {},
          "execution_count": 40
        }
      ]
    },
    {
      "cell_type": "markdown",
      "source": [
        "# CrewAi- Multi Agent System"
      ],
      "metadata": {
        "id": "Cf6SCcTRhp58"
      }
    },
    {
      "cell_type": "code",
      "source": [
        "! pip install crewai-tools crewai;\n",
        "\n",
        "from crewai.tools import tool\n",
        "from crewai import Agent, Task, Crew\n",
        "from crewai import LLM"
      ],
      "metadata": {
        "id": "RwJm1BcihpDO"
      },
      "execution_count": 16,
      "outputs": []
    },
    {
      "cell_type": "code",
      "source": [
        "# from google.generativeai import GenerativeModel\n",
        "# from crewai.llms.base_llm import BaseLLM  # Abstract base class\n",
        "\n",
        "# to update main google gemani call class for tokens consideration\n",
        "# class ChatGoogleGenerativeAI(BaseLLM):\n",
        "#     def __init__(self, model=\"gemini-1.5-pro\"):\n",
        "#         self.model = GenerativeModel(model)\n",
        "\n",
        "#     def call(self, prompt: str, **kwargs) -> str:\n",
        "#         \"\"\"Required abstract method implementation.\"\"\"\n",
        "\n",
        "#         response = self.model.generate_content(prompt)\n",
        "#         return response.text\n",
        "\n",
        "#     def supports_stop_words(self) -> bool:\n",
        "#         return False  # Gemini doesn't support stop words natively\n",
        "\n",
        "# llm intergration with agents\n",
        "gemini_api=userdata.get('iitm_gemni_key')\n",
        "os.environ[\"GEMINI_API_KEY\"]=gemini_api\n",
        "\n",
        "llm = ChatGoogleGenerativeAI(model=\"gemini-2.5-flash\")\n",
        "# response = llm.invoke([HumanMessage(content=\"who is sai pallavi\")])\n",
        "# print(response.content)\n",
        "\n",
        "\n",
        "llm_config = {\n",
        "    \"provider\": \"google\",\n",
        "    \"model\": \"gemini/gemini-2.5-flash\",\n",
        "    \"api_key\": os.environ[\"GEMINI_API_KEY\"]\n",
        "}\n",
        "\n",
        "gemini_llm = LLM(\n",
        "        model=llm_config[\"model\"],\n",
        "        api_key=llm_config[\"api_key\"],\n",
        "        temperature=0.7\n",
        "    )"
      ],
      "metadata": {
        "colab": {
          "base_uri": "https://localhost:8080/"
        },
        "id": "TCPx3SB5vzQK",
        "outputId": "355776a7-2ea2-4075-d847-a7f1b1fd55ed"
      },
      "execution_count": 32,
      "outputs": [
        {
          "output_type": "stream",
          "name": "stderr",
          "text": [
            "WARNING:google_genai._api_client:Both GOOGLE_API_KEY and GEMINI_API_KEY are set. Using GOOGLE_API_KEY.\n"
          ]
        }
      ]
    },
    {
      "cell_type": "code",
      "source": [
        "# crewai will understand/choose function based on function description\n",
        "\n",
        "\n",
        "@tool\n",
        "def SIP_status(arg1=\"\"):\n",
        "  \"\"\"This tool is for to know the SIP status .\"\"\"\n",
        "  print(\"Agents is in SIP_status mode\")\n",
        "  return \"SIP_status completed  successfully and return result via tool\"\n",
        "\n",
        "# it will make the ouput stored over cache\n",
        "SIP_status.cache_function=True\n",
        "\n",
        "@tool\n",
        "def Business_status(arg1=\"\"):\n",
        "  \"\"\"This tool is for business operations ans status.\"\"\"\n",
        "  print(\"Agents is in Business mode\")\n",
        "  return \"Business status tool completed\"\n",
        "Business_status.cache_function=True\n",
        "\n",
        "@tool\n",
        "def UAT_status(arg1=\"\"):\n",
        "  \"\"\"This tool checks the UAT status.\"\"\"\n",
        "  print(\"Agents is in UAT_status mode\")\n",
        "  return \" UAT status completed\"\n",
        "UAT_status.cache_function=True\n",
        "\n",
        "\n",
        "@tool\n",
        "def RPA_status(arg1=\"\"):\n",
        "  \"\"\"This tool checks the RPA status.\"\"\"\n",
        "  print(\"Agents is in RPA_status mode\")\n",
        "  return \" when question related to rap status , response is RPA status completed\"\n",
        "RPA_status.cache_function=True\n",
        "\n",
        "@tool\n",
        "def DEV_status(arg1=\"\"):\n",
        "  \"\"\"This tool checks  and gives the DEV status.\"\"\"\n",
        "  print(\"Agents is in DEV_status mode\")\n",
        "  return \"when question related to dev status , response is dev status completed\"\n",
        "DEV_status.cache_function=True\n",
        "\n",
        "@tool\n",
        "def out_of_Scope(arg1=\"\"):\n",
        "  \"\"\"This tool is for questions which are out of Scope, a random irrelvant question, where we dont have any answer. It will call when any random question is there\"\"\"\n",
        "  print(\"Agents is in out_of_Scope\")\n",
        "  return \"no response as, an irrelevant question \"\n",
        "out_of_Scope.cache_function=True\n"
      ],
      "metadata": {
        "id": "51QOmWp7ifpw"
      },
      "execution_count": 67,
      "outputs": []
    },
    {
      "cell_type": "code",
      "source": [
        "# testing tools\n",
        "Business_status.run(\"tell business status\")"
      ],
      "metadata": {
        "colab": {
          "base_uri": "https://localhost:8080/",
          "height": 72
        },
        "id": "hn4i3qlzqKoQ",
        "outputId": "3f39b6c4-f516-4326-fca0-66501cfa52d9"
      },
      "execution_count": 35,
      "outputs": [
        {
          "output_type": "stream",
          "name": "stdout",
          "text": [
            "\u001b[96mUsing Tool: Business_status\u001b[0m\n",
            "Agents is in Business mode\n"
          ]
        },
        {
          "output_type": "execute_result",
          "data": {
            "text/plain": [
              "'Business status tool'"
            ],
            "application/vnd.google.colaboratory.intrinsic+json": {
              "type": "string"
            }
          },
          "metadata": {},
          "execution_count": 35
        }
      ]
    },
    {
      "cell_type": "code",
      "source": [
        "manager_agent= Agent(\n",
        "        role=\"Manager\",\n",
        "        goal=\"Orchestrate the team to find the correct status\",\n",
        "        backstory=\"A strategic manager who knows when to delegate tasks to the right specialists.\",\n",
        "        llm=gemini_llm,\n",
        "        allow_delegation=True,\n",
        "    )\n",
        "\n",
        "SIP_status_Agent = Agent(\n",
        "        role=\"SIP Agent\",\n",
        "        goal=\"to check for the SIP status\",\n",
        "        backstory=\"This tool is for the SIP status\",\n",
        "        tools=[SIP_status],\n",
        "        llm=gemini_llm,\n",
        "        allow_delegation=False,\n",
        "    )\n",
        "\n",
        "Business_status_Agent = Agent(\n",
        "        role=\"Business Agent\",\n",
        "        goal=\"to check for the Business status \",\n",
        "        backstory=\"This tool is to know the status for the Business status \",\n",
        "        tools=[Business_status],\n",
        "        llm=gemini_llm,\n",
        "        allow_delegation=False,\n",
        "    )\n",
        "\n",
        "\n",
        "UAT_status_Agent = Agent(\n",
        "        role=\"UAT Agent\",\n",
        "        goal=\"to check for the UAT status \",\n",
        "        backstory=\"This tool is to know the status for the UAT status \",\n",
        "        tools=[UAT_status],\n",
        "        llm=gemini_llm,\n",
        "        allow_delegation=False,\n",
        "    )\n",
        "\n",
        "RPA_status_Agent = Agent(\n",
        "        role=\"RPA status Agent\",\n",
        "        goal=\"to check for the RPA status status \",\n",
        "        backstory=\"This tool is to know the status for the RPA status status \",\n",
        "        tools=[RPA_status],\n",
        "        llm=gemini_llm,\n",
        "        allow_delegation=False,\n",
        "    )\n",
        "\n",
        "DEV_status_Agent = Agent(\n",
        "        role=\"DEV status Agent\",\n",
        "        goal=\"to check for the DEV status status \",\n",
        "        backstory=\"This tool is to know the status for the DEV status status \",\n",
        "        tools=[DEV_status],\n",
        "        llm=gemini_llm,\n",
        "        allow_delegation=False,\n",
        "    )\n",
        "#\n",
        "out_of_Scope_status_Agent = Agent(\n",
        "        role=\"Incorrect Agent\",\n",
        "        goal=\"Use this agent if some irrevalent question comes. \",\n",
        "        backstory=\"if question is irrevalnt and not related to this orchestartion\",\n",
        "        tools=[out_of_Scope],\n",
        "        llm=gemini_llm,\n",
        "        allow_delegation=False,\n",
        "    )"
      ],
      "metadata": {
        "id": "TUV--drRoH97"
      },
      "execution_count": 68,
      "outputs": []
    },
    {
      "cell_type": "code",
      "source": [
        "user_query=\"tell me about final status of dev\"\n",
        "manager_task = Task(\n",
        "    description=user_query,\n",
        "    expected_output=\"Tell the result based on human query, consider tools available to get to know about it\",\n",
        "    agent=manager_agent,\n",
        ")\n",
        "\n",
        "crew = Crew(\n",
        "    agents=[manager_agent,SIP_status_Agent,Business_status_Agent,UAT_status_Agent,RPA_status_Agent,DEV_status_Agent,out_of_Scope_status_Agent],\n",
        "    tasks=[manager_task]\n",
        ")\n",
        "\n",
        "output = crew.kickoff()\n",
        "output"
      ],
      "metadata": {
        "colab": {
          "base_uri": "https://localhost:8080/",
          "height": 459
        },
        "id": "nZbqQXWKwUit",
        "outputId": "60eb7147-654c-4e2c-e93b-beb1f3280bb1"
      },
      "execution_count": 73,
      "outputs": [
        {
          "output_type": "stream",
          "name": "stdout",
          "text": [
            "Agents is in DEV_status mode\n",
            "\u001b[91mReceived None or empty response from LLM call.\u001b[0m\n",
            "\u001b[91mAn unknown error occurred. Please check the details below.\u001b[0m\n",
            "\u001b[91mError details: Invalid response from LLM call - None or empty.\u001b[0m\n",
            "\u001b[91mAn unknown error occurred. Please check the details below.\u001b[0m\n",
            "\u001b[91mError details: Invalid response from LLM call - None or empty.\u001b[0m\n"
          ]
        },
        {
          "output_type": "error",
          "ename": "ValueError",
          "evalue": "Invalid response from LLM call - None or empty.",
          "traceback": [
            "\u001b[0;31m---------------------------------------------------------------------------\u001b[0m",
            "\u001b[0;31mValueError\u001b[0m                                Traceback (most recent call last)",
            "\u001b[0;32m/tmp/ipython-input-2336349915.py\u001b[0m in \u001b[0;36m<cell line: 0>\u001b[0;34m()\u001b[0m\n\u001b[1;32m     11\u001b[0m )\n\u001b[1;32m     12\u001b[0m \u001b[0;34m\u001b[0m\u001b[0m\n\u001b[0;32m---> 13\u001b[0;31m \u001b[0moutput\u001b[0m \u001b[0;34m=\u001b[0m \u001b[0mcrew\u001b[0m\u001b[0;34m.\u001b[0m\u001b[0mkickoff\u001b[0m\u001b[0;34m(\u001b[0m\u001b[0;34m)\u001b[0m\u001b[0;34m\u001b[0m\u001b[0;34m\u001b[0m\u001b[0m\n\u001b[0m\u001b[1;32m     14\u001b[0m \u001b[0moutput\u001b[0m\u001b[0;34m\u001b[0m\u001b[0;34m\u001b[0m\u001b[0m\n",
            "\u001b[0;32m/usr/local/lib/python3.12/dist-packages/crewai/crew.py\u001b[0m in \u001b[0;36mkickoff\u001b[0;34m(self, inputs)\u001b[0m\n\u001b[1;32m    705\u001b[0m \u001b[0;34m\u001b[0m\u001b[0m\n\u001b[1;32m    706\u001b[0m             \u001b[0;32mif\u001b[0m \u001b[0mself\u001b[0m\u001b[0;34m.\u001b[0m\u001b[0mprocess\u001b[0m \u001b[0;34m==\u001b[0m \u001b[0mProcess\u001b[0m\u001b[0;34m.\u001b[0m\u001b[0msequential\u001b[0m\u001b[0;34m:\u001b[0m\u001b[0;34m\u001b[0m\u001b[0;34m\u001b[0m\u001b[0m\n\u001b[0;32m--> 707\u001b[0;31m                 \u001b[0mresult\u001b[0m \u001b[0;34m=\u001b[0m \u001b[0mself\u001b[0m\u001b[0;34m.\u001b[0m\u001b[0m_run_sequential_process\u001b[0m\u001b[0;34m(\u001b[0m\u001b[0;34m)\u001b[0m\u001b[0;34m\u001b[0m\u001b[0;34m\u001b[0m\u001b[0m\n\u001b[0m\u001b[1;32m    708\u001b[0m             \u001b[0;32melif\u001b[0m \u001b[0mself\u001b[0m\u001b[0;34m.\u001b[0m\u001b[0mprocess\u001b[0m \u001b[0;34m==\u001b[0m \u001b[0mProcess\u001b[0m\u001b[0;34m.\u001b[0m\u001b[0mhierarchical\u001b[0m\u001b[0;34m:\u001b[0m\u001b[0;34m\u001b[0m\u001b[0;34m\u001b[0m\u001b[0m\n\u001b[1;32m    709\u001b[0m                 \u001b[0mresult\u001b[0m \u001b[0;34m=\u001b[0m \u001b[0mself\u001b[0m\u001b[0;34m.\u001b[0m\u001b[0m_run_hierarchical_process\u001b[0m\u001b[0;34m(\u001b[0m\u001b[0;34m)\u001b[0m\u001b[0;34m\u001b[0m\u001b[0;34m\u001b[0m\u001b[0m\n",
            "\u001b[0;32m/usr/local/lib/python3.12/dist-packages/crewai/crew.py\u001b[0m in \u001b[0;36m_run_sequential_process\u001b[0;34m(self)\u001b[0m\n\u001b[1;32m    819\u001b[0m     \u001b[0;32mdef\u001b[0m \u001b[0m_run_sequential_process\u001b[0m\u001b[0;34m(\u001b[0m\u001b[0mself\u001b[0m\u001b[0;34m)\u001b[0m \u001b[0;34m->\u001b[0m \u001b[0mCrewOutput\u001b[0m\u001b[0;34m:\u001b[0m\u001b[0;34m\u001b[0m\u001b[0;34m\u001b[0m\u001b[0m\n\u001b[1;32m    820\u001b[0m         \u001b[0;34m\"\"\"Executes tasks sequentially and returns the final output.\"\"\"\u001b[0m\u001b[0;34m\u001b[0m\u001b[0;34m\u001b[0m\u001b[0m\n\u001b[0;32m--> 821\u001b[0;31m         \u001b[0;32mreturn\u001b[0m \u001b[0mself\u001b[0m\u001b[0;34m.\u001b[0m\u001b[0m_execute_tasks\u001b[0m\u001b[0;34m(\u001b[0m\u001b[0mself\u001b[0m\u001b[0;34m.\u001b[0m\u001b[0mtasks\u001b[0m\u001b[0;34m)\u001b[0m\u001b[0;34m\u001b[0m\u001b[0;34m\u001b[0m\u001b[0m\n\u001b[0m\u001b[1;32m    822\u001b[0m \u001b[0;34m\u001b[0m\u001b[0m\n\u001b[1;32m    823\u001b[0m     \u001b[0;32mdef\u001b[0m \u001b[0m_run_hierarchical_process\u001b[0m\u001b[0;34m(\u001b[0m\u001b[0mself\u001b[0m\u001b[0;34m)\u001b[0m \u001b[0;34m->\u001b[0m \u001b[0mCrewOutput\u001b[0m\u001b[0;34m:\u001b[0m\u001b[0;34m\u001b[0m\u001b[0;34m\u001b[0m\u001b[0m\n",
            "\u001b[0;32m/usr/local/lib/python3.12/dist-packages/crewai/crew.py\u001b[0m in \u001b[0;36m_execute_tasks\u001b[0;34m(self, tasks, start_index, was_replayed)\u001b[0m\n\u001b[1;32m    925\u001b[0m \u001b[0;34m\u001b[0m\u001b[0m\n\u001b[1;32m    926\u001b[0m                 \u001b[0mcontext\u001b[0m \u001b[0;34m=\u001b[0m \u001b[0mself\u001b[0m\u001b[0;34m.\u001b[0m\u001b[0m_get_context\u001b[0m\u001b[0;34m(\u001b[0m\u001b[0mtask\u001b[0m\u001b[0;34m,\u001b[0m \u001b[0mtask_outputs\u001b[0m\u001b[0;34m)\u001b[0m\u001b[0;34m\u001b[0m\u001b[0;34m\u001b[0m\u001b[0m\n\u001b[0;32m--> 927\u001b[0;31m                 task_output = task.execute_sync(\n\u001b[0m\u001b[1;32m    928\u001b[0m                     \u001b[0magent\u001b[0m\u001b[0;34m=\u001b[0m\u001b[0magent_to_use\u001b[0m\u001b[0;34m,\u001b[0m\u001b[0;34m\u001b[0m\u001b[0;34m\u001b[0m\u001b[0m\n\u001b[1;32m    929\u001b[0m                     \u001b[0mcontext\u001b[0m\u001b[0;34m=\u001b[0m\u001b[0mcontext\u001b[0m\u001b[0;34m,\u001b[0m\u001b[0;34m\u001b[0m\u001b[0;34m\u001b[0m\u001b[0m\n",
            "\u001b[0;32m/usr/local/lib/python3.12/dist-packages/crewai/task.py\u001b[0m in \u001b[0;36mexecute_sync\u001b[0;34m(self, agent, context, tools)\u001b[0m\n\u001b[1;32m    452\u001b[0m     ) -> TaskOutput:\n\u001b[1;32m    453\u001b[0m         \u001b[0;34m\"\"\"Execute the task synchronously.\"\"\"\u001b[0m\u001b[0;34m\u001b[0m\u001b[0;34m\u001b[0m\u001b[0m\n\u001b[0;32m--> 454\u001b[0;31m         \u001b[0;32mreturn\u001b[0m \u001b[0mself\u001b[0m\u001b[0;34m.\u001b[0m\u001b[0m_execute_core\u001b[0m\u001b[0;34m(\u001b[0m\u001b[0magent\u001b[0m\u001b[0;34m,\u001b[0m \u001b[0mcontext\u001b[0m\u001b[0;34m,\u001b[0m \u001b[0mtools\u001b[0m\u001b[0;34m)\u001b[0m\u001b[0;34m\u001b[0m\u001b[0;34m\u001b[0m\u001b[0m\n\u001b[0m\u001b[1;32m    455\u001b[0m \u001b[0;34m\u001b[0m\u001b[0m\n\u001b[1;32m    456\u001b[0m     \u001b[0;34m@\u001b[0m\u001b[0mproperty\u001b[0m\u001b[0;34m\u001b[0m\u001b[0;34m\u001b[0m\u001b[0m\n",
            "\u001b[0;32m/usr/local/lib/python3.12/dist-packages/crewai/task.py\u001b[0m in \u001b[0;36m_execute_core\u001b[0;34m(self, agent, context, tools)\u001b[0m\n\u001b[1;32m    579\u001b[0m             \u001b[0mself\u001b[0m\u001b[0;34m.\u001b[0m\u001b[0mend_time\u001b[0m \u001b[0;34m=\u001b[0m \u001b[0mdatetime\u001b[0m\u001b[0;34m.\u001b[0m\u001b[0mdatetime\u001b[0m\u001b[0;34m.\u001b[0m\u001b[0mnow\u001b[0m\u001b[0;34m(\u001b[0m\u001b[0;34m)\u001b[0m\u001b[0;34m\u001b[0m\u001b[0;34m\u001b[0m\u001b[0m\n\u001b[1;32m    580\u001b[0m             \u001b[0mcrewai_event_bus\u001b[0m\u001b[0;34m.\u001b[0m\u001b[0memit\u001b[0m\u001b[0;34m(\u001b[0m\u001b[0mself\u001b[0m\u001b[0;34m,\u001b[0m \u001b[0mTaskFailedEvent\u001b[0m\u001b[0;34m(\u001b[0m\u001b[0merror\u001b[0m\u001b[0;34m=\u001b[0m\u001b[0mstr\u001b[0m\u001b[0;34m(\u001b[0m\u001b[0me\u001b[0m\u001b[0;34m)\u001b[0m\u001b[0;34m,\u001b[0m \u001b[0mtask\u001b[0m\u001b[0;34m=\u001b[0m\u001b[0mself\u001b[0m\u001b[0;34m)\u001b[0m\u001b[0;34m)\u001b[0m\u001b[0;34m\u001b[0m\u001b[0;34m\u001b[0m\u001b[0m\n\u001b[0;32m--> 581\u001b[0;31m             \u001b[0;32mraise\u001b[0m \u001b[0me\u001b[0m  \u001b[0;31m# Re-raise the exception after emitting the event\u001b[0m\u001b[0;34m\u001b[0m\u001b[0;34m\u001b[0m\u001b[0m\n\u001b[0m\u001b[1;32m    582\u001b[0m \u001b[0;34m\u001b[0m\u001b[0m\n\u001b[1;32m    583\u001b[0m     \u001b[0;32mdef\u001b[0m \u001b[0mprompt\u001b[0m\u001b[0;34m(\u001b[0m\u001b[0mself\u001b[0m\u001b[0;34m)\u001b[0m \u001b[0;34m->\u001b[0m \u001b[0mstr\u001b[0m\u001b[0;34m:\u001b[0m\u001b[0;34m\u001b[0m\u001b[0;34m\u001b[0m\u001b[0m\n",
            "\u001b[0;32m/usr/local/lib/python3.12/dist-packages/crewai/task.py\u001b[0m in \u001b[0;36m_execute_core\u001b[0;34m(self, agent, context, tools)\u001b[0m\n\u001b[1;32m    516\u001b[0m             \u001b[0mself\u001b[0m\u001b[0;34m.\u001b[0m\u001b[0mprocessed_by_agents\u001b[0m\u001b[0;34m.\u001b[0m\u001b[0madd\u001b[0m\u001b[0;34m(\u001b[0m\u001b[0magent\u001b[0m\u001b[0;34m.\u001b[0m\u001b[0mrole\u001b[0m\u001b[0;34m)\u001b[0m\u001b[0;34m\u001b[0m\u001b[0;34m\u001b[0m\u001b[0m\n\u001b[1;32m    517\u001b[0m             \u001b[0mcrewai_event_bus\u001b[0m\u001b[0;34m.\u001b[0m\u001b[0memit\u001b[0m\u001b[0;34m(\u001b[0m\u001b[0mself\u001b[0m\u001b[0;34m,\u001b[0m \u001b[0mTaskStartedEvent\u001b[0m\u001b[0;34m(\u001b[0m\u001b[0mcontext\u001b[0m\u001b[0;34m=\u001b[0m\u001b[0mcontext\u001b[0m\u001b[0;34m,\u001b[0m \u001b[0mtask\u001b[0m\u001b[0;34m=\u001b[0m\u001b[0mself\u001b[0m\u001b[0;34m)\u001b[0m\u001b[0;34m)\u001b[0m\u001b[0;34m\u001b[0m\u001b[0;34m\u001b[0m\u001b[0m\n\u001b[0;32m--> 518\u001b[0;31m             result = agent.execute_task(\n\u001b[0m\u001b[1;32m    519\u001b[0m                 \u001b[0mtask\u001b[0m\u001b[0;34m=\u001b[0m\u001b[0mself\u001b[0m\u001b[0;34m,\u001b[0m\u001b[0;34m\u001b[0m\u001b[0;34m\u001b[0m\u001b[0m\n\u001b[1;32m    520\u001b[0m                 \u001b[0mcontext\u001b[0m\u001b[0;34m=\u001b[0m\u001b[0mcontext\u001b[0m\u001b[0;34m,\u001b[0m\u001b[0;34m\u001b[0m\u001b[0;34m\u001b[0m\u001b[0m\n",
            "\u001b[0;32m/usr/local/lib/python3.12/dist-packages/crewai/agent.py\u001b[0m in \u001b[0;36mexecute_task\u001b[0;34m(self, task, context, tools)\u001b[0m\n\u001b[1;32m    498\u001b[0m                     ),\n\u001b[1;32m    499\u001b[0m                 )\n\u001b[0;32m--> 500\u001b[0;31m                 \u001b[0;32mraise\u001b[0m \u001b[0me\u001b[0m\u001b[0;34m\u001b[0m\u001b[0;34m\u001b[0m\u001b[0m\n\u001b[0m\u001b[1;32m    501\u001b[0m             \u001b[0mresult\u001b[0m \u001b[0;34m=\u001b[0m \u001b[0mself\u001b[0m\u001b[0;34m.\u001b[0m\u001b[0mexecute_task\u001b[0m\u001b[0;34m(\u001b[0m\u001b[0mtask\u001b[0m\u001b[0;34m,\u001b[0m \u001b[0mcontext\u001b[0m\u001b[0;34m,\u001b[0m \u001b[0mtools\u001b[0m\u001b[0;34m)\u001b[0m\u001b[0;34m\u001b[0m\u001b[0;34m\u001b[0m\u001b[0m\n\u001b[1;32m    502\u001b[0m \u001b[0;34m\u001b[0m\u001b[0m\n",
            "\u001b[0;32m/usr/local/lib/python3.12/dist-packages/crewai/agent.py\u001b[0m in \u001b[0;36mexecute_task\u001b[0;34m(self, task, context, tools)\u001b[0m\n\u001b[1;32m    463\u001b[0m                 )\n\u001b[1;32m    464\u001b[0m             \u001b[0;32melse\u001b[0m\u001b[0;34m:\u001b[0m\u001b[0;34m\u001b[0m\u001b[0;34m\u001b[0m\u001b[0m\n\u001b[0;32m--> 465\u001b[0;31m                 \u001b[0mresult\u001b[0m \u001b[0;34m=\u001b[0m \u001b[0mself\u001b[0m\u001b[0;34m.\u001b[0m\u001b[0m_execute_without_timeout\u001b[0m\u001b[0;34m(\u001b[0m\u001b[0mtask_prompt\u001b[0m\u001b[0;34m,\u001b[0m \u001b[0mtask\u001b[0m\u001b[0;34m)\u001b[0m\u001b[0;34m\u001b[0m\u001b[0;34m\u001b[0m\u001b[0m\n\u001b[0m\u001b[1;32m    466\u001b[0m \u001b[0;34m\u001b[0m\u001b[0m\n\u001b[1;32m    467\u001b[0m         \u001b[0;32mexcept\u001b[0m \u001b[0mTimeoutError\u001b[0m \u001b[0;32mas\u001b[0m \u001b[0me\u001b[0m\u001b[0;34m:\u001b[0m\u001b[0;34m\u001b[0m\u001b[0;34m\u001b[0m\u001b[0m\n",
            "\u001b[0;32m/usr/local/lib/python3.12/dist-packages/crewai/agent.py\u001b[0m in \u001b[0;36m_execute_without_timeout\u001b[0;34m(self, task_prompt, task)\u001b[0m\n\u001b[1;32m    562\u001b[0m             \u001b[0;32mraise\u001b[0m \u001b[0mRuntimeError\u001b[0m\u001b[0;34m(\u001b[0m\u001b[0;34m\"Agent executor is not initialized.\"\u001b[0m\u001b[0;34m)\u001b[0m\u001b[0;34m\u001b[0m\u001b[0;34m\u001b[0m\u001b[0m\n\u001b[1;32m    563\u001b[0m \u001b[0;34m\u001b[0m\u001b[0m\n\u001b[0;32m--> 564\u001b[0;31m         return self.agent_executor.invoke(\n\u001b[0m\u001b[1;32m    565\u001b[0m             {\n\u001b[1;32m    566\u001b[0m                 \u001b[0;34m\"input\"\u001b[0m\u001b[0;34m:\u001b[0m \u001b[0mtask_prompt\u001b[0m\u001b[0;34m,\u001b[0m\u001b[0;34m\u001b[0m\u001b[0;34m\u001b[0m\u001b[0m\n",
            "\u001b[0;32m/usr/local/lib/python3.12/dist-packages/crewai/agents/crew_agent_executor.py\u001b[0m in \u001b[0;36minvoke\u001b[0;34m(self, inputs)\u001b[0m\n\u001b[1;32m    165\u001b[0m \u001b[0;34m\u001b[0m\u001b[0m\n\u001b[1;32m    166\u001b[0m         \u001b[0;32mtry\u001b[0m\u001b[0;34m:\u001b[0m\u001b[0;34m\u001b[0m\u001b[0;34m\u001b[0m\u001b[0m\n\u001b[0;32m--> 167\u001b[0;31m             \u001b[0mformatted_answer\u001b[0m \u001b[0;34m=\u001b[0m \u001b[0mself\u001b[0m\u001b[0;34m.\u001b[0m\u001b[0m_invoke_loop\u001b[0m\u001b[0;34m(\u001b[0m\u001b[0;34m)\u001b[0m\u001b[0;34m\u001b[0m\u001b[0;34m\u001b[0m\u001b[0m\n\u001b[0m\u001b[1;32m    168\u001b[0m         \u001b[0;32mexcept\u001b[0m \u001b[0mAssertionError\u001b[0m\u001b[0;34m:\u001b[0m\u001b[0;34m\u001b[0m\u001b[0;34m\u001b[0m\u001b[0m\n\u001b[1;32m    169\u001b[0m             self._printer.print(\n",
            "\u001b[0;32m/usr/local/lib/python3.12/dist-packages/crewai/agents/crew_agent_executor.py\u001b[0m in \u001b[0;36m_invoke_loop\u001b[0;34m(self)\u001b[0m\n\u001b[1;32m    272\u001b[0m                     \u001b[0;32mcontinue\u001b[0m\u001b[0;34m\u001b[0m\u001b[0;34m\u001b[0m\u001b[0m\n\u001b[1;32m    273\u001b[0m                 \u001b[0mhandle_unknown_error\u001b[0m\u001b[0;34m(\u001b[0m\u001b[0mself\u001b[0m\u001b[0;34m.\u001b[0m\u001b[0m_printer\u001b[0m\u001b[0;34m,\u001b[0m \u001b[0me\u001b[0m\u001b[0;34m)\u001b[0m\u001b[0;34m\u001b[0m\u001b[0;34m\u001b[0m\u001b[0m\n\u001b[0;32m--> 274\u001b[0;31m                 \u001b[0;32mraise\u001b[0m \u001b[0me\u001b[0m\u001b[0;34m\u001b[0m\u001b[0;34m\u001b[0m\u001b[0m\n\u001b[0m\u001b[1;32m    275\u001b[0m             \u001b[0;32mfinally\u001b[0m\u001b[0;34m:\u001b[0m\u001b[0;34m\u001b[0m\u001b[0;34m\u001b[0m\u001b[0m\n\u001b[1;32m    276\u001b[0m                 \u001b[0mself\u001b[0m\u001b[0;34m.\u001b[0m\u001b[0miterations\u001b[0m \u001b[0;34m+=\u001b[0m \u001b[0;36m1\u001b[0m\u001b[0;34m\u001b[0m\u001b[0;34m\u001b[0m\u001b[0m\n",
            "\u001b[0;32m/usr/local/lib/python3.12/dist-packages/crewai/agents/crew_agent_executor.py\u001b[0m in \u001b[0;36m_invoke_loop\u001b[0;34m(self)\u001b[0m\n\u001b[1;32m    205\u001b[0m                 \u001b[0menforce_rpm_limit\u001b[0m\u001b[0;34m(\u001b[0m\u001b[0mself\u001b[0m\u001b[0;34m.\u001b[0m\u001b[0mrequest_within_rpm_limit\u001b[0m\u001b[0;34m)\u001b[0m\u001b[0;34m\u001b[0m\u001b[0;34m\u001b[0m\u001b[0m\n\u001b[1;32m    206\u001b[0m \u001b[0;34m\u001b[0m\u001b[0m\n\u001b[0;32m--> 207\u001b[0;31m                 answer = get_llm_response(\n\u001b[0m\u001b[1;32m    208\u001b[0m                     \u001b[0mllm\u001b[0m\u001b[0;34m=\u001b[0m\u001b[0mself\u001b[0m\u001b[0;34m.\u001b[0m\u001b[0mllm\u001b[0m\u001b[0;34m,\u001b[0m\u001b[0;34m\u001b[0m\u001b[0;34m\u001b[0m\u001b[0m\n\u001b[1;32m    209\u001b[0m                     \u001b[0mmessages\u001b[0m\u001b[0;34m=\u001b[0m\u001b[0mself\u001b[0m\u001b[0;34m.\u001b[0m\u001b[0mmessages\u001b[0m\u001b[0;34m,\u001b[0m\u001b[0;34m\u001b[0m\u001b[0;34m\u001b[0m\u001b[0m\n",
            "\u001b[0;32m/usr/local/lib/python3.12/dist-packages/crewai/utilities/agent_utils.py\u001b[0m in \u001b[0;36mget_llm_response\u001b[0;34m(llm, messages, callbacks, printer, from_task, from_agent)\u001b[0m\n\u001b[1;32m    259\u001b[0m             \u001b[0mcolor\u001b[0m\u001b[0;34m=\u001b[0m\u001b[0;34m\"red\"\u001b[0m\u001b[0;34m,\u001b[0m\u001b[0;34m\u001b[0m\u001b[0;34m\u001b[0m\u001b[0m\n\u001b[1;32m    260\u001b[0m         )\n\u001b[0;32m--> 261\u001b[0;31m         \u001b[0;32mraise\u001b[0m \u001b[0mValueError\u001b[0m\u001b[0;34m(\u001b[0m\u001b[0;34m\"Invalid response from LLM call - None or empty.\"\u001b[0m\u001b[0;34m)\u001b[0m\u001b[0;34m\u001b[0m\u001b[0;34m\u001b[0m\u001b[0m\n\u001b[0m\u001b[1;32m    262\u001b[0m \u001b[0;34m\u001b[0m\u001b[0m\n\u001b[1;32m    263\u001b[0m     \u001b[0;32mreturn\u001b[0m \u001b[0manswer\u001b[0m\u001b[0;34m\u001b[0m\u001b[0;34m\u001b[0m\u001b[0m\n",
            "\u001b[0;31mValueError\u001b[0m: Invalid response from LLM call - None or empty."
          ]
        }
      ]
    },
    {
      "cell_type": "code",
      "source": [
        "output.raw"
      ],
      "metadata": {
        "id": "Fo9_qHaoAij9",
        "outputId": "7d64c548-dc99-4b77-b5f8-4f908a8ea406",
        "colab": {
          "base_uri": "https://localhost:8080/",
          "height": 36
        }
      },
      "execution_count": 71,
      "outputs": [
        {
          "output_type": "execute_result",
          "data": {
            "text/plain": [
              "' waiting for UAT.'"
            ],
            "application/vnd.google.colaboratory.intrinsic+json": {
              "type": "string"
            }
          },
          "metadata": {},
          "execution_count": 71
        }
      ]
    }
  ]
}