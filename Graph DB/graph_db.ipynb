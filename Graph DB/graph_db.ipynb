{
  "nbformat": 4,
  "nbformat_minor": 0,
  "metadata": {
    "colab": {
      "provenance": [],
      "toc_visible": true
    },
    "kernelspec": {
      "name": "python3",
      "display_name": "Python 3"
    },
    "language_info": {
      "name": "python"
    }
  },
  "cells": [
    {
      "cell_type": "code",
      "source": [
        "groq_api_key=r\"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\"\n",
        "URI=\"neo4j+s://063cc342.databases.neo4j.io\"\n",
        "Uname=\"neo4j\"\n",
        "passw=\"zoy6gdX9KQyz1h5V3LntJ74IjG6A_hTML83GTQv6LVw\"\n",
        "DATABASE=\"neo4j\"\n",
        "INST=\"063cc342\"\n",
        "INAME=\"paid-1\"\n"
      ],
      "metadata": {
        "id": "pjBkxyfe8Ezj"
      },
      "execution_count": null,
      "outputs": []
    },
    {
      "cell_type": "code",
      "source": [
        "from google.colab import userdata\n",
        "\n",
        "groq_api_key=userdata.get('groq_api_key')\n",
        "URI=userdata.get('URI')\n",
        "Uname=userdata.get('Uname')\n",
        "passw=userdata.get('passw')\n",
        "DATABASE=userdata.get('DATABASE')\n",
        "INST=userdata.get('INST')\n",
        "INAME=userdata.get('INAME')"
      ],
      "metadata": {
        "id": "676cxaMRZW0A"
      },
      "execution_count": 136,
      "outputs": []
    },
    {
      "cell_type": "code",
      "source": [
        "! pip install  langchain_core\n",
        "! pip install langchain_experimental\n",
        "! pip install  neo4j langchain_graphdb\n",
        "! pip install langchain_groq\n",
        "! pip install neo4j\n",
        "from neo4j import GraphDatabase, Query"
      ],
      "metadata": {
        "collapsed": true,
        "id": "XQ0ftjolylI-"
      },
      "execution_count": null,
      "outputs": []
    },
    {
      "cell_type": "code",
      "source": [
        "\n",
        "# aura db is cloud based graph database\n",
        "from langchain.graphs import Neo4jGraph\n",
        "graph = Neo4jGraph(\n",
        "    url=\"neo4j+s://063cc342.databases.neo4j.io\",\n",
        "    username=\"neo4j\",\n",
        "    password=passw,\n",
        ")\n",
        "# tips to connect, use https rather than neo4j+s: for protocol and provide password for it too username must like be neo4j in curreent case\n",
        "\n",
        "\"\"\"\n",
        "Three types of searches are allowe dover neo4j:\n",
        "1- range:less tha euql or more tha type search\n",
        "2- text: exact/prefix/sufix serach\n",
        "3- fuzzy serach\n",
        "\"\"\"\n"
      ],
      "metadata": {
        "id": "sGmKSQBa8Lgn",
        "colab": {
          "base_uri": "https://localhost:8080/",
          "height": 90
        },
        "outputId": "1b9c1dd0-c4b7-40bd-a1a1-96d17ca599a1"
      },
      "execution_count": null,
      "outputs": [
        {
          "output_type": "stream",
          "name": "stderr",
          "text": [
            "/tmp/ipython-input-3724613611.py:3: LangChainDeprecationWarning: The class `Neo4jGraph` was deprecated in LangChain 0.3.8 and will be removed in 1.0. An updated version of the class exists in the :class:`~langchain-neo4j package and should be used instead. To use it run `pip install -U :class:`~langchain-neo4j` and import as `from :class:`~langchain_neo4j import Neo4jGraph``.\n",
            "  graph = Neo4jGraph(\n"
          ]
        },
        {
          "output_type": "execute_result",
          "data": {
            "text/plain": [
              "'\\nThree types of searches are allowe dover neo4j:\\n1- range:less tha euql or more tha type search\\n2- text: exact/prefix/sufix serach\\n3- fuzzy serach\\n'"
            ],
            "application/vnd.google.colaboratory.intrinsic+json": {
              "type": "string"
            }
          },
          "metadata": {},
          "execution_count": 4
        }
      ]
    },
    {
      "cell_type": "code",
      "source": [
        "try:\n",
        "    driver = GraphDatabase.driver(URI, auth=(Uname, passw))\n",
        "    driver.verify_connectivity()\n",
        "    print(\"Connection to Neo4j successful!\")\n",
        "except Exception as e:\n",
        "    print(f\"Failed to connect to Neo4j: {e}\")\n",
        "    # In a real application, you might want more robust error handling\n",
        "    exit()"
      ],
      "metadata": {
        "colab": {
          "base_uri": "https://localhost:8080/"
        },
        "id": "SbT4Q58KWFRr",
        "outputId": "891ef01e-8834-4287-a83f-30639c17d47e"
      },
      "execution_count": null,
      "outputs": [
        {
          "output_type": "stream",
          "name": "stdout",
          "text": [
            "Connection to Neo4j successful!\n"
          ]
        }
      ]
    },
    {
      "cell_type": "code",
      "execution_count": 111,
      "metadata": {
        "id": "ywKLFcWO79du",
        "colab": {
          "base_uri": "https://localhost:8080/"
        },
        "outputId": "18699333-58e3-4de0-f3cf-27d378a5a53f"
      },
      "outputs": [
        {
          "output_type": "execute_result",
          "data": {
            "text/plain": [
              "([Node(id='Adarsh Kumar Gupta', type='Person', properties={}),\n",
              "  Node(id='Adarsh0', type='Person', properties={}),\n",
              "  Node(id='Ada1Rsh', type='Person', properties={}),\n",
              "  Node(id='2Adarsh', type='Person', properties={}),\n",
              "  Node(id='Sir Alex Ferguson', type='Person', properties={}),\n",
              "  Node(id='Alex Johnson', type='Person', properties={}),\n",
              "  Node(id='Sarah Smith', type='Person', properties={}),\n",
              "  Node(id='A. Jones', type='Person', properties={}),\n",
              "  Node(id='Alex Jones', type='Person', properties={}),\n",
              "  Node(id='Alexander Jones', type='Person', properties={}),\n",
              "  Node(id='Accenture', type='Organization', properties={}),\n",
              "  Node(id='Zs Company', type='Organization', properties={}),\n",
              "  Node(id='Dell', type='Organization', properties={}),\n",
              "  Node(id='Manchester United Football Club', type='Sportsteam', properties={}),\n",
              "  Node(id='Old Trafford', type='Stadium', properties={}),\n",
              "  Node(id='Xps 13', type='Product', properties={})],\n",
              " [Relationship(source=Node(id='Adarsh Kumar Gupta', type='Person', properties={}), target=Node(id='Accenture', type='Organization', properties={}), type='WORKS_FOR', properties={}),\n",
              "  Relationship(source=Node(id='Adarsh0', type='Person', properties={}), target=Node(id='Zs Company', type='Organization', properties={}), type='WORKS_FOR', properties={}),\n",
              "  Relationship(source=Node(id='Ada1Rsh', type='Person', properties={}), target=Node(id='Zs Company', type='Organization', properties={}), type='WORKS_FOR', properties={}),\n",
              "  Relationship(source=Node(id='2Adarsh', type='Person', properties={}), target=Node(id='Zs Company', type='Organization', properties={}), type='WORKS_FOR', properties={}),\n",
              "  Relationship(source=Node(id='Sir Alex Ferguson', type='Person', properties={}), target=Node(id='Accenture', type='Organization', properties={}), type='WORKS_FOR', properties={}),\n",
              "  Relationship(source=Node(id='Alex Johnson', type='Person', properties={}), target=Node(id='Accenture', type='Organization', properties={}), type='WORKS_FOR', properties={}),\n",
              "  Relationship(source=Node(id='Sarah Smith', type='Person', properties={}), target=Node(id='Accenture', type='Organization', properties={}), type='WORKS_FOR', properties={}),\n",
              "  Relationship(source=Node(id='A. Jones', type='Person', properties={}), target=Node(id='Dell', type='Organization', properties={}), type='PURCHASED_FROM', properties={}),\n",
              "  Relationship(source=Node(id='Alex Jones', type='Person', properties={}), target=Node(id='Dell', type='Organization', properties={}), type='PURCHASED_FROM', properties={}),\n",
              "  Relationship(source=Node(id='Alexander Jones', type='Person', properties={}), target=Node(id='Dell', type='Organization', properties={}), type='PURCHASED_FROM', properties={}),\n",
              "  Relationship(source=Node(id='A. Jones', type='Person', properties={}), target=Node(id='Xps 13', type='Product', properties={}), type='PURCHASED', properties={}),\n",
              "  Relationship(source=Node(id='Alex Jones', type='Person', properties={}), target=Node(id='Xps 13', type='Product', properties={}), type='PURCHASED', properties={}),\n",
              "  Relationship(source=Node(id='Alexander Jones', type='Person', properties={}), target=Node(id='Xps 13', type='Product', properties={}), type='PURCHASED', properties={}),\n",
              "  Relationship(source=Node(id='Manchester United Football Club', type='Sportsteam', properties={}), target=Node(id='Old Trafford', type='Stadium', properties={}), type='PLAYS_AT', properties={}),\n",
              "  Relationship(source=Node(id='Sir Alex Ferguson', type='Person', properties={}), target=Node(id='Manchester United Football Club', type='Sportsteam', properties={}), type='MANAGED', properties={})])"
            ]
          },
          "metadata": {},
          "execution_count": 111
        }
      ],
      "source": [
        "\n",
        "from langchain_core.documents import Document\n",
        "from langchain.prompts import ChatPromptTemplate\n",
        "# it will  convert  doc with its metadata , when save over vector db, metadata will also get save over vector db. such as the source file name, the page number, or the creation date. This metadata is crucial for advanced retrieval and filtering operations., for both metadata will alo get sqave\n",
        "text=\"\"\"\n",
        "My name is Adarsh Kumar Gupta, and I am an AI/ML Engineer with 1.8 years of hands-on experience at Accenture, specializing in the practical deployment of artificial intelligence and machine learning solutions in cloud-native environments.\n",
        "I know people with name adarsh0, ada1rsh and 2adarsh  who works at zs company for more than 3 years.\n",
        "Sir Alex Ferguson, Alex Johnson and Sarah Smith also works at Accenture\n",
        "I just bought a new Dell laptop, model XPS 13. It's great for programming, but the battery life is a little short. I am a software engineer. - by A. Jones\n",
        "I absolutely love my new laptop from Dell. It is the best one I've ever owned. The model I have is an XPS 13. - by Alex Jones\n",
        "I'm a freelancer and needed a fast computer. The Dell XPS 13 is a great machine for my work. - by Alexander Jones\n",
        "Manchester United Football Club is a professional football club based in Old Trafford, Greater Manchester, England. The club was founded as Newton Heath LYR Football Club in 1878. They play at Old Trafford, which is a stadium.\n",
        "Sir Alex Ferguson, Alex Johnson and Sarah Smith, a Scottish football manager, managed Manchester United from 1986 to 2013. He is widely regarded as one of the greatest managers of all time.\n",
        " all 3 works at accenture\"\"\"\n",
        "# documents=[Document(page_content=text, metadata={\"about\":\"we r using this data without and text splittter, for big doc to convert into chunks off documents, kindly use text splutter functionality of langchain\"})]\n",
        "\n",
        "\n",
        "additional_instructions=\"\"\"\n",
        "     You are an expert at extracting entities and their relationships from text. Your task is to extract information and transform it into a graph document.\n",
        "\n",
        "     Instructions:\n",
        "     1.  Extract all nodes (entities) and relationships from the provided text.\n",
        "     2.  Each node must have a 'type' and 'id'.\n",
        "     3.  Crucially, extract all relevant properties for each node. For a 'Person', this should include 'name', 'job_title', and 'experience'. For a 'Product', include 'name' and 'model'. For a 'Sportsteam', include 'name' and 'founded_year'.\n",
        "     4.  For relationships, include 'source', 'target', and 'type'.\n",
        "     5.  If a relationship has properties (e.g., years of a job), extract them as well.\n",
        "     6.  Do not hallucinate or create nodes or properties that are not explicitly mentioned in the text.\n",
        "\n",
        "     Example: if u are reruring node then , it should have id, type and *properties*.\n",
        "     Kindly return properties which will must hold enetities which are related to node. consider below data to decide what values could be in properties:\n",
        "\n",
        "      if you are conveting this sentence into nodes then , jane doe is a data scientits. then propties of this node must be like this\n",
        "       \"nodes\":  will have  attributes like\n",
        "\n",
        "         output format:(  \"id\": \"Jane Doe\",\n",
        "           \"type\": \"Person\",\n",
        "           \"properties\": {{\n",
        "             \"name\": \"Jane Doe\",\n",
        "             \"job_title\": \"Data Scientist\"}}\n",
        "             )\n",
        "\n",
        "\n",
        "\n",
        "     Schema to follow:\n",
        "     - Nodes:\n",
        "       - Person: properties should include 'name', 'job_title', 'experience'\n",
        "       - Organization: properties should include 'name'\n",
        "       - Product: properties should include 'name', 'model'\n",
        "       - Sportsteam: properties should include 'name', 'founded_year'\n",
        "       - Stadium: properties should include 'name'\n",
        "       - Jobtitle: properties should include 'name'\n",
        "     - Relationships:\n",
        "       - WORKS_FOR (Person -> Organization)\n",
        "       - OCCUPATION (Person -> Jobtitle)\n",
        "       - PURCHASED (Person -> Product)\n",
        "       - PURCHASED_FROM (Person -> Organization)\n",
        "       - PLAYS_AT (Sportsteam -> Stadium)\n",
        "       - MANAGED (Person -> Sportsteam): properties can include 'start_year', 'end_year'\n",
        "       - ORIGINAL_NAME (Sportsteam -> Sportsteam): properties can include 'founded_year'\n",
        "\n",
        "    Important: return something in ur properties of your node\n",
        "     \"\"\"\n",
        "\n",
        "custom_prompt = ChatPromptTemplate.from_messages([(\"system:\"+str(additional_instructions)), (\"human\", \"Extract the graph from the following text:\\n{input}\")])\n",
        "documents=[Document(page_content=text)]\n",
        "from langchain_groq import ChatGroq\n",
        "\n",
        "llm=ChatGroq(groq_api_key=groq_api_key,model_name=\"Gemma2-9b-It\")\n",
        "llm.invoke(\"hi\")\n",
        "\n",
        "additional_instructions=\"\"\n",
        "from langchain_experimental.graph_transformers import LLMGraphTransformer\n",
        "# llm_transformer=LLMGraphTransformer(llm=llm, additional_instructions=additional_instructions)\n",
        "llm_transformer=LLMGraphTransformer(llm=llm, prompt=custom_prompt)\n",
        "# we can give prompts = some _new_prompt but it will consider new one and start ognoring otthr prompts, so give as additonal_info\n",
        "\n",
        "graph_documents=llm_transformer.convert_to_graph_documents(documents)\n",
        "# so it will give output as listing of all nodes:(node1...node_n), then tell about relationship:[relationship btw all the nodes]. also other granular information will become become properties of node, it may not be a node\n",
        "\n",
        "graph_documents[0].nodes, graph_documents[0].relationships"
      ]
    },
    {
      "cell_type": "code",
      "source": [
        "graph_documents"
      ],
      "metadata": {
        "colab": {
          "base_uri": "https://localhost:8080/"
        },
        "id": "lyA6kIqB-pVF",
        "outputId": "80123b64-ca21-4344-870e-1090c5c134af"
      },
      "execution_count": 112,
      "outputs": [
        {
          "output_type": "execute_result",
          "data": {
            "text/plain": [
              "[GraphDocument(nodes=[Node(id='Adarsh Kumar Gupta', type='Person', properties={}), Node(id='Adarsh0', type='Person', properties={}), Node(id='Ada1Rsh', type='Person', properties={}), Node(id='2Adarsh', type='Person', properties={}), Node(id='Sir Alex Ferguson', type='Person', properties={}), Node(id='Alex Johnson', type='Person', properties={}), Node(id='Sarah Smith', type='Person', properties={}), Node(id='A. Jones', type='Person', properties={}), Node(id='Alex Jones', type='Person', properties={}), Node(id='Alexander Jones', type='Person', properties={}), Node(id='Accenture', type='Organization', properties={}), Node(id='Zs Company', type='Organization', properties={}), Node(id='Dell', type='Organization', properties={}), Node(id='Manchester United Football Club', type='Sportsteam', properties={}), Node(id='Old Trafford', type='Stadium', properties={}), Node(id='Xps 13', type='Product', properties={})], relationships=[Relationship(source=Node(id='Adarsh Kumar Gupta', type='Person', properties={}), target=Node(id='Accenture', type='Organization', properties={}), type='WORKS_FOR', properties={}), Relationship(source=Node(id='Adarsh0', type='Person', properties={}), target=Node(id='Zs Company', type='Organization', properties={}), type='WORKS_FOR', properties={}), Relationship(source=Node(id='Ada1Rsh', type='Person', properties={}), target=Node(id='Zs Company', type='Organization', properties={}), type='WORKS_FOR', properties={}), Relationship(source=Node(id='2Adarsh', type='Person', properties={}), target=Node(id='Zs Company', type='Organization', properties={}), type='WORKS_FOR', properties={}), Relationship(source=Node(id='Sir Alex Ferguson', type='Person', properties={}), target=Node(id='Accenture', type='Organization', properties={}), type='WORKS_FOR', properties={}), Relationship(source=Node(id='Alex Johnson', type='Person', properties={}), target=Node(id='Accenture', type='Organization', properties={}), type='WORKS_FOR', properties={}), Relationship(source=Node(id='Sarah Smith', type='Person', properties={}), target=Node(id='Accenture', type='Organization', properties={}), type='WORKS_FOR', properties={}), Relationship(source=Node(id='A. Jones', type='Person', properties={}), target=Node(id='Dell', type='Organization', properties={}), type='PURCHASED_FROM', properties={}), Relationship(source=Node(id='Alex Jones', type='Person', properties={}), target=Node(id='Dell', type='Organization', properties={}), type='PURCHASED_FROM', properties={}), Relationship(source=Node(id='Alexander Jones', type='Person', properties={}), target=Node(id='Dell', type='Organization', properties={}), type='PURCHASED_FROM', properties={}), Relationship(source=Node(id='A. Jones', type='Person', properties={}), target=Node(id='Xps 13', type='Product', properties={}), type='PURCHASED', properties={}), Relationship(source=Node(id='Alex Jones', type='Person', properties={}), target=Node(id='Xps 13', type='Product', properties={}), type='PURCHASED', properties={}), Relationship(source=Node(id='Alexander Jones', type='Person', properties={}), target=Node(id='Xps 13', type='Product', properties={}), type='PURCHASED', properties={}), Relationship(source=Node(id='Manchester United Football Club', type='Sportsteam', properties={}), target=Node(id='Old Trafford', type='Stadium', properties={}), type='PLAYS_AT', properties={}), Relationship(source=Node(id='Sir Alex Ferguson', type='Person', properties={}), target=Node(id='Manchester United Football Club', type='Sportsteam', properties={}), type='MANAGED', properties={})], source=Document(metadata={}, page_content=\"\\nMy name is Adarsh Kumar Gupta, and I am an AI/ML Engineer with 1.8 years of hands-on experience at Accenture, specializing in the practical deployment of artificial intelligence and machine learning solutions in cloud-native environments.\\nI know people with name adarsh0, ada1rsh and 2adarsh  who works at zs company for more than 3 years.\\nSir Alex Ferguson, Alex Johnson and Sarah Smith also works at Accenture\\nI just bought a new Dell laptop, model XPS 13. It's great for programming, but the battery life is a little short. I am a software engineer. - by A. Jones\\nI absolutely love my new laptop from Dell. It is the best one I've ever owned. The model I have is an XPS 13. - by Alex Jones\\nI'm a freelancer and needed a fast computer. The Dell XPS 13 is a great machine for my work. - by Alexander Jones\\nManchester United Football Club is a professional football club based in Old Trafford, Greater Manchester, England. The club was founded as Newton Heath LYR Football Club in 1878. They play at Old Trafford, which is a stadium.\\nSir Alex Ferguson, Alex Johnson and Sarah Smith, a Scottish football manager, managed Manchester United from 1986 to 2013. He is widely regarded as one of the greatest managers of all time.\\n all 3 works at accenture\"))]"
            ]
          },
          "metadata": {},
          "execution_count": 112
        }
      ]
    },
    {
      "cell_type": "code",
      "source": [
        "graph.add_graph_documents(graph_documents)"
      ],
      "metadata": {
        "id": "_k0J5mX-8Lm-"
      },
      "execution_count": 113,
      "outputs": []
    },
    {
      "cell_type": "code",
      "source": [
        "from langchain.chains import GraphCypherQAChain\n",
        "chain=GraphCypherQAChain.from_llm(llm=llm,graph=graph,verbose=True, allow_dangerous_requests=True, validate_cypher=True)\n",
        "chain"
      ],
      "metadata": {
        "colab": {
          "base_uri": "https://localhost:8080/"
        },
        "id": "yN_RrbUa8Lov",
        "outputId": "d614a540-71b3-485c-aa64-84b1c5b3a532"
      },
      "execution_count": 114,
      "outputs": [
        {
          "output_type": "execute_result",
          "data": {
            "text/plain": [
              "GraphCypherQAChain(verbose=True, graph=<langchain_community.graphs.neo4j_graph.Neo4jGraph object at 0x789766fede80>, cypher_generation_chain=LLMChain(verbose=False, prompt=PromptTemplate(input_variables=['question', 'schema'], input_types={}, partial_variables={}, template='Task:Generate Cypher statement to query a graph database.\\nInstructions:\\nUse only the provided relationship types and properties in the schema.\\nDo not use any other relationship types or properties that are not provided.\\nSchema:\\n{schema}\\nNote: Do not include any explanations or apologies in your responses.\\nDo not respond to any questions that might ask anything else than for you to construct a Cypher statement.\\nDo not include any text except the generated Cypher statement.\\n\\nThe question is:\\n{question}'), llm=ChatGroq(client=<groq.resources.chat.completions.Completions object at 0x7897532de4e0>, async_client=<groq.resources.chat.completions.AsyncCompletions object at 0x789747871430>, model_name='Gemma2-9b-It', model_kwargs={}, groq_api_key=SecretStr('**********')), output_parser=StrOutputParser(), llm_kwargs={}), qa_chain=LLMChain(verbose=False, prompt=PromptTemplate(input_variables=['context', 'question'], input_types={}, partial_variables={}, template=\"You are an assistant that helps to form nice and human understandable answers.\\nThe information part contains the provided information that you must use to construct an answer.\\nThe provided information is authoritative, you must never doubt it or try to use your internal knowledge to correct it.\\nMake the answer sound as a response to the question. Do not mention that you based the result on the given information.\\nHere is an example:\\n\\nQuestion: Which managers own Neo4j stocks?\\nContext:[manager:CTL LLC, manager:JANE STREET GROUP LLC]\\nHelpful Answer: CTL LLC, JANE STREET GROUP LLC owns Neo4j stocks.\\n\\nFollow this example when generating answers.\\nIf the provided information is empty, say that you don't know the answer.\\nInformation:\\n{context}\\n\\nQuestion: {question}\\nHelpful Answer:\"), llm=ChatGroq(client=<groq.resources.chat.completions.Completions object at 0x7897532de4e0>, async_client=<groq.resources.chat.completions.AsyncCompletions object at 0x789747871430>, model_name='Gemma2-9b-It', model_kwargs={}, groq_api_key=SecretStr('**********')), output_parser=StrOutputParser(), llm_kwargs={}), graph_schema='Node properties are the following:\\nPerson {name: STRING, id: STRING, job_title: STRING, experience_years: FLOAT},Jobtitle {title: STRING, id: STRING},Profession {id: STRING},Company {id: STRING},Experience {id: STRING, years: STRING, year_of_experience: FLOAT, yearsOfExperience: FLOAT},Environment {id: STRING},Organization {id: STRING},Product {id: STRING},Stadium {id: STRING},Sportsteam {id: STRING}\\nRelationship properties are the following:\\n\\nThe relationships are the following:\\n(:Person)-[:WORKS_AS]->(:Jobtitle),(:Person)-[:WORKS_AS]->(:Profession),(:Person)-[:WORKS_1]->(:Jobtitle),(:Person)-[:EMPLOYS]->(:Company),(:Person)-[:HAS_EXPERIENCE]->(:Experience),(:Person)-[:EXPERT_IN]->(:Environment),(:Person)-[:WORKS_FOR]->(:Organization),(:Person)-[:OCCUPATION]->(:Jobtitle),(:Person)-[:PURCHASED_FROM]->(:Organization),(:Person)-[:PURCHASED]->(:Product),(:Person)-[:MANAGED]->(:Sportsteam),(:Sportsteam)-[:PLAYS_AT]->(:Stadium),(:Sportsteam)-[:ORIGINAL_NAME]->(:Sportsteam)', cypher_query_corrector=<langchain_community.chains.graph_qa.cypher_utils.CypherQueryCorrector object at 0x789747d9f950>, allow_dangerous_requests=True)"
            ]
          },
          "metadata": {},
          "execution_count": 114
        }
      ]
    },
    {
      "cell_type": "code",
      "source": [
        "\"\"\"\n",
        "It is returning null bcz actual data in neo4j is Adarsh Kumar Gupta anot adarsh kumar gupta, so we will use fuzzy here to get similar matches using apache lucine.\n",
        "Steps:\n",
        "Create an index : full text search # fuzzy\n",
        "serach ur terms over there and get similar matches.\n",
        "use that data and find it over full cluster.\n",
        "\"\"\"\n",
        "\n",
        "response=chain.invoke({\"query\":\"who is person whose id is  Adarsh0\"})\n",
        "\n",
        "response\n",
        "\n"
      ],
      "metadata": {
        "colab": {
          "base_uri": "https://localhost:8080/"
        },
        "id": "zIdwUKfjHYuW",
        "outputId": "6dadbda2-e255-43db-8868-5dc80c00ad06"
      },
      "execution_count": 115,
      "outputs": [
        {
          "output_type": "stream",
          "name": "stdout",
          "text": [
            "\n",
            "\n",
            "\u001b[1m> Entering new GraphCypherQAChain chain...\u001b[0m\n",
            "Generated Cypher:\n",
            "\u001b[32;1m\u001b[1;3mMATCH (p:Person {id:'Adarsh0'}) RETURN p\n",
            "\u001b[0m\n",
            "Full Context:\n",
            "\u001b[32;1m\u001b[1;3m[{'p': {'id': 'Adarsh0'}}]\u001b[0m\n",
            "\n",
            "\u001b[1m> Finished chain.\u001b[0m\n"
          ]
        },
        {
          "output_type": "execute_result",
          "data": {
            "text/plain": [
              "{'query': 'who is person whose id is  Adarsh0',\n",
              " 'result': 'Adarsh0 is a person.  \\n'}"
            ]
          },
          "metadata": {},
          "execution_count": 115
        }
      ]
    },
    {
      "cell_type": "markdown",
      "source": [
        "# Fuzzy serach over Graph DB"
      ],
      "metadata": {
        "id": "umzvE2RbXzbr"
      }
    },
    {
      "cell_type": "code",
      "source": [
        "index0=\"\"\"CREATE FULLTEXT INDEX index_name IF NOT EXISTS\n",
        "FOR (n:Person) ON EACH [n.id]\n",
        "\n",
        "\"\"\"\n",
        "# created a index on person node\n",
        "\n",
        "# creating  index over Person node to avoild full nodes a=search for fuzzy\n",
        "q1_out=driver.execute_query(index0)\n",
        "q1_out"
      ],
      "metadata": {
        "colab": {
          "base_uri": "https://localhost:8080/"
        },
        "id": "hRVap2JUYCUM",
        "outputId": "9489f7d0-54a5-4322-8620-7a0b7d729eeb"
      },
      "execution_count": 129,
      "outputs": [
        {
          "output_type": "execute_result",
          "data": {
            "text/plain": [
              "EagerResult(records=[], summary=<neo4j._work.summary.ResultSummary object at 0x789747a933b0>, keys=[])"
            ]
          },
          "metadata": {},
          "execution_count": 129
        }
      ]
    },
    {
      "cell_type": "code",
      "source": [
        "# now testing index using  fuzzy logic input\n",
        "\n",
        "q1=\"\"\"CALL db.index.fulltext.queryNodes('index_name', 'adarsh~0.01')\n",
        "YIELD node, score\n",
        "RETURN node.id , score\n",
        "ORDER BY score DESC\n",
        "\"\"\"\n",
        "\n",
        "# it will split workds and search which node contain max terms and score accordingly, same as open search\n",
        "# ~, fuzzy will take laventeain distance\n",
        "\n",
        "q1_out=driver.execute_query(q1)\n",
        "q1_out"
      ],
      "metadata": {
        "colab": {
          "base_uri": "https://localhost:8080/"
        },
        "id": "WUpU3HYxajiV",
        "outputId": "4a6fa978-27b6-4a1f-f1d1-2b4245c32857"
      },
      "execution_count": 131,
      "outputs": [
        {
          "output_type": "execute_result",
          "data": {
            "text/plain": [
              "EagerResult(records=[], summary=<neo4j._work.summary.ResultSummary object at 0x789747678560>, keys=['node.id', 'score'])"
            ]
          },
          "metadata": {},
          "execution_count": 131
        }
      ]
    },
    {
      "cell_type": "code",
      "source": [
        "# withput fuzzy\n",
        "q2=\"\"\"CALL db.index.fulltext.queryNodes('index_name', 'alen')\n",
        "YIELD node, score\n",
        "RETURN node.id, score\n",
        "ORDER BY score DESC\n",
        "\"\"\"\n",
        "\n",
        "# with fuzzy\n",
        "q22=\"\"\"CALL db.index.fulltext.queryNodes('index_name', 'alen~')\n",
        "YIELD node, score\n",
        "RETURN node.id, score\n",
        "ORDER BY score DESC\n",
        "\"\"\"\n",
        "\n",
        "q2_out=driver.execute_query(q2)\n",
        "q22_out=driver.execute_query(q22)\n",
        "print(\"q2_out\",q2_out)\n",
        "print(\"------------------\")\n",
        "print(\"q22_out\",q22_out)\n"
      ],
      "metadata": {
        "colab": {
          "base_uri": "https://localhost:8080/"
        },
        "id": "mgb6FZ8HYwYM",
        "outputId": "4e495e53-2ee4-4c28-9a3a-0a37b498d681"
      },
      "execution_count": 132,
      "outputs": [
        {
          "output_type": "stream",
          "name": "stdout",
          "text": [
            "q2_out EagerResult(records=[], summary=<neo4j._work.summary.ResultSummary object at 0x78974767b290>, keys=['node.id', 'score'])\n",
            "------------------\n",
            "q22_out EagerResult(records=[<Record node.id='Alex Johnson' score=0.38215771317481995>, <Record node.id='Alex Jones' score=0.38215771317481995>, <Record node.id='Sir Alex Ferguson' score=0.3156312108039856>], summary=<neo4j._work.summary.ResultSummary object at 0x789747a914f0>, keys=['node.id', 'score'])\n"
          ]
        }
      ]
    },
    {
      "cell_type": "code",
      "source": [
        "q3=\"\"\"\n",
        "match (p:Person)\n",
        "return p\n",
        "\"\"\"\n",
        "\n",
        "q3_out=driver.execute_query(q3)\n",
        "q3_out"
      ],
      "metadata": {
        "colab": {
          "base_uri": "https://localhost:8080/"
        },
        "id": "UNx0HBW6Wc55",
        "outputId": "86b5cc22-85dc-4cce-f9fb-ad09e21bc883"
      },
      "execution_count": 133,
      "outputs": [
        {
          "output_type": "execute_result",
          "data": {
            "text/plain": [
              "EagerResult(records=[<Record p=<Node element_id='4:56c61591-99cb-440c-ae9e-ac7018f31a4a:0' labels=frozenset({'Person'}) properties={'city': 'London', 'name': 'Alex Johnson', 'id': 2, 'age': 25}>>, <Record p=<Node element_id='4:56c61591-99cb-440c-ae9e-ac7018f31a4a:1' labels=frozenset({'Person'}) properties={'city': 'New York', 'name': 'Sarah Smith', 'id': 3, 'age': 35}>>, <Record p=<Node element_id='4:56c61591-99cb-440c-ae9e-ac7018f31a4a:3' labels=frozenset({'Person'}) properties={'id': 'Adarsh Kumar Gupta'}>>, <Record p=<Node element_id='4:56c61591-99cb-440c-ae9e-ac7018f31a4a:4' labels=frozenset({'Person'}) properties={'id': 'Adarsh0'}>>, <Record p=<Node element_id='4:56c61591-99cb-440c-ae9e-ac7018f31a4a:5' labels=frozenset({'Person'}) properties={'id': 'Ada1Rsh'}>>, <Record p=<Node element_id='4:56c61591-99cb-440c-ae9e-ac7018f31a4a:6' labels=frozenset({'Person'}) properties={'id': '2Adarsh'}>>, <Record p=<Node element_id='4:56c61591-99cb-440c-ae9e-ac7018f31a4a:7' labels=frozenset({'Person'}) properties={'id': 'Sir Alex Ferguson'}>>, <Record p=<Node element_id='4:56c61591-99cb-440c-ae9e-ac7018f31a4a:8' labels=frozenset({'Person'}) properties={'id': 'Alex Johnson'}>>, <Record p=<Node element_id='4:56c61591-99cb-440c-ae9e-ac7018f31a4a:9' labels=frozenset({'Person'}) properties={'id': 'Sarah Smith'}>>, <Record p=<Node element_id='4:56c61591-99cb-440c-ae9e-ac7018f31a4a:10' labels=frozenset({'Person'}) properties={'id': 'A. Jones'}>>, <Record p=<Node element_id='4:56c61591-99cb-440c-ae9e-ac7018f31a4a:11' labels=frozenset({'Person'}) properties={'id': 'Alex Jones'}>>, <Record p=<Node element_id='4:56c61591-99cb-440c-ae9e-ac7018f31a4a:12' labels=frozenset({'Person'}) properties={'id': 'Alexander Jones'}>>, <Record p=<Node element_id='4:56c61591-99cb-440c-ae9e-ac7018f31a4a:19' labels=frozenset({'Person'}) properties={'city': 'Bangalore', 'name': 'Adarsh Kumar Gupta', 'id': 1, 'age': 30}>>], summary=<neo4j._work.summary.ResultSummary object at 0x78974767b5f0>, keys=['p'])"
            ]
          },
          "metadata": {},
          "execution_count": 133
        }
      ]
    },
    {
      "cell_type": "markdown",
      "source": [
        "# Loading data rom comma seprated file\n"
      ],
      "metadata": {
        "id": "Yytvibk3_YcZ"
      }
    },
    {
      "cell_type": "code",
      "source": [
        "from google.colab import drive\n",
        "drive.mount(\"/content/drive\")"
      ],
      "metadata": {
        "colab": {
          "base_uri": "https://localhost:8080/"
        },
        "id": "DWoEjRzt_Xi4",
        "outputId": "b024b750-5aa2-4086-dc2d-01d31ba66a06"
      },
      "execution_count": 118,
      "outputs": [
        {
          "output_type": "stream",
          "name": "stdout",
          "text": [
            "Drive already mounted at /content/drive; to attempt to forcibly remount, call drive.mount(\"/content/drive\", force_remount=True).\n"
          ]
        }
      ]
    },
    {
      "cell_type": "code",
      "source": [
        "import pandas as pd\n",
        "df1=pd.read_csv(r\"/content/grpah_db_csv1 - Sheet1.csv\")\n",
        "df2=pd.read_csv(r\"/content/grpah_db_csv1 - Sheet2.csv\")"
      ],
      "metadata": {
        "id": "Fhm4k_wM_XlB"
      },
      "execution_count": 119,
      "outputs": []
    },
    {
      "cell_type": "code",
      "source": [
        "df1.head()\n"
      ],
      "metadata": {
        "colab": {
          "base_uri": "https://localhost:8080/",
          "height": 143
        },
        "id": "-40cEossDomY",
        "outputId": "b087a382-cee0-431a-fb82-a691d822e8b5"
      },
      "execution_count": 120,
      "outputs": [
        {
          "output_type": "execute_result",
          "data": {
            "text/plain": [
              "   person_id                name  age       city\n",
              "0          1  Adarsh Kumar Gupta   30  Bangalore\n",
              "1          2        Alex Johnson   25     London\n",
              "2          3         Sarah Smith   35   New York"
            ],
            "text/html": [
              "\n",
              "  <div id=\"df-e1db609a-4f73-4308-96f7-5d048a8295e0\" class=\"colab-df-container\">\n",
              "    <div>\n",
              "<style scoped>\n",
              "    .dataframe tbody tr th:only-of-type {\n",
              "        vertical-align: middle;\n",
              "    }\n",
              "\n",
              "    .dataframe tbody tr th {\n",
              "        vertical-align: top;\n",
              "    }\n",
              "\n",
              "    .dataframe thead th {\n",
              "        text-align: right;\n",
              "    }\n",
              "</style>\n",
              "<table border=\"1\" class=\"dataframe\">\n",
              "  <thead>\n",
              "    <tr style=\"text-align: right;\">\n",
              "      <th></th>\n",
              "      <th>person_id</th>\n",
              "      <th>name</th>\n",
              "      <th>age</th>\n",
              "      <th>city</th>\n",
              "    </tr>\n",
              "  </thead>\n",
              "  <tbody>\n",
              "    <tr>\n",
              "      <th>0</th>\n",
              "      <td>1</td>\n",
              "      <td>Adarsh Kumar Gupta</td>\n",
              "      <td>30</td>\n",
              "      <td>Bangalore</td>\n",
              "    </tr>\n",
              "    <tr>\n",
              "      <th>1</th>\n",
              "      <td>2</td>\n",
              "      <td>Alex Johnson</td>\n",
              "      <td>25</td>\n",
              "      <td>London</td>\n",
              "    </tr>\n",
              "    <tr>\n",
              "      <th>2</th>\n",
              "      <td>3</td>\n",
              "      <td>Sarah Smith</td>\n",
              "      <td>35</td>\n",
              "      <td>New York</td>\n",
              "    </tr>\n",
              "  </tbody>\n",
              "</table>\n",
              "</div>\n",
              "    <div class=\"colab-df-buttons\">\n",
              "\n",
              "  <div class=\"colab-df-container\">\n",
              "    <button class=\"colab-df-convert\" onclick=\"convertToInteractive('df-e1db609a-4f73-4308-96f7-5d048a8295e0')\"\n",
              "            title=\"Convert this dataframe to an interactive table.\"\n",
              "            style=\"display:none;\">\n",
              "\n",
              "  <svg xmlns=\"http://www.w3.org/2000/svg\" height=\"24px\" viewBox=\"0 -960 960 960\">\n",
              "    <path d=\"M120-120v-720h720v720H120Zm60-500h600v-160H180v160Zm220 220h160v-160H400v160Zm0 220h160v-160H400v160ZM180-400h160v-160H180v160Zm440 0h160v-160H620v160ZM180-180h160v-160H180v160Zm440 0h160v-160H620v160Z\"/>\n",
              "  </svg>\n",
              "    </button>\n",
              "\n",
              "  <style>\n",
              "    .colab-df-container {\n",
              "      display:flex;\n",
              "      gap: 12px;\n",
              "    }\n",
              "\n",
              "    .colab-df-convert {\n",
              "      background-color: #E8F0FE;\n",
              "      border: none;\n",
              "      border-radius: 50%;\n",
              "      cursor: pointer;\n",
              "      display: none;\n",
              "      fill: #1967D2;\n",
              "      height: 32px;\n",
              "      padding: 0 0 0 0;\n",
              "      width: 32px;\n",
              "    }\n",
              "\n",
              "    .colab-df-convert:hover {\n",
              "      background-color: #E2EBFA;\n",
              "      box-shadow: 0px 1px 2px rgba(60, 64, 67, 0.3), 0px 1px 3px 1px rgba(60, 64, 67, 0.15);\n",
              "      fill: #174EA6;\n",
              "    }\n",
              "\n",
              "    .colab-df-buttons div {\n",
              "      margin-bottom: 4px;\n",
              "    }\n",
              "\n",
              "    [theme=dark] .colab-df-convert {\n",
              "      background-color: #3B4455;\n",
              "      fill: #D2E3FC;\n",
              "    }\n",
              "\n",
              "    [theme=dark] .colab-df-convert:hover {\n",
              "      background-color: #434B5C;\n",
              "      box-shadow: 0px 1px 3px 1px rgba(0, 0, 0, 0.15);\n",
              "      filter: drop-shadow(0px 1px 2px rgba(0, 0, 0, 0.3));\n",
              "      fill: #FFFFFF;\n",
              "    }\n",
              "  </style>\n",
              "\n",
              "    <script>\n",
              "      const buttonEl =\n",
              "        document.querySelector('#df-e1db609a-4f73-4308-96f7-5d048a8295e0 button.colab-df-convert');\n",
              "      buttonEl.style.display =\n",
              "        google.colab.kernel.accessAllowed ? 'block' : 'none';\n",
              "\n",
              "      async function convertToInteractive(key) {\n",
              "        const element = document.querySelector('#df-e1db609a-4f73-4308-96f7-5d048a8295e0');\n",
              "        const dataTable =\n",
              "          await google.colab.kernel.invokeFunction('convertToInteractive',\n",
              "                                                    [key], {});\n",
              "        if (!dataTable) return;\n",
              "\n",
              "        const docLinkHtml = 'Like what you see? Visit the ' +\n",
              "          '<a target=\"_blank\" href=https://colab.research.google.com/notebooks/data_table.ipynb>data table notebook</a>'\n",
              "          + ' to learn more about interactive tables.';\n",
              "        element.innerHTML = '';\n",
              "        dataTable['output_type'] = 'display_data';\n",
              "        await google.colab.output.renderOutput(dataTable, element);\n",
              "        const docLink = document.createElement('div');\n",
              "        docLink.innerHTML = docLinkHtml;\n",
              "        element.appendChild(docLink);\n",
              "      }\n",
              "    </script>\n",
              "  </div>\n",
              "\n",
              "\n",
              "    <div id=\"df-8548c5d7-54bf-4503-8216-10c4bd65a377\">\n",
              "      <button class=\"colab-df-quickchart\" onclick=\"quickchart('df-8548c5d7-54bf-4503-8216-10c4bd65a377')\"\n",
              "                title=\"Suggest charts\"\n",
              "                style=\"display:none;\">\n",
              "\n",
              "<svg xmlns=\"http://www.w3.org/2000/svg\" height=\"24px\"viewBox=\"0 0 24 24\"\n",
              "     width=\"24px\">\n",
              "    <g>\n",
              "        <path d=\"M19 3H5c-1.1 0-2 .9-2 2v14c0 1.1.9 2 2 2h14c1.1 0 2-.9 2-2V5c0-1.1-.9-2-2-2zM9 17H7v-7h2v7zm4 0h-2V7h2v10zm4 0h-2v-4h2v4z\"/>\n",
              "    </g>\n",
              "</svg>\n",
              "      </button>\n",
              "\n",
              "<style>\n",
              "  .colab-df-quickchart {\n",
              "      --bg-color: #E8F0FE;\n",
              "      --fill-color: #1967D2;\n",
              "      --hover-bg-color: #E2EBFA;\n",
              "      --hover-fill-color: #174EA6;\n",
              "      --disabled-fill-color: #AAA;\n",
              "      --disabled-bg-color: #DDD;\n",
              "  }\n",
              "\n",
              "  [theme=dark] .colab-df-quickchart {\n",
              "      --bg-color: #3B4455;\n",
              "      --fill-color: #D2E3FC;\n",
              "      --hover-bg-color: #434B5C;\n",
              "      --hover-fill-color: #FFFFFF;\n",
              "      --disabled-bg-color: #3B4455;\n",
              "      --disabled-fill-color: #666;\n",
              "  }\n",
              "\n",
              "  .colab-df-quickchart {\n",
              "    background-color: var(--bg-color);\n",
              "    border: none;\n",
              "    border-radius: 50%;\n",
              "    cursor: pointer;\n",
              "    display: none;\n",
              "    fill: var(--fill-color);\n",
              "    height: 32px;\n",
              "    padding: 0;\n",
              "    width: 32px;\n",
              "  }\n",
              "\n",
              "  .colab-df-quickchart:hover {\n",
              "    background-color: var(--hover-bg-color);\n",
              "    box-shadow: 0 1px 2px rgba(60, 64, 67, 0.3), 0 1px 3px 1px rgba(60, 64, 67, 0.15);\n",
              "    fill: var(--button-hover-fill-color);\n",
              "  }\n",
              "\n",
              "  .colab-df-quickchart-complete:disabled,\n",
              "  .colab-df-quickchart-complete:disabled:hover {\n",
              "    background-color: var(--disabled-bg-color);\n",
              "    fill: var(--disabled-fill-color);\n",
              "    box-shadow: none;\n",
              "  }\n",
              "\n",
              "  .colab-df-spinner {\n",
              "    border: 2px solid var(--fill-color);\n",
              "    border-color: transparent;\n",
              "    border-bottom-color: var(--fill-color);\n",
              "    animation:\n",
              "      spin 1s steps(1) infinite;\n",
              "  }\n",
              "\n",
              "  @keyframes spin {\n",
              "    0% {\n",
              "      border-color: transparent;\n",
              "      border-bottom-color: var(--fill-color);\n",
              "      border-left-color: var(--fill-color);\n",
              "    }\n",
              "    20% {\n",
              "      border-color: transparent;\n",
              "      border-left-color: var(--fill-color);\n",
              "      border-top-color: var(--fill-color);\n",
              "    }\n",
              "    30% {\n",
              "      border-color: transparent;\n",
              "      border-left-color: var(--fill-color);\n",
              "      border-top-color: var(--fill-color);\n",
              "      border-right-color: var(--fill-color);\n",
              "    }\n",
              "    40% {\n",
              "      border-color: transparent;\n",
              "      border-right-color: var(--fill-color);\n",
              "      border-top-color: var(--fill-color);\n",
              "    }\n",
              "    60% {\n",
              "      border-color: transparent;\n",
              "      border-right-color: var(--fill-color);\n",
              "    }\n",
              "    80% {\n",
              "      border-color: transparent;\n",
              "      border-right-color: var(--fill-color);\n",
              "      border-bottom-color: var(--fill-color);\n",
              "    }\n",
              "    90% {\n",
              "      border-color: transparent;\n",
              "      border-bottom-color: var(--fill-color);\n",
              "    }\n",
              "  }\n",
              "</style>\n",
              "\n",
              "      <script>\n",
              "        async function quickchart(key) {\n",
              "          const quickchartButtonEl =\n",
              "            document.querySelector('#' + key + ' button');\n",
              "          quickchartButtonEl.disabled = true;  // To prevent multiple clicks.\n",
              "          quickchartButtonEl.classList.add('colab-df-spinner');\n",
              "          try {\n",
              "            const charts = await google.colab.kernel.invokeFunction(\n",
              "                'suggestCharts', [key], {});\n",
              "          } catch (error) {\n",
              "            console.error('Error during call to suggestCharts:', error);\n",
              "          }\n",
              "          quickchartButtonEl.classList.remove('colab-df-spinner');\n",
              "          quickchartButtonEl.classList.add('colab-df-quickchart-complete');\n",
              "        }\n",
              "        (() => {\n",
              "          let quickchartButtonEl =\n",
              "            document.querySelector('#df-8548c5d7-54bf-4503-8216-10c4bd65a377 button');\n",
              "          quickchartButtonEl.style.display =\n",
              "            google.colab.kernel.accessAllowed ? 'block' : 'none';\n",
              "        })();\n",
              "      </script>\n",
              "    </div>\n",
              "\n",
              "    </div>\n",
              "  </div>\n"
            ],
            "application/vnd.google.colaboratory.intrinsic+json": {
              "type": "dataframe",
              "variable_name": "df1",
              "summary": "{\n  \"name\": \"df1\",\n  \"rows\": 3,\n  \"fields\": [\n    {\n      \"column\": \"person_id\",\n      \"properties\": {\n        \"dtype\": \"number\",\n        \"std\": 1,\n        \"min\": 1,\n        \"max\": 3,\n        \"num_unique_values\": 3,\n        \"samples\": [\n          1,\n          2,\n          3\n        ],\n        \"semantic_type\": \"\",\n        \"description\": \"\"\n      }\n    },\n    {\n      \"column\": \"name\",\n      \"properties\": {\n        \"dtype\": \"string\",\n        \"num_unique_values\": 3,\n        \"samples\": [\n          \"Adarsh Kumar Gupta\",\n          \"Alex Johnson\",\n          \"Sarah Smith\"\n        ],\n        \"semantic_type\": \"\",\n        \"description\": \"\"\n      }\n    },\n    {\n      \"column\": \"age\",\n      \"properties\": {\n        \"dtype\": \"number\",\n        \"std\": 5,\n        \"min\": 25,\n        \"max\": 35,\n        \"num_unique_values\": 3,\n        \"samples\": [\n          30,\n          25,\n          35\n        ],\n        \"semantic_type\": \"\",\n        \"description\": \"\"\n      }\n    },\n    {\n      \"column\": \"city\",\n      \"properties\": {\n        \"dtype\": \"string\",\n        \"num_unique_values\": 3,\n        \"samples\": [\n          \"Bangalore\",\n          \"London\",\n          \"New York\"\n        ],\n        \"semantic_type\": \"\",\n        \"description\": \"\"\n      }\n    }\n  ]\n}"
            }
          },
          "metadata": {},
          "execution_count": 120
        }
      ]
    },
    {
      "cell_type": "code",
      "source": [
        "# nodes creation : merge: it will update i not property node is existing else, no dublicate generation like create command\n",
        "final_query=\"\"\n",
        "for i, d in df1.iterrows():\n",
        "  # print(d.keys())\n",
        "  employee_query = \"\"\"\n",
        "    MERGE ({nn}:Person {{id: {id}}})\n",
        "    ON CREATE SET\n",
        "        {nn}.name = '{name}',\n",
        "        {nn}.age = {age},\n",
        "        {nn}.city = '{city}'\n",
        "    \"\"\".format(id=d[\"person_id\"],name=d[\"name\"],city=d[\"city\"], age=d[\"age\"], nn=str(d[\"name\"].split(\" \")[0]))\n",
        "  print(employee_query)\n",
        "  final_query+=employee_query\n",
        "\n",
        ""
      ],
      "metadata": {
        "colab": {
          "base_uri": "https://localhost:8080/"
        },
        "id": "8usduyepDosH",
        "outputId": "cc566cef-656c-43fa-a0d7-0464032bc622"
      },
      "execution_count": 121,
      "outputs": [
        {
          "output_type": "stream",
          "name": "stdout",
          "text": [
            "\n",
            "    MERGE (Adarsh:Person {id: 1})\n",
            "    ON CREATE SET\n",
            "        Adarsh.name = 'Adarsh Kumar Gupta',\n",
            "        Adarsh.age = 30,\n",
            "        Adarsh.city = 'Bangalore'\n",
            "    \n",
            "\n",
            "    MERGE (Alex:Person {id: 2})\n",
            "    ON CREATE SET\n",
            "        Alex.name = 'Alex Johnson',\n",
            "        Alex.age = 25,\n",
            "        Alex.city = 'London'\n",
            "    \n",
            "\n",
            "    MERGE (Sarah:Person {id: 3})\n",
            "    ON CREATE SET\n",
            "        Sarah.name = 'Sarah Smith',\n",
            "        Sarah.age = 35,\n",
            "        Sarah.city = 'New York'\n",
            "    \n"
          ]
        }
      ]
    },
    {
      "cell_type": "code",
      "source": [
        "q1_out=driver.execute_query(final_query)\n",
        "q1_out"
      ],
      "metadata": {
        "colab": {
          "base_uri": "https://localhost:8080/"
        },
        "id": "FXgvive_MJJK",
        "outputId": "4af35e75-458e-4eec-d312-2922bb49bb42"
      },
      "execution_count": 122,
      "outputs": [
        {
          "output_type": "execute_result",
          "data": {
            "text/plain": [
              "EagerResult(records=[], summary=<neo4j._work.summary.ResultSummary object at 0x789747ac75c0>, keys=[])"
            ]
          },
          "metadata": {},
          "execution_count": 122
        }
      ]
    },
    {
      "cell_type": "code",
      "source": [
        "df2.head()"
      ],
      "metadata": {
        "colab": {
          "base_uri": "https://localhost:8080/",
          "height": 143
        },
        "id": "I3MXSq64EJz8",
        "outputId": "c21605b6-4e1a-4fd7-ef05-7fec0b3ae194"
      },
      "execution_count": 123,
      "outputs": [
        {
          "output_type": "execute_result",
          "data": {
            "text/plain": [
              "   source_person_id  target_person_id relationship_type  since_year\n",
              "0                 1                 2             KNOWS        2020\n",
              "1                 2                 3        WORKS_WITH        2022\n",
              "2                 1                 3           FRIENDS        2018"
            ],
            "text/html": [
              "\n",
              "  <div id=\"df-fcd8864f-4ebf-41dc-95d0-0ea5236431c5\" class=\"colab-df-container\">\n",
              "    <div>\n",
              "<style scoped>\n",
              "    .dataframe tbody tr th:only-of-type {\n",
              "        vertical-align: middle;\n",
              "    }\n",
              "\n",
              "    .dataframe tbody tr th {\n",
              "        vertical-align: top;\n",
              "    }\n",
              "\n",
              "    .dataframe thead th {\n",
              "        text-align: right;\n",
              "    }\n",
              "</style>\n",
              "<table border=\"1\" class=\"dataframe\">\n",
              "  <thead>\n",
              "    <tr style=\"text-align: right;\">\n",
              "      <th></th>\n",
              "      <th>source_person_id</th>\n",
              "      <th>target_person_id</th>\n",
              "      <th>relationship_type</th>\n",
              "      <th>since_year</th>\n",
              "    </tr>\n",
              "  </thead>\n",
              "  <tbody>\n",
              "    <tr>\n",
              "      <th>0</th>\n",
              "      <td>1</td>\n",
              "      <td>2</td>\n",
              "      <td>KNOWS</td>\n",
              "      <td>2020</td>\n",
              "    </tr>\n",
              "    <tr>\n",
              "      <th>1</th>\n",
              "      <td>2</td>\n",
              "      <td>3</td>\n",
              "      <td>WORKS_WITH</td>\n",
              "      <td>2022</td>\n",
              "    </tr>\n",
              "    <tr>\n",
              "      <th>2</th>\n",
              "      <td>1</td>\n",
              "      <td>3</td>\n",
              "      <td>FRIENDS</td>\n",
              "      <td>2018</td>\n",
              "    </tr>\n",
              "  </tbody>\n",
              "</table>\n",
              "</div>\n",
              "    <div class=\"colab-df-buttons\">\n",
              "\n",
              "  <div class=\"colab-df-container\">\n",
              "    <button class=\"colab-df-convert\" onclick=\"convertToInteractive('df-fcd8864f-4ebf-41dc-95d0-0ea5236431c5')\"\n",
              "            title=\"Convert this dataframe to an interactive table.\"\n",
              "            style=\"display:none;\">\n",
              "\n",
              "  <svg xmlns=\"http://www.w3.org/2000/svg\" height=\"24px\" viewBox=\"0 -960 960 960\">\n",
              "    <path d=\"M120-120v-720h720v720H120Zm60-500h600v-160H180v160Zm220 220h160v-160H400v160Zm0 220h160v-160H400v160ZM180-400h160v-160H180v160Zm440 0h160v-160H620v160ZM180-180h160v-160H180v160Zm440 0h160v-160H620v160Z\"/>\n",
              "  </svg>\n",
              "    </button>\n",
              "\n",
              "  <style>\n",
              "    .colab-df-container {\n",
              "      display:flex;\n",
              "      gap: 12px;\n",
              "    }\n",
              "\n",
              "    .colab-df-convert {\n",
              "      background-color: #E8F0FE;\n",
              "      border: none;\n",
              "      border-radius: 50%;\n",
              "      cursor: pointer;\n",
              "      display: none;\n",
              "      fill: #1967D2;\n",
              "      height: 32px;\n",
              "      padding: 0 0 0 0;\n",
              "      width: 32px;\n",
              "    }\n",
              "\n",
              "    .colab-df-convert:hover {\n",
              "      background-color: #E2EBFA;\n",
              "      box-shadow: 0px 1px 2px rgba(60, 64, 67, 0.3), 0px 1px 3px 1px rgba(60, 64, 67, 0.15);\n",
              "      fill: #174EA6;\n",
              "    }\n",
              "\n",
              "    .colab-df-buttons div {\n",
              "      margin-bottom: 4px;\n",
              "    }\n",
              "\n",
              "    [theme=dark] .colab-df-convert {\n",
              "      background-color: #3B4455;\n",
              "      fill: #D2E3FC;\n",
              "    }\n",
              "\n",
              "    [theme=dark] .colab-df-convert:hover {\n",
              "      background-color: #434B5C;\n",
              "      box-shadow: 0px 1px 3px 1px rgba(0, 0, 0, 0.15);\n",
              "      filter: drop-shadow(0px 1px 2px rgba(0, 0, 0, 0.3));\n",
              "      fill: #FFFFFF;\n",
              "    }\n",
              "  </style>\n",
              "\n",
              "    <script>\n",
              "      const buttonEl =\n",
              "        document.querySelector('#df-fcd8864f-4ebf-41dc-95d0-0ea5236431c5 button.colab-df-convert');\n",
              "      buttonEl.style.display =\n",
              "        google.colab.kernel.accessAllowed ? 'block' : 'none';\n",
              "\n",
              "      async function convertToInteractive(key) {\n",
              "        const element = document.querySelector('#df-fcd8864f-4ebf-41dc-95d0-0ea5236431c5');\n",
              "        const dataTable =\n",
              "          await google.colab.kernel.invokeFunction('convertToInteractive',\n",
              "                                                    [key], {});\n",
              "        if (!dataTable) return;\n",
              "\n",
              "        const docLinkHtml = 'Like what you see? Visit the ' +\n",
              "          '<a target=\"_blank\" href=https://colab.research.google.com/notebooks/data_table.ipynb>data table notebook</a>'\n",
              "          + ' to learn more about interactive tables.';\n",
              "        element.innerHTML = '';\n",
              "        dataTable['output_type'] = 'display_data';\n",
              "        await google.colab.output.renderOutput(dataTable, element);\n",
              "        const docLink = document.createElement('div');\n",
              "        docLink.innerHTML = docLinkHtml;\n",
              "        element.appendChild(docLink);\n",
              "      }\n",
              "    </script>\n",
              "  </div>\n",
              "\n",
              "\n",
              "    <div id=\"df-ef59bdd1-ca10-4625-8815-e67a436c3ffb\">\n",
              "      <button class=\"colab-df-quickchart\" onclick=\"quickchart('df-ef59bdd1-ca10-4625-8815-e67a436c3ffb')\"\n",
              "                title=\"Suggest charts\"\n",
              "                style=\"display:none;\">\n",
              "\n",
              "<svg xmlns=\"http://www.w3.org/2000/svg\" height=\"24px\"viewBox=\"0 0 24 24\"\n",
              "     width=\"24px\">\n",
              "    <g>\n",
              "        <path d=\"M19 3H5c-1.1 0-2 .9-2 2v14c0 1.1.9 2 2 2h14c1.1 0 2-.9 2-2V5c0-1.1-.9-2-2-2zM9 17H7v-7h2v7zm4 0h-2V7h2v10zm4 0h-2v-4h2v4z\"/>\n",
              "    </g>\n",
              "</svg>\n",
              "      </button>\n",
              "\n",
              "<style>\n",
              "  .colab-df-quickchart {\n",
              "      --bg-color: #E8F0FE;\n",
              "      --fill-color: #1967D2;\n",
              "      --hover-bg-color: #E2EBFA;\n",
              "      --hover-fill-color: #174EA6;\n",
              "      --disabled-fill-color: #AAA;\n",
              "      --disabled-bg-color: #DDD;\n",
              "  }\n",
              "\n",
              "  [theme=dark] .colab-df-quickchart {\n",
              "      --bg-color: #3B4455;\n",
              "      --fill-color: #D2E3FC;\n",
              "      --hover-bg-color: #434B5C;\n",
              "      --hover-fill-color: #FFFFFF;\n",
              "      --disabled-bg-color: #3B4455;\n",
              "      --disabled-fill-color: #666;\n",
              "  }\n",
              "\n",
              "  .colab-df-quickchart {\n",
              "    background-color: var(--bg-color);\n",
              "    border: none;\n",
              "    border-radius: 50%;\n",
              "    cursor: pointer;\n",
              "    display: none;\n",
              "    fill: var(--fill-color);\n",
              "    height: 32px;\n",
              "    padding: 0;\n",
              "    width: 32px;\n",
              "  }\n",
              "\n",
              "  .colab-df-quickchart:hover {\n",
              "    background-color: var(--hover-bg-color);\n",
              "    box-shadow: 0 1px 2px rgba(60, 64, 67, 0.3), 0 1px 3px 1px rgba(60, 64, 67, 0.15);\n",
              "    fill: var(--button-hover-fill-color);\n",
              "  }\n",
              "\n",
              "  .colab-df-quickchart-complete:disabled,\n",
              "  .colab-df-quickchart-complete:disabled:hover {\n",
              "    background-color: var(--disabled-bg-color);\n",
              "    fill: var(--disabled-fill-color);\n",
              "    box-shadow: none;\n",
              "  }\n",
              "\n",
              "  .colab-df-spinner {\n",
              "    border: 2px solid var(--fill-color);\n",
              "    border-color: transparent;\n",
              "    border-bottom-color: var(--fill-color);\n",
              "    animation:\n",
              "      spin 1s steps(1) infinite;\n",
              "  }\n",
              "\n",
              "  @keyframes spin {\n",
              "    0% {\n",
              "      border-color: transparent;\n",
              "      border-bottom-color: var(--fill-color);\n",
              "      border-left-color: var(--fill-color);\n",
              "    }\n",
              "    20% {\n",
              "      border-color: transparent;\n",
              "      border-left-color: var(--fill-color);\n",
              "      border-top-color: var(--fill-color);\n",
              "    }\n",
              "    30% {\n",
              "      border-color: transparent;\n",
              "      border-left-color: var(--fill-color);\n",
              "      border-top-color: var(--fill-color);\n",
              "      border-right-color: var(--fill-color);\n",
              "    }\n",
              "    40% {\n",
              "      border-color: transparent;\n",
              "      border-right-color: var(--fill-color);\n",
              "      border-top-color: var(--fill-color);\n",
              "    }\n",
              "    60% {\n",
              "      border-color: transparent;\n",
              "      border-right-color: var(--fill-color);\n",
              "    }\n",
              "    80% {\n",
              "      border-color: transparent;\n",
              "      border-right-color: var(--fill-color);\n",
              "      border-bottom-color: var(--fill-color);\n",
              "    }\n",
              "    90% {\n",
              "      border-color: transparent;\n",
              "      border-bottom-color: var(--fill-color);\n",
              "    }\n",
              "  }\n",
              "</style>\n",
              "\n",
              "      <script>\n",
              "        async function quickchart(key) {\n",
              "          const quickchartButtonEl =\n",
              "            document.querySelector('#' + key + ' button');\n",
              "          quickchartButtonEl.disabled = true;  // To prevent multiple clicks.\n",
              "          quickchartButtonEl.classList.add('colab-df-spinner');\n",
              "          try {\n",
              "            const charts = await google.colab.kernel.invokeFunction(\n",
              "                'suggestCharts', [key], {});\n",
              "          } catch (error) {\n",
              "            console.error('Error during call to suggestCharts:', error);\n",
              "          }\n",
              "          quickchartButtonEl.classList.remove('colab-df-spinner');\n",
              "          quickchartButtonEl.classList.add('colab-df-quickchart-complete');\n",
              "        }\n",
              "        (() => {\n",
              "          let quickchartButtonEl =\n",
              "            document.querySelector('#df-ef59bdd1-ca10-4625-8815-e67a436c3ffb button');\n",
              "          quickchartButtonEl.style.display =\n",
              "            google.colab.kernel.accessAllowed ? 'block' : 'none';\n",
              "        })();\n",
              "      </script>\n",
              "    </div>\n",
              "\n",
              "    </div>\n",
              "  </div>\n"
            ],
            "application/vnd.google.colaboratory.intrinsic+json": {
              "type": "dataframe",
              "variable_name": "df2",
              "summary": "{\n  \"name\": \"df2\",\n  \"rows\": 3,\n  \"fields\": [\n    {\n      \"column\": \"source_person_id\",\n      \"properties\": {\n        \"dtype\": \"number\",\n        \"std\": 0,\n        \"min\": 1,\n        \"max\": 2,\n        \"num_unique_values\": 2,\n        \"samples\": [\n          2,\n          1\n        ],\n        \"semantic_type\": \"\",\n        \"description\": \"\"\n      }\n    },\n    {\n      \"column\": \"target_person_id\",\n      \"properties\": {\n        \"dtype\": \"number\",\n        \"std\": 0,\n        \"min\": 2,\n        \"max\": 3,\n        \"num_unique_values\": 2,\n        \"samples\": [\n          3,\n          2\n        ],\n        \"semantic_type\": \"\",\n        \"description\": \"\"\n      }\n    },\n    {\n      \"column\": \"relationship_type\",\n      \"properties\": {\n        \"dtype\": \"string\",\n        \"num_unique_values\": 3,\n        \"samples\": [\n          \"KNOWS\",\n          \"WORKS_WITH\"\n        ],\n        \"semantic_type\": \"\",\n        \"description\": \"\"\n      }\n    },\n    {\n      \"column\": \"since_year\",\n      \"properties\": {\n        \"dtype\": \"number\",\n        \"std\": 2,\n        \"min\": 2018,\n        \"max\": 2022,\n        \"num_unique_values\": 3,\n        \"samples\": [\n          2020,\n          2022\n        ],\n        \"semantic_type\": \"\",\n        \"description\": \"\"\n      }\n    }\n  ]\n}"
            }
          },
          "metadata": {},
          "execution_count": 123
        }
      ]
    },
    {
      "cell_type": "code",
      "source": [
        "# nodes creation : merge: it will update i not property node is existing else, no dublicate generation like create command\n",
        "final_query=\"\"\n",
        "for i, d in df2.iterrows():\n",
        "  # print(d.keys())\n",
        "  employee_query = \"\"\"\n",
        "    match ({nn}:Person {{id: {nn1}}})\n",
        "    match ({mm}:Person {{id: {mm1}}})\n",
        "    merge({nn})-[{rel_type}:rel_type]->({mm})\n",
        "    on  create set\n",
        "    {rel_type}.relationship_type='{relationship_type}',\n",
        "    {rel_type}.since_year={since_year}\n",
        "\n",
        "    \"\"\".format(nn=\"a\"+str(d[\"source_person_id\"]),mm=\"a\"+str(d[\"target_person_id\"]), nn1=d[\"source_person_id\"],\n",
        "               mm1=d[\"target_person_id\"],relationship_type=str(d[\"relationship_type\"]), since_year=d[\"since_year\"],rel_type=str(d[\"relationship_type\"])+\"aa\")\n",
        "  print(employee_query)\n",
        "  final_query+=employee_query\n",
        "  q1_out=driver.execute_query(employee_query)\n",
        "  print(\"insert query output: \",q1_out)\n",
        "\n",
        ""
      ],
      "metadata": {
        "colab": {
          "base_uri": "https://localhost:8080/"
        },
        "id": "WcK8dINNDovp",
        "outputId": "71a85fd8-1b52-441c-e9a6-357c68524d5c"
      },
      "execution_count": 125,
      "outputs": [
        {
          "output_type": "stream",
          "name": "stdout",
          "text": [
            "\n",
            "    match (a1:Person {id: 1})\n",
            "    match (a2:Person {id: 2})\n",
            "    merge(a1)-[KNOWSaa:rel_type]->(a2)\n",
            "    on  create set \n",
            "    KNOWSaa.relationship_type='KNOWS',\n",
            "    KNOWSaa.since_year=2020\n",
            "    \n",
            "    \n",
            "insert query output:  EagerResult(records=[], summary=<neo4j._work.summary.ResultSummary object at 0x789747a92390>, keys=[])\n",
            "\n",
            "    match (a2:Person {id: 2})\n",
            "    match (a3:Person {id: 3})\n",
            "    merge(a2)-[WORKS_WITHaa:rel_type]->(a3)\n",
            "    on  create set \n",
            "    WORKS_WITHaa.relationship_type='WORKS_WITH',\n",
            "    WORKS_WITHaa.since_year=2022\n",
            "    \n",
            "    \n",
            "insert query output:  EagerResult(records=[], summary=<neo4j._work.summary.ResultSummary object at 0x789747a92ae0>, keys=[])\n",
            "\n",
            "    match (a1:Person {id: 1})\n",
            "    match (a3:Person {id: 3})\n",
            "    merge(a1)-[FRIENDSaa:rel_type]->(a3)\n",
            "    on  create set \n",
            "    FRIENDSaa.relationship_type='FRIENDS',\n",
            "    FRIENDSaa.since_year=2018\n",
            "    \n",
            "    \n",
            "insert query output:  EagerResult(records=[], summary=<neo4j._work.summary.ResultSummary object at 0x789747a90bc0>, keys=[])\n"
          ]
        }
      ]
    }
  ]
}