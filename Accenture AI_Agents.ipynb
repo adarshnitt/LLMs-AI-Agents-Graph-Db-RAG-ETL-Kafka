{
  "nbformat": 4,
  "nbformat_minor": 0,
  "metadata": {
    "colab": {
      "provenance": [],
      "collapsed_sections": [
        "MunAhLr9YSR3",
        "bSCpkcgtvsko"
      ],
      "authorship_tag": "ABX9TyMBYMfe1/KIv+cb8299x5w+",
      "include_colab_link": true
    },
    "kernelspec": {
      "name": "python3",
      "display_name": "Python 3"
    },
    "language_info": {
      "name": "python"
    }
  },
  "cells": [
    {
      "cell_type": "markdown",
      "metadata": {
        "id": "view-in-github",
        "colab_type": "text"
      },
      "source": [
        "<a href=\"https://colab.research.google.com/github/adarshnitt/LLMs-AI-Agents-Graph-Db-RAG/blob/main/Accenture%20AI_Agents.ipynb\" target=\"_parent\"><img src=\"https://colab.research.google.com/assets/colab-badge.svg\" alt=\"Open In Colab\"/></a>"
      ]
    },
    {
      "cell_type": "markdown",
      "source": [
        "# PIP\n"
      ],
      "metadata": {
        "id": "MunAhLr9YSR3"
      }
    },
    {
      "cell_type": "code",
      "source": [
        "!pip install -U langchain-google-genai langgraph;\n",
        "!pip install langchain_community langgraph;\n",
        "!pip install -q -U google-genai;\n",
        "! pip install pygraphviz;"
      ],
      "metadata": {
        "colab": {
          "base_uri": "https://localhost:8080/",
          "height": 1000
        },
        "collapsed": true,
        "id": "GIp9IYOuAnwb",
        "outputId": "d60c4a5f-d0b1-464a-a7ab-17bd771ef883"
      },
      "execution_count": 1,
      "outputs": [
        {
          "output_type": "stream",
          "name": "stdout",
          "text": [
            "Collecting langchain-google-genai\n",
            "  Downloading langchain_google_genai-2.1.12-py3-none-any.whl.metadata (7.1 kB)\n",
            "Collecting langgraph\n",
            "  Downloading langgraph-0.6.8-py3-none-any.whl.metadata (6.8 kB)\n",
            "Requirement already satisfied: langchain-core>=0.3.75 in /usr/local/lib/python3.12/dist-packages (from langchain-google-genai) (0.3.77)\n",
            "Collecting google-ai-generativelanguage<1,>=0.7 (from langchain-google-genai)\n",
            "  Downloading google_ai_generativelanguage-0.7.0-py3-none-any.whl.metadata (10 kB)\n",
            "Requirement already satisfied: pydantic<3,>=2 in /usr/local/lib/python3.12/dist-packages (from langchain-google-genai) (2.11.9)\n",
            "Collecting filetype<2,>=1.2 (from langchain-google-genai)\n",
            "  Downloading filetype-1.2.0-py2.py3-none-any.whl.metadata (6.5 kB)\n",
            "Collecting langgraph-checkpoint<3.0.0,>=2.1.0 (from langgraph)\n",
            "  Downloading langgraph_checkpoint-2.1.1-py3-none-any.whl.metadata (4.2 kB)\n",
            "Collecting langgraph-prebuilt<0.7.0,>=0.6.0 (from langgraph)\n",
            "  Downloading langgraph_prebuilt-0.6.4-py3-none-any.whl.metadata (4.5 kB)\n",
            "Collecting langgraph-sdk<0.3.0,>=0.2.2 (from langgraph)\n",
            "  Downloading langgraph_sdk-0.2.9-py3-none-any.whl.metadata (1.5 kB)\n",
            "Requirement already satisfied: xxhash>=3.5.0 in /usr/local/lib/python3.12/dist-packages (from langgraph) (3.5.0)\n",
            "Requirement already satisfied: google-api-core!=2.0.*,!=2.1.*,!=2.10.*,!=2.2.*,!=2.3.*,!=2.4.*,!=2.5.*,!=2.6.*,!=2.7.*,!=2.8.*,!=2.9.*,<3.0.0,>=1.34.1 in /usr/local/lib/python3.12/dist-packages (from google-api-core[grpc]!=2.0.*,!=2.1.*,!=2.10.*,!=2.2.*,!=2.3.*,!=2.4.*,!=2.5.*,!=2.6.*,!=2.7.*,!=2.8.*,!=2.9.*,<3.0.0,>=1.34.1->google-ai-generativelanguage<1,>=0.7->langchain-google-genai) (2.25.1)\n",
            "Requirement already satisfied: google-auth!=2.24.0,!=2.25.0,<3.0.0,>=2.14.1 in /usr/local/lib/python3.12/dist-packages (from google-ai-generativelanguage<1,>=0.7->langchain-google-genai) (2.38.0)\n",
            "Requirement already satisfied: proto-plus<2.0.0,>=1.22.3 in /usr/local/lib/python3.12/dist-packages (from google-ai-generativelanguage<1,>=0.7->langchain-google-genai) (1.26.1)\n",
            "Requirement already satisfied: protobuf!=4.21.0,!=4.21.1,!=4.21.2,!=4.21.3,!=4.21.4,!=4.21.5,<7.0.0,>=3.20.2 in /usr/local/lib/python3.12/dist-packages (from google-ai-generativelanguage<1,>=0.7->langchain-google-genai) (5.29.5)\n",
            "Requirement already satisfied: langsmith<1.0.0,>=0.3.45 in /usr/local/lib/python3.12/dist-packages (from langchain-core>=0.3.75->langchain-google-genai) (0.4.31)\n",
            "Requirement already satisfied: tenacity!=8.4.0,<10.0.0,>=8.1.0 in /usr/local/lib/python3.12/dist-packages (from langchain-core>=0.3.75->langchain-google-genai) (8.5.0)\n",
            "Requirement already satisfied: jsonpatch<2.0.0,>=1.33.0 in /usr/local/lib/python3.12/dist-packages (from langchain-core>=0.3.75->langchain-google-genai) (1.33)\n",
            "Requirement already satisfied: PyYAML<7.0.0,>=5.3.0 in /usr/local/lib/python3.12/dist-packages (from langchain-core>=0.3.75->langchain-google-genai) (6.0.3)\n",
            "Requirement already satisfied: typing-extensions<5.0.0,>=4.7.0 in /usr/local/lib/python3.12/dist-packages (from langchain-core>=0.3.75->langchain-google-genai) (4.15.0)\n",
            "Requirement already satisfied: packaging<26.0.0,>=23.2.0 in /usr/local/lib/python3.12/dist-packages (from langchain-core>=0.3.75->langchain-google-genai) (25.0)\n",
            "Collecting ormsgpack>=1.10.0 (from langgraph-checkpoint<3.0.0,>=2.1.0->langgraph)\n",
            "  Downloading ormsgpack-1.10.0-cp312-cp312-manylinux_2_17_x86_64.manylinux2014_x86_64.whl.metadata (43 kB)\n",
            "\u001b[2K     \u001b[90m━━━━━━━━━━━━━━━━━━━━━━━━━━━━━━━━━━━━━━━━\u001b[0m \u001b[32m43.7/43.7 kB\u001b[0m \u001b[31m1.3 MB/s\u001b[0m eta \u001b[36m0:00:00\u001b[0m\n",
            "\u001b[?25hRequirement already satisfied: httpx>=0.25.2 in /usr/local/lib/python3.12/dist-packages (from langgraph-sdk<0.3.0,>=0.2.2->langgraph) (0.28.1)\n",
            "Requirement already satisfied: orjson>=3.10.1 in /usr/local/lib/python3.12/dist-packages (from langgraph-sdk<0.3.0,>=0.2.2->langgraph) (3.11.3)\n",
            "Requirement already satisfied: annotated-types>=0.6.0 in /usr/local/lib/python3.12/dist-packages (from pydantic<3,>=2->langchain-google-genai) (0.7.0)\n",
            "Requirement already satisfied: pydantic-core==2.33.2 in /usr/local/lib/python3.12/dist-packages (from pydantic<3,>=2->langchain-google-genai) (2.33.2)\n",
            "Requirement already satisfied: typing-inspection>=0.4.0 in /usr/local/lib/python3.12/dist-packages (from pydantic<3,>=2->langchain-google-genai) (0.4.2)\n",
            "Requirement already satisfied: googleapis-common-protos<2.0.0,>=1.56.2 in /usr/local/lib/python3.12/dist-packages (from google-api-core!=2.0.*,!=2.1.*,!=2.10.*,!=2.2.*,!=2.3.*,!=2.4.*,!=2.5.*,!=2.6.*,!=2.7.*,!=2.8.*,!=2.9.*,<3.0.0,>=1.34.1->google-api-core[grpc]!=2.0.*,!=2.1.*,!=2.10.*,!=2.2.*,!=2.3.*,!=2.4.*,!=2.5.*,!=2.6.*,!=2.7.*,!=2.8.*,!=2.9.*,<3.0.0,>=1.34.1->google-ai-generativelanguage<1,>=0.7->langchain-google-genai) (1.70.0)\n",
            "Requirement already satisfied: requests<3.0.0,>=2.18.0 in /usr/local/lib/python3.12/dist-packages (from google-api-core!=2.0.*,!=2.1.*,!=2.10.*,!=2.2.*,!=2.3.*,!=2.4.*,!=2.5.*,!=2.6.*,!=2.7.*,!=2.8.*,!=2.9.*,<3.0.0,>=1.34.1->google-api-core[grpc]!=2.0.*,!=2.1.*,!=2.10.*,!=2.2.*,!=2.3.*,!=2.4.*,!=2.5.*,!=2.6.*,!=2.7.*,!=2.8.*,!=2.9.*,<3.0.0,>=1.34.1->google-ai-generativelanguage<1,>=0.7->langchain-google-genai) (2.32.4)\n",
            "Requirement already satisfied: grpcio<2.0.0,>=1.33.2 in /usr/local/lib/python3.12/dist-packages (from google-api-core[grpc]!=2.0.*,!=2.1.*,!=2.10.*,!=2.2.*,!=2.3.*,!=2.4.*,!=2.5.*,!=2.6.*,!=2.7.*,!=2.8.*,!=2.9.*,<3.0.0,>=1.34.1->google-ai-generativelanguage<1,>=0.7->langchain-google-genai) (1.75.1)\n",
            "Requirement already satisfied: grpcio-status<2.0.0,>=1.33.2 in /usr/local/lib/python3.12/dist-packages (from google-api-core[grpc]!=2.0.*,!=2.1.*,!=2.10.*,!=2.2.*,!=2.3.*,!=2.4.*,!=2.5.*,!=2.6.*,!=2.7.*,!=2.8.*,!=2.9.*,<3.0.0,>=1.34.1->google-ai-generativelanguage<1,>=0.7->langchain-google-genai) (1.71.2)\n",
            "Requirement already satisfied: cachetools<6.0,>=2.0.0 in /usr/local/lib/python3.12/dist-packages (from google-auth!=2.24.0,!=2.25.0,<3.0.0,>=2.14.1->google-ai-generativelanguage<1,>=0.7->langchain-google-genai) (5.5.2)\n",
            "Requirement already satisfied: pyasn1-modules>=0.2.1 in /usr/local/lib/python3.12/dist-packages (from google-auth!=2.24.0,!=2.25.0,<3.0.0,>=2.14.1->google-ai-generativelanguage<1,>=0.7->langchain-google-genai) (0.4.2)\n",
            "Requirement already satisfied: rsa<5,>=3.1.4 in /usr/local/lib/python3.12/dist-packages (from google-auth!=2.24.0,!=2.25.0,<3.0.0,>=2.14.1->google-ai-generativelanguage<1,>=0.7->langchain-google-genai) (4.9.1)\n",
            "Requirement already satisfied: anyio in /usr/local/lib/python3.12/dist-packages (from httpx>=0.25.2->langgraph-sdk<0.3.0,>=0.2.2->langgraph) (4.11.0)\n",
            "Requirement already satisfied: certifi in /usr/local/lib/python3.12/dist-packages (from httpx>=0.25.2->langgraph-sdk<0.3.0,>=0.2.2->langgraph) (2025.8.3)\n",
            "Requirement already satisfied: httpcore==1.* in /usr/local/lib/python3.12/dist-packages (from httpx>=0.25.2->langgraph-sdk<0.3.0,>=0.2.2->langgraph) (1.0.9)\n",
            "Requirement already satisfied: idna in /usr/local/lib/python3.12/dist-packages (from httpx>=0.25.2->langgraph-sdk<0.3.0,>=0.2.2->langgraph) (3.10)\n",
            "Requirement already satisfied: h11>=0.16 in /usr/local/lib/python3.12/dist-packages (from httpcore==1.*->httpx>=0.25.2->langgraph-sdk<0.3.0,>=0.2.2->langgraph) (0.16.0)\n",
            "Requirement already satisfied: jsonpointer>=1.9 in /usr/local/lib/python3.12/dist-packages (from jsonpatch<2.0.0,>=1.33.0->langchain-core>=0.3.75->langchain-google-genai) (3.0.0)\n",
            "Requirement already satisfied: requests-toolbelt>=1.0.0 in /usr/local/lib/python3.12/dist-packages (from langsmith<1.0.0,>=0.3.45->langchain-core>=0.3.75->langchain-google-genai) (1.0.0)\n",
            "Requirement already satisfied: zstandard>=0.23.0 in /usr/local/lib/python3.12/dist-packages (from langsmith<1.0.0,>=0.3.45->langchain-core>=0.3.75->langchain-google-genai) (0.25.0)\n",
            "Requirement already satisfied: pyasn1<0.7.0,>=0.6.1 in /usr/local/lib/python3.12/dist-packages (from pyasn1-modules>=0.2.1->google-auth!=2.24.0,!=2.25.0,<3.0.0,>=2.14.1->google-ai-generativelanguage<1,>=0.7->langchain-google-genai) (0.6.1)\n",
            "Requirement already satisfied: charset_normalizer<4,>=2 in /usr/local/lib/python3.12/dist-packages (from requests<3.0.0,>=2.18.0->google-api-core!=2.0.*,!=2.1.*,!=2.10.*,!=2.2.*,!=2.3.*,!=2.4.*,!=2.5.*,!=2.6.*,!=2.7.*,!=2.8.*,!=2.9.*,<3.0.0,>=1.34.1->google-api-core[grpc]!=2.0.*,!=2.1.*,!=2.10.*,!=2.2.*,!=2.3.*,!=2.4.*,!=2.5.*,!=2.6.*,!=2.7.*,!=2.8.*,!=2.9.*,<3.0.0,>=1.34.1->google-ai-generativelanguage<1,>=0.7->langchain-google-genai) (3.4.3)\n",
            "Requirement already satisfied: urllib3<3,>=1.21.1 in /usr/local/lib/python3.12/dist-packages (from requests<3.0.0,>=2.18.0->google-api-core!=2.0.*,!=2.1.*,!=2.10.*,!=2.2.*,!=2.3.*,!=2.4.*,!=2.5.*,!=2.6.*,!=2.7.*,!=2.8.*,!=2.9.*,<3.0.0,>=1.34.1->google-api-core[grpc]!=2.0.*,!=2.1.*,!=2.10.*,!=2.2.*,!=2.3.*,!=2.4.*,!=2.5.*,!=2.6.*,!=2.7.*,!=2.8.*,!=2.9.*,<3.0.0,>=1.34.1->google-ai-generativelanguage<1,>=0.7->langchain-google-genai) (2.5.0)\n",
            "Requirement already satisfied: sniffio>=1.1 in /usr/local/lib/python3.12/dist-packages (from anyio->httpx>=0.25.2->langgraph-sdk<0.3.0,>=0.2.2->langgraph) (1.3.1)\n",
            "Downloading langchain_google_genai-2.1.12-py3-none-any.whl (50 kB)\n",
            "\u001b[2K   \u001b[90m━━━━━━━━━━━━━━━━━━━━━━━━━━━━━━━━━━━━━━━━\u001b[0m \u001b[32m50.7/50.7 kB\u001b[0m \u001b[31m1.4 MB/s\u001b[0m eta \u001b[36m0:00:00\u001b[0m\n",
            "\u001b[?25hDownloading langgraph-0.6.8-py3-none-any.whl (154 kB)\n",
            "\u001b[2K   \u001b[90m━━━━━━━━━━━━━━━━━━━━━━━━━━━━━━━━━━━━━━━━\u001b[0m \u001b[32m154.8/154.8 kB\u001b[0m \u001b[31m4.3 MB/s\u001b[0m eta \u001b[36m0:00:00\u001b[0m\n",
            "\u001b[?25hDownloading filetype-1.2.0-py2.py3-none-any.whl (19 kB)\n",
            "Downloading google_ai_generativelanguage-0.7.0-py3-none-any.whl (1.4 MB)\n",
            "\u001b[2K   \u001b[90m━━━━━━━━━━━━━━━━━━━━━━━━━━━━━━━━━━━━━━━━\u001b[0m \u001b[32m1.4/1.4 MB\u001b[0m \u001b[31m23.3 MB/s\u001b[0m eta \u001b[36m0:00:00\u001b[0m\n",
            "\u001b[?25hDownloading langgraph_checkpoint-2.1.1-py3-none-any.whl (43 kB)\n",
            "\u001b[2K   \u001b[90m━━━━━━━━━━━━━━━━━━━━━━━━━━━━━━━━━━━━━━━━\u001b[0m \u001b[32m43.9/43.9 kB\u001b[0m \u001b[31m1.7 MB/s\u001b[0m eta \u001b[36m0:00:00\u001b[0m\n",
            "\u001b[?25hDownloading langgraph_prebuilt-0.6.4-py3-none-any.whl (28 kB)\n",
            "Downloading langgraph_sdk-0.2.9-py3-none-any.whl (56 kB)\n",
            "\u001b[2K   \u001b[90m━━━━━━━━━━━━━━━━━━━━━━━━━━━━━━━━━━━━━━━━\u001b[0m \u001b[32m56.8/56.8 kB\u001b[0m \u001b[31m1.9 MB/s\u001b[0m eta \u001b[36m0:00:00\u001b[0m\n",
            "\u001b[?25hDownloading ormsgpack-1.10.0-cp312-cp312-manylinux_2_17_x86_64.manylinux2014_x86_64.whl (216 kB)\n",
            "\u001b[2K   \u001b[90m━━━━━━━━━━━━━━━━━━━━━━━━━━━━━━━━━━━━━━━━\u001b[0m \u001b[32m216.7/216.7 kB\u001b[0m \u001b[31m9.2 MB/s\u001b[0m eta \u001b[36m0:00:00\u001b[0m\n",
            "\u001b[?25hInstalling collected packages: filetype, ormsgpack, langgraph-sdk, langgraph-checkpoint, google-ai-generativelanguage, langgraph-prebuilt, langchain-google-genai, langgraph\n",
            "  Attempting uninstall: google-ai-generativelanguage\n",
            "    Found existing installation: google-ai-generativelanguage 0.6.15\n",
            "    Uninstalling google-ai-generativelanguage-0.6.15:\n",
            "      Successfully uninstalled google-ai-generativelanguage-0.6.15\n",
            "\u001b[31mERROR: pip's dependency resolver does not currently take into account all the packages that are installed. This behaviour is the source of the following dependency conflicts.\n",
            "google-generativeai 0.8.5 requires google-ai-generativelanguage==0.6.15, but you have google-ai-generativelanguage 0.7.0 which is incompatible.\u001b[0m\u001b[31m\n",
            "\u001b[0mSuccessfully installed filetype-1.2.0 google-ai-generativelanguage-0.7.0 langchain-google-genai-2.1.12 langgraph-0.6.8 langgraph-checkpoint-2.1.1 langgraph-prebuilt-0.6.4 langgraph-sdk-0.2.9 ormsgpack-1.10.0\n"
          ]
        },
        {
          "output_type": "display_data",
          "data": {
            "application/vnd.colab-display-data+json": {
              "pip_warning": {
                "packages": [
                  "google"
                ]
              },
              "id": "d69ea0bff35d40b9885421413b908d78"
            }
          },
          "metadata": {}
        },
        {
          "output_type": "stream",
          "name": "stdout",
          "text": [
            "Collecting langchain_community\n",
            "  Downloading langchain_community-0.3.30-py3-none-any.whl.metadata (3.0 kB)\n",
            "Requirement already satisfied: langgraph in /usr/local/lib/python3.12/dist-packages (0.6.8)\n",
            "Requirement already satisfied: langchain-core<2.0.0,>=0.3.75 in /usr/local/lib/python3.12/dist-packages (from langchain_community) (0.3.77)\n",
            "Requirement already satisfied: langchain<2.0.0,>=0.3.27 in /usr/local/lib/python3.12/dist-packages (from langchain_community) (0.3.27)\n",
            "Requirement already satisfied: SQLAlchemy<3.0.0,>=1.4.0 in /usr/local/lib/python3.12/dist-packages (from langchain_community) (2.0.43)\n",
            "Collecting requests<3.0.0,>=2.32.5 (from langchain_community)\n",
            "  Downloading requests-2.32.5-py3-none-any.whl.metadata (4.9 kB)\n",
            "Requirement already satisfied: PyYAML<7.0.0,>=5.3.0 in /usr/local/lib/python3.12/dist-packages (from langchain_community) (6.0.3)\n",
            "Requirement already satisfied: aiohttp<4.0.0,>=3.8.3 in /usr/local/lib/python3.12/dist-packages (from langchain_community) (3.12.15)\n",
            "Requirement already satisfied: tenacity!=8.4.0,<10.0.0,>=8.1.0 in /usr/local/lib/python3.12/dist-packages (from langchain_community) (8.5.0)\n",
            "Collecting dataclasses-json<0.7.0,>=0.6.7 (from langchain_community)\n",
            "  Downloading dataclasses_json-0.6.7-py3-none-any.whl.metadata (25 kB)\n",
            "Requirement already satisfied: pydantic-settings<3.0.0,>=2.10.1 in /usr/local/lib/python3.12/dist-packages (from langchain_community) (2.11.0)\n",
            "Requirement already satisfied: langsmith<1.0.0,>=0.1.125 in /usr/local/lib/python3.12/dist-packages (from langchain_community) (0.4.31)\n",
            "Requirement already satisfied: httpx-sse<1.0.0,>=0.4.0 in /usr/local/lib/python3.12/dist-packages (from langchain_community) (0.4.1)\n",
            "Requirement already satisfied: numpy>=1.26.2 in /usr/local/lib/python3.12/dist-packages (from langchain_community) (2.0.2)\n",
            "Requirement already satisfied: langgraph-checkpoint<3.0.0,>=2.1.0 in /usr/local/lib/python3.12/dist-packages (from langgraph) (2.1.1)\n",
            "Requirement already satisfied: langgraph-prebuilt<0.7.0,>=0.6.0 in /usr/local/lib/python3.12/dist-packages (from langgraph) (0.6.4)\n",
            "Requirement already satisfied: langgraph-sdk<0.3.0,>=0.2.2 in /usr/local/lib/python3.12/dist-packages (from langgraph) (0.2.9)\n",
            "Requirement already satisfied: pydantic>=2.7.4 in /usr/local/lib/python3.12/dist-packages (from langgraph) (2.11.9)\n",
            "Requirement already satisfied: xxhash>=3.5.0 in /usr/local/lib/python3.12/dist-packages (from langgraph) (3.5.0)\n",
            "Requirement already satisfied: aiohappyeyeballs>=2.5.0 in /usr/local/lib/python3.12/dist-packages (from aiohttp<4.0.0,>=3.8.3->langchain_community) (2.6.1)\n",
            "Requirement already satisfied: aiosignal>=1.4.0 in /usr/local/lib/python3.12/dist-packages (from aiohttp<4.0.0,>=3.8.3->langchain_community) (1.4.0)\n",
            "Requirement already satisfied: attrs>=17.3.0 in /usr/local/lib/python3.12/dist-packages (from aiohttp<4.0.0,>=3.8.3->langchain_community) (25.3.0)\n",
            "Requirement already satisfied: frozenlist>=1.1.1 in /usr/local/lib/python3.12/dist-packages (from aiohttp<4.0.0,>=3.8.3->langchain_community) (1.7.0)\n",
            "Requirement already satisfied: multidict<7.0,>=4.5 in /usr/local/lib/python3.12/dist-packages (from aiohttp<4.0.0,>=3.8.3->langchain_community) (6.6.4)\n",
            "Requirement already satisfied: propcache>=0.2.0 in /usr/local/lib/python3.12/dist-packages (from aiohttp<4.0.0,>=3.8.3->langchain_community) (0.3.2)\n",
            "Requirement already satisfied: yarl<2.0,>=1.17.0 in /usr/local/lib/python3.12/dist-packages (from aiohttp<4.0.0,>=3.8.3->langchain_community) (1.20.1)\n",
            "Collecting marshmallow<4.0.0,>=3.18.0 (from dataclasses-json<0.7.0,>=0.6.7->langchain_community)\n",
            "  Downloading marshmallow-3.26.1-py3-none-any.whl.metadata (7.3 kB)\n",
            "Collecting typing-inspect<1,>=0.4.0 (from dataclasses-json<0.7.0,>=0.6.7->langchain_community)\n",
            "  Downloading typing_inspect-0.9.0-py3-none-any.whl.metadata (1.5 kB)\n",
            "Requirement already satisfied: langchain-text-splitters<1.0.0,>=0.3.9 in /usr/local/lib/python3.12/dist-packages (from langchain<2.0.0,>=0.3.27->langchain_community) (0.3.11)\n",
            "Requirement already satisfied: jsonpatch<2.0.0,>=1.33.0 in /usr/local/lib/python3.12/dist-packages (from langchain-core<2.0.0,>=0.3.75->langchain_community) (1.33)\n",
            "Requirement already satisfied: typing-extensions<5.0.0,>=4.7.0 in /usr/local/lib/python3.12/dist-packages (from langchain-core<2.0.0,>=0.3.75->langchain_community) (4.15.0)\n",
            "Requirement already satisfied: packaging<26.0.0,>=23.2.0 in /usr/local/lib/python3.12/dist-packages (from langchain-core<2.0.0,>=0.3.75->langchain_community) (25.0)\n",
            "Requirement already satisfied: ormsgpack>=1.10.0 in /usr/local/lib/python3.12/dist-packages (from langgraph-checkpoint<3.0.0,>=2.1.0->langgraph) (1.10.0)\n",
            "Requirement already satisfied: httpx>=0.25.2 in /usr/local/lib/python3.12/dist-packages (from langgraph-sdk<0.3.0,>=0.2.2->langgraph) (0.28.1)\n",
            "Requirement already satisfied: orjson>=3.10.1 in /usr/local/lib/python3.12/dist-packages (from langgraph-sdk<0.3.0,>=0.2.2->langgraph) (3.11.3)\n",
            "Requirement already satisfied: requests-toolbelt>=1.0.0 in /usr/local/lib/python3.12/dist-packages (from langsmith<1.0.0,>=0.1.125->langchain_community) (1.0.0)\n",
            "Requirement already satisfied: zstandard>=0.23.0 in /usr/local/lib/python3.12/dist-packages (from langsmith<1.0.0,>=0.1.125->langchain_community) (0.25.0)\n",
            "Requirement already satisfied: annotated-types>=0.6.0 in /usr/local/lib/python3.12/dist-packages (from pydantic>=2.7.4->langgraph) (0.7.0)\n",
            "Requirement already satisfied: pydantic-core==2.33.2 in /usr/local/lib/python3.12/dist-packages (from pydantic>=2.7.4->langgraph) (2.33.2)\n",
            "Requirement already satisfied: typing-inspection>=0.4.0 in /usr/local/lib/python3.12/dist-packages (from pydantic>=2.7.4->langgraph) (0.4.2)\n",
            "Requirement already satisfied: python-dotenv>=0.21.0 in /usr/local/lib/python3.12/dist-packages (from pydantic-settings<3.0.0,>=2.10.1->langchain_community) (1.1.1)\n",
            "Requirement already satisfied: charset_normalizer<4,>=2 in /usr/local/lib/python3.12/dist-packages (from requests<3.0.0,>=2.32.5->langchain_community) (3.4.3)\n",
            "Requirement already satisfied: idna<4,>=2.5 in /usr/local/lib/python3.12/dist-packages (from requests<3.0.0,>=2.32.5->langchain_community) (3.10)\n",
            "Requirement already satisfied: urllib3<3,>=1.21.1 in /usr/local/lib/python3.12/dist-packages (from requests<3.0.0,>=2.32.5->langchain_community) (2.5.0)\n",
            "Requirement already satisfied: certifi>=2017.4.17 in /usr/local/lib/python3.12/dist-packages (from requests<3.0.0,>=2.32.5->langchain_community) (2025.8.3)\n",
            "Requirement already satisfied: greenlet>=1 in /usr/local/lib/python3.12/dist-packages (from SQLAlchemy<3.0.0,>=1.4.0->langchain_community) (3.2.4)\n",
            "Requirement already satisfied: anyio in /usr/local/lib/python3.12/dist-packages (from httpx>=0.25.2->langgraph-sdk<0.3.0,>=0.2.2->langgraph) (4.11.0)\n",
            "Requirement already satisfied: httpcore==1.* in /usr/local/lib/python3.12/dist-packages (from httpx>=0.25.2->langgraph-sdk<0.3.0,>=0.2.2->langgraph) (1.0.9)\n",
            "Requirement already satisfied: h11>=0.16 in /usr/local/lib/python3.12/dist-packages (from httpcore==1.*->httpx>=0.25.2->langgraph-sdk<0.3.0,>=0.2.2->langgraph) (0.16.0)\n",
            "Requirement already satisfied: jsonpointer>=1.9 in /usr/local/lib/python3.12/dist-packages (from jsonpatch<2.0.0,>=1.33.0->langchain-core<2.0.0,>=0.3.75->langchain_community) (3.0.0)\n",
            "Collecting mypy-extensions>=0.3.0 (from typing-inspect<1,>=0.4.0->dataclasses-json<0.7.0,>=0.6.7->langchain_community)\n",
            "  Downloading mypy_extensions-1.1.0-py3-none-any.whl.metadata (1.1 kB)\n",
            "Requirement already satisfied: sniffio>=1.1 in /usr/local/lib/python3.12/dist-packages (from anyio->httpx>=0.25.2->langgraph-sdk<0.3.0,>=0.2.2->langgraph) (1.3.1)\n",
            "Downloading langchain_community-0.3.30-py3-none-any.whl (2.5 MB)\n",
            "\u001b[2K   \u001b[90m━━━━━━━━━━━━━━━━━━━━━━━━━━━━━━━━━━━━━━━━\u001b[0m \u001b[32m2.5/2.5 MB\u001b[0m \u001b[31m27.2 MB/s\u001b[0m eta \u001b[36m0:00:00\u001b[0m\n",
            "\u001b[?25hDownloading dataclasses_json-0.6.7-py3-none-any.whl (28 kB)\n",
            "Downloading requests-2.32.5-py3-none-any.whl (64 kB)\n",
            "\u001b[2K   \u001b[90m━━━━━━━━━━━━━━━━━━━━━━━━━━━━━━━━━━━━━━━━\u001b[0m \u001b[32m64.7/64.7 kB\u001b[0m \u001b[31m4.3 MB/s\u001b[0m eta \u001b[36m0:00:00\u001b[0m\n",
            "\u001b[?25hDownloading marshmallow-3.26.1-py3-none-any.whl (50 kB)\n",
            "\u001b[2K   \u001b[90m━━━━━━━━━━━━━━━━━━━━━━━━━━━━━━━━━━━━━━━━\u001b[0m \u001b[32m50.9/50.9 kB\u001b[0m \u001b[31m3.5 MB/s\u001b[0m eta \u001b[36m0:00:00\u001b[0m\n",
            "\u001b[?25hDownloading typing_inspect-0.9.0-py3-none-any.whl (8.8 kB)\n",
            "Downloading mypy_extensions-1.1.0-py3-none-any.whl (5.0 kB)\n",
            "Installing collected packages: requests, mypy-extensions, marshmallow, typing-inspect, dataclasses-json, langchain_community\n",
            "  Attempting uninstall: requests\n",
            "    Found existing installation: requests 2.32.4\n",
            "    Uninstalling requests-2.32.4:\n",
            "      Successfully uninstalled requests-2.32.4\n",
            "\u001b[31mERROR: pip's dependency resolver does not currently take into account all the packages that are installed. This behaviour is the source of the following dependency conflicts.\n",
            "google-colab 1.0.0 requires requests==2.32.4, but you have requests 2.32.5 which is incompatible.\n",
            "google-generativeai 0.8.5 requires google-ai-generativelanguage==0.6.15, but you have google-ai-generativelanguage 0.7.0 which is incompatible.\u001b[0m\u001b[31m\n",
            "\u001b[0mSuccessfully installed dataclasses-json-0.6.7 langchain_community-0.3.30 marshmallow-3.26.1 mypy-extensions-1.1.0 requests-2.32.5 typing-inspect-0.9.0\n",
            "\u001b[2K     \u001b[90m━━━━━━━━━━━━━━━━━━━━━━━━━━━━━━━━━━━━━━━━\u001b[0m \u001b[32m45.4/45.4 kB\u001b[0m \u001b[31m1.8 MB/s\u001b[0m eta \u001b[36m0:00:00\u001b[0m\n",
            "\u001b[2K   \u001b[90m━━━━━━━━━━━━━━━━━━━━━━━━━━━━━━━━━━━━━━━━\u001b[0m \u001b[32m245.9/245.9 kB\u001b[0m \u001b[31m6.6 MB/s\u001b[0m eta \u001b[36m0:00:00\u001b[0m\n",
            "\u001b[?25h\u001b[31mERROR: pip's dependency resolver does not currently take into account all the packages that are installed. This behaviour is the source of the following dependency conflicts.\n",
            "google-adk 1.15.1 requires google-genai!=1.37.0,!=1.38.0,!=1.39.0,<=1.40.0,>=1.21.1, but you have google-genai 1.41.0 which is incompatible.\u001b[0m\u001b[31m\n",
            "\u001b[0mCollecting pygraphviz\n",
            "  Downloading pygraphviz-1.14.tar.gz (106 kB)\n",
            "\u001b[2K     \u001b[90m━━━━━━━━━━━━━━━━━━━━━━━━━━━━━━━━━━━━━━━\u001b[0m \u001b[32m106.0/106.0 kB\u001b[0m \u001b[31m3.0 MB/s\u001b[0m eta \u001b[36m0:00:00\u001b[0m\n",
            "\u001b[?25h  Installing build dependencies ... \u001b[?25l\u001b[?25hdone\n",
            "  Getting requirements to build wheel ... \u001b[?25l\u001b[?25hdone\n",
            "  Preparing metadata (pyproject.toml) ... \u001b[?25l\u001b[?25hdone\n",
            "Building wheels for collected packages: pygraphviz\n",
            "  \u001b[1;31merror\u001b[0m: \u001b[1msubprocess-exited-with-error\u001b[0m\n",
            "  \n",
            "  \u001b[31m×\u001b[0m \u001b[32mBuilding wheel for pygraphviz \u001b[0m\u001b[1;32m(\u001b[0m\u001b[32mpyproject.toml\u001b[0m\u001b[1;32m)\u001b[0m did not run successfully.\n",
            "  \u001b[31m│\u001b[0m exit code: \u001b[1;36m1\u001b[0m\n",
            "  \u001b[31m╰─>\u001b[0m See above for output.\n",
            "  \n",
            "  \u001b[1;35mnote\u001b[0m: This error originates from a subprocess, and is likely not a problem with pip.\n",
            "  Building wheel for pygraphviz (pyproject.toml) ... \u001b[?25l\u001b[?25herror\n",
            "\u001b[31m  ERROR: Failed building wheel for pygraphviz\u001b[0m\u001b[31m\n",
            "\u001b[0mFailed to build pygraphviz\n",
            "\u001b[31mERROR: ERROR: Failed to build installable wheels for some pyproject.toml based projects (pygraphviz)\u001b[0m\u001b[31m\n",
            "\u001b[0m"
          ]
        }
      ]
    },
    {
      "cell_type": "code",
      "source": [
        "from langchain_core.tools import tool\n",
        "from google import genai\n",
        "from google.colab import userdata\n",
        "import os\n",
        "from langchain_google_genai import ChatGoogleGenerativeAI\n",
        "from langchain_core.messages import HumanMessage\n",
        "from langgraph.prebuilt import ToolNode\n",
        "from langgraph.prebuilt import tools_condition\n",
        "from langgraph.graph import StateGraph, START, END\n",
        "import pandas as pd\n",
        "import numpy as np\n",
        "from PIL import  Image\n",
        "\n",
        "# gemini_api=userdata.get('GOOGLE_API_KEY')\n",
        "gemini_api=userdata.get('iitm_gemni_key')"
      ],
      "metadata": {
        "id": "fUPpqYXp8kn2"
      },
      "execution_count": 33,
      "outputs": []
    },
    {
      "cell_type": "code",
      "source": [
        "client = genai.Client(api_key=gemini_api)\n",
        "\n",
        "\n",
        "# https://ai.google.dev/gemini-api/docs/rate-limits: 200 request per day, and 10 request per min: google flash2.5 model\n",
        "response = client.models.generate_content(\n",
        "    model=\"gemini-2.5-flash\", contents=\"Explain how AI works in a few words\"\n",
        ")\n",
        "print(response.text)"
      ],
      "metadata": {
        "colab": {
          "base_uri": "https://localhost:8080/"
        },
        "id": "aZ-qHV7Z97NZ",
        "outputId": "b6e30b15-c8d1-4269-ae2d-8aef3c5c5f98"
      },
      "execution_count": 3,
      "outputs": [
        {
          "output_type": "stream",
          "name": "stdout",
          "text": [
            "AI learns from data to find patterns and make decisions.\n"
          ]
        }
      ]
    },
    {
      "cell_type": "code",
      "source": [
        "os.environ[\"GOOGLE_API_KEY\"]=gemini_api\n",
        "llm = ChatGoogleGenerativeAI(model=\"gemini-2.5-flash\")\n",
        "response = llm.invoke([HumanMessage(content=\"who is sai pallavi\")])\n",
        "print(response.content)\n"
      ],
      "metadata": {
        "colab": {
          "base_uri": "https://localhost:8080/"
        },
        "id": "AFxr7hZmBtQD",
        "outputId": "8e9e7315-f959-4483-9f10-9858453297a3"
      },
      "execution_count": 4,
      "outputs": [
        {
          "output_type": "stream",
          "name": "stdout",
          "text": [
            "Sai Pallavi is a highly acclaimed **Indian actress** primarily known for her work in **Telugu, Tamil, and Malayalam cinema**.\n",
            "\n",
            "Here's a breakdown of who she is:\n",
            "\n",
            "1.  **Actress:** She is celebrated for her natural acting style, expressive eyes, and ability to portray relatable and strong characters with depth and authenticity.\n",
            "2.  **Doctor (MBBS):** Uniquely, she is also a qualified medical doctor, having completed her MBBS from Tbilisi State Medical University, Georgia, before fully pursuing her acting career.\n",
            "3.  **Dancer:** She is an exceptional and trained dancer, known for her graceful and energetic performances, which she often showcases in her films and music videos (like the iconic \"Rowdy Baby\" song).\n",
            "4.  **Natural Beauty Icon:** Sai Pallavi is widely admired for her decision to appear on screen with minimal to no makeup, embracing her natural skin and challenging conventional beauty standards in the film industry. This has made her a refreshing and influential figure.\n",
            "5.  **Breakthrough Role:** She rose to prominence with her debut as Malar in the 2015 Malayalam film **Premam**, which earned her widespread critical acclaim and a massive fan following.\n",
            "6.  **Notable Films:** Some of her other significant and popular films include:\n",
            "    *   **Fidaa** (Telugu)\n",
            "    *   **Maari 2** (Tamil)\n",
            "    *   **Love Story** (Telugu)\n",
            "    *   **Gargi** (Tamil/Telugu)\n",
            "    *   **Virata Parvam** (Telugu)\n",
            "    *   **Padi Padi Leche Manasu** (Telugu)\n",
            "\n",
            "In essence, Sai Pallavi is a talented and versatile actress, a trained doctor, an accomplished dancer, and a role model known for her authenticity and commitment to substance over superficiality in the Indian film industry.\n"
          ]
        }
      ]
    },
    {
      "cell_type": "markdown",
      "source": [
        "## Toold testing\n"
      ],
      "metadata": {
        "id": "iEEfwrf77HUz"
      }
    },
    {
      "cell_type": "code",
      "execution_count": 5,
      "metadata": {
        "colab": {
          "base_uri": "https://localhost:8080/"
        },
        "id": "kSgztsXV7Bm6",
        "outputId": "54c2bfdf-011f-4405-f44a-f50387a808bf"
      },
      "outputs": [
        {
          "output_type": "execute_result",
          "data": {
            "text/plain": [
              "RunnableBinding(bound=ChatGoogleGenerativeAI(model='models/gemini-2.5-flash', google_api_key=SecretStr('**********'), client=<google.ai.generativelanguage_v1beta.services.generative_service.client.GenerativeServiceClient object at 0x7b408c130590>, default_metadata=(), model_kwargs={}), kwargs={'tools': [{'type': 'function', 'function': {'name': 'SIP_status', 'description': 'This tool is for the SIP status .', 'parameters': {'properties': {'arg1': {}}, 'required': ['arg1'], 'type': 'object'}}}, {'type': 'function', 'function': {'name': 'UAT_status', 'description': 'This tool checks the UAT status.', 'parameters': {'properties': {'arg1': {}}, 'required': ['arg1'], 'type': 'object'}}}, {'type': 'function', 'function': {'name': 'RPA_status', 'description': 'This tool checks the RPA status.', 'parameters': {'properties': {'arg1': {}}, 'required': ['arg1'], 'type': 'object'}}}, {'type': 'function', 'function': {'name': 'DEV_status', 'description': 'This tool checks  and gives the DEV status.', 'parameters': {'properties': {'arg1': {}}, 'required': ['arg1'], 'type': 'object'}}}, {'type': 'function', 'function': {'name': 'Business_status', 'description': 'This tool is for business operations ans status.', 'parameters': {'properties': {'arg1': {}}, 'required': ['arg1'], 'type': 'object'}}}, {'type': 'function', 'function': {'name': 'out_of_Scope', 'description': 'This tool is for out_of_Scope, where we dont have any answer. It will call when any random question is there', 'parameters': {'properties': {'arg1': {}}, 'required': ['arg1'], 'type': 'object'}}}]}, config={}, config_factories=[])"
            ]
          },
          "metadata": {},
          "execution_count": 5
        }
      ],
      "source": [
        "from langchain_core.tools import tool\n",
        "\n",
        "@tool\n",
        "def SIP_status(arg1):\n",
        "  \"\"\"This tool is for the SIP status .\"\"\"\n",
        "  print(\"Agents is in SIP_status mode\")\n",
        "  return \"SIP_status tool\"\n",
        "\n",
        "@tool\n",
        "def UAT_status(arg1):\n",
        "  \"\"\"This tool checks the UAT status.\"\"\"\n",
        "  print(\"Agents is in UAT_status mode\")\n",
        "  return \"when question related to uat status , response is UAT status completed\"\n",
        "\n",
        "\n",
        "@tool\n",
        "def RPA_status(arg1):\n",
        "  \"\"\"This tool checks the RPA status.\"\"\"\n",
        "  print(\"Agents is in RPA_status mode\")\n",
        "  return \"RPA_status tool\"\n",
        "\n",
        "@tool\n",
        "def DEV_status(arg1):\n",
        "  \"\"\"This tool checks  and gives the DEV status.\"\"\"\n",
        "  print(\"Agents is in DEV_status mode\")\n",
        "  return \"when question related to dev status , response is dev status completed\"\n",
        "\n",
        "@tool\n",
        "def Business_status(arg1):\n",
        "  \"\"\"This tool is for business operations ans status.\"\"\"\n",
        "  print(\"Agents is in Business mode\")\n",
        "  return \"Business status tool\"\n",
        "\n",
        "@tool\n",
        "def out_of_Scope(arg1):\n",
        "  \"\"\"This tool is for out_of_Scope, where we dont have any answer. It will call when any random question is there\"\"\"\n",
        "  print(\"Agents is in out_of_Scope\")\n",
        "  return \"out_of_Scope tool\"\n",
        "\n",
        "agents_tools=[SIP_status,UAT_status,RPA_status,DEV_status ,Business_status,out_of_Scope]\n",
        "gemni_with_tools=llm.bind_tools(agents_tools)\n",
        "gemni_with_tools"
      ]
    },
    {
      "cell_type": "code",
      "source": [
        "# result=gemni_with_tools.invoke(\"SIP status for project qr\")\n",
        "# result=gemni_with_tools.invoke(\"whats does business gave information for project ai agents in india\")\n",
        "# result=gemni_with_tools.invoke(\" do we have ay deadline for uat testing in upcoming months\")\n",
        "result=gemni_with_tools.invoke(\"could you tell me final status from dev team side after getting requiremnt from business\")\n",
        "result"
      ],
      "metadata": {
        "colab": {
          "base_uri": "https://localhost:8080/"
        },
        "id": "UXOhqOnQ7Gdw",
        "outputId": "a8d05b5f-4afc-4441-dac2-da792c22ff97"
      },
      "execution_count": 6,
      "outputs": [
        {
          "output_type": "execute_result",
          "data": {
            "text/plain": [
              "AIMessage(content='', additional_kwargs={'function_call': {'name': 'out_of_Scope', 'arguments': '{\"arg1\": \"could you tell me final status from dev team side after getting requiremnt from business\"}'}}, response_metadata={'prompt_feedback': {'block_reason': 0, 'safety_ratings': []}, 'finish_reason': 'STOP', 'model_name': 'gemini-2.5-flash', 'safety_ratings': []}, id='run--70e264a7-eab6-4ea0-97ec-cf6f409ccb48-0', tool_calls=[{'name': 'out_of_Scope', 'args': {'arg1': 'could you tell me final status from dev team side after getting requiremnt from business'}, 'id': 'cf6f3711-16e9-4a43-9efe-4b420344ef3f', 'type': 'tool_call'}], usage_metadata={'input_tokens': 286, 'output_tokens': 426, 'total_tokens': 712, 'input_token_details': {'cache_read': 0}, 'output_token_details': {'reasoning': 393}})"
            ]
          },
          "metadata": {},
          "execution_count": 6
        }
      ]
    },
    {
      "cell_type": "code",
      "source": [
        "p1=\"could you tell me final status from dev team side after getting requiremnt from business\"\n",
        "p2=\" could you let me know the updated status from both rpa side and uat team side. \"\n",
        "p3=\"updates status from uat team side is that its completed.\"\n",
        "result=gemni_with_tools.invoke(\"You are smart agent. identify which task is yet to answer and suggest most suitable tool to answer that task. \"+p2+\" \"+p3)\n",
        "result"
      ],
      "metadata": {
        "colab": {
          "base_uri": "https://localhost:8080/"
        },
        "id": "vo9r_Ka-7Ggp",
        "outputId": "9278011d-dc98-436c-a92c-1cd21927ee1f"
      },
      "execution_count": 7,
      "outputs": [
        {
          "output_type": "execute_result",
          "data": {
            "text/plain": [
              "AIMessage(content='The task yet to be answered is the RPA status. The most suitable tool to answer this task is `RPA_status`.', additional_kwargs={}, response_metadata={'prompt_feedback': {'block_reason': 0, 'safety_ratings': []}, 'finish_reason': 'STOP', 'model_name': 'gemini-2.5-flash', 'safety_ratings': []}, id='run--29b64258-23c5-4a17-94c6-0ef9e32ec55a-0', usage_metadata={'input_tokens': 325, 'output_tokens': 183, 'total_tokens': 508, 'input_token_details': {'cache_read': 0}, 'output_token_details': {'reasoning': 157}})"
            ]
          },
          "metadata": {},
          "execution_count": 7
        }
      ]
    },
    {
      "cell_type": "code",
      "source": [
        "p1=\"could you tell me final status from dev team side after getting requiremnt from business\"\n",
        "p2=\" could you let me know the updated status from both rpa side and uat team side. \"\n",
        "p3=\"updates status from uat team side is that its completed.\"\n",
        "p4=\"update from rpa team side is that it is about to complete\"\n",
        "result=gemni_with_tools.invoke(\"You are smart agent. identify which task is yet to answer and suggest most suitable tool to answer that task. \"+p2+\" \"+p3+\" \"+p4)\n",
        "result"
      ],
      "metadata": {
        "colab": {
          "base_uri": "https://localhost:8080/"
        },
        "id": "Vnwvi0o27Gil",
        "outputId": "22225a75-d6c2-405f-b2f2-1b64caa47c2f"
      },
      "execution_count": 8,
      "outputs": [
        {
          "output_type": "execute_result",
          "data": {
            "text/plain": [
              "AIMessage(content='The task yet to answer is to provide the updated status from both the RPA side and the UAT team side. The most suitable tools to answer this task are `RPA_status` and `UAT_status`.', additional_kwargs={}, response_metadata={'prompt_feedback': {'block_reason': 0, 'safety_ratings': []}, 'finish_reason': 'STOP', 'model_name': 'gemini-2.5-flash', 'safety_ratings': []}, id='run--782469d3-f0b8-4ebd-8c6d-37c085306ad3-0', usage_metadata={'input_tokens': 338, 'output_tokens': 5252, 'total_tokens': 5590, 'input_token_details': {'cache_read': 0}, 'output_token_details': {'reasoning': 5207}})"
            ]
          },
          "metadata": {},
          "execution_count": 8
        }
      ]
    },
    {
      "cell_type": "markdown",
      "source": [
        "# Agent"
      ],
      "metadata": {
        "id": "syD6TBvhdCk0"
      }
    },
    {
      "cell_type": "code",
      "source": [
        "import operator\n",
        "import getpass\n",
        "from langgraph.prebuilt import ToolNode\n",
        "from langgraph.prebuilt import tools_condition\n",
        "from typing import TypedDict, Annotated, List\n",
        "from langchain_core.messages import BaseMessage, HumanMessage, ToolMessage\n",
        "from langchain_core.tools import tool\n",
        "from langchain_google_genai import ChatGoogleGenerativeAI\n",
        "from langgraph.graph import StateGraph, START, END\n",
        "from langchain_core.prompts import ChatPromptTemplate\n",
        "from langchain_core.messages import SystemMessage, HumanMessage, AIMessage"
      ],
      "metadata": {
        "id": "pu807A1qdLcG"
      },
      "execution_count": null,
      "outputs": []
    },
    {
      "cell_type": "code",
      "source": [
        "class AgentState(TypedDict):\n",
        "    # A list of messages, annotated with operator.add to append new messages\n",
        "    messages: Annotated[List[BaseMessage], operator.add]\n",
        "    # This key tracks the name of the next node to run\n",
        "    next: str"
      ],
      "metadata": {
        "id": "oNlUxMS4dDsb"
      },
      "execution_count": null,
      "outputs": []
    },
    {
      "cell_type": "code",
      "source": [
        "agent=StateGraph(AgentState)\n",
        "\"\"\"\n",
        "# it is depicting that shema using for this agent is having folling propeties, list of all mesgages, when node will response something then it is list of mesgages,ai, human and other. when one\n",
        "node will return somehting then it will apeend in it. node should return some messahes whaich can be addable over this list.\n",
        "\"\"\"\n",
        "agent.state_schema"
      ],
      "metadata": {
        "colab": {
          "base_uri": "https://localhost:8080/"
        },
        "id": "BWnRiH8cdDv1",
        "outputId": "613598a6-080a-47f7-a8e8-61bde1a17356"
      },
      "execution_count": null,
      "outputs": [
        {
          "output_type": "execute_result",
          "data": {
            "text/plain": [
              "__main__.AgentState"
            ]
          },
          "metadata": {},
          "execution_count": 11
        }
      ]
    },
    {
      "cell_type": "code",
      "source": [
        "from IPython.display import Image, display # Import Image and display from IPython.display\n",
        "\n",
        "def state_check_function(state:AgentState):\n",
        "\n",
        "  print(\"node is going to update  state msg with msg: adarsh state msg\")\n",
        "  # You need to return a dictionary that updates the state, below msg will update over stare msg, it will append over list\n",
        "  return {\"messages\": [HumanMessage(content=\"adarsh state msg\")]}\n",
        "\n",
        "agent=StateGraph(AgentState)\n",
        "agent.add_node(\"agent1\", state_check_function)\n",
        "agent.add_edge(START, \"agent1\")\n",
        "agent.add_edge(\"agent1\",END) # Added an edge to END\n",
        "\n",
        "app = agent.compile()\n",
        "display(Image(app.get_graph().draw_mermaid_png())) # Use display from IPython.display"
      ],
      "metadata": {
        "colab": {
          "base_uri": "https://localhost:8080/",
          "height": 251
        },
        "id": "lINzb8ph7GmN",
        "outputId": "f940390c-6b51-4a1d-b19e-bd19bb32cb37"
      },
      "execution_count": null,
      "outputs": [
        {
          "output_type": "display_data",
          "data": {
            "image/png": "[encoded data removed]",
            "text/plain": [
              "<IPython.core.display.Image object>"
            ]
          },
          "metadata": {}
        }
      ]
    },
    {
      "cell_type": "code",
      "source": [
        "initial_state = {\"messages\": [HumanMessage(content=\"Starting Hello\")]}\n",
        "config = {\"configurable\": {\"thread_id\": \"test1\"}} # Add a configuration dictionary\n",
        "for step in app.stream(initial_state, config=config,stream_mode=\"values\"): # Pass the config to stream\n",
        "    print(step)"
      ],
      "metadata": {
        "colab": {
          "base_uri": "https://localhost:8080/"
        },
        "id": "7pDBFliBl99q",
        "outputId": "4070c52c-5e52-4a40-a771-c1746ce15df9"
      },
      "execution_count": null,
      "outputs": [
        {
          "output_type": "stream",
          "name": "stdout",
          "text": [
            "{'messages': [HumanMessage(content='Starting Hello', additional_kwargs={}, response_metadata={})]}\n",
            "node is going to update  state msg with msg: adarsh state msg\n",
            "{'messages': [HumanMessage(content='Starting Hello', additional_kwargs={}, response_metadata={}), HumanMessage(content='adarsh state msg', additional_kwargs={}, response_metadata={})]}\n"
          ]
        }
      ]
    },
    {
      "cell_type": "markdown",
      "source": [
        "# Accenture _smart document ananlsyis agent"
      ],
      "metadata": {
        "id": "bSCpkcgtvsko"
      }
    },
    {
      "cell_type": "code",
      "source": [
        "# testing our llm fucntionalitu\n",
        "def gemini_intelligence(state:AgentState):\n",
        "  print(\" Using  gemni intelligence, lets help user to get answer. current state is :\", state)\n",
        "  User_query=state[\"user_query\"]\n",
        "  prompt=\"\"\" You are smart agent. USer will give therir query, you have to go through all input text and find out which immediate action need to perform.  If user query has been responsed already then return 'Continue' \"\"\"\n",
        "  final_query=prompt+\"Acual User query: \"+User_query +\"histroy: \"+str(state[\"messages\"])\n",
        "\n",
        "  llm = ChatGoogleGenerativeAI(model=\"gemini-2.5-flash\")\n",
        "  agents_tools=[SIP_status,UAT_status,RPA_status,DEV_status ,Business_status]\n",
        "  gemni_with_tools=llm.bind_tools(agents_tools)\n",
        "  result=gemni_with_tools.invoke(final_query)\n",
        "\n",
        "  print(\"gemini response: \",result )\n",
        "  # we have to retun output as list\n",
        "  return {\"messages\": [result.additional_kwargs]}\n",
        "\n",
        "p1=\" what is status of uat and dev tetsing. \"\n",
        "p2=\" what is status of uat team and and dev testing team. Solution for question- dev team status: Dev team has completed their work. Solution: uat team also completed their work\"\n",
        "gemini_intelligence({\"messages\":[\"HI\"],\"user_query\":p2})"
      ],
      "metadata": {
        "colab": {
          "base_uri": "https://localhost:8080/"
        },
        "id": "fkgIKSqUvyAt",
        "outputId": "a44be508-da92-4c16-d697-e05bd6d8ed14"
      },
      "execution_count": null,
      "outputs": [
        {
          "output_type": "stream",
          "name": "stdout",
          "text": [
            " Using  gemni intelligence, lets help user to get answer. current state is : {'messages': ['HI'], 'user_query': ' what is status of uat team and and dev testing team. Solution for question- dev team status: Dev team has completed their work. Solution: uat team also completed their work'}\n",
            "gemini response:  content='Continue' additional_kwargs={} response_metadata={'prompt_feedback': {'block_reason': 0, 'safety_ratings': []}, 'finish_reason': 'STOP', 'model_name': 'gemini-2.5-flash', 'safety_ratings': []} id='run--c9410d14-993b-439d-83a8-615b84a4c74b-0' usage_metadata={'input_tokens': 303, 'output_tokens': 111, 'total_tokens': 414, 'input_token_details': {'cache_read': 0}, 'output_token_details': {'reasoning': 110}}\n"
          ]
        },
        {
          "output_type": "execute_result",
          "data": {
            "text/plain": [
              "{'messages': [{}]}"
            ]
          },
          "metadata": {},
          "execution_count": 14
        }
      ]
    },
    {
      "cell_type": "code",
      "source": [
        "\n",
        "\n",
        "p={\"cc\":\"Hi\"}\n",
        "system_prompt=\"You are a helpful assiditant, kindly go thourgh user input query and respond it back.\"\n",
        "c=ChatPromptTemplate.from_messages([SystemMessage(content=system_prompt), HumanMessage(content=\"User query is:{cc}\".format(cc=p[\"cc\"]))])\n",
        "out=c.invoke({})\n",
        "out.to_messages()"
      ],
      "metadata": {
        "colab": {
          "base_uri": "https://localhost:8080/"
        },
        "id": "4gpeU07WVNO2",
        "outputId": "45814f43-6b86-4fe7-f3c5-862150ed3811"
      },
      "execution_count": null,
      "outputs": [
        {
          "output_type": "execute_result",
          "data": {
            "text/plain": [
              "[SystemMessage(content='You are a helpful assiditant, kindly go thourgh user input query and respond it back.', additional_kwargs={}, response_metadata={}),\n",
              " HumanMessage(content='User query is:Hi', additional_kwargs={}, response_metadata={})]"
            ]
          },
          "metadata": {},
          "execution_count": 15
        }
      ]
    },
    {
      "cell_type": "code",
      "source": [
        "main_prompt=\"\"\" Agent Persona and Instructions\n",
        "First understand the quesion semntically, what actuaaly user want to get.\n",
        "You are a smart, efficient, and precise AI agent. Your primary function is to analyze user queries and determine the immediate action required based on a predefined set of tools. You must prioritize clarity and accuracy in your responses.\n",
        "\n",
        "Operating Principles\n",
        "Analyze the full context: Carefully review the entire conversation history and the most recent user query.\n",
        "\n",
        "Identify an immediate action: Your goal is to find the single, most relevant action to take.\n",
        "\n",
        "Use available tools: Only perform actions if a specific tool has been defined for that purpose.\n",
        "\n",
        "Avoid redundancy: If a user's request has already been fully answered in a previous turn, do not re-run any tools.\n",
        "Responses will be present will tools_response if already replied by llm.\n",
        "\n",
        "Be explicit about missing tools: If a user asks for a task that does not have a corresponding defined tool, you must state that no action can be taken.\n",
        "\n",
        "Decision Flow\n",
        "Check for previous answers: Scan the conversation history. If the user's current query has been fully and satisfactorily addressed in a previous response, provide a summary of that final answer.\n",
        "\n",
        "Identify a new query: If the query is new, or if a previous response was incomplete, analyze the text to see if it requires a tool.\n",
        "\n",
        "Execute a tool: If a defined tool exists for the query, return the tool name and its output.\n",
        "\n",
        "Handle unknown questions: If a new query is received and no corresponding tool is defined to address it, respond with the exact phrase: unknown question.\n",
        "\n",
        "Handle missing tools: If a user's query asks for an action that has a tool name but the tool itself is not defined, reply with the exact phrase: no action required as tool absent.\n",
        "\n",
        "No action needed: If no new query is present and the last response was a final answer, return an empty string.\n",
        "\n",
        "If question is already responsed semantically, consider it as final response!\n",
        "If answer is present for semanticaaly for a un answered question then also no need to perform any action.\n",
        "\n",
        "\n",
        "-------------------------------------------------------------------------------------------------\n",
        "\"\"\""
      ],
      "metadata": {
        "id": "r-qBeynC-f2h"
      },
      "execution_count": null,
      "outputs": []
    },
    {
      "cell_type": "code",
      "source": [
        "class AgentState(TypedDict):\n",
        "    # A list of messages, annotated with operator.add to append new messages\n",
        "    messages: Annotated[List[BaseMessage], operator.add]\n",
        "    # This key tracks the name of the next node to run\n",
        "    user_query: str\n",
        "    llm_data:str\n",
        "\n",
        "def greet_function(state:AgentState):\n",
        "  print(\"agent flow starting with state\", state)\n",
        "  return {\"messages\": [HumanMessage(content=\"Hi , I am first node\")]}\n",
        "\n",
        "def postprocessing(state):\n",
        "  print(\"before postprocessing state[messages]:\",state[\"messages\"])\n",
        "  llm = ChatGoogleGenerativeAI(model=\"gemini-2.5-flash\")\n",
        "\n",
        "  system_prompt=\"Just sumarize it:\"\n",
        "  chatTemp=ChatPromptTemplate.from_messages([SystemMessage(content=system_prompt), HumanMessage(content=\"User query and responses is:{cc}\".format(cc=state[\"messages\"]))])\n",
        "  chat=chatTemp.invoke({})\n",
        "  result=llm.invoke(chat)\n",
        "  print(\"after postprocessing response: \",result )\n",
        "  # we have to retun output as list\n",
        "  print(\"final output:\",result.content)\n",
        "  return {\"messages\": [result]}\n",
        "\n",
        "\n",
        "def state_prepocess(data):\n",
        "  for i in data:\n",
        "    print(\"----\",i)\n",
        "  return ''\n",
        "\n",
        "def gemini_intelligence(state:AgentState):\n",
        "\n",
        "\n",
        "  llm_data=state[\"llm_data\"]\n",
        "\n",
        "\n",
        "\n",
        "  if len(state[\"messages\"])>10:\n",
        "    print(\"-------------------------------------------------------------------\")\n",
        "    return {\"message\":\"no tool found\"}\n",
        "  User_query=state[\"user_query\"]\n",
        "  prompt=main_prompt\n",
        "  result=state[\"messages\"][-1]\n",
        "  if isinstance(result,AIMessage):\n",
        "    llm_data=llm_data+\" .consider this histry to choose next action History:content: \"+str(result.content)+\" additional_kwargs: \"+str(result.additional_kwargs)+\" .tools called was:\"+str(result.tool_calls)\n",
        "  elif isinstance(result,ToolMessage):\n",
        "    llm_data=llm_data+\" .Consider this histry to choose next action History:tool output was: \"+str(result.content)\n",
        "\n",
        "\n",
        "\n",
        "  final_query=\"Acual User query: \"+User_query +\"  \"+str(llm_data)\n",
        "\n",
        "  system_prompt=\"You are a helpful assiditant, kindly go thourgh user input query and respond it back. so u have to select actions based on user query. If there is no action required then you could reploy jai shree ram!\"\n",
        "  chatTemp=ChatPromptTemplate.from_messages([SystemMessage(content=prompt), HumanMessage(content=\"User query is:{cc} \".format(cc=final_query))])\n",
        "  chat=chatTemp.invoke({})\n",
        "  print(\"Gemni got  llm data :\", state[\"llm_data\"])\n",
        "  print(\"Gemni got  state values :\", state[\"messages\"])\n",
        "  print(\"Gemni chat template response is: \",chat)\n",
        "  llm = ChatGoogleGenerativeAI(model=\"gemini-2.5-flash\")\n",
        "  agents_tools=[SIP_status,UAT_status,RPA_status,DEV_status ,Business_status,out_of_Scope]\n",
        "  gemni_with_tools=llm.bind_tools(agents_tools)\n",
        "  result=gemni_with_tools.invoke(chat)\n",
        "\n",
        "  print(\"gemini llm response: \",result)\n",
        "  return {\"messages\": [result], \"llm_data\":llm_data}\n",
        "\n",
        "def router(state):\n",
        "  last_msg=state[\"messages\"][-1]\n",
        "  print(\"router last msg\",last_msg)\n",
        "  try:\n",
        "    if  'function_call' in last_msg.additional_kwargs.keys():\n",
        "      print(\"router llm  call bcz function_call in state\")\n",
        "      state[\"messages\"].append(\"ramu\")\n",
        "      return \"tools\"\n",
        "    else:\n",
        "      return \"postprocessing\"\n",
        "  except Exception as e:\n",
        "    print(\"error in router\",e)\n",
        "    return END\n",
        "\n",
        "\n",
        "\n",
        "agent=StateGraph(AgentState)\n",
        "agent.add_node(\"greet\", greet_function)\n",
        "agent.add_node(\"LLM\", gemini_intelligence)\n",
        "agent.add_node(\"tools\", ToolNode([SIP_status,UAT_status,RPA_status,DEV_status ,Business_status,out_of_Scope]))\n",
        "agent.add_node(\"postprocessing\", postprocessing)\n",
        "\n",
        "agent.add_edge(START, \"greet\")\n",
        "agent.add_edge(\"greet\", \"LLM\")\n",
        "agent.add_conditional_edges(\"LLM\",router,[END,'postprocessing','tools'])\n",
        "\n",
        "\n",
        "agent.add_edge(\"tools\",\"LLM\")\n",
        "agent.add_edge(\"postprocessing\", END)\n",
        "\n",
        "app = agent.compile()\n",
        "display(Image(app.get_graph().draw_mermaid_png())) # Use display from IPython.display\n",
        "\n",
        "\n",
        "initial_user_query_fuzzy = \"What is the status of SIP for today? also tell me status for dev also! and also RPQA status\"\n",
        "initial_user_query = \"what is  uat status\"\n",
        "\n",
        "# Step 1: Prepare the initial state dictionary\n",
        "initial_state = {\n",
        "    \"user_query\": initial_user_query,\n",
        "    \"messages\": [HumanMessage(content=initial_user_query)],\n",
        "    \"llm_data\":initial_user_query\n",
        "}\n",
        "\n",
        "# Step 2: Invoke the compiled graph\n",
        "final_state = app.invoke(initial_state)"
      ],
      "metadata": {
        "colab": {
          "base_uri": "https://localhost:8080/",
          "height": 813
        },
        "id": "p4Lg8-p9vyD_",
        "outputId": "87445710-cc2f-46cd-84ec-06e0c9471a8b"
      },
      "execution_count": null,
      "outputs": [
        {
          "output_type": "display_data",
          "data": {
            "image/png": "[encoded data removed]",
            "text/plain": [
              "<IPython.core.display.Image object>"
            ]
          },
          "metadata": {}
        },
        {
          "output_type": "stream",
          "name": "stdout",
          "text": [
            "agent flow starting with state {'messages': [HumanMessage(content='what is  uat status', additional_kwargs={}, response_metadata={})], 'user_query': 'what is  uat status', 'llm_data': 'what is  uat status'}\n",
            "Gemni got  llm data : what is  uat status\n",
            "Gemni got  state values : [HumanMessage(content='what is  uat status', additional_kwargs={}, response_metadata={}), HumanMessage(content='Hi , I am first node', additional_kwargs={}, response_metadata={})]\n",
            "Gemni chat template response is:  messages=[SystemMessage(content=\" Agent Persona and Instructions\\nFirst understand the quesion semntically, what actuaaly user want to get.\\nYou are a smart, efficient, and precise AI agent. Your primary function is to analyze user queries and determine the immediate action required based on a predefined set of tools. You must prioritize clarity and accuracy in your responses.\\n\\nOperating Principles\\nAnalyze the full context: Carefully review the entire conversation history and the most recent user query.\\n\\nIdentify an immediate action: Your goal is to find the single, most relevant action to take.\\n\\nUse available tools: Only perform actions if a specific tool has been defined for that purpose.\\n\\nAvoid redundancy: If a user's request has already been fully answered in a previous turn, do not re-run any tools.\\nResponses will be present will tools_response if already replied by llm.\\n\\nBe explicit about missing tools: If a user asks for a task that does not have a corresponding defined tool, you must state that no action can be taken.\\n\\nDecision Flow\\nCheck for previous answers: Scan the conversation history. If the user's current query has been fully and satisfactorily addressed in a previous response, provide a summary of that final answer.\\n\\nIdentify a new query: If the query is new, or if a previous response was incomplete, analyze the text to see if it requires a tool.\\n\\nExecute a tool: If a defined tool exists for the query, return the tool name and its output.\\n\\nHandle unknown questions: If a new query is received and no corresponding tool is defined to address it, respond with the exact phrase: unknown question.\\n\\nHandle missing tools: If a user's query asks for an action that has a tool name but the tool itself is not defined, reply with the exact phrase: no action required as tool absent.\\n\\nNo action needed: If no new query is present and the last response was a final answer, return an empty string.  \\n\\nIf question is already responsed semantically, consider it as final response! \\nIf answer is present for semanticaaly for a un answered question then also no need to perform any action.\\n\\n\\n-------------------------------------------------------------------------------------------------\\n\", additional_kwargs={}, response_metadata={}), HumanMessage(content='User query is:Acual User query: what is  uat status  what is  uat status ', additional_kwargs={}, response_metadata={})]\n",
            "gemini llm response:  content='' additional_kwargs={'function_call': {'name': 'UAT_status', 'arguments': '{\"arg1\": \"status\"}'}} response_metadata={'prompt_feedback': {'block_reason': 0, 'safety_ratings': []}, 'finish_reason': 'STOP', 'model_name': 'gemini-2.5-flash', 'safety_ratings': []} id='run--4a14222d-3a92-48fe-9bd8-1927b51b66c5-0' tool_calls=[{'name': 'UAT_status', 'args': {'arg1': 'status'}, 'id': '92d57d8e-469d-40dd-b8df-1350fb1a7054', 'type': 'tool_call'}] usage_metadata={'input_tokens': 736, 'output_tokens': 150, 'total_tokens': 886, 'input_token_details': {'cache_read': 0}, 'output_token_details': {'reasoning': 133}}\n",
            "router last msg content='' additional_kwargs={'function_call': {'name': 'UAT_status', 'arguments': '{\"arg1\": \"status\"}'}} response_metadata={'prompt_feedback': {'block_reason': 0, 'safety_ratings': []}, 'finish_reason': 'STOP', 'model_name': 'gemini-2.5-flash', 'safety_ratings': []} id='run--4a14222d-3a92-48fe-9bd8-1927b51b66c5-0' tool_calls=[{'name': 'UAT_status', 'args': {'arg1': 'status'}, 'id': '92d57d8e-469d-40dd-b8df-1350fb1a7054', 'type': 'tool_call'}] usage_metadata={'input_tokens': 736, 'output_tokens': 150, 'total_tokens': 886, 'input_token_details': {'cache_read': 0}, 'output_token_details': {'reasoning': 133}}\n",
            "router llm  call bcz function_call in state\n",
            "Agents is in UAT_status mode\n",
            "Gemni got  llm data : what is  uat status\n",
            "Gemni got  state values : [HumanMessage(content='what is  uat status', additional_kwargs={}, response_metadata={}), HumanMessage(content='Hi , I am first node', additional_kwargs={}, response_metadata={}), AIMessage(content='', additional_kwargs={'function_call': {'name': 'UAT_status', 'arguments': '{\"arg1\": \"status\"}'}}, response_metadata={'prompt_feedback': {'block_reason': 0, 'safety_ratings': []}, 'finish_reason': 'STOP', 'model_name': 'gemini-2.5-flash', 'safety_ratings': []}, id='run--4a14222d-3a92-48fe-9bd8-1927b51b66c5-0', tool_calls=[{'name': 'UAT_status', 'args': {'arg1': 'status'}, 'id': '92d57d8e-469d-40dd-b8df-1350fb1a7054', 'type': 'tool_call'}], usage_metadata={'input_tokens': 736, 'output_tokens': 150, 'total_tokens': 886, 'input_token_details': {'cache_read': 0}, 'output_token_details': {'reasoning': 133}}), ToolMessage(content='when question related to uat status , response is UAT status completed', name='UAT_status', tool_call_id='92d57d8e-469d-40dd-b8df-1350fb1a7054')]\n",
            "Gemni chat template response is:  messages=[SystemMessage(content=\" Agent Persona and Instructions\\nFirst understand the quesion semntically, what actuaaly user want to get.\\nYou are a smart, efficient, and precise AI agent. Your primary function is to analyze user queries and determine the immediate action required based on a predefined set of tools. You must prioritize clarity and accuracy in your responses.\\n\\nOperating Principles\\nAnalyze the full context: Carefully review the entire conversation history and the most recent user query.\\n\\nIdentify an immediate action: Your goal is to find the single, most relevant action to take.\\n\\nUse available tools: Only perform actions if a specific tool has been defined for that purpose.\\n\\nAvoid redundancy: If a user's request has already been fully answered in a previous turn, do not re-run any tools.\\nResponses will be present will tools_response if already replied by llm.\\n\\nBe explicit about missing tools: If a user asks for a task that does not have a corresponding defined tool, you must state that no action can be taken.\\n\\nDecision Flow\\nCheck for previous answers: Scan the conversation history. If the user's current query has been fully and satisfactorily addressed in a previous response, provide a summary of that final answer.\\n\\nIdentify a new query: If the query is new, or if a previous response was incomplete, analyze the text to see if it requires a tool.\\n\\nExecute a tool: If a defined tool exists for the query, return the tool name and its output.\\n\\nHandle unknown questions: If a new query is received and no corresponding tool is defined to address it, respond with the exact phrase: unknown question.\\n\\nHandle missing tools: If a user's query asks for an action that has a tool name but the tool itself is not defined, reply with the exact phrase: no action required as tool absent.\\n\\nNo action needed: If no new query is present and the last response was a final answer, return an empty string.  \\n\\nIf question is already responsed semantically, consider it as final response! \\nIf answer is present for semanticaaly for a un answered question then also no need to perform any action.\\n\\n\\n-------------------------------------------------------------------------------------------------\\n\", additional_kwargs={}, response_metadata={}), HumanMessage(content='User query is:Acual User query: what is  uat status  what is  uat status .Consider this histry to choose next action History:tool output was: when question related to uat status , response is UAT status completed ', additional_kwargs={}, response_metadata={})]\n",
            "gemini llm response:  content='UAT status completed' additional_kwargs={} response_metadata={'prompt_feedback': {'block_reason': 0, 'safety_ratings': []}, 'finish_reason': 'STOP', 'model_name': 'gemini-2.5-flash', 'safety_ratings': []} id='run--9ad30e3f-6cd0-4969-a19c-e14cc4f166f5-0' usage_metadata={'input_tokens': 765, 'output_tokens': 127, 'total_tokens': 892, 'input_token_details': {'cache_read': 0}, 'output_token_details': {'reasoning': 123}}\n",
            "router last msg content='UAT status completed' additional_kwargs={} response_metadata={'prompt_feedback': {'block_reason': 0, 'safety_ratings': []}, 'finish_reason': 'STOP', 'model_name': 'gemini-2.5-flash', 'safety_ratings': []} id='run--9ad30e3f-6cd0-4969-a19c-e14cc4f166f5-0' usage_metadata={'input_tokens': 765, 'output_tokens': 127, 'total_tokens': 892, 'input_token_details': {'cache_read': 0}, 'output_token_details': {'reasoning': 123}}\n",
            "before postprocessing state[messages]: [HumanMessage(content='what is  uat status', additional_kwargs={}, response_metadata={}), HumanMessage(content='Hi , I am first node', additional_kwargs={}, response_metadata={}), AIMessage(content='', additional_kwargs={'function_call': {'name': 'UAT_status', 'arguments': '{\"arg1\": \"status\"}'}}, response_metadata={'prompt_feedback': {'block_reason': 0, 'safety_ratings': []}, 'finish_reason': 'STOP', 'model_name': 'gemini-2.5-flash', 'safety_ratings': []}, id='run--4a14222d-3a92-48fe-9bd8-1927b51b66c5-0', tool_calls=[{'name': 'UAT_status', 'args': {'arg1': 'status'}, 'id': '92d57d8e-469d-40dd-b8df-1350fb1a7054', 'type': 'tool_call'}], usage_metadata={'input_tokens': 736, 'output_tokens': 150, 'total_tokens': 886, 'input_token_details': {'cache_read': 0}, 'output_token_details': {'reasoning': 133}}), ToolMessage(content='when question related to uat status , response is UAT status completed', name='UAT_status', tool_call_id='92d57d8e-469d-40dd-b8df-1350fb1a7054'), AIMessage(content='UAT status completed', additional_kwargs={}, response_metadata={'prompt_feedback': {'block_reason': 0, 'safety_ratings': []}, 'finish_reason': 'STOP', 'model_name': 'gemini-2.5-flash', 'safety_ratings': []}, id='run--9ad30e3f-6cd0-4969-a19c-e14cc4f166f5-0', usage_metadata={'input_tokens': 765, 'output_tokens': 127, 'total_tokens': 892, 'input_token_details': {'cache_read': 0}, 'output_token_details': {'reasoning': 123}})]\n",
            "after postprocessing response:  content='The user asked \"what is uat status\".\\nThe system called a tool `UAT_status` with the argument `{\"arg1\": \"status\"}`.\\nThe tool responded \"when question related to uat status , response is UAT status completed\".\\nThe final answer provided to the user was \"UAT status completed\".' additional_kwargs={} response_metadata={'prompt_feedback': {'block_reason': 0, 'safety_ratings': []}, 'finish_reason': 'STOP', 'model_name': 'gemini-2.5-flash', 'safety_ratings': []} id='run--b8881a94-286c-40a9-b75a-879daad96672-0' usage_metadata={'input_tokens': 556, 'output_tokens': 111, 'total_tokens': 667, 'input_token_details': {'cache_read': 0}, 'output_token_details': {'reasoning': 41}}\n",
            "final output: The user asked \"what is uat status\".\n",
            "The system called a tool `UAT_status` with the argument `{\"arg1\": \"status\"}`.\n",
            "The tool responded \"when question related to uat status , response is UAT status completed\".\n",
            "The final answer provided to the user was \"UAT status completed\".\n"
          ]
        }
      ]
    },
    {
      "cell_type": "code",
      "source": [
        "class AgentState(TypedDict):\n",
        "    # A list of messages, annotated with operator.add to append new messages\n",
        "    messages: Annotated[List[BaseMessage], operator.add]\n",
        "    # This key tracks the name of the next node to run\n",
        "    user_query: str\n",
        "    llm_data:str\n",
        "\n",
        "def greet_function(state:AgentState):\n",
        "  print(\"agent flow starting with state\", state)\n",
        "  return {\"messages\": [HumanMessage(content=\"Hi , I am first node\")]}\n",
        "\n",
        "def postprocessing(state):\n",
        "  print(\"before postprocessing state[messages]:\",state[\"messages\"])\n",
        "  llm = ChatGoogleGenerativeAI(model=\"gemini-2.5-flash\")\n",
        "\n",
        "  system_prompt=\"Just sumarize it:\"\n",
        "  chatTemp=ChatPromptTemplate.from_messages([SystemMessage(content=system_prompt), HumanMessage(content=\"User query and responses is:{cc}\".format(cc=state[\"messages\"]))])\n",
        "  chat=chatTemp.invoke({})\n",
        "  result=llm.invoke(chat)\n",
        "  print(\"after postprocessing response: \",result )\n",
        "  # we have to retun output as list\n",
        "  print(\"final output:\",result.content)\n",
        "  return {\"messages\": [result]}\n",
        "\n",
        "\n",
        "def state_prepocess(data):\n",
        "  for i in data:\n",
        "    print(\"----\",i)\n",
        "  return ''\n",
        "\n",
        "def gemini_intelligence(state:AgentState):\n",
        "\n",
        "\n",
        "  llm_data=state[\"llm_data\"]\n",
        "\n",
        "\n",
        "\n",
        "  if len(state[\"messages\"])>10:\n",
        "    print(\"-------------------------------------------------------------------\")\n",
        "    return {\"message\":\"no tool found\"}\n",
        "  User_query=state[\"user_query\"]\n",
        "  prompt=main_prompt\n",
        "  result=state[\"messages\"][-1]\n",
        "  if isinstance(result,AIMessage):\n",
        "    llm_data=llm_data+\" .consider this histry to choose next action History:content: \"+str(result.content)+\" additional_kwargs: \"+str(result.additional_kwargs)+\" .tools called was:\"+str(result.tool_calls)\n",
        "  elif isinstance(result,ToolMessage):\n",
        "    llm_data=llm_data+\" .Consider this histry to choose next action History:tool output was: \"+str(result.content)\n",
        "\n",
        "\n",
        "\n",
        "  final_query=\"Acual User query: \"+User_query +\"  \"+str(llm_data)\n",
        "\n",
        "  system_prompt=\"You are a helpful assiditant, kindly go thourgh user input query and respond it back. so u have to select actions based on user query. If there is no action required then you could reploy jai shree ram!\"\n",
        "  chatTemp=ChatPromptTemplate.from_messages([SystemMessage(content=prompt), HumanMessage(content=\"User query is:{cc} \".format(cc=final_query))])\n",
        "  chat=chatTemp.invoke({})\n",
        "  print(\"Gemni got  llm data :\", state[\"llm_data\"])\n",
        "  print(\"Gemni got  state values :\", state[\"messages\"])\n",
        "  print(\"Gemni chat template response is: \",chat)\n",
        "  llm = ChatGoogleGenerativeAI(model=\"gemini-2.5-flash\")\n",
        "  agents_tools=[SIP_status,UAT_status,RPA_status,DEV_status ,Business_status,out_of_Scope]\n",
        "  gemni_with_tools=llm.bind_tools(agents_tools)\n",
        "  result=gemni_with_tools.invoke(chat)\n",
        "\n",
        "  print(\"gemini llm response: \",result)\n",
        "  return {\"messages\": [result], \"llm_data\":llm_data}\n",
        "\n",
        "def router(state):\n",
        "  last_msg=state[\"messages\"][-1]\n",
        "  print(\"router last msg\",last_msg)\n",
        "  try:\n",
        "    if  'function_call' in last_msg.additional_kwargs.keys():\n",
        "      print(\"router llm  call bcz function_call in state\")\n",
        "      state[\"messages\"].append(\"ramu\")\n",
        "      return \"tools\"\n",
        "    else:\n",
        "      return \"postprocessing\"\n",
        "  except Exception as e:\n",
        "    print(\"error in router\",e)\n",
        "    return END\n",
        "\n",
        "\n",
        "\n",
        "agent=StateGraph(AgentState)\n",
        "agent.add_node(\"greet\", greet_function)\n",
        "agent.add_node(\"LLM\", gemini_intelligence)\n",
        "agent.add_node(\"tools\", ToolNode([SIP_status,UAT_status,RPA_status,DEV_status ,Business_status,out_of_Scope]))\n",
        "agent.add_node(\"postprocessing\", postprocessing)\n",
        "\n",
        "agent.add_edge(START, \"greet\")\n",
        "agent.add_edge(\"greet\", \"LLM\")\n",
        "agent.add_conditional_edges(\"LLM\",router,[END,'postprocessing','tools'])\n",
        "\n",
        "\n",
        "agent.add_edge(\"tools\",\"LLM\")\n",
        "agent.add_edge(\"postprocessing\", END)\n",
        "\n",
        "app = agent.compile()\n",
        "display(Image(app.get_graph().draw_mermaid_png())) # Use display from IPython.display\n",
        "\n",
        "\n",
        "initial_user_query_fuzzy = \"What is the status of SIP for today? also tell me status for dev also! and also RPQA status\"\n",
        "initial_user_query = \"NARE\"\n",
        "\n",
        "# Step 1: Prepare the initial state dictionary\n",
        "initial_state = {\n",
        "    \"user_query\": initial_user_query,\n",
        "    \"messages\": [HumanMessage(content=initial_user_query)],\n",
        "    \"llm_data\":initial_user_query\n",
        "}\n",
        "\n",
        "# Step 2: Invoke the compiled graph\n",
        "final_state = app.invoke(initial_state)"
      ],
      "metadata": {
        "colab": {
          "base_uri": "https://localhost:8080/",
          "height": 759
        },
        "id": "0asnyqhw3bIf",
        "outputId": "03fd3257-ae6b-4c9f-bce0-f225fd46c814"
      },
      "execution_count": null,
      "outputs": [
        {
          "output_type": "display_data",
          "data": {
            "image/png": "[encoded data removed]",
            "text/plain": [
              "<IPython.core.display.Image object>"
            ]
          },
          "metadata": {}
        },
        {
          "output_type": "stream",
          "name": "stdout",
          "text": [
            "agent flow starting with state {'messages': [HumanMessage(content='', additional_kwargs={}, response_metadata={})], 'user_query': '', 'llm_data': ''}\n",
            "Gemni got  llm data : \n",
            "Gemni got  state values : [HumanMessage(content='', additional_kwargs={}, response_metadata={}), HumanMessage(content='Hi , I am first node', additional_kwargs={}, response_metadata={})]\n",
            "Gemni chat template response is:  messages=[SystemMessage(content=\" Agent Persona and Instructions\\nFirst understand the quesion semntically, what actuaaly user want to get.\\nYou are a smart, efficient, and precise AI agent. Your primary function is to analyze user queries and determine the immediate action required based on a predefined set of tools. You must prioritize clarity and accuracy in your responses.\\n\\nOperating Principles\\nAnalyze the full context: Carefully review the entire conversation history and the most recent user query.\\n\\nIdentify an immediate action: Your goal is to find the single, most relevant action to take.\\n\\nUse available tools: Only perform actions if a specific tool has been defined for that purpose.\\n\\nAvoid redundancy: If a user's request has already been fully answered in a previous turn, do not re-run any tools.\\nResponses will be present will tools_response if already replied by llm.\\n\\nBe explicit about missing tools: If a user asks for a task that does not have a corresponding defined tool, you must state that no action can be taken.\\n\\nDecision Flow\\nCheck for previous answers: Scan the conversation history. If the user's current query has been fully and satisfactorily addressed in a previous response, provide a summary of that final answer.\\n\\nIdentify a new query: If the query is new, or if a previous response was incomplete, analyze the text to see if it requires a tool.\\n\\nExecute a tool: If a defined tool exists for the query, return the tool name and its output.\\n\\nHandle unknown questions: If a new query is received and no corresponding tool is defined to address it, respond with the exact phrase: unknown question.\\n\\nHandle missing tools: If a user's query asks for an action that has a tool name but the tool itself is not defined, reply with the exact phrase: no action required as tool absent.\\n\\nNo action needed: If no new query is present and the last response was a final answer, return an empty string.  \\n\\nIf question is already responsed semantically, consider it as final response! \\nIf answer is present for semanticaaly for a un answered question then also no need to perform any action.\\n\\n\\n-------------------------------------------------------------------------------------------------\\n\", additional_kwargs={}, response_metadata={}), HumanMessage(content='User query is:Acual User query:    ', additional_kwargs={}, response_metadata={})]\n",
            "gemini llm response:  content='unknown question' additional_kwargs={} response_metadata={'prompt_feedback': {'block_reason': 0, 'safety_ratings': []}, 'finish_reason': 'STOP', 'model_name': 'gemini-2.5-flash', 'safety_ratings': []} id='run--94357826-1b75-4f74-8e5f-a1e89e59d735-0' usage_metadata={'input_tokens': 725, 'output_tokens': 111, 'total_tokens': 836, 'input_token_details': {'cache_read': 0}, 'output_token_details': {'reasoning': 109}}\n",
            "router last msg content='unknown question' additional_kwargs={} response_metadata={'prompt_feedback': {'block_reason': 0, 'safety_ratings': []}, 'finish_reason': 'STOP', 'model_name': 'gemini-2.5-flash', 'safety_ratings': []} id='run--94357826-1b75-4f74-8e5f-a1e89e59d735-0' usage_metadata={'input_tokens': 725, 'output_tokens': 111, 'total_tokens': 836, 'input_token_details': {'cache_read': 0}, 'output_token_details': {'reasoning': 109}}\n",
            "before postprocessing state[messages]: [HumanMessage(content='', additional_kwargs={}, response_metadata={}), HumanMessage(content='Hi , I am first node', additional_kwargs={}, response_metadata={}), AIMessage(content='unknown question', additional_kwargs={}, response_metadata={'prompt_feedback': {'block_reason': 0, 'safety_ratings': []}, 'finish_reason': 'STOP', 'model_name': 'gemini-2.5-flash', 'safety_ratings': []}, id='run--94357826-1b75-4f74-8e5f-a1e89e59d735-0', usage_metadata={'input_tokens': 725, 'output_tokens': 111, 'total_tokens': 836, 'input_token_details': {'cache_read': 0}, 'output_token_details': {'reasoning': 109}})]\n",
            "after postprocessing response:  content='This is a log of a conversation with an AI, showing two user inputs and one AI response:\\n\\n*   **User Input 1:** Empty message.\\n*   **User Input 2:** \"Hi , I am first node\"\\n*   **AI Response:** \"unknown question\"\\n    *   **Model:** gemini-2.5-flash\\n    *   **Finish Reason:** STOP\\n    *   **Tokens Used:** 725 input, 111 output (total 836)' additional_kwargs={} response_metadata={'prompt_feedback': {'block_reason': 0, 'safety_ratings': []}, 'finish_reason': 'STOP', 'model_name': 'gemini-2.5-flash', 'safety_ratings': []} id='run--ca3228a2-6be3-4668-afb2-123c71ac617e-0' usage_metadata={'input_tokens': 220, 'output_tokens': 233, 'total_tokens': 453, 'input_token_details': {'cache_read': 0}, 'output_token_details': {'reasoning': 123}}\n",
            "final output: This is a log of a conversation with an AI, showing two user inputs and one AI response:\n",
            "\n",
            "*   **User Input 1:** Empty message.\n",
            "*   **User Input 2:** \"Hi , I am first node\"\n",
            "*   **AI Response:** \"unknown question\"\n",
            "    *   **Model:** gemini-2.5-flash\n",
            "    *   **Finish Reason:** STOP\n",
            "    *   **Tokens Used:** 725 input, 111 output (total 836)\n"
          ]
        }
      ]
    },
    {
      "cell_type": "markdown",
      "source": [
        "# SQL_NLP\n"
      ],
      "metadata": {
        "id": "iXpMd5UDYLba"
      }
    },
    {
      "cell_type": "code",
      "source": [
        "# run db over online\n",
        "# https://extendsclass.com/sqlite-browser.html#"
      ],
      "metadata": {
        "id": "RLQLTkNQQwZZ"
      },
      "execution_count": 9,
      "outputs": []
    },
    {
      "cell_type": "code",
      "source": [
        "# load sqlite online editor: https://extendsclass.com/sqlite-browser.html#\n",
        "\n",
        "from langchain_community.utilities import SQLDatabase\n",
        "from langchain_community.agent_toolkits import SQLDatabaseToolkit\n",
        "\n",
        "from langchain_core.messages import HumanMessage, SystemMessage\n",
        "from langchain_core.tools import tool\n",
        "from langchain_core.prompts import ChatPromptTemplate\n",
        "from langchain_core.messages import ToolMessage, AIMessage\n",
        "from langchain_core.runnables import RunnableLambda, RunnableWithFallbacks\n",
        "from langgraph.prebuilt import ToolNode\n",
        "from langgraph.graph import StateGraph, START, END\n",
        "from langgraph.graph.message import AnyMessage, add_messages\n",
        "from pydantic import BaseModel, Field\n",
        "from typing import Annotated, Literal, TypedDict, Any\n",
        "\n",
        "from IPython.display import Image, display\n",
        "from langchain_core.runnables.graph import MermaidDrawMethod\n",
        "import ast"
      ],
      "metadata": {
        "id": "UAvWva4mYKjb"
      },
      "execution_count": 10,
      "outputs": []
    },
    {
      "cell_type": "code",
      "source": [
        "from google.colab import drive\n",
        "drive.mount('/content/drive')\n",
        "\n",
        "from google.colab import auth\n",
        "from google.cloud import storage\n",
        "\n",
        "# Authenticate with Google Cloud\n",
        "auth.authenticate_user()"
      ],
      "metadata": {
        "colab": {
          "base_uri": "https://localhost:8080/"
        },
        "id": "OLvkgeTCie9T",
        "outputId": "514a34a4-031c-4d4d-e92e-d5ecf7d528b8"
      },
      "execution_count": 12,
      "outputs": [
        {
          "output_type": "stream",
          "name": "stdout",
          "text": [
            "Drive already mounted at /content/drive; to attempt to forcibly remount, call drive.mount(\"/content/drive\", force_remount=True).\n"
          ]
        }
      ]
    },
    {
      "cell_type": "code",
      "source": [
        "db = SQLDatabase.from_uri(\"sqlite:////content/drive/MyDrive/Colab Notebooks/Chinook.db\")\n",
        "print(f\"Database Type: {db.dialect}\")\n",
        "print(f\"Tables: {db.get_usable_table_names()}\")\n",
        "print(f\"Artist: {db.run('SELECT * FROM Artist LIMIT 5;')}\")"
      ],
      "metadata": {
        "colab": {
          "base_uri": "https://localhost:8080/"
        },
        "id": "AfrT6iSeYKpS",
        "outputId": "a8ae793d-9375-462a-a793-803fa8e4cbc6"
      },
      "execution_count": 13,
      "outputs": [
        {
          "output_type": "stream",
          "name": "stdout",
          "text": [
            "Database Type: sqlite\n",
            "Tables: ['Album', 'Artist', 'Customer', 'Employee', 'Genre', 'Invoice', 'InvoiceLine', 'MediaType', 'Playlist', 'PlaylistTrack', 'Track']\n",
            "Artist: [(1, 'AC/DC'), (2, 'Accept'), (3, 'Aerosmith'), (4, 'Alanis Morissette'), (5, 'Alice In Chains')]\n"
          ]
        }
      ]
    },
    {
      "cell_type": "code",
      "source": [
        "llm = ChatGoogleGenerativeAI(model=\"gemini-2.5-flash\")\n",
        "# Define tools for the agent\n",
        "toolkit = SQLDatabaseToolkit(db=db,llm=llm )\n",
        "tools = toolkit.get_tools()\n",
        "tools"
      ],
      "metadata": {
        "colab": {
          "base_uri": "https://localhost:8080/"
        },
        "id": "BEyk9jGUYKs6",
        "outputId": "b058790e-229c-4499-8c62-a6afd4157182"
      },
      "execution_count": 14,
      "outputs": [
        {
          "output_type": "execute_result",
          "data": {
            "text/plain": [
              "[QuerySQLDatabaseTool(description=\"Input to this tool is a detailed and correct SQL query, output is a result from the database. If the query is not correct, an error message will be returned. If an error is returned, rewrite the query, check the query, and try again. If you encounter an issue with Unknown column 'xxxx' in 'field list', use sql_db_schema to query the correct table fields.\", db=<langchain_community.utilities.sql_database.SQLDatabase object at 0x7b408825a1e0>),\n",
              " InfoSQLDatabaseTool(description='Input to this tool is a comma-separated list of tables, output is the schema and sample rows for those tables. Be sure that the tables actually exist by calling sql_db_list_tables first! Example Input: table1, table2, table3', db=<langchain_community.utilities.sql_database.SQLDatabase object at 0x7b408825a1e0>),\n",
              " ListSQLDatabaseTool(db=<langchain_community.utilities.sql_database.SQLDatabase object at 0x7b408825a1e0>),\n",
              " QuerySQLCheckerTool(description='Use this tool to double check if your query is correct before executing it. Always use this tool before executing a query with sql_db_query!', db=<langchain_community.utilities.sql_database.SQLDatabase object at 0x7b408825a1e0>, llm=ChatGoogleGenerativeAI(model='models/gemini-2.5-flash', google_api_key=SecretStr('**********'), client=<google.ai.generativelanguage_v1beta.services.generative_service.client.GenerativeServiceClient object at 0x7b40882470b0>, default_metadata=(), model_kwargs={}), llm_chain=LLMChain(verbose=False, prompt=PromptTemplate(input_variables=['dialect', 'query'], input_types={}, partial_variables={}, template='\\n{query}\\nDouble check the {dialect} query above for common mistakes, including:\\n- Using NOT IN with NULL values\\n- Using UNION when UNION ALL should have been used\\n- Using BETWEEN for exclusive ranges\\n- Data type mismatch in predicates\\n- Properly quoting identifiers\\n- Using the correct number of arguments for functions\\n- Casting to the correct data type\\n- Using the proper columns for joins\\n\\nIf there are any of the above mistakes, rewrite the query. If there are no mistakes, just reproduce the original query.\\n\\nOutput the final SQL query only.\\n\\nSQL Query: '), llm=ChatGoogleGenerativeAI(model='models/gemini-2.5-flash', google_api_key=SecretStr('**********'), client=<google.ai.generativelanguage_v1beta.services.generative_service.client.GenerativeServiceClient object at 0x7b40882470b0>, default_metadata=(), model_kwargs={}), output_parser=StrOutputParser(), llm_kwargs={}))]"
            ]
          },
          "metadata": {},
          "execution_count": 14
        }
      ]
    },
    {
      "cell_type": "code",
      "source": [
        "for i in tools:\n",
        "  print( i.name)"
      ],
      "metadata": {
        "colab": {
          "base_uri": "https://localhost:8080/"
        },
        "id": "0geTIFXz6y26",
        "outputId": "2c50b269-3dc0-41cf-cadd-06392b7c8295"
      },
      "execution_count": 15,
      "outputs": [
        {
          "output_type": "stream",
          "name": "stdout",
          "text": [
            "sql_db_query\n",
            "sql_db_schema\n",
            "sql_db_list_tables\n",
            "sql_db_query_checker\n"
          ]
        }
      ]
    },
    {
      "cell_type": "code",
      "source": [
        "db_query_tool = next(tool for tool in tools if tool.name == \"sql_db_query\")\n",
        "db_schema_tool = next(tool for tool in tools if tool.name == \"sql_db_schema\")\n",
        "db_list_tables_tool = next(tool for tool in tools if tool.name == \"sql_db_list_tables\")\n",
        "db_query_checker_tool = next(tool for tool in tools if tool.name == \"sql_db_query_checker\")\n"
      ],
      "metadata": {
        "id": "lO7cZtHL6yza"
      },
      "execution_count": 16,
      "outputs": []
    },
    {
      "cell_type": "code",
      "source": [
        "db_query_tool.run(\"\"\"\n",
        "SELECT\n",
        "  C.Country,\n",
        "  SUM(I.Total) AS TotalSales\n",
        "FROM Customer AS C\n",
        "JOIN Invoice AS I\n",
        "  ON C.CustomerId = I.CustomerId\n",
        "GROUP BY\n",
        "  C.Country\n",
        "ORDER BY\n",
        "  TotalSales DESC;\n",
        "\"\"\")"
      ],
      "metadata": {
        "colab": {
          "base_uri": "https://localhost:8080/",
          "height": 108
        },
        "id": "yD73nDLYemck",
        "outputId": "f933ce1f-9570-4b21-99e2-0ae3967d64b1"
      },
      "execution_count": 25,
      "outputs": [
        {
          "output_type": "execute_result",
          "data": {
            "text/plain": [
              "\"[('USA', 523.0600000000003), ('Canada', 303.9599999999999), ('France', 195.09999999999994), ('Brazil', 190.09999999999997), ('Germany', 156.48), ('United Kingdom', 112.85999999999999), ('Czech Republic', 90.24000000000001), ('Portugal', 77.23999999999998), ('India', 75.25999999999999), ('Chile', 46.62), ('Ireland', 45.62), ('Hungary', 45.62), ('Austria', 42.62), ('Finland', 41.620000000000005), ('Netherlands', 40.62), ('Norway', 39.62), ('Sweden', 38.620000000000005), ('Poland', 37.620000000000005), ('Italy', 37.620000000000005), ('Denmark', 37.620000000000005), ('Australia', 37.620000000000005), ('Argentina', 37.620000000000005), ('Spain', 37.62), ('Belgium', 37.62)]\""
            ],
            "application/vnd.google.colaboratory.intrinsic+json": {
              "type": "string"
            }
          },
          "metadata": {},
          "execution_count": 25
        }
      ]
    },
    {
      "cell_type": "code",
      "source": [
        "db_list_tables_tool.run({})"
      ],
      "metadata": {
        "colab": {
          "base_uri": "https://localhost:8080/",
          "height": 36
        },
        "id": "qpmF-SVgfdkr",
        "outputId": "0bf37ff2-94a2-4cb6-d9a9-65a4c795d331"
      },
      "execution_count": 27,
      "outputs": [
        {
          "output_type": "execute_result",
          "data": {
            "text/plain": [
              "'Album, Artist, Customer, Employee, Genre, Invoice, InvoiceLine, MediaType, Playlist, PlaylistTrack, Track'"
            ],
            "application/vnd.google.colaboratory.intrinsic+json": {
              "type": "string"
            }
          },
          "metadata": {},
          "execution_count": 27
        }
      ]
    },
    {
      "cell_type": "code",
      "source": [
        "db_schema_tool"
      ],
      "metadata": {
        "colab": {
          "base_uri": "https://localhost:8080/"
        },
        "id": "2Z82eOLaAafJ",
        "outputId": "e8ecc1bf-5159-4472-ccd2-39e836ae337e"
      },
      "execution_count": 28,
      "outputs": [
        {
          "output_type": "execute_result",
          "data": {
            "text/plain": [
              "InfoSQLDatabaseTool(description='Input to this tool is a comma-separated list of tables, output is the schema and sample rows for those tables. Be sure that the tables actually exist by calling sql_db_list_tables first! Example Input: table1, table2, table3', db=<langchain_community.utilities.sql_database.SQLDatabase object at 0x7b408825a1e0>)"
            ]
          },
          "metadata": {},
          "execution_count": 28
        }
      ]
    },
    {
      "cell_type": "code",
      "source": [
        "db_schema_tool.invoke(\"Album, Artist, Customer, Employee, Genre, Invoice, InvoiceLine, MediaType, Playlist, PlaylistTrack, Track\")\n",
        "db_schema_tool.invoke(\"Album\")"
      ],
      "metadata": {
        "colab": {
          "base_uri": "https://localhost:8080/",
          "height": 72
        },
        "id": "DQV0QnQ0kU3s",
        "outputId": "7878e862-6cf0-4a02-b216-be15cd4dfbdc"
      },
      "execution_count": 29,
      "outputs": [
        {
          "output_type": "execute_result",
          "data": {
            "text/plain": [
              "'\\nCREATE TABLE \"Album\" (\\n\\t\"AlbumId\" INTEGER NOT NULL, \\n\\t\"Title\" NVARCHAR(160) NOT NULL, \\n\\t\"ArtistId\" INTEGER NOT NULL, \\n\\tPRIMARY KEY (\"AlbumId\"), \\n\\tFOREIGN KEY(\"ArtistId\") REFERENCES \"Artist\" (\"ArtistId\")\\n)\\n\\n/*\\n3 rows from Album table:\\nAlbumId\\tTitle\\tArtistId\\n1\\tFor Those About To Rock We Salute You\\t1\\n2\\tBalls to the Wall\\t2\\n3\\tRestless and Wild\\t2\\n*/'"
            ],
            "application/vnd.google.colaboratory.intrinsic+json": {
              "type": "string"
            }
          },
          "metadata": {},
          "execution_count": 29
        }
      ]
    },
    {
      "cell_type": "code",
      "source": [
        "db_schema_model = llm.bind_tools([db_schema_tool])\n",
        "db_schema_model.invoke('Album, Artist, Customer, Employee, Genre, Invoice, InvoiceLine, MediaType, Playlist, PlaylistTrack, Track')\n"
      ],
      "metadata": {
        "colab": {
          "base_uri": "https://localhost:8080/"
        },
        "id": "0ewhX0K1cHHB",
        "outputId": "09200a64-7f88-4d2f-b4e9-c27100b80593"
      },
      "execution_count": 30,
      "outputs": [
        {
          "output_type": "execute_result",
          "data": {
            "text/plain": [
              "AIMessage(content='', additional_kwargs={'function_call': {'name': 'sql_db_schema', 'arguments': '{\"table_names\": \"Album, Artist, Customer, Employee, Genre, Invoice, InvoiceLine, MediaType, Playlist, PlaylistTrack, Track\"}'}}, response_metadata={'prompt_feedback': {'block_reason': 0, 'safety_ratings': []}, 'finish_reason': 'STOP', 'model_name': 'gemini-2.5-flash', 'safety_ratings': []}, id='run--297717ad-c787-4664-9950-92f6cb36e955-0', tool_calls=[{'name': 'sql_db_schema', 'args': {'table_names': 'Album, Artist, Customer, Employee, Genre, Invoice, InvoiceLine, MediaType, Playlist, PlaylistTrack, Track'}, 'id': '7ea7d4ae-43c2-494e-a083-4229496ff085', 'type': 'tool_call'}], usage_metadata={'input_tokens': 143, 'output_tokens': 173, 'total_tokens': 316, 'input_token_details': {'cache_read': 0}, 'output_token_details': {'reasoning': 132}})"
            ]
          },
          "metadata": {},
          "execution_count": 30
        }
      ]
    },
    {
      "cell_type": "markdown",
      "source": [
        "## agent creation"
      ],
      "metadata": {
        "id": "BNYBdUVS4Gsx"
      }
    },
    {
      "cell_type": "code",
      "source": [
        "sql_generation_prompt=\"\"\"You are a SQL expert with a strong attention to detail.\n",
        "\n",
        "Given an input question, output a syntactically correct SQLite query to run, then look at the results of the query and return the answer.\n",
        "\n",
        "When generating the query:\n",
        "\n",
        "Output the SQL query that answers the input question without a tool call.\n",
        "\n",
        "Unless the user specifies a specific number of examples they wish to obtain, always limit your query to at most 5 results.\n",
        "You can order the results by a relevant column to return the most interesting examples in the database.\n",
        "Never query for all the columns from a specific table, only ask for the relevant columns given the question.\n",
        "\n",
        "If you get an error while executing a query, rewrite the query and try again.\n",
        "\n",
        "If you get an empty result set, you should try to rewrite the query to get a non-empty result set.\n",
        "NEVER make stuff up if you don't have enough information to answer the query... just say you don't have enough information.\n",
        "\n",
        "If you have enough information to answer the input question, simply invoke the appropriate tool to submit the final answer to the user.\n",
        "\n",
        "DO NOT make any DML statements (INSERT, UPDATE, DELETE, DROP etc.) to the database.\n",
        "\n",
        "\n",
        "Note: If user query is already present for given input question then return with message 'Correct Query' strictly  \"\"\"\n",
        "\n",
        "\n",
        "query_correction_prmpt=\"\"\"You are a SQL expert with a strong attention to detail.\n",
        "Double check the SQLite query for common mistakes, including:\n",
        "- Using NOT IN with NULL values\n",
        "- Using UNION when UNION ALL should have been used\n",
        "- Using BETWEEN for exclusive ranges\n",
        "- Data type mismatch in predicates\n",
        "- Properly quoting identifiers\n",
        "- Using the correct number of arguments for functions\n",
        "- Casting to the correct data type\n",
        "- Using the proper columns for joins\n",
        "\n",
        "If there are any of the above mistakes, rewrite the query. If there are no mistakes, just reproduce the original query.\n",
        "\n",
        "If there is any delete , drop , insert or update command is there then return with message \"Query is dangerous\"\n",
        "\n",
        "You will call the appropriate tool to execute the query after running this check.\"\"\""
      ],
      "metadata": {
        "id": "7A5EymyRS4fC"
      },
      "execution_count": 31,
      "outputs": []
    },
    {
      "cell_type": "code",
      "source": [
        "class State(TypedDict):\n",
        "    messages: Annotated[list[AnyMessage], add_messages]\n",
        "    id:str\n",
        "\n",
        "def init_node(State):\n",
        "  #  this node will trigger to choose tools available for db querying\n",
        "  print(\"\\n\\n\\n\\n----init_node----\\n\", \"state:\", State)\n",
        "  id=State[\"messages\"][-1].id\n",
        "  msg=State[\"messages\"][-1].content\n",
        "  print(\"start id:\", id)\n",
        "  agent_id=\"NLP_auto_db_query\"\n",
        "  msg=AIMessage(content=msg,id =id,tools_calls=[{\"name\":\"db_list_tables_tool\",\"args\":{},\"id\":id}])\n",
        "  return {\"messages\":[msg],\"id\":id}\n",
        "\n",
        "def list_tables_node(State) -> dict[str, list[AIMessage]]:\n",
        "    \"\"\"\n",
        "    dict[str, list[AIMessage]]: keys are str and values are list of AIMessage.\n",
        "    Lists all tables in the database and returns the result as a ToolMessage.\n",
        "    \"\"\"\n",
        "    print(\"\\n\\n\\n\\n--- List Tables Node ---\")\n",
        "    tool_call_id = State[\"id\"]\n",
        "    result = State[\"messages\"][-1].tools_calls[0][\"name\"]\n",
        "    if result==\"db_list_tables_tool\":\n",
        "      result=db_list_tables_tool.invoke({})\n",
        "    # print(\"Tables in the database:\", result)\n",
        "    try:\n",
        "      return {\"messages\": [ToolMessage(content=result, tool_call_id=tool_call_id)]}\n",
        "    except Exception as e:\n",
        "      print(  \"error:\",e)\n",
        "      pass\n",
        "def tables_schema(State):\n",
        "  print(\"\\n\\n\\n\\n--- Tables Schema Node ---\")\n",
        "  tool_call_id = State[\"id\"]\n",
        "  result = State[\"messages\"][-1].content\n",
        "  result=db_schema_tool.invoke(result)\n",
        "  # print(\"table schema result:\", result)\n",
        "  try:\n",
        "    return {\"messages\": [ToolMessage(content=result, tool_call_id=tool_call_id)]}\n",
        "  except Exception as e:\n",
        "    print(  \" tables_schema error:\",e)\n",
        "    pass\n",
        "\n",
        "def sql_generation(State):\n",
        "  print(\"\\n\\n\\n\\n--- sql_generation ---\\n\")\n",
        "  input=[SystemMessage(sql_generation_prompt),HumanMessage(content=str(State).replace(State[\"id\"],\"\"))]\n",
        "  print(\"----------input---------\",input)\n",
        "  try:\n",
        "    # adarsh\n",
        "    response=llm(input).content\n",
        "    print(\"\\n\\n\\n\\n--- sql_generation llm output---\\n\",response)\n",
        "    return {\"messages\":[response]}\n",
        "  except:\n",
        "    return {\"messages\":[\"Error came while calling llm\"]}\n",
        "\n",
        "\n",
        "def query_correction(State):\n",
        "  print(\"\\n\\n\\n\\n--- query_correction ---\\n\")\n",
        "  input=[SystemMessage(query_correction_prmpt),HumanMessage(content=str(State[\"messages\"][-1]).replace(State[\"id\"],\"\"))]\n",
        "\n",
        "  response=llm(input).content\n",
        "  print(\"query_correction llm response\",response)\n",
        "  return {\"messages\":[response]}\n",
        "\n",
        "def conditional(State):\n",
        "  last_state=State[\"messages\"][-1].content.lower()\n",
        "  print(\"\\n\\n\\n\\n----conditional----------\",last_state)\n",
        "  if \"error\" in last_state:\n",
        "    print(\"**************** conditional end \")\n",
        "    return END\n",
        "  elif \"correct\" in last_state:\n",
        "    print(\"****************  sqlite_call \")\n",
        "    return \"sqlite_call\"\n",
        "  elif \"sqlite\" not in last_state:\n",
        "    return \"sql_generation\"\n",
        "  else:\n",
        "    return \"query_correction\"\n",
        "def sqlite_call(State):\n",
        "  print(\"\\n\\n\\n\\n--- sqlite_call ---\\n\")\n",
        "  tool_call_id = State[\"id\"]\n",
        "  result = State[\"messages\"][-3].content.replace(\"sqlite\",\"\").replace(\"`\",\" \")\n",
        "  print(\"sqlite_call result:\", result,\"--- done\")\n",
        "  result=db_query_tool.run(result)\n",
        "  return {\"messages\":[result]}\n",
        "\n",
        "def post_process(State):\n",
        "  print(\"\\n\\n\\n\\n--- post_process ---\\n\")\n",
        "  out=State[\"messages\"][-1].content\n",
        "  # print(out)\n",
        "  out1=pd.DataFrame(ast.literal_eval(out))\n",
        "  print( out1)\n",
        "  return out1\n",
        "\n",
        "agent=StateGraph(State)\n",
        "\n",
        "agent.add_node('init', init_node)\n",
        "agent.add_node('list_tables', list_tables_node)\n",
        "agent.add_node('tables_schema', tables_schema)\n",
        "agent.add_node('sql_generation', sql_generation)\n",
        "agent.add_node('query_correction', query_correction)\n",
        "agent.add_node('sqlite_call', sqlite_call)\n",
        "agent.add_node('post_process', post_process)\n",
        "\n",
        "agent.add_edge(START, 'init')\n",
        "agent.add_edge('init', 'list_tables')\n",
        "agent.add_edge('list_tables', 'tables_schema')\n",
        "agent.add_edge('tables_schema', 'sql_generation')\n",
        "agent.add_conditional_edges('sql_generation',conditional,[END,'sql_generation','query_correction','sqlite_call'])\n",
        "agent.add_edge('query_correction',\"sql_generation\")\n",
        "agent.add_edge(\"sql_generation\",END)\n",
        "agent.add_edge('sqlite_call',\"post_process\")\n",
        "agent.add_edge(\"post_process\",END)\n",
        "app = agent.compile()\n",
        "\n",
        "graph = app.get_graph()\n",
        "\n",
        "\n",
        "\n",
        "app.invoke({\"messages\":[(HumanMessage(content=\"What is the total sales amount per country?\"))],\"id\":\"\"});\n"
      ],
      "metadata": {
        "colab": {
          "base_uri": "https://localhost:8080/"
        },
        "id": "arULKGKE4ItR",
        "outputId": "b3a41b14-01c6-4954-f514-d25a43a3f1f1"
      },
      "execution_count": 45,
      "outputs": [
        {
          "output_type": "stream",
          "name": "stdout",
          "text": [
            "\n",
            "\n",
            "\n",
            "\n",
            "----init_node----\n",
            " state: {'messages': [HumanMessage(content='What is the total sales amount per country?', additional_kwargs={}, response_metadata={}, id='e9f163d1-650c-49ba-9055-4d823a11f9dd')], 'id': ''}\n",
            "start id: e9f163d1-650c-49ba-9055-4d823a11f9dd\n",
            "\n",
            "\n",
            "\n",
            "\n",
            "--- List Tables Node ---\n",
            "\n",
            "\n",
            "\n",
            "\n",
            "--- Tables Schema Node ---\n",
            "\n",
            "\n",
            "\n",
            "\n",
            "--- sql_generation ---\n",
            "\n",
            "----------input--------- [SystemMessage(content=\"You are a SQL expert with a strong attention to detail.\\n\\nGiven an input question, output a syntactically correct SQLite query to run, then look at the results of the query and return the answer.\\n\\nWhen generating the query:\\n\\nOutput the SQL query that answers the input question without a tool call.\\n\\nUnless the user specifies a specific number of examples they wish to obtain, always limit your query to at most 5 results.\\nYou can order the results by a relevant column to return the most interesting examples in the database.\\nNever query for all the columns from a specific table, only ask for the relevant columns given the question.\\n\\nIf you get an error while executing a query, rewrite the query and try again.\\n\\nIf you get an empty result set, you should try to rewrite the query to get a non-empty result set.\\nNEVER make stuff up if you don't have enough information to answer the query... just say you don't have enough information.\\n\\nIf you have enough information to answer the input question, simply invoke the appropriate tool to submit the final answer to the user.\\n\\nDO NOT make any DML statements (INSERT, UPDATE, DELETE, DROP etc.) to the database.\\n\\n\\nNote: If user query is already present for given input question then return with message 'Correct Query' strictly  \", additional_kwargs={}, response_metadata={}), HumanMessage(content='{\\'messages\\': [AIMessage(content=\\'What is the total sales amount per country?\\', additional_kwargs={}, response_metadata={}, id=\\'\\', tools_calls=[{\\'name\\': \\'db_list_tables_tool\\', \\'args\\': {}, \\'id\\': \\'\\'}]), ToolMessage(content=\\'Album, Artist, Customer, Employee, Genre, Invoice, InvoiceLine, MediaType, Playlist, PlaylistTrack, Track\\', id=\\'9c0787fb-60cb-4fe1-bfe1-4cd01283ff6f\\', tool_call_id=\\'\\'), ToolMessage(content=\\'\\\\nCREATE TABLE \"Album\" (\\\\n\\\\t\"AlbumId\" INTEGER NOT NULL, \\\\n\\\\t\"Title\" NVARCHAR(160) NOT NULL, \\\\n\\\\t\"ArtistId\" INTEGER NOT NULL, \\\\n\\\\tPRIMARY KEY (\"AlbumId\"), \\\\n\\\\tFOREIGN KEY(\"ArtistId\") REFERENCES \"Artist\" (\"ArtistId\")\\\\n)\\\\n\\\\n/*\\\\n3 rows from Album table:\\\\nAlbumId\\\\tTitle\\\\tArtistId\\\\n1\\\\tFor Those About To Rock We Salute You\\\\t1\\\\n2\\\\tBalls to the Wall\\\\t2\\\\n3\\\\tRestless and Wild\\\\t2\\\\n*/\\\\n\\\\n\\\\nCREATE TABLE \"Artist\" (\\\\n\\\\t\"ArtistId\" INTEGER NOT NULL, \\\\n\\\\t\"Name\" NVARCHAR(120), \\\\n\\\\tPRIMARY KEY (\"ArtistId\")\\\\n)\\\\n\\\\n/*\\\\n3 rows from Artist table:\\\\nArtistId\\\\tName\\\\n1\\\\tAC/DC\\\\n2\\\\tAccept\\\\n3\\\\tAerosmith\\\\n*/\\\\n\\\\n\\\\nCREATE TABLE \"Customer\" (\\\\n\\\\t\"CustomerId\" INTEGER NOT NULL, \\\\n\\\\t\"FirstName\" NVARCHAR(40) NOT NULL, \\\\n\\\\t\"LastName\" NVARCHAR(20) NOT NULL, \\\\n\\\\t\"Company\" NVARCHAR(80), \\\\n\\\\t\"Address\" NVARCHAR(70), \\\\n\\\\t\"City\" NVARCHAR(40), \\\\n\\\\t\"State\" NVARCHAR(40), \\\\n\\\\t\"Country\" NVARCHAR(40), \\\\n\\\\t\"PostalCode\" NVARCHAR(10), \\\\n\\\\t\"Phone\" NVARCHAR(24), \\\\n\\\\t\"Fax\" NVARCHAR(24), \\\\n\\\\t\"Email\" NVARCHAR(60) NOT NULL, \\\\n\\\\t\"SupportRepId\" INTEGER, \\\\n\\\\tPRIMARY KEY (\"CustomerId\"), \\\\n\\\\tFOREIGN KEY(\"SupportRepId\") REFERENCES \"Employee\" (\"EmployeeId\")\\\\n)\\\\n\\\\n/*\\\\n3 rows from Customer table:\\\\nCustomerId\\\\tFirstName\\\\tLastName\\\\tCompany\\\\tAddress\\\\tCity\\\\tState\\\\tCountry\\\\tPostalCode\\\\tPhone\\\\tFax\\\\tEmail\\\\tSupportRepId\\\\n1\\\\tLuís\\\\tGonçalves\\\\tEmbraer - Empresa Brasileira de Aeronáutica S.A.\\\\tAv. Brigadeiro Faria Lima, 2170\\\\tSão José dos Campos\\\\tSP\\\\tBrazil\\\\t12227-000\\\\t+55 (12) 3923-5555\\\\t+55 (12) 3923-5566\\\\tluisg@embraer.com.br\\\\t3\\\\n2\\\\tLeonie\\\\tKöhler\\\\tNone\\\\tTheodor-Heuss-Straße 34\\\\tStuttgart\\\\tNone\\\\tGermany\\\\t70174\\\\t+49 0711 2842222\\\\tNone\\\\tleonekohler@surfeu.de\\\\t5\\\\n3\\\\tFrançois\\\\tTremblay\\\\tNone\\\\t1498 rue Bélanger\\\\tMontréal\\\\tQC\\\\tCanada\\\\tH2G 1A7\\\\t+1 (514) 721-4711\\\\tNone\\\\tftremblay@gmail.com\\\\t3\\\\n*/\\\\n\\\\n\\\\nCREATE TABLE \"Employee\" (\\\\n\\\\t\"EmployeeId\" INTEGER NOT NULL, \\\\n\\\\t\"LastName\" NVARCHAR(20) NOT NULL, \\\\n\\\\t\"FirstName\" NVARCHAR(20) NOT NULL, \\\\n\\\\t\"Title\" NVARCHAR(30), \\\\n\\\\t\"ReportsTo\" INTEGER, \\\\n\\\\t\"BirthDate\" DATETIME, \\\\n\\\\t\"HireDate\" DATETIME, \\\\n\\\\t\"Address\" NVARCHAR(70), \\\\n\\\\t\"City\" NVARCHAR(40), \\\\n\\\\t\"State\" NVARCHAR(40), \\\\n\\\\t\"Country\" NVARCHAR(40), \\\\n\\\\t\"PostalCode\" NVARCHAR(10), \\\\n\\\\t\"Phone\" NVARCHAR(24), \\\\n\\\\t\"Fax\" NVARCHAR(24), \\\\n\\\\t\"Email\" NVARCHAR(60), \\\\n\\\\tPRIMARY KEY (\"EmployeeId\"), \\\\n\\\\tFOREIGN KEY(\"ReportsTo\") REFERENCES \"Employee\" (\"EmployeeId\")\\\\n)\\\\n\\\\n/*\\\\n3 rows from Employee table:\\\\nEmployeeId\\\\tLastName\\\\tFirstName\\\\tTitle\\\\tReportsTo\\\\tBirthDate\\\\tHireDate\\\\tAddress\\\\tCity\\\\tState\\\\tCountry\\\\tPostalCode\\\\tPhone\\\\tFax\\\\tEmail\\\\n1\\\\tAdams\\\\tAndrew\\\\tGeneral Manager\\\\tNone\\\\t1962-02-18 00:00:00\\\\t2002-08-14 00:00:00\\\\t11120 Jasper Ave NW\\\\tEdmonton\\\\tAB\\\\tCanada\\\\tT5K 2N1\\\\t+1 (780) 428-9482\\\\t+1 (780) 428-3457\\\\tandrew@chinookcorp.com\\\\n2\\\\tEdwards\\\\tNancy\\\\tSales Manager\\\\t1\\\\t1958-12-08 00:00:00\\\\t2002-05-01 00:00:00\\\\t825 8 Ave SW\\\\tCalgary\\\\tAB\\\\tCanada\\\\tT2P 2T3\\\\t+1 (403) 262-3443\\\\t+1 (403) 262-3322\\\\tnancy@chinookcorp.com\\\\n3\\\\tPeacock\\\\tJane\\\\tSales Support Agent\\\\t2\\\\t1973-08-29 00:00:00\\\\t2002-04-01 00:00:00\\\\t1111 6 Ave SW\\\\tCalgary\\\\tAB\\\\tCanada\\\\tT2P 5M5\\\\t+1 (403) 262-3443\\\\t+1 (403) 262-6712\\\\tjane@chinookcorp.com\\\\n*/\\\\n\\\\n\\\\nCREATE TABLE \"Genre\" (\\\\n\\\\t\"GenreId\" INTEGER NOT NULL, \\\\n\\\\t\"Name\" NVARCHAR(120), \\\\n\\\\tPRIMARY KEY (\"GenreId\")\\\\n)\\\\n\\\\n/*\\\\n3 rows from Genre table:\\\\nGenreId\\\\tName\\\\n1\\\\tRock\\\\n2\\\\tJazz\\\\n3\\\\tMetal\\\\n*/\\\\n\\\\n\\\\nCREATE TABLE \"Invoice\" (\\\\n\\\\t\"InvoiceId\" INTEGER NOT NULL, \\\\n\\\\t\"CustomerId\" INTEGER NOT NULL, \\\\n\\\\t\"InvoiceDate\" DATETIME NOT NULL, \\\\n\\\\t\"BillingAddress\" NVARCHAR(70), \\\\n\\\\t\"BillingCity\" NVARCHAR(40), \\\\n\\\\t\"BillingState\" NVARCHAR(40), \\\\n\\\\t\"BillingCountry\" NVARCHAR(40), \\\\n\\\\t\"BillingPostalCode\" NVARCHAR(10), \\\\n\\\\t\"Total\" NUMERIC(10, 2) NOT NULL, \\\\n\\\\tPRIMARY KEY (\"InvoiceId\"), \\\\n\\\\tFOREIGN KEY(\"CustomerId\") REFERENCES \"Customer\" (\"CustomerId\")\\\\n)\\\\n\\\\n/*\\\\n3 rows from Invoice table:\\\\nInvoiceId\\\\tCustomerId\\\\tInvoiceDate\\\\tBillingAddress\\\\tBillingCity\\\\tBillingState\\\\tBillingCountry\\\\tBillingPostalCode\\\\tTotal\\\\n1\\\\t2\\\\t2009-01-01 00:00:00\\\\tTheodor-Heuss-Straße 34\\\\tStuttgart\\\\tNone\\\\tGermany\\\\t70174\\\\t1.98\\\\n2\\\\t4\\\\t2009-01-02 00:00:00\\\\tUllevålsveien 14\\\\tOslo\\\\tNone\\\\tNorway\\\\t0171\\\\t3.96\\\\n3\\\\t8\\\\t2009-01-03 00:00:00\\\\tGrétrystraat 63\\\\tBrussels\\\\tNone\\\\tBelgium\\\\t1000\\\\t5.94\\\\n*/\\\\n\\\\n\\\\nCREATE TABLE \"InvoiceLine\" (\\\\n\\\\t\"InvoiceLineId\" INTEGER NOT NULL, \\\\n\\\\t\"InvoiceId\" INTEGER NOT NULL, \\\\n\\\\t\"TrackId\" INTEGER NOT NULL, \\\\n\\\\t\"UnitPrice\" NUMERIC(10, 2) NOT NULL, \\\\n\\\\t\"Quantity\" INTEGER NOT NULL, \\\\n\\\\tPRIMARY KEY (\"InvoiceLineId\"), \\\\n\\\\tFOREIGN KEY(\"TrackId\") REFERENCES \"Track\" (\"TrackId\"), \\\\n\\\\tFOREIGN KEY(\"InvoiceId\") REFERENCES \"Invoice\" (\"InvoiceId\")\\\\n)\\\\n\\\\n/*\\\\n3 rows from InvoiceLine table:\\\\nInvoiceLineId\\\\tInvoiceId\\\\tTrackId\\\\tUnitPrice\\\\tQuantity\\\\n1\\\\t1\\\\t2\\\\t0.99\\\\t1\\\\n2\\\\t1\\\\t4\\\\t0.99\\\\t1\\\\n3\\\\t2\\\\t6\\\\t0.99\\\\t1\\\\n*/\\\\n\\\\n\\\\nCREATE TABLE \"MediaType\" (\\\\n\\\\t\"MediaTypeId\" INTEGER NOT NULL, \\\\n\\\\t\"Name\" NVARCHAR(120), \\\\n\\\\tPRIMARY KEY (\"MediaTypeId\")\\\\n)\\\\n\\\\n/*\\\\n3 rows from MediaType table:\\\\nMediaTypeId\\\\tName\\\\n1\\\\tMPEG audio file\\\\n2\\\\tProtected AAC audio file\\\\n3\\\\tProtected MPEG-4 video file\\\\n*/\\\\n\\\\n\\\\nCREATE TABLE \"Playlist\" (\\\\n\\\\t\"PlaylistId\" INTEGER NOT NULL, \\\\n\\\\t\"Name\" NVARCHAR(120), \\\\n\\\\tPRIMARY KEY (\"PlaylistId\")\\\\n)\\\\n\\\\n/*\\\\n3 rows from Playlist table:\\\\nPlaylistId\\\\tName\\\\n1\\\\tMusic\\\\n2\\\\tMovies\\\\n3\\\\tTV Shows\\\\n*/\\\\n\\\\n\\\\nCREATE TABLE \"PlaylistTrack\" (\\\\n\\\\t\"PlaylistId\" INTEGER NOT NULL, \\\\n\\\\t\"TrackId\" INTEGER NOT NULL, \\\\n\\\\tPRIMARY KEY (\"PlaylistId\", \"TrackId\"), \\\\n\\\\tFOREIGN KEY(\"TrackId\") REFERENCES \"Track\" (\"TrackId\"), \\\\n\\\\tFOREIGN KEY(\"PlaylistId\") REFERENCES \"Playlist\" (\"PlaylistId\")\\\\n)\\\\n\\\\n/*\\\\n3 rows from PlaylistTrack table:\\\\nPlaylistId\\\\tTrackId\\\\n1\\\\t3402\\\\n1\\\\t3389\\\\n1\\\\t3390\\\\n*/\\\\n\\\\n\\\\nCREATE TABLE \"Track\" (\\\\n\\\\t\"TrackId\" INTEGER NOT NULL, \\\\n\\\\t\"Name\" NVARCHAR(200) NOT NULL, \\\\n\\\\t\"AlbumId\" INTEGER, \\\\n\\\\t\"MediaTypeId\" INTEGER NOT NULL, \\\\n\\\\t\"GenreId\" INTEGER, \\\\n\\\\t\"Composer\" NVARCHAR(220), \\\\n\\\\t\"Milliseconds\" INTEGER NOT NULL, \\\\n\\\\t\"Bytes\" INTEGER, \\\\n\\\\t\"UnitPrice\" NUMERIC(10, 2) NOT NULL, \\\\n\\\\tPRIMARY KEY (\"TrackId\"), \\\\n\\\\tFOREIGN KEY(\"MediaTypeId\") REFERENCES \"MediaType\" (\"MediaTypeId\"), \\\\n\\\\tFOREIGN KEY(\"GenreId\") REFERENCES \"Genre\" (\"GenreId\"), \\\\n\\\\tFOREIGN KEY(\"AlbumId\") REFERENCES \"Album\" (\"AlbumId\")\\\\n)\\\\n\\\\n/*\\\\n3 rows from Track table:\\\\nTrackId\\\\tName\\\\tAlbumId\\\\tMediaTypeId\\\\tGenreId\\\\tComposer\\\\tMilliseconds\\\\tBytes\\\\tUnitPrice\\\\n1\\\\tFor Those About To Rock (We Salute You)\\\\t1\\\\t1\\\\t1\\\\tAngus Young, Malcolm Young, Brian Johnson\\\\t343719\\\\t11170334\\\\t0.99\\\\n2\\\\tBalls to the Wall\\\\t2\\\\t2\\\\t1\\\\tNone\\\\t342562\\\\t5510424\\\\t0.99\\\\n3\\\\tFast As a Shark\\\\t3\\\\t2\\\\t1\\\\tF. Baltes, S. Kaufman, U. Dirkscneider & W. Hoffman\\\\t230619\\\\t3990994\\\\t0.99\\\\n*/\\', id=\\'87a3d51d-2a15-4bdf-8f49-55afb50740af\\', tool_call_id=\\'\\')], \\'id\\': \\'\\'}', additional_kwargs={}, response_metadata={})]\n",
            "\n",
            "\n",
            "\n",
            "\n",
            "--- sql_generation llm output---\n",
            " ```sqlite\n",
            "SELECT\n",
            "  BillingCountry,\n",
            "  SUM(Total) AS TotalSales\n",
            "FROM Invoice\n",
            "GROUP BY\n",
            "  BillingCountry\n",
            "ORDER BY\n",
            "  TotalSales DESC;\n",
            "```\n",
            "\n",
            "\n",
            "\n",
            "\n",
            "----conditional---------- ```sqlite\n",
            "select\n",
            "  billingcountry,\n",
            "  sum(total) as totalsales\n",
            "from invoice\n",
            "group by\n",
            "  billingcountry\n",
            "order by\n",
            "  totalsales desc;\n",
            "```\n",
            "\n",
            "\n",
            "\n",
            "\n",
            "--- query_correction ---\n",
            "\n",
            "query_correction llm response \n",
            "\n",
            "\n",
            "\n",
            "\n",
            "--- sql_generation ---\n",
            "\n",
            "----------input--------- [SystemMessage(content=\"You are a SQL expert with a strong attention to detail.\\n\\nGiven an input question, output a syntactically correct SQLite query to run, then look at the results of the query and return the answer.\\n\\nWhen generating the query:\\n\\nOutput the SQL query that answers the input question without a tool call.\\n\\nUnless the user specifies a specific number of examples they wish to obtain, always limit your query to at most 5 results.\\nYou can order the results by a relevant column to return the most interesting examples in the database.\\nNever query for all the columns from a specific table, only ask for the relevant columns given the question.\\n\\nIf you get an error while executing a query, rewrite the query and try again.\\n\\nIf you get an empty result set, you should try to rewrite the query to get a non-empty result set.\\nNEVER make stuff up if you don't have enough information to answer the query... just say you don't have enough information.\\n\\nIf you have enough information to answer the input question, simply invoke the appropriate tool to submit the final answer to the user.\\n\\nDO NOT make any DML statements (INSERT, UPDATE, DELETE, DROP etc.) to the database.\\n\\n\\nNote: If user query is already present for given input question then return with message 'Correct Query' strictly  \", additional_kwargs={}, response_metadata={}), HumanMessage(content='{\\'messages\\': [AIMessage(content=\\'What is the total sales amount per country?\\', additional_kwargs={}, response_metadata={}, id=\\'\\', tools_calls=[{\\'name\\': \\'db_list_tables_tool\\', \\'args\\': {}, \\'id\\': \\'\\'}]), ToolMessage(content=\\'Album, Artist, Customer, Employee, Genre, Invoice, InvoiceLine, MediaType, Playlist, PlaylistTrack, Track\\', id=\\'9c0787fb-60cb-4fe1-bfe1-4cd01283ff6f\\', tool_call_id=\\'\\'), ToolMessage(content=\\'\\\\nCREATE TABLE \"Album\" (\\\\n\\\\t\"AlbumId\" INTEGER NOT NULL, \\\\n\\\\t\"Title\" NVARCHAR(160) NOT NULL, \\\\n\\\\t\"ArtistId\" INTEGER NOT NULL, \\\\n\\\\tPRIMARY KEY (\"AlbumId\"), \\\\n\\\\tFOREIGN KEY(\"ArtistId\") REFERENCES \"Artist\" (\"ArtistId\")\\\\n)\\\\n\\\\n/*\\\\n3 rows from Album table:\\\\nAlbumId\\\\tTitle\\\\tArtistId\\\\n1\\\\tFor Those About To Rock We Salute You\\\\t1\\\\n2\\\\tBalls to the Wall\\\\t2\\\\n3\\\\tRestless and Wild\\\\t2\\\\n*/\\\\n\\\\n\\\\nCREATE TABLE \"Artist\" (\\\\n\\\\t\"ArtistId\" INTEGER NOT NULL, \\\\n\\\\t\"Name\" NVARCHAR(120), \\\\n\\\\tPRIMARY KEY (\"ArtistId\")\\\\n)\\\\n\\\\n/*\\\\n3 rows from Artist table:\\\\nArtistId\\\\tName\\\\n1\\\\tAC/DC\\\\n2\\\\tAccept\\\\n3\\\\tAerosmith\\\\n*/\\\\n\\\\n\\\\nCREATE TABLE \"Customer\" (\\\\n\\\\t\"CustomerId\" INTEGER NOT NULL, \\\\n\\\\t\"FirstName\" NVARCHAR(40) NOT NULL, \\\\n\\\\t\"LastName\" NVARCHAR(20) NOT NULL, \\\\n\\\\t\"Company\" NVARCHAR(80), \\\\n\\\\t\"Address\" NVARCHAR(70), \\\\n\\\\t\"City\" NVARCHAR(40), \\\\n\\\\t\"State\" NVARCHAR(40), \\\\n\\\\t\"Country\" NVARCHAR(40), \\\\n\\\\t\"PostalCode\" NVARCHAR(10), \\\\n\\\\t\"Phone\" NVARCHAR(24), \\\\n\\\\t\"Fax\" NVARCHAR(24), \\\\n\\\\t\"Email\" NVARCHAR(60) NOT NULL, \\\\n\\\\t\"SupportRepId\" INTEGER, \\\\n\\\\tPRIMARY KEY (\"CustomerId\"), \\\\n\\\\tFOREIGN KEY(\"SupportRepId\") REFERENCES \"Employee\" (\"EmployeeId\")\\\\n)\\\\n\\\\n/*\\\\n3 rows from Customer table:\\\\nCustomerId\\\\tFirstName\\\\tLastName\\\\tCompany\\\\tAddress\\\\tCity\\\\tState\\\\tCountry\\\\tPostalCode\\\\tPhone\\\\tFax\\\\tEmail\\\\tSupportRepId\\\\n1\\\\tLuís\\\\tGonçalves\\\\tEmbraer - Empresa Brasileira de Aeronáutica S.A.\\\\tAv. Brigadeiro Faria Lima, 2170\\\\tSão José dos Campos\\\\tSP\\\\tBrazil\\\\t12227-000\\\\t+55 (12) 3923-5555\\\\t+55 (12) 3923-5566\\\\tluisg@embraer.com.br\\\\t3\\\\n2\\\\tLeonie\\\\tKöhler\\\\tNone\\\\tTheodor-Heuss-Straße 34\\\\tStuttgart\\\\tNone\\\\tGermany\\\\t70174\\\\t+49 0711 2842222\\\\tNone\\\\tleonekohler@surfeu.de\\\\t5\\\\n3\\\\tFrançois\\\\tTremblay\\\\tNone\\\\t1498 rue Bélanger\\\\tMontréal\\\\tQC\\\\tCanada\\\\tH2G 1A7\\\\t+1 (514) 721-4711\\\\tNone\\\\tftremblay@gmail.com\\\\t3\\\\n*/\\\\n\\\\n\\\\nCREATE TABLE \"Employee\" (\\\\n\\\\t\"EmployeeId\" INTEGER NOT NULL, \\\\n\\\\t\"LastName\" NVARCHAR(20) NOT NULL, \\\\n\\\\t\"FirstName\" NVARCHAR(20) NOT NULL, \\\\n\\\\t\"Title\" NVARCHAR(30), \\\\n\\\\t\"ReportsTo\" INTEGER, \\\\n\\\\t\"BirthDate\" DATETIME, \\\\n\\\\t\"HireDate\" DATETIME, \\\\n\\\\t\"Address\" NVARCHAR(70), \\\\n\\\\t\"City\" NVARCHAR(40), \\\\n\\\\t\"State\" NVARCHAR(40), \\\\n\\\\t\"Country\" NVARCHAR(40), \\\\n\\\\t\"PostalCode\" NVARCHAR(10), \\\\n\\\\t\"Phone\" NVARCHAR(24), \\\\n\\\\t\"Fax\" NVARCHAR(24), \\\\n\\\\t\"Email\" NVARCHAR(60), \\\\n\\\\tPRIMARY KEY (\"EmployeeId\"), \\\\n\\\\tFOREIGN KEY(\"ReportsTo\") REFERENCES \"Employee\" (\"EmployeeId\")\\\\n)\\\\n\\\\n/*\\\\n3 rows from Employee table:\\\\nEmployeeId\\\\tLastName\\\\tFirstName\\\\tTitle\\\\tReportsTo\\\\tBirthDate\\\\tHireDate\\\\tAddress\\\\tCity\\\\tState\\\\tCountry\\\\tPostalCode\\\\tPhone\\\\tFax\\\\tEmail\\\\n1\\\\tAdams\\\\tAndrew\\\\tGeneral Manager\\\\tNone\\\\t1962-02-18 00:00:00\\\\t2002-08-14 00:00:00\\\\t11120 Jasper Ave NW\\\\tEdmonton\\\\tAB\\\\tCanada\\\\tT5K 2N1\\\\t+1 (780) 428-9482\\\\t+1 (780) 428-3457\\\\tandrew@chinookcorp.com\\\\n2\\\\tEdwards\\\\tNancy\\\\tSales Manager\\\\t1\\\\t1958-12-08 00:00:00\\\\t2002-05-01 00:00:00\\\\t825 8 Ave SW\\\\tCalgary\\\\tAB\\\\tCanada\\\\tT2P 2T3\\\\t+1 (403) 262-3443\\\\t+1 (403) 262-3322\\\\tnancy@chinookcorp.com\\\\n3\\\\tPeacock\\\\tJane\\\\tSales Support Agent\\\\t2\\\\t1973-08-29 00:00:00\\\\t2002-04-01 00:00:00\\\\t1111 6 Ave SW\\\\tCalgary\\\\tAB\\\\tCanada\\\\tT2P 5M5\\\\t+1 (403) 262-3443\\\\t+1 (403) 262-6712\\\\tjane@chinookcorp.com\\\\n*/\\\\n\\\\n\\\\nCREATE TABLE \"Genre\" (\\\\n\\\\t\"GenreId\" INTEGER NOT NULL, \\\\n\\\\t\"Name\" NVARCHAR(120), \\\\n\\\\tPRIMARY KEY (\"GenreId\")\\\\n)\\\\n\\\\n/*\\\\n3 rows from Genre table:\\\\nGenreId\\\\tName\\\\n1\\\\tRock\\\\n2\\\\tJazz\\\\n3\\\\tMetal\\\\n*/\\\\n\\\\n\\\\nCREATE TABLE \"Invoice\" (\\\\n\\\\t\"InvoiceId\" INTEGER NOT NULL, \\\\n\\\\t\"CustomerId\" INTEGER NOT NULL, \\\\n\\\\t\"InvoiceDate\" DATETIME NOT NULL, \\\\n\\\\t\"BillingAddress\" NVARCHAR(70), \\\\n\\\\t\"BillingCity\" NVARCHAR(40), \\\\n\\\\t\"BillingState\" NVARCHAR(40), \\\\n\\\\t\"BillingCountry\" NVARCHAR(40), \\\\n\\\\t\"BillingPostalCode\" NVARCHAR(10), \\\\n\\\\t\"Total\" NUMERIC(10, 2) NOT NULL, \\\\n\\\\tPRIMARY KEY (\"InvoiceId\"), \\\\n\\\\tFOREIGN KEY(\"CustomerId\") REFERENCES \"Customer\" (\"CustomerId\")\\\\n)\\\\n\\\\n/*\\\\n3 rows from Invoice table:\\\\nInvoiceId\\\\tCustomerId\\\\tInvoiceDate\\\\tBillingAddress\\\\tBillingCity\\\\tBillingState\\\\tBillingCountry\\\\tBillingPostalCode\\\\tTotal\\\\n1\\\\t2\\\\t2009-01-01 00:00:00\\\\tTheodor-Heuss-Straße 34\\\\tStuttgart\\\\tNone\\\\tGermany\\\\t70174\\\\t1.98\\\\n2\\\\t4\\\\t2009-01-02 00:00:00\\\\tUllevålsveien 14\\\\tOslo\\\\tNone\\\\tNorway\\\\t0171\\\\t3.96\\\\n3\\\\t8\\\\t2009-01-03 00:00:00\\\\tGrétrystraat 63\\\\tBrussels\\\\tNone\\\\tBelgium\\\\t1000\\\\t5.94\\\\n*/\\\\n\\\\n\\\\nCREATE TABLE \"InvoiceLine\" (\\\\n\\\\t\"InvoiceLineId\" INTEGER NOT NULL, \\\\n\\\\t\"InvoiceId\" INTEGER NOT NULL, \\\\n\\\\t\"TrackId\" INTEGER NOT NULL, \\\\n\\\\t\"UnitPrice\" NUMERIC(10, 2) NOT NULL, \\\\n\\\\t\"Quantity\" INTEGER NOT NULL, \\\\n\\\\tPRIMARY KEY (\"InvoiceLineId\"), \\\\n\\\\tFOREIGN KEY(\"TrackId\") REFERENCES \"Track\" (\"TrackId\"), \\\\n\\\\tFOREIGN KEY(\"InvoiceId\") REFERENCES \"Invoice\" (\"InvoiceId\")\\\\n)\\\\n\\\\n/*\\\\n3 rows from InvoiceLine table:\\\\nInvoiceLineId\\\\tInvoiceId\\\\tTrackId\\\\tUnitPrice\\\\tQuantity\\\\n1\\\\t1\\\\t2\\\\t0.99\\\\t1\\\\n2\\\\t1\\\\t4\\\\t0.99\\\\t1\\\\n3\\\\t2\\\\t6\\\\t0.99\\\\t1\\\\n*/\\\\n\\\\n\\\\nCREATE TABLE \"MediaType\" (\\\\n\\\\t\"MediaTypeId\" INTEGER NOT NULL, \\\\n\\\\t\"Name\" NVARCHAR(120), \\\\n\\\\tPRIMARY KEY (\"MediaTypeId\")\\\\n)\\\\n\\\\n/*\\\\n3 rows from MediaType table:\\\\nMediaTypeId\\\\tName\\\\n1\\\\tMPEG audio file\\\\n2\\\\tProtected AAC audio file\\\\n3\\\\tProtected MPEG-4 video file\\\\n*/\\\\n\\\\n\\\\nCREATE TABLE \"Playlist\" (\\\\n\\\\t\"PlaylistId\" INTEGER NOT NULL, \\\\n\\\\t\"Name\" NVARCHAR(120), \\\\n\\\\tPRIMARY KEY (\"PlaylistId\")\\\\n)\\\\n\\\\n/*\\\\n3 rows from Playlist table:\\\\nPlaylistId\\\\tName\\\\n1\\\\tMusic\\\\n2\\\\tMovies\\\\n3\\\\tTV Shows\\\\n*/\\\\n\\\\n\\\\nCREATE TABLE \"PlaylistTrack\" (\\\\n\\\\t\"PlaylistId\" INTEGER NOT NULL, \\\\n\\\\t\"TrackId\" INTEGER NOT NULL, \\\\n\\\\tPRIMARY KEY (\"PlaylistId\", \"TrackId\"), \\\\n\\\\tFOREIGN KEY(\"TrackId\") REFERENCES \"Track\" (\"TrackId\"), \\\\n\\\\tFOREIGN KEY(\"PlaylistId\") REFERENCES \"Playlist\" (\"PlaylistId\")\\\\n)\\\\n\\\\n/*\\\\n3 rows from PlaylistTrack table:\\\\nPlaylistId\\\\tTrackId\\\\n1\\\\t3402\\\\n1\\\\t3389\\\\n1\\\\t3390\\\\n*/\\\\n\\\\n\\\\nCREATE TABLE \"Track\" (\\\\n\\\\t\"TrackId\" INTEGER NOT NULL, \\\\n\\\\t\"Name\" NVARCHAR(200) NOT NULL, \\\\n\\\\t\"AlbumId\" INTEGER, \\\\n\\\\t\"MediaTypeId\" INTEGER NOT NULL, \\\\n\\\\t\"GenreId\" INTEGER, \\\\n\\\\t\"Composer\" NVARCHAR(220), \\\\n\\\\t\"Milliseconds\" INTEGER NOT NULL, \\\\n\\\\t\"Bytes\" INTEGER, \\\\n\\\\t\"UnitPrice\" NUMERIC(10, 2) NOT NULL, \\\\n\\\\tPRIMARY KEY (\"TrackId\"), \\\\n\\\\tFOREIGN KEY(\"MediaTypeId\") REFERENCES \"MediaType\" (\"MediaTypeId\"), \\\\n\\\\tFOREIGN KEY(\"GenreId\") REFERENCES \"Genre\" (\"GenreId\"), \\\\n\\\\tFOREIGN KEY(\"AlbumId\") REFERENCES \"Album\" (\"AlbumId\")\\\\n)\\\\n\\\\n/*\\\\n3 rows from Track table:\\\\nTrackId\\\\tName\\\\tAlbumId\\\\tMediaTypeId\\\\tGenreId\\\\tComposer\\\\tMilliseconds\\\\tBytes\\\\tUnitPrice\\\\n1\\\\tFor Those About To Rock (We Salute You)\\\\t1\\\\t1\\\\t1\\\\tAngus Young, Malcolm Young, Brian Johnson\\\\t343719\\\\t11170334\\\\t0.99\\\\n2\\\\tBalls to the Wall\\\\t2\\\\t2\\\\t1\\\\tNone\\\\t342562\\\\t5510424\\\\t0.99\\\\n3\\\\tFast As a Shark\\\\t3\\\\t2\\\\t1\\\\tF. Baltes, S. Kaufman, U. Dirkscneider & W. Hoffman\\\\t230619\\\\t3990994\\\\t0.99\\\\n*/\\', id=\\'87a3d51d-2a15-4bdf-8f49-55afb50740af\\', tool_call_id=\\'\\'), HumanMessage(content=\\'```sqlite\\\\nSELECT\\\\n  BillingCountry,\\\\n  SUM(Total) AS TotalSales\\\\nFROM Invoice\\\\nGROUP BY\\\\n  BillingCountry\\\\nORDER BY\\\\n  TotalSales DESC;\\\\n```\\', additional_kwargs={}, response_metadata={}, id=\\'b211d354-08e4-43f1-9446-f4e654054496\\'), HumanMessage(content=\\'\\', additional_kwargs={}, response_metadata={}, id=\\'c7de327c-31a0-4d6e-b9ac-34e7e3ca8f82\\')], \\'id\\': \\'\\'}', additional_kwargs={}, response_metadata={})]\n",
            "\n",
            "\n",
            "\n",
            "\n",
            "--- sql_generation llm output---\n",
            " Correct Query\n",
            "\n",
            "\n",
            "\n",
            "\n",
            "----conditional---------- correct query\n",
            "****************  sqlite_call \n",
            "\n",
            "\n",
            "\n",
            "\n",
            "--- sqlite_call ---\n",
            "\n",
            "sqlite_call result:    \n",
            "SELECT\n",
            "  BillingCountry,\n",
            "  SUM(Total) AS TotalSales\n",
            "FROM Invoice\n",
            "GROUP BY\n",
            "  BillingCountry\n",
            "ORDER BY\n",
            "  TotalSales DESC;\n",
            "    --- done\n",
            "\n",
            "\n",
            "\n",
            "\n",
            "--- post_process ---\n",
            "\n",
            "                 0       1\n",
            "0              USA  523.06\n",
            "1           Canada  303.96\n",
            "2           France  195.10\n",
            "3           Brazil  190.10\n",
            "4          Germany  156.48\n",
            "5   United Kingdom  112.86\n",
            "6   Czech Republic   90.24\n",
            "7         Portugal   77.24\n",
            "8            India   75.26\n",
            "9            Chile   46.62\n",
            "10         Ireland   45.62\n",
            "11         Hungary   45.62\n",
            "12         Austria   42.62\n",
            "13         Finland   41.62\n",
            "14     Netherlands   40.62\n",
            "15          Norway   39.62\n",
            "16          Sweden   38.62\n",
            "17          Poland   37.62\n",
            "18           Italy   37.62\n",
            "19         Denmark   37.62\n",
            "20       Australia   37.62\n",
            "21       Argentina   37.62\n",
            "22           Spain   37.62\n",
            "23         Belgium   37.62\n"
          ]
        }
      ]
    },
    {
      "cell_type": "code",
      "source": [
        "from IPython.display import Image, display\n",
        "png_data = graph.draw_mermaid_png()\n",
        "\n",
        "display(Image(data=png_data))\n"
      ],
      "metadata": {
        "id": "sUSAjJUBqIEO",
        "colab": {
          "base_uri": "https://localhost:8080/",
          "height": 746
        },
        "outputId": "c427b3b0-f045-4787-b8e1-db41d746eaee"
      },
      "execution_count": 46,
      "outputs": [
        {
          "output_type": "display_data",
          "data": {
            "image/png": "[encoded data removed]",
            "text/plain": [
              "<IPython.core.display.Image object>"
            ]
          },
          "metadata": {}
        }
      ]
    }
  ]
}